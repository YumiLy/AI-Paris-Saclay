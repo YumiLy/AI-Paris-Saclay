{
 "cells": [
  {
   "cell_type": "code",
   "execution_count": 1,
   "metadata": {},
   "outputs": [],
   "source": [
    "import numpy as np\n",
    "import matplotlib.pyplot as plt\n",
    "from scipy.stats import poisson,norm "
   ]
  },
  {
   "cell_type": "markdown",
   "metadata": {},
   "source": [
    "**General Comment:** All plots must be presented appropriately, which entails including labels and legends. When requesting an analytic expression, please provide the entire derivation."
   ]
  },
  {
   "cell_type": "markdown",
   "metadata": {},
   "source": [
    "## The Poisson distribution"
   ]
  },
  {
   "cell_type": "markdown",
   "metadata": {},
   "source": [
    "If $X$ follows a Poisson distribution with parameter $\\lambda$, then the probability mass function (PMF) of $X$ is given by:\n",
    "$$P_\\lambda(X = k) =f(k,\\lambda)= \\frac{e^{-\\lambda} \\lambda^k}{k!},$$\n",
    "where:\n",
    "\\begin{align*}\n",
    "&\\lambda \\text{ is the parameter of the Poisson distribution,} \\\\\n",
    "&k \\text{ is a non-negative integer,} \\\\\n",
    "&k! \\text{ denotes the factorial of } k.\n",
    "\\end{align*}\n",
    "\n",
    "Let $X_1, X_2, \\ldots, X_n$ be a sequence of independent and identically distributed (i.i.d.) Poisson random variables with parameter $\\lambda$. "
   ]
  },
  {
   "cell_type": "markdown",
   "metadata": {},
   "source": [
    "**Exercise 1:** What are the theoretical means, variances, and standard deviations of $X$ and $\\bar X=\\frac{1}{n}\\sum_i^n X_i$? Express all the results as functions of $\\lambda$ and $n$."
   ]
  },
  {
   "cell_type": "markdown",
   "metadata": {},
   "source": [
    "**Exercise 2:** Let's set $\\lambda$ to 3.\n",
    "\n",
    "Help: Utilize the `poisson` function within the `scipy.stats` package for the following tasks. You can find more information here: [scipy.stats.poisson](https://docs.scipy.org/doc/scipy/reference/generated/scipy.stats.poisson.html).\n",
    "\n",
    "**a.** Create a probability mass function (PMF) plot for $x$ in the range of 0 to 30.\n",
    "\n",
    "**b.** Calculate the empirical mean and central moments of the distribution numerically, including variance, skewness, and kurtosis. You can use the `poisson.stats` function for this purpose.\n",
    "\n",
    "**c.** Represent the empirical mean as a vertical line on the previous plot."
   ]
  },
  {
   "cell_type": "markdown",
   "metadata": {},
   "source": [
    "**Exercise 3:** Generate a synthetic dataset consisting of 10,000 Poisson random numbers with a parameter of $\\lambda=3$. You can achieve this by employing the `poisson.rvs` function.\n",
    "\n",
    "**a.** Create a normalized histogram of the dataset mentioned above. Compare it with the theoretical distribution used for data generation.\n",
    "\n",
    "**b.** Obtain and compare the empirical and theoretical cumulative distributions of the dataset. "
   ]
  },
  {
   "cell_type": "markdown",
   "metadata": {},
   "source": [
    "**Exercise 4:** Derive the following estimators analytically:\n",
    "\n",
    "**a.** Using the method of moments, propose an estimator $\\hat\\lambda$ for the parameter $\\lambda$ as a function of a general data set (i.e. $\\hat\\lambda=g(X_1, X_2, \\ldots, X_n)$).\n",
    "\n",
    "**b.** Find the expression for the log-likelihood of the data $\\mathcal{D}=\\{X_1, X_2, \\ldots, X_n\\}$. Show that the maximum likelihood estimator (MLE) $\\hat\\lambda_\\mathrm{MLE}$ is equal to the estimator obtained by the method of moments.\n",
    "\n",
    "**c.** Prove that the sampling distribution for $\\hat\\lambda$ is \n",
    "$$P(\\hat\\lambda = k)=\\frac{e^{-n\\lambda} \\left(n\\lambda\\right)^{nk}}{(nk)!}$$\n",
    "\n",
    "What sampling distribution do you expect for large values of $n$? \n",
    "\n",
    "Help: If you add two independent Poisson distributed random variables, $X\\sim P(\\lambda_1)$ and $Y\\sim P(\\lambda_2)$, the result is also Poisson distributed and $X+Y\\sim P(\\lambda_1+\\lambda_2)$. \n",
    "Use the Central Limit Theorem to obtain the expression for large $n$\n",
    "\n",
    "**d.** Calculate the bias, mean square error (MSE), variance, and standard error of $\\hat\\lambda$. Is the estimator $\\hat\\lambda$ biased and/or consistent?\n",
    "\n",
    "**e.** Using the results obtained in **d**, determine the estimated standard error of $\\hat\\lambda$, denoted $\\hat{\\mathrm{ SE }}_{\\hat\\lambda}$. You can use the method of moments for this calculation.\n",
    "\n",
    "**f.** Obtain the same expression for the estimated standard error using Fisher information of $X$, denoted as $I(\\lambda)=-\\mathbb{E}\\left[\\frac{\\partial^2}{\\partial\\lambda ^2} \\log P_\\lambda(X)\\right]$.\n"
   ]
  },
  {
   "cell_type": "markdown",
   "metadata": {},
   "source": [
    "**Exercise 5:** Address the following questions using the previously generated synthetic dataset.\n",
    "\n",
    "**a.** Create a plot of the log-likelihood of the data as a function of $\\lambda$. Indicate the value of the maximum of this function.\n",
    "\n",
    "**b.** Provide an estimate for $\\hat\\lambda$ along with its standard error, denoted as $\\hat{\\mathrm{SE}}_{\\hat\\lambda}$.\n",
    "\n",
    "**c.** Calculate a 95% confidence interval for the true parameter $\\lambda$ using the central limit theorem.\n",
    "\n",
    "Help. Function `scipy.stats.norm` will be useful for that.\n",
    "\n",
    "**d.** Determine a 95% confidence interval for $\\hat\\lambda$ using the Bootstrap method and compare it to the previous interval."
   ]
  },
  {
   "cell_type": "markdown",
   "metadata": {},
   "source": [
    "**Exercise 6:** Repeat the entire experiment of generating $n$ random numbers $T=1000$ times. In each experiment indexed as $t$, calculate an estimate $\\hat\\lambda_t$, based on the observed data. Store the results from each experiment in an array and create a density histogram of the obtained results. Repeat this process for three different values of $n$: 10, 100, and 1000.\n",
    "\n",
    "**a.** For each value of $n$, compare the histogram with both the theoretical sampling distribution for $\\hat\\lambda$ and the expected Gaussian behavior for large $n$.\n",
    "\n",
    "**b.** For $n=1000$, verify that the true value of $\\lambda$ ($\\lambda=3$) is contained within the $1-\\alpha$-confidence interval only in $1-\\alpha$-percent of the $T$ experiments. Consider $\\alpha=0.05$."
   ]
  },
  {
   "cell_type": "markdown",
   "metadata": {},
   "source": [
    "**Exercise 7: Hypothesis testing with real data**. \n",
    "\n",
    "Category 4 hurricanes are tropical cyclones. The file `Category4Hurricanes - Sheet1.csv` contains a list of all hurricanes recorded in the Atlantic Sea since 1850. We analyze the data under the hypothesis that the number of hurricanes per year follows a Poisson distribution with a certain parameter $\\lambda$.\n",
    "\n",
    "In the following code, I provide a way to extract the number of hurricanes recorded per year and a visualization of this data in a bar chart.\n",
    "\n",
    "For the following, you can access to the years in `year_counts['Year']` and to the counts in `year_counts['Count']`."
   ]
  },
  {
   "cell_type": "code",
   "execution_count": 19,
   "metadata": {},
   "outputs": [
    {
     "data": {
      "image/png": "[encoded data removed]",
      "text/plain": [
       "<Figure size 720x432 with 1 Axes>"
      ]
     },
     "metadata": {
      "needs_background": "light"
     },
     "output_type": "display_data"
    }
   ],
   "source": [
    "import pandas as pd\n",
    "\n",
    "df = pd.read_csv('Category4Hurricanes - Sheet1.csv')\n",
    "# Count the occurrences of each unique year and store it in a DataFrame\n",
    "year_counts = df['Season'].value_counts().reset_index()\n",
    "# Rename the columns for clarity\n",
    "year_counts.columns = ['Year', 'Count']\n",
    "\n",
    "\n",
    "# Sort the DataFrame by year if nee\n",
    "year_counts = year_counts.sort_values(by='Year')\n",
    "\n",
    "\n",
    "# Create a DataFrame with all possible years within the range of your data\n",
    "all_years = pd.DataFrame({'Year': range(year_counts['Year'].min(), year_counts['Year'].max() + 1)})\n",
    "\n",
    "# Merge the year_counts DataFrame with the all_years DataFrame, filling NaN values with zeros\n",
    "year_counts = pd.merge(all_years, year_counts, on='Year', how='left').fillna(0)\n",
    "\n",
    "year_counts['Count'] = year_counts['Count'].astype(int)\n",
    "\n",
    "plt.figure(figsize=(10, 6))  # Optional: Set the figure size\n",
    "plt.bar(year_counts['Year'], year_counts['Count'])\n",
    "plt.xlabel('Year')\n",
    "plt.ylabel('Count')\n",
    "plt.title('Count of Category Hurricanes by Year')\n",
    "plt.xticks(rotation=45)  \n",
    "plt.tight_layout()\n",
    "plt.show()"
   ]
  },
  {
   "cell_type": "markdown",
   "metadata": {},
   "source": [
    "**a.** Plot a histogram of the number of observed hurricanes (the counts) by year and compare it to the Poisson distribution that would correspond to an estimate of $\\lambda$ using all historical count data."
   ]
  },
  {
   "cell_type": "markdown",
   "metadata": {},
   "source": [
    "**b.** In the chart displayed above, it is evident that the frequency of hurricanes has been on the rise over time. The Atlantic hurricane reanalysis project (more details can be found at https://en.wikipedia.org/wiki/Atlantic_hurricane_reanalysis_project) recognized as early as 1957 that the increasing trend in the number of tropical cyclones each season in the Atlantic Basin was, in part, attributed to improved observations and better record-keeping. However, what is notable is that the average number of hurricanes per year appears to continue increasing year after year. \n",
    "\n",
    "With this in mind, let's estimate $\\lambda_0$ using $\\hat\\lambda_\\text{old}$ obtained by analyzing data from 1950 to 1999. We'll also estimate $\\hat\\lambda_\\text{new}$ using data from 2000 onwards. Then, create histograms representing the hurricane counts recorded in each of these two time periods and compare them with the Poisson distributions with $\\lambda$ equal to $\\hat\\lambda_\\text{old}$ and $\\hat\\lambda_\\text{new}$. "
   ]
  },
  {
   "cell_type": "markdown",
   "metadata": {},
   "source": [
    "**c.**  Now, our objective is to test the hypothesis that there has been a change in the frequency of hurricanes in recent years. To achieve this, we formulate the following hypotheses:\n",
    "\n",
    "$H_0$: Nothing has changed, which implies $\\lambda=\\lambda_\\mathrm{old}$\n",
    "\n",
    "$H_1$: There is a change, meaning $\\lambda\\neq\\lambda_\\mathrm{old}$\n",
    "\n",
    "In our hypothesis test, we will reject the null hypothesis $H_0$ if the estimate $\\hat\\lambda_\\mathrm{new}$ is greater than a critical value $\\lambda_\\alpha$, where $\\alpha$ represents the significance level.\n",
    "\n",
    "To determine the value of $\\lambda_\\alpha$ for rejecting the null hypothesis at a significance level of $\\alpha=0.05$, you can leverage the previously derived null distribution for $\\hat\\lambda$, which is expressed as:\n",
    "\n",
    "$$P(\\hat\\lambda = x) = \\frac{e^{-n\\lambda_\\mathrm{old}} \\left(n\\lambda_\\mathrm{old}\\right)^{nx}}{(nx)!} = f(nx,n\\lambda_\\mathrm{old}),$$\n",
    "where $f(x,\\lambda)$ is the Poisson distribution defined at the begining of this notebook.\n",
    "\n",
    "Help: You can obtain $\\lambda_\\alpha$ using the cumulative distribution function (CDF) of the Poisson distribution.\n",
    "\n",
    "**d.** Do we accept the hypothesis? Which is the p-value?"
   ]
  },
  {
   "cell_type": "code",
   "execution_count": null,
   "metadata": {},
   "outputs": [],
   "source": []
  }
 ],
 "metadata": {
  "kernelspec": {
   "display_name": "Python 3",
   "language": "python",
   "name": "python3"
  },
  "language_info": {
   "codemirror_mode": {
    "name": "ipython",
    "version": 3
   },
   "file_extension": ".py",
   "mimetype": "text/x-python",
   "name": "python",
   "nbconvert_exporter": "python",
   "pygments_lexer": "ipython3",
   "version": "3.8.5"
  }
 },
 "nbformat": 4,
 "nbformat_minor": 4
}
