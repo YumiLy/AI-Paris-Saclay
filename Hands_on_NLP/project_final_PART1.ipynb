{
 "cells": [
  {
   "cell_type": "markdown",
   "id": "9a187036-7b8c-4aae-9697-977b8cebeca4",
   "metadata": {},
   "source": [
    "Malicious Comments\n",
    "==============\n",
    "**Author:** *Yingjie LIU, Ying LAI*\n",
    "\n",
    "We use labeled Twitter users’ comments to determine whether the comments contain malicious intent. Among the dataset, comments with label 1 means malicious, and label 0 means not malicious."
   ]
  },
  {
   "cell_type": "markdown",
   "id": "26e53897-014e-43e4-b158-b2249f5db49e",
   "metadata": {},
   "source": [
    "# Data preprocessing"
   ]
  },
  {
   "cell_type": "markdown",
   "id": "ded450a4-dc7c-4fa5-a6c2-345fb18fc72a",
   "metadata": {},
   "source": [
    "### Read the data and take a quick look at what the data looks like"
   ]
  },
  {
   "cell_type": "code",
   "execution_count": 1,
   "id": "5b2e3e8a",
   "metadata": {},
   "outputs": [
    {
     "data": {
      "text/html": [
       "<div>\n",
       "<style scoped>\n",
       "    .dataframe tbody tr th:only-of-type {\n",
       "        vertical-align: middle;\n",
       "    }\n",
       "\n",
       "    .dataframe tbody tr th {\n",
       "        vertical-align: top;\n",
       "    }\n",
       "\n",
       "    .dataframe thead th {\n",
       "        text-align: right;\n",
       "    }\n",
       "</style>\n",
       "<table border=\"1\" class=\"dataframe\">\n",
       "  <thead>\n",
       "    <tr style=\"text-align: right;\">\n",
       "      <th></th>\n",
       "      <th>Content</th>\n",
       "      <th>Label</th>\n",
       "    </tr>\n",
       "  </thead>\n",
       "  <tbody>\n",
       "    <tr>\n",
       "      <th>0</th>\n",
       "      <td>denial normal con ask comment tragedi emot retard</td>\n",
       "      <td>1</td>\n",
       "    </tr>\n",
       "    <tr>\n",
       "      <th>1</th>\n",
       "      <td>abl tweet insuffer bullshit prove trump nazi v...</td>\n",
       "      <td>1</td>\n",
       "    </tr>\n",
       "    <tr>\n",
       "      <th>2</th>\n",
       "      <td>retard cute singl life</td>\n",
       "      <td>1</td>\n",
       "    </tr>\n",
       "    <tr>\n",
       "      <th>3</th>\n",
       "      <td>thought real badass mongol style declar war at...</td>\n",
       "      <td>1</td>\n",
       "    </tr>\n",
       "    <tr>\n",
       "      <th>4</th>\n",
       "      <td>afro american basho</td>\n",
       "      <td>1</td>\n",
       "    </tr>\n",
       "  </tbody>\n",
       "</table>\n",
       "</div>"
      ],
      "text/plain": [
       "                                             Content  Label\n",
       "0  denial normal con ask comment tragedi emot retard      1\n",
       "1  abl tweet insuffer bullshit prove trump nazi v...      1\n",
       "2                             retard cute singl life      1\n",
       "3  thought real badass mongol style declar war at...      1\n",
       "4                                afro american basho      1"
      ]
     },
     "execution_count": 1,
     "metadata": {},
     "output_type": "execute_result"
    }
   ],
   "source": [
    "import pandas as pd\n",
    "import numpy as np\n",
    "\n",
    "df = pd.read_csv(\"HateSpeechDatasetBalancedPreProcessd.csv\")\n",
    "\n",
    "df.head()"
   ]
  },
  {
   "cell_type": "markdown",
   "id": "a7faee02-e890-43a5-bb4d-3cfb5de68f21",
   "metadata": {},
   "source": [
    "Install packages"
   ]
  },
  {
   "cell_type": "code",
   "execution_count": 2,
   "id": "990f283c",
   "metadata": {},
   "outputs": [
    {
     "name": "stdout",
     "output_type": "stream",
     "text": [
      "Defaulting to user installation because normal site-packages is not writeable\n",
      "Requirement already satisfied: nltk in /home/competent_driscoll/.local/lib/python3.10/site-packages (3.8.1)\n",
      "Requirement already satisfied: click in /home/competent_driscoll/.local/lib/python3.10/site-packages (from nltk) (8.1.7)\n",
      "Requirement already satisfied: joblib in /home/competent_driscoll/.local/lib/python3.10/site-packages (from nltk) (1.3.2)\n",
      "Requirement already satisfied: tqdm in /opt/conda/lib/python3.10/site-packages (from nltk) (4.64.1)\n",
      "Requirement already satisfied: regex>=2021.8.3 in /home/competent_driscoll/.local/lib/python3.10/site-packages (from nltk) (2023.12.25)\n",
      "Defaulting to user installation because normal site-packages is not writeable\n",
      "Requirement already satisfied: pandas in /home/competent_driscoll/.local/lib/python3.10/site-packages (2.2.0)\n",
      "Requirement already satisfied: python-dateutil>=2.8.2 in /home/competent_driscoll/.local/lib/python3.10/site-packages (from pandas) (2.8.2)\n",
      "Requirement already satisfied: pytz>=2020.1 in /home/competent_driscoll/.local/lib/python3.10/site-packages (from pandas) (2024.1)\n",
      "Requirement already satisfied: numpy<2,>=1.22.4 in /home/competent_driscoll/.local/lib/python3.10/site-packages (from pandas) (1.26.4)\n",
      "Requirement already satisfied: tzdata>=2022.7 in /home/competent_driscoll/.local/lib/python3.10/site-packages (from pandas) (2024.1)\n",
      "Requirement already satisfied: six>=1.5 in /opt/conda/lib/python3.10/site-packages (from python-dateutil>=2.8.2->pandas) (1.16.0)\n",
      "Defaulting to user installation because normal site-packages is not writeable\n",
      "Requirement already satisfied: beautifulsoup4 in /home/competent_driscoll/.local/lib/python3.10/site-packages (4.12.3)\n",
      "Requirement already satisfied: soupsieve>1.2 in /home/competent_driscoll/.local/lib/python3.10/site-packages (from beautifulsoup4) (2.5)\n"
     ]
    },
    {
     "name": "stderr",
     "output_type": "stream",
     "text": [
      "[nltk_data] Downloading package stopwords to\n",
      "[nltk_data]     /home/competent_driscoll/nltk_data...\n",
      "[nltk_data]   Package stopwords is already up-to-date!\n",
      "[nltk_data] Downloading package punkt to\n",
      "[nltk_data]     /home/competent_driscoll/nltk_data...\n",
      "[nltk_data]   Package punkt is already up-to-date!\n"
     ]
    },
    {
     "data": {
      "text/plain": [
       "True"
      ]
     },
     "execution_count": 2,
     "metadata": {},
     "output_type": "execute_result"
    }
   ],
   "source": [
    "!pip install nltk\n",
    "!pip install pandas\n",
    "!pip install beautifulsoup4\n",
    "\n",
    "import nltk\n",
    "nltk.download('stopwords')\n",
    "nltk.download('punkt')"
   ]
  },
  {
   "cell_type": "markdown",
   "id": "4b408722-b5bd-45c3-9ed8-6be739dbe953",
   "metadata": {
    "jp-MarkdownHeadingCollapsed": true
   },
   "source": [
    "### Define 'processed' text\n",
    "\n",
    "Here we remove some useless texts:\n",
    "- Remove HTML tags.\n",
    "- Remove digits.\n",
    "- Remove punctuation.\n",
    "- Convert text to lowercase.\n",
    "- Tokenize the text.\n",
    "- Stem the tokens (reducing words to their root form).\n",
    "- Remove stopwords (common words that typically don't add much meaning to the text).\n",
    "\n",
    "\n",
    "Additionally, because processing data preprocessing individually would be too slow, we used parallel processing with 10 partitions and 4 cores."
   ]
  },
  {
   "cell_type": "code",
   "execution_count": 3,
   "id": "5419a89a",
   "metadata": {},
   "outputs": [
    {
     "name": "stderr",
     "output_type": "stream",
     "text": [
      "[nltk_data] Downloading package stopwords to\n",
      "[nltk_data]     /home/competent_driscoll/nltk_data...\n",
      "[nltk_data]   Package stopwords is already up-to-date!\n",
      "[nltk_data] Downloading package punkt to\n",
      "[nltk_data]     /home/competent_driscoll/nltk_data...\n",
      "[nltk_data]   Package punkt is already up-to-date!\n",
      "/home/competent_driscoll/.local/lib/python3.10/site-packages/numpy/core/fromnumeric.py:59: FutureWarning: 'DataFrame.swapaxes' is deprecated and will be removed in a future version. Please use 'DataFrame.transpose' instead.\n",
      "  return bound(*args, **kwds)\n"
     ]
    }
   ],
   "source": [
    "import pandas as pd\n",
    "import re\n",
    "from bs4 import BeautifulSoup\n",
    "import nltk\n",
    "from nltk.corpus import stopwords\n",
    "from nltk.stem import PorterStemmer\n",
    "from nltk.tokenize import word_tokenize\n",
    "import string\n",
    "from multiprocessing import Pool\n",
    "\n",
    "\n",
    "nltk.download('stopwords')\n",
    "nltk.download('punkt')\n",
    "\n",
    "stop_words = set(stopwords.words('english'))\n",
    "stemmer = PorterStemmer()\n",
    "\n",
    "def clean_text(text):\n",
    "    try:\n",
    "        text = BeautifulSoup(text, \"html.parser\").get_text()\n",
    "        text = re.sub(r'\\d+', '', text)\n",
    "        text = re.sub(r'['+string.punctuation+']', '', text)\n",
    "        text = text.lower()\n",
    "        tokens = word_tokenize(text)\n",
    "        tokens = [stemmer.stem(word) for word in tokens if word not in stop_words]\n",
    "        return ' '.join(tokens)\n",
    "    except:\n",
    "        return \"\"\n",
    "\n",
    "def parallelize_dataframe(df, func):\n",
    "    df_split = np.array_split(df, num_partitions)\n",
    "    pool = Pool(num_cores)\n",
    "    df = pd.concat(pool.map(func, df_split))\n",
    "    pool.close()\n",
    "    pool.join()\n",
    "    return df\n",
    "\n",
    "def process_frame(df):\n",
    "    df['Content'] = df['Content'].apply(clean_text)\n",
    "    return df\n",
    "\n",
    "num_partitions = 10  # partitions\n",
    "num_cores = 4  # cores\n",
    "\n",
    "df = parallelize_dataframe(df, process_frame)"
   ]
  },
  {
   "cell_type": "code",
   "execution_count": 2,
   "id": "2c90d795",
   "metadata": {},
   "outputs": [
    {
     "ename": "NameError",
     "evalue": "name 'df' is not defined",
     "output_type": "error",
     "traceback": [
      "\u001b[0;31m---------------------------------------------------------------------------\u001b[0m",
      "\u001b[0;31mNameError\u001b[0m                                 Traceback (most recent call last)",
      "Cell \u001b[0;32mIn[2], line 2\u001b[0m\n\u001b[1;32m      1\u001b[0m \u001b[38;5;66;03m# show the data of clean version\u001b[39;00m\n\u001b[0;32m----> 2\u001b[0m \u001b[43mdf\u001b[49m\u001b[38;5;241m.\u001b[39mhead()\n",
      "\u001b[0;31mNameError\u001b[0m: name 'df' is not defined"
     ]
    }
   ],
   "source": [
    "# show the dataset of preocessed version\n",
    "df.head()"
   ]
  },
  {
   "cell_type": "markdown",
   "id": "67093254-9c14-471a-8daa-9270b0fdbd19",
   "metadata": {},
   "source": [
    "We looked at the number of comments in both categories"
   ]
  },
  {
   "cell_type": "code",
   "execution_count": 6,
   "id": "70cc0c29",
   "metadata": {},
   "outputs": [
    {
     "name": "stdout",
     "output_type": "stream",
     "text": [
      "Label\n",
      "1    364525\n",
      "0    361594\n",
      "Name: count, dtype: int64\n"
     ]
    }
   ],
   "source": [
    "Label_counts = df['Label'].value_counts()\n",
    "print(Label_counts)"
   ]
  },
  {
   "cell_type": "code",
   "execution_count": 7,
   "id": "58609d72-8b23-43ce-9a40-cc4f84d449e3",
   "metadata": {},
   "outputs": [],
   "source": [
    "# save df as CSV file\n",
    "df.to_csv('processed.csv', index=False)  # index=False means do not include the row index when saving"
   ]
  },
  {
   "cell_type": "code",
   "execution_count": 8,
   "id": "3f0661b3",
   "metadata": {},
   "outputs": [
    {
     "name": "stdout",
     "output_type": "stream",
     "text": [
      "Defaulting to user installation because normal site-packages is not writeable\n",
      "Collecting wordcloud\n",
      "  Downloading wordcloud-1.9.3-cp310-cp310-manylinux_2_17_x86_64.manylinux2014_x86_64.whl (511 kB)\n",
      "\u001b[2K     \u001b[90m━━━━━━━━━━━━━━━━━━━━━━━━━━━━━━━━━━━━━━━\u001b[0m \u001b[32m511.1/511.1 kB\u001b[0m \u001b[31m9.7 MB/s\u001b[0m eta \u001b[36m0:00:00\u001b[0m00:01\u001b[0m\n",
      "\u001b[?25hRequirement already satisfied: numpy>=1.6.1 in /home/competent_driscoll/.local/lib/python3.10/site-packages (from wordcloud) (1.26.4)\n",
      "Requirement already satisfied: matplotlib in /home/competent_driscoll/.local/lib/python3.10/site-packages (from wordcloud) (3.8.3)\n",
      "Requirement already satisfied: pillow in /home/competent_driscoll/.local/lib/python3.10/site-packages (from wordcloud) (10.2.0)\n",
      "Requirement already satisfied: python-dateutil>=2.7 in /home/competent_driscoll/.local/lib/python3.10/site-packages (from matplotlib->wordcloud) (2.8.2)\n",
      "Requirement already satisfied: kiwisolver>=1.3.1 in /home/competent_driscoll/.local/lib/python3.10/site-packages (from matplotlib->wordcloud) (1.4.5)\n",
      "Requirement already satisfied: packaging>=20.0 in /home/competent_driscoll/.local/lib/python3.10/site-packages (from matplotlib->wordcloud) (23.2)\n",
      "Requirement already satisfied: cycler>=0.10 in /home/competent_driscoll/.local/lib/python3.10/site-packages (from matplotlib->wordcloud) (0.12.1)\n",
      "Requirement already satisfied: fonttools>=4.22.0 in /home/competent_driscoll/.local/lib/python3.10/site-packages (from matplotlib->wordcloud) (4.49.0)\n",
      "Requirement already satisfied: pyparsing>=2.3.1 in /home/competent_driscoll/.local/lib/python3.10/site-packages (from matplotlib->wordcloud) (3.1.1)\n",
      "Requirement already satisfied: contourpy>=1.0.1 in /home/competent_driscoll/.local/lib/python3.10/site-packages (from matplotlib->wordcloud) (1.2.0)\n",
      "Requirement already satisfied: six>=1.5 in /opt/conda/lib/python3.10/site-packages (from python-dateutil>=2.7->matplotlib->wordcloud) (1.16.0)\n",
      "Installing collected packages: wordcloud\n",
      "Successfully installed wordcloud-1.9.3\n"
     ]
    }
   ],
   "source": [
    "# chek the frenquency of the words in data set \n",
    "!pip install wordcloud"
   ]
  },
  {
   "cell_type": "markdown",
   "id": "3eebee8c-5845-4141-abcd-0a23c369001f",
   "metadata": {},
   "source": [
    "# Find the top10 words in each label\n",
    "\n",
    "After getting the processed data set, we simply searched for the ten most common words in different categories."
   ]
  },
  {
   "cell_type": "code",
   "execution_count": 2,
   "id": "f261d02b",
   "metadata": {},
   "outputs": [],
   "source": [
    "import pandas as pd\n",
    "import numpy as np\n",
    "\n",
    "df = pd.read_csv(\"processed.csv\")\n"
   ]
  },
  {
   "cell_type": "code",
   "execution_count": 4,
   "id": "c3fa1d05-158c-4908-aaba-c99c3f145873",
   "metadata": {},
   "outputs": [
    {
     "name": "stderr",
     "output_type": "stream",
     "text": [
      "/tmp/ipykernel_2231/425799725.py:7: DeprecationWarning: DataFrameGroupBy.apply operated on the grouping columns. This behavior is deprecated, and in a future version of pandas the grouping columns will be excluded from the operation. Either pass `include_groups=False` to exclude the groupings or explicitly select the grouping columns after groupby to silence this warning.\n",
      "  word_counts_by_label = df.groupby('Label').apply(lambda x: Counter(\" \".join(x['Content']).split()))\n"
     ]
    }
   ],
   "source": [
    "from collections import Counter\n",
    "\n",
    "# Make sure everything is of type string\n",
    "df['Content'] = df['Content'].astype(str)\n",
    "\n",
    "# Try grouping and applying again\n",
    "word_counts_by_label = df.groupby('Label').apply(lambda x: Counter(\" \".join(x['Content']).split()))\n"
   ]
  },
  {
   "cell_type": "code",
   "execution_count": 6,
   "id": "63447f3d-4bda-4dc5-9479-0c3d4c900f68",
   "metadata": {},
   "outputs": [
    {
     "data": {
      "text/plain": [
       "Label\n",
       "0    {'simpli': 5718, 'copi': 4433, 'past': 4138, '...\n",
       "1    {'denial': 566, 'normal': 3156, 'con': 294, 'a...\n",
       "dtype: object"
      ]
     },
     "execution_count": 6,
     "metadata": {},
     "output_type": "execute_result"
    }
   ],
   "source": [
    "word_counts_by_label"
   ]
  },
  {
   "cell_type": "code",
   "execution_count": 5,
   "id": "cb25f28f-d13d-40ee-a4ab-70d424025f3d",
   "metadata": {},
   "outputs": [
    {
     "data": {
      "image/png": "[encoded data removed]",
      "text/plain": [
       "<Figure size 1000x800 with 1 Axes>"
      ]
     },
     "metadata": {},
     "output_type": "display_data"
    },
    {
     "data": {
      "image/png": "[encoded data removed]",
      "text/plain": [
       "<Figure size 1000x800 with 1 Axes>"
      ]
     },
     "metadata": {},
     "output_type": "display_data"
    }
   ],
   "source": [
    "import matplotlib.pyplot as plt\n",
    "\n",
    "for label, counter in word_counts_by_label.items():\n",
    "    # Choose the 10 most common words\n",
    "    top_words = counter.most_common(10)\n",
    "    words = [word[0] for word in top_words]\n",
    "    frequencies = [word[1] for word in top_words]\n",
    "    \n",
    "    plt.figure(figsize=(10, 8))\n",
    "    plt.bar(words, frequencies)\n",
    "    plt.title(f'Top 10 Words in Label {label}')\n",
    "    plt.xlabel('Words')\n",
    "    plt.ylabel('Frequency')\n",
    "    plt.xticks(rotation=45)\n",
    "    plt.show()"
   ]
  },
  {
   "cell_type": "markdown",
   "id": "ba987e98-4139-4f53-af00-e26eb748be25",
   "metadata": {},
   "source": [
    "**Analysis：**\n",
    "\n",
    "From the figure, we are surprised by the high frequency of the word 'slut' appearing in remarks marked as harmless. Other high-frequency words are relatively neutral. In addition, 'slut' also shows in malicious comments with high frequency."
   ]
  },
  {
   "cell_type": "markdown",
   "id": "5a4bf454-67ce-4274-892f-e24b9a471716",
   "metadata": {},
   "source": [
    "# Tokenize the text\n",
    "\n",
    "Here we're going to try 3 different ways to tokenize the text\n",
    "- TF-IDF\n",
    "- Word2Vec\n",
    "- FasrWord"
   ]
  },
  {
   "cell_type": "code",
   "execution_count": 18,
   "id": "ce1b2acd",
   "metadata": {},
   "outputs": [
    {
     "name": "stdout",
     "output_type": "stream",
     "text": [
      "Requirement already satisfied: scikit-learn in /opt/conda/lib/python3.10/site-packages (1.2.2)\n",
      "Requirement already satisfied: numpy>=1.17.3 in /opt/conda/lib/python3.10/site-packages (from scikit-learn) (1.24.3)\n",
      "Requirement already satisfied: scipy>=1.3.2 in /opt/conda/lib/python3.10/site-packages (from scikit-learn) (1.10.1)\n",
      "Requirement already satisfied: joblib>=1.1.1 in /opt/conda/lib/python3.10/site-packages (from scikit-learn) (1.2.0)\n",
      "Requirement already satisfied: threadpoolctl>=2.0.0 in /opt/conda/lib/python3.10/site-packages (from scikit-learn) (3.1.0)\n",
      "Requirement already satisfied: gensim in /opt/conda/lib/python3.10/site-packages (4.3.2)\n",
      "Requirement already satisfied: numpy>=1.18.5 in /opt/conda/lib/python3.10/site-packages (from gensim) (1.24.3)\n",
      "Requirement already satisfied: scipy>=1.7.0 in /opt/conda/lib/python3.10/site-packages (from gensim) (1.10.1)\n",
      "Requirement already satisfied: smart-open>=1.8.1 in /opt/conda/lib/python3.10/site-packages (from gensim) (6.4.0)\n"
     ]
    }
   ],
   "source": [
    "\n",
    "!pip install scikit-learn\n",
    "!pip install gensim"
   ]
  },
  {
   "cell_type": "markdown",
   "id": "78a57159-a233-4988-8da2-2ebe2c436234",
   "metadata": {},
   "source": [
    "### Remove outliers\n",
    "\n",
    "We first calculated the length of each text and visualized it using box plots. And we use the concept of outliers to remove outliers"
   ]
  },
  {
   "cell_type": "code",
   "execution_count": 13,
   "id": "b699b2ec-d2e7-4201-9919-bcd709ab2b0a",
   "metadata": {},
   "outputs": [
    {
     "data": {
      "image/png": "[encoded data removed]",
      "text/plain": [
       "<Figure size 640x480 with 1 Axes>"
      ]
     },
     "metadata": {},
     "output_type": "display_data"
    }
   ],
   "source": [
    "import pandas as pd\n",
    "import matplotlib.pyplot as plt\n",
    "\n",
    "\n",
    "# Step 1: Calculate text length\n",
    "\n",
    "df['TextLength'] = df['Content'].str.split().apply(len)\n",
    "\n",
    "import matplotlib.pyplot as plt\n",
    "\n",
    "# Count the number of words in each text\n",
    "df['WordsPerContent'] = df['Content'].str.split().apply(len)\n",
    "\n",
    "# Generate boxplots by labels without showing outliers\n",
    "df.boxplot(\n",
    "    \"TextLength\", by=\"Label\", grid=False, showfliers=False, color=\"black\"\n",
    ")\n",
    "plt.suptitle(\"\")  # remove subtitle\n",
    "plt.xlabel(\"Label\")\n",
    "plt.ylabel(\"Words Per Content\")\n",
    "plt.show()"
   ]
  },
  {
   "cell_type": "code",
   "execution_count": 3,
   "id": "423b1251-a74c-4cad-b0a6-3a0ab9a6f4e5",
   "metadata": {},
   "outputs": [
    {
     "data": {
      "text/html": [
       "<div>\n",
       "<style scoped>\n",
       "    .dataframe tbody tr th:only-of-type {\n",
       "        vertical-align: middle;\n",
       "    }\n",
       "\n",
       "    .dataframe tbody tr th {\n",
       "        vertical-align: top;\n",
       "    }\n",
       "\n",
       "    .dataframe thead th {\n",
       "        text-align: right;\n",
       "    }\n",
       "</style>\n",
       "<table border=\"1\" class=\"dataframe\">\n",
       "  <thead>\n",
       "    <tr style=\"text-align: right;\">\n",
       "      <th></th>\n",
       "      <th>Content</th>\n",
       "      <th>Label</th>\n",
       "      <th>Words Per Tweet</th>\n",
       "      <th>TextLength</th>\n",
       "      <th>WordsPerContent</th>\n",
       "    </tr>\n",
       "  </thead>\n",
       "  <tbody>\n",
       "    <tr>\n",
       "      <th>0</th>\n",
       "      <td>denial normal con ask comment tragedi emot retard</td>\n",
       "      <td>1</td>\n",
       "      <td>8</td>\n",
       "      <td>8</td>\n",
       "      <td>8</td>\n",
       "    </tr>\n",
       "    <tr>\n",
       "      <th>1</th>\n",
       "      <td>abl tweet insuff bullshit prove trump nazi vagina</td>\n",
       "      <td>1</td>\n",
       "      <td>8</td>\n",
       "      <td>8</td>\n",
       "      <td>8</td>\n",
       "    </tr>\n",
       "    <tr>\n",
       "      <th>2</th>\n",
       "      <td>retard cute singl life</td>\n",
       "      <td>1</td>\n",
       "      <td>4</td>\n",
       "      <td>4</td>\n",
       "      <td>4</td>\n",
       "    </tr>\n",
       "    <tr>\n",
       "      <th>3</th>\n",
       "      <td>thought real badass mongol style declar war at...</td>\n",
       "      <td>1</td>\n",
       "      <td>11</td>\n",
       "      <td>11</td>\n",
       "      <td>11</td>\n",
       "    </tr>\n",
       "    <tr>\n",
       "      <th>4</th>\n",
       "      <td>afro american basho</td>\n",
       "      <td>1</td>\n",
       "      <td>3</td>\n",
       "      <td>3</td>\n",
       "      <td>3</td>\n",
       "    </tr>\n",
       "  </tbody>\n",
       "</table>\n",
       "</div>"
      ],
      "text/plain": [
       "                                             Content  Label  Words Per Tweet  \\\n",
       "0  denial normal con ask comment tragedi emot retard      1                8   \n",
       "1  abl tweet insuff bullshit prove trump nazi vagina      1                8   \n",
       "2                             retard cute singl life      1                4   \n",
       "3  thought real badass mongol style declar war at...      1               11   \n",
       "4                                afro american basho      1                3   \n",
       "\n",
       "   TextLength  WordsPerContent  \n",
       "0           8                8  \n",
       "1           8                8  \n",
       "2           4                4  \n",
       "3          11               11  \n",
       "4           3                3  "
      ]
     },
     "execution_count": 3,
     "metadata": {},
     "output_type": "execute_result"
    }
   ],
   "source": [
    "import pandas as pd\n",
    "import numpy as np\n",
    "\n",
    "df=pd.read_csv('processed.csv')  \n",
    "\n",
    "df.head()"
   ]
  },
  {
   "cell_type": "markdown",
   "id": "a3201bf0-4a7b-40c5-b33f-52773b902d8e",
   "metadata": {},
   "source": []
  },
  {
   "cell_type": "code",
   "execution_count": 6,
   "id": "db60b1b6-6933-4d90-ac7c-1b16cd03b043",
   "metadata": {},
   "outputs": [
    {
     "data": {
      "image/png": "[encoded data removed]",
      "text/plain": [
       "<Figure size 640x480 with 1 Axes>"
      ]
     },
     "metadata": {},
     "output_type": "display_data"
    }
   ],
   "source": [
    "# With outliers\n",
    "\n",
    "import pandas as pd\n",
    "import matplotlib.pyplot as plt\n",
    "df.boxplot(\n",
    "    \"TextLength\", by=\"Label\", grid=False, showfliers=True, color=\"black\"\n",
    ")\n",
    "plt.suptitle(\"\")  \n",
    "plt.xlabel(\"Label\")\n",
    "plt.ylabel(\"Words Per Content\")\n",
    "plt.show()"
   ]
  },
  {
   "cell_type": "markdown",
   "id": "ffcd7ae8-05b3-4181-997c-bae54fcedcbc",
   "metadata": {},
   "source": [
    "With the definition of outliers: a data point is an outlier if it is more than 1.5 ⋅ IQR ‍ above the third quartile or below the first quartile, we can count outliers.\n",
    "* lower_bound = Q1 - 1.5 * IQR\n",
    "* upper_bound = Q3 + 1.5 * IQR"
   ]
  },
  {
   "cell_type": "code",
   "execution_count": 7,
   "id": "1db71347-7e93-4bac-a1cb-544179d117dc",
   "metadata": {},
   "outputs": [
    {
     "data": {
      "text/html": [
       "<div>\n",
       "<style scoped>\n",
       "    .dataframe tbody tr th:only-of-type {\n",
       "        vertical-align: middle;\n",
       "    }\n",
       "\n",
       "    .dataframe tbody tr th {\n",
       "        vertical-align: top;\n",
       "    }\n",
       "\n",
       "    .dataframe thead th {\n",
       "        text-align: right;\n",
       "    }\n",
       "</style>\n",
       "<table border=\"1\" class=\"dataframe\">\n",
       "  <thead>\n",
       "    <tr style=\"text-align: right;\">\n",
       "      <th></th>\n",
       "      <th>Content</th>\n",
       "      <th>Label</th>\n",
       "      <th>Words Per Tweet</th>\n",
       "      <th>TextLength</th>\n",
       "      <th>WordsPerContent</th>\n",
       "    </tr>\n",
       "  </thead>\n",
       "  <tbody>\n",
       "    <tr>\n",
       "      <th>0</th>\n",
       "      <td>denial normal con ask comment tragedi emot retard</td>\n",
       "      <td>1</td>\n",
       "      <td>8</td>\n",
       "      <td>8</td>\n",
       "      <td>8</td>\n",
       "    </tr>\n",
       "    <tr>\n",
       "      <th>1</th>\n",
       "      <td>abl tweet insuff bullshit prove trump nazi vagina</td>\n",
       "      <td>1</td>\n",
       "      <td>8</td>\n",
       "      <td>8</td>\n",
       "      <td>8</td>\n",
       "    </tr>\n",
       "    <tr>\n",
       "      <th>2</th>\n",
       "      <td>retard cute singl life</td>\n",
       "      <td>1</td>\n",
       "      <td>4</td>\n",
       "      <td>4</td>\n",
       "      <td>4</td>\n",
       "    </tr>\n",
       "    <tr>\n",
       "      <th>3</th>\n",
       "      <td>thought real badass mongol style declar war at...</td>\n",
       "      <td>1</td>\n",
       "      <td>11</td>\n",
       "      <td>11</td>\n",
       "      <td>11</td>\n",
       "    </tr>\n",
       "    <tr>\n",
       "      <th>4</th>\n",
       "      <td>afro american basho</td>\n",
       "      <td>1</td>\n",
       "      <td>3</td>\n",
       "      <td>3</td>\n",
       "      <td>3</td>\n",
       "    </tr>\n",
       "  </tbody>\n",
       "</table>\n",
       "</div>"
      ],
      "text/plain": [
       "                                             Content  Label  Words Per Tweet  \\\n",
       "0  denial normal con ask comment tragedi emot retard      1                8   \n",
       "1  abl tweet insuff bullshit prove trump nazi vagina      1                8   \n",
       "2                             retard cute singl life      1                4   \n",
       "3  thought real badass mongol style declar war at...      1               11   \n",
       "4                                afro american basho      1                3   \n",
       "\n",
       "   TextLength  WordsPerContent  \n",
       "0           8                8  \n",
       "1           8                8  \n",
       "2           4                4  \n",
       "3          11               11  \n",
       "4           3                3  "
      ]
     },
     "execution_count": 7,
     "metadata": {},
     "output_type": "execute_result"
    }
   ],
   "source": [
    "# Calculate quartiles for each label group\n",
    "Q1 = df.groupby('Label')['Content'].apply(lambda x: x.str.split().str.len().quantile(0.25))\n",
    "Q3 = df.groupby('Label')['Content'].apply(lambda x: x.str.split().str.len().quantile(0.75))\n",
    "\n",
    "# Caculate IQR\n",
    "IQR = Q3 - Q1\n",
    "\n",
    "# Define the range of outliers\n",
    "lower_bound = Q1 - 1.5 * IQR\n",
    "upper_bound = Q3 + 1.5 * IQR\n",
    "\n",
    "# remove outliers\n",
    "filtered_df = df[~((df['Content'].str.split().str.len() < (df['Label'].map(lower_bound))) | \n",
    "                   (df['Content'].str.split().str.len() > (df['Label'].map(upper_bound))))]\n",
    "\n",
    "filtered_df.head()"
   ]
  },
  {
   "cell_type": "markdown",
   "id": "393f683f-b951-4f53-b1b6-14e02149fc3e",
   "metadata": {},
   "source": [
    "Draw a box plot after removing outliers"
   ]
  },
  {
   "cell_type": "code",
   "execution_count": 8,
   "id": "8e5bb99d-aa6c-4f56-9077-8f1c1002c100",
   "metadata": {},
   "outputs": [
    {
     "data": {
      "image/png": "[encoded data removed]",
      "text/plain": [
       "<Figure size 640x480 with 1 Axes>"
      ]
     },
     "metadata": {},
     "output_type": "display_data"
    }
   ],
   "source": [
    "import pandas as pd\n",
    "import matplotlib.pyplot as plt\n",
    "\n",
    "filtered_df.boxplot(\n",
    "    \"TextLength\", by=\"Label\", grid=False, showfliers=True, color=\"black\"\n",
    ")\n",
    "plt.suptitle(\"\")  \n",
    "plt.xlabel(\"Label\")\n",
    "plt.ylabel(\"Words Per Content\")\n",
    "plt.show()"
   ]
  },
  {
   "cell_type": "markdown",
   "id": "e11d466f-aa63-4c51-bd84-91f324c4f931",
   "metadata": {},
   "source": [
    "We can still see some outliers from the picture, but they are relatively acceptable. "
   ]
  },
  {
   "cell_type": "markdown",
   "id": "fe776a8d-f161-4339-bb17-65feff3423e3",
   "metadata": {},
   "source": [
    "# Balance the dataset\n",
    "\n",
    "And we check the number of samples in each label again."
   ]
  },
  {
   "cell_type": "code",
   "execution_count": 9,
   "id": "2d505abd-884a-4ca8-b399-cd05b691732c",
   "metadata": {},
   "outputs": [
    {
     "name": "stdout",
     "output_type": "stream",
     "text": [
      "Label\n",
      "1    334524\n",
      "0    314205\n",
      "Name: count, dtype: int64\n"
     ]
    }
   ],
   "source": [
    "Label_counts = filtered_df['Label'].value_counts()\n",
    "print(Label_counts)"
   ]
  },
  {
   "cell_type": "markdown",
   "id": "25b46173-7dc0-454a-9de2-f35530555874",
   "metadata": {},
   "source": [
    "In order not to affect the performance of the model, prevent the model from being biased towards the majority class, improve the recognition ability of the minority class and improve the generalization ability of the model, we rebalanced the data by deleting samples in label 1."
   ]
  },
  {
   "cell_type": "code",
   "execution_count": 12,
   "id": "86796df9-927b-43f3-b8e6-80f29732db64",
   "metadata": {},
   "outputs": [
    {
     "name": "stdout",
     "output_type": "stream",
     "text": [
      "Label\n",
      "1    314205\n",
      "0    314205\n",
      "Name: count, dtype: int64\n"
     ]
    }
   ],
   "source": [
    "from sklearn.utils import resample\n",
    "\n",
    "# Get samples for each category separately\n",
    "df_majority = filtered_df[filtered_df.Label==1]\n",
    "df_minority = filtered_df[filtered_df.Label==0]\n",
    "\n",
    "# Reduce the number of samples from the majority class to the same number as the minority class\n",
    "df_majority_downsampled = resample(df_majority, \n",
    "                                   replace=False,      # No replacement means there will be no duplicate samples\n",
    "                                   n_samples=len(df_minority), # The number of samples matching the minority class\n",
    "                                   random_state=123)    # Random seeds ensure reproducible results\n",
    "\n",
    "# Merge the reduced majority class samples with the minority class samples\n",
    "df_balanced = pd.concat([df_majority_downsampled, df_minority])\n",
    "\n",
    "# Print category counts again to confirm balance\n",
    "label_counts_balanced = df_balanced['Label'].value_counts()\n",
    "print(label_counts_balanced)\n"
   ]
  },
  {
   "cell_type": "code",
   "execution_count": 13,
   "id": "1d7c66d5-1367-4606-87d4-68e93c615550",
   "metadata": {},
   "outputs": [],
   "source": [
    "df.to_csv('processed.csv', index=False)"
   ]
  },
  {
   "cell_type": "code",
   "execution_count": 1,
   "id": "51d698dd",
   "metadata": {},
   "outputs": [
    {
     "name": "stderr",
     "output_type": "stream",
     "text": [
      "/tmp/ipykernel_2737/1649638978.py:7: FutureWarning: A value is trying to be set on a copy of a DataFrame or Series through chained assignment using an inplace method.\n",
      "The behavior will change in pandas 3.0. This inplace method will never work because the intermediate object on which we are setting values always behaves as a copy.\n",
      "\n",
      "For example, when doing 'df[col].method(value, inplace=True)', try using 'df.method({col: value}, inplace=True)' or df[col] = df[col].method(value) instead, to perform the operation inplace on the original object.\n",
      "\n",
      "\n",
      "  X=df['Content'].fillna('', inplace=True)\n"
     ]
    }
   ],
   "source": [
    "import pandas as pd\n",
    "import numpy as np\n",
    "df = pd.read_csv(\"processed.csv\") #Load the dataset to avoid running from scratch\n",
    "\n",
    "df \n",
    "\n",
    "X=df['Content'].fillna('', inplace=True)\n",
    "\n",
    "y=df['Label']"
   ]
  },
  {
   "cell_type": "code",
   "execution_count": 6,
   "id": "df4d01c0",
   "metadata": {},
   "outputs": [],
   "source": [
    "import pandas as pd\n",
    "import matplotlib.pyplot as plt"
   ]
  },
  {
   "cell_type": "markdown",
   "id": "c230a051-67d7-41b4-b701-484583f7c967",
   "metadata": {},
   "source": [
    "# TF-IDF\n",
    "\n",
    "Term Frequency - Inverse Document Frequency (TF-IDF) is a widely used statistical method in natural language processing and information retrieval. It measures how important a term is within a document relative to a collection of documents (i.e., relative to a corpus).\n",
    "\n",
    "- Term Frequency: TF of a term or word is the number of times the term appears in a document compared to the total number of words in the document.\n",
    "\n",
    "  $TF = \\frac{number\\,of\\, times\\, the\\, tern\\, appears\\, in\\, the\\, document}{total\\, number\\, of\\, terms\\, in\\, the\\, document}$\n",
    "\n",
    "- Inverse Document Frequency: IDF of a term reflects the proportion of documents in the corpus that contain the term. Words unique to a small percentage of documents (e.g., technical jargon terms) receive higher importance values than words common across all documents (e.g., a, the, and).\n",
    "  \n",
    "  $IDF = log\\left(\\frac{numbers\\, of\\, the\\, documents\\, in\\, the\\, corpus}{number\\, of\\, documents\\, in\\, the\\, corpus\\, contain\\, the\\, term}\\right)$\n",
    "\n",
    "- The TF-IDF of a term is calculated by multiplying TF and IDF scores.\n",
    "  \n",
    "  $TF-IDF=TF*IDF$\n"
   ]
  },
  {
   "cell_type": "code",
   "execution_count": 4,
   "id": "20eaa2cb",
   "metadata": {},
   "outputs": [],
   "source": [
    "from sklearn.feature_extraction.text import TfidfVectorizer\n",
    "from sklearn.impute import SimpleImputer\n",
    "\n",
    "# Replace NaN values with an empty string or any other appropriate strategy\n",
    "df['Content'].fillna('', inplace=True)\n",
    "\n",
    "# Create TF-IDF vectorizer\n",
    "tfidf_vectorizer = TfidfVectorizer()\n",
    "\n",
    "# Fit-transform the data\n",
    "X_tfidf = tfidf_vectorizer.fit_transform(df['Content'])"
   ]
  },
  {
   "cell_type": "code",
   "execution_count": 5,
   "id": "f5b08ba1",
   "metadata": {},
   "outputs": [
    {
     "name": "stdout",
     "output_type": "stream",
     "text": [
      "(688057, 90111)\n"
     ]
    }
   ],
   "source": [
    "print(X_tfidf.shape)"
   ]
  },
  {
   "cell_type": "markdown",
   "id": "faee1a7d-0e9c-432b-b4d8-a1af67fe9e21",
   "metadata": {},
   "source": [
    "### Prediction\n",
    "Split the datasets into training(80%) and testing(20%) sets. And we use a simple model--Logistic Regression classifier to test."
   ]
  },
  {
   "cell_type": "code",
   "execution_count": 9,
   "id": "e1f7966e",
   "metadata": {},
   "outputs": [
    {
     "name": "stderr",
     "output_type": "stream",
     "text": [
      "100%|██████████| 100/100 [00:13<00:00,  7.41it/s]"
     ]
    },
    {
     "name": "stdout",
     "output_type": "stream",
     "text": [
      "Accuracy: 0.8301746940673779\n"
     ]
    },
    {
     "name": "stderr",
     "output_type": "stream",
     "text": [
      "\n"
     ]
    }
   ],
   "source": [
    "from sklearn.model_selection import train_test_split\n",
    "from sklearn.linear_model import LogisticRegression\n",
    "from sklearn.metrics import accuracy_score\n",
    "from tqdm import tqdm\n",
    "\n",
    "# Split the data into training and testing sets\n",
    "X_train, X_test, y_train, y_test = train_test_split(X_tfidf, y, test_size=0.2, random_state=42)\n",
    "\n",
    "# Instantiate the Logistic Regression classifier\n",
    "logreg_classifier = LogisticRegression(max_iter=1000, solver='saga')  # Increase max_iter and change solver\n",
    "\n",
    "# Train the Logistic Regression classifier with progress bar\n",
    "progress_bar = tqdm(total=100)\n",
    "logreg_classifier.fit(X_train, y_train)\n",
    "progress_bar.update(100)\n",
    "progress_bar.close()\n",
    "\n",
    "# Predict on the testing set\n",
    "y_pred = logreg_classifier.predict(X_test)\n",
    "\n",
    "# Evaluate the classifier\n",
    "accuracy = accuracy_score(y_test, y_pred)\n",
    "print(\"Accuracy:\", accuracy)\n"
   ]
  },
  {
   "cell_type": "code",
   "execution_count": 11,
   "id": "361f0681-2de8-4ea8-b73a-f578ba8ff4be",
   "metadata": {},
   "outputs": [
    {
     "data": {
      "image/png": "[encoded data removed]",
      "text/plain": [
       "<Figure size 800x600 with 2 Axes>"
      ]
     },
     "metadata": {},
     "output_type": "display_data"
    }
   ],
   "source": [
    "from sklearn.metrics import accuracy_score, confusion_matrix\n",
    "import matplotlib.pyplot as plt\n",
    "# Plot Confusion Matrix\n",
    "conf_mat = confusion_matrix(y_test, y_pred)\n",
    "plt.figure(figsize=(8, 6))\n",
    "plt.imshow(conf_mat, interpolation='nearest', cmap=plt.cm.Blues)\n",
    "plt.title('Confusion Matrix')\n",
    "plt.colorbar()\n",
    "plt.xlabel('Predicted Label')\n",
    "plt.ylabel('True Label')\n",
    "plt.xticks([0, 1], ['Predicted 0', 'Predicted 1'])\n",
    "plt.yticks([0, 1], ['True 0', 'True 1'])\n",
    "for i in range(conf_mat.shape[0]):\n",
    "    for j in range(conf_mat.shape[1]):\n",
    "        plt.text(j, i, format(conf_mat[i, j], 'd'), horizontalalignment=\"center\", color=\"white\" if conf_mat[i, j] > conf_mat.max() / 2 else \"black\")\n",
    "plt.show()"
   ]
  },
  {
   "cell_type": "markdown",
   "id": "b269786d-f808-4556-8a6c-fce96cba00ea",
   "metadata": {},
   "source": [
    "**Analysis:** \n",
    "\n",
    "From the confusion matrix, we can calculate the accuracy: (54117+60125) / (12066+11304+54117+60125) = 83.017%"
   ]
  },
  {
   "cell_type": "markdown",
   "id": "50fe80d1-0d39-47d4-ae3b-15ccdf6a92a0",
   "metadata": {},
   "source": [
    "# Word2Vec\n",
    "\n",
    "Word2vec is a group of related models that are used to produce word embeddings. These models are shallow, two-layer neural networks that are trained to reconstruct linguistic contexts of words. Word2vec takes as its input a large corpus of text and produces a vector space, typically of several hundred dimensions, with each unique word in the corpus being assigned a corresponding vector in the space.\n",
    "\n",
    "We set the dimension of the vector trained by the model to 100 dimensions. Windows size is set to 5, that is, when the model learns the representation of each word, it will consider the contextual information within 5 words before and after the target word. We also stipulate that only words that appear at least 2 times in the entire data set will be considered for model training. This helps remove rare words, reduce model noise, and reduce computational resource requirements. In addition, to speed up model training, we use 4 worker threads to train the model in parallel, which can speed up the model training process, especially when processing large data sets.\n"
   ]
  },
  {
   "cell_type": "code",
   "execution_count": 13,
   "id": "53a368d3",
   "metadata": {},
   "outputs": [
    {
     "name": "stdout",
     "output_type": "stream",
     "text": [
      "Defaulting to user installation because normal site-packages is not writeable\n",
      "Requirement already satisfied: gensim in /home/competent_driscoll/.local/lib/python3.10/site-packages (4.3.2)\n",
      "Requirement already satisfied: numpy>=1.18.5 in /home/competent_driscoll/.local/lib/python3.10/site-packages (from gensim) (1.26.4)\n",
      "Requirement already satisfied: smart-open>=1.8.1 in /home/competent_driscoll/.local/lib/python3.10/site-packages (from gensim) (7.0.1)\n",
      "Requirement already satisfied: scipy>=1.7.0 in /home/competent_driscoll/.local/lib/python3.10/site-packages (from gensim) (1.12.0)\n",
      "Requirement already satisfied: wrapt in /home/competent_driscoll/.local/lib/python3.10/site-packages (from smart-open>=1.8.1->gensim) (1.16.0)\n"
     ]
    }
   ],
   "source": [
    "#word2vec\n",
    "!pip install gensim\n",
    "\n",
    "from gensim.models import Word2Vec\n",
    "\n",
    "#y=df['sentiment']\n",
    "\n",
    "# Tokenize the cleaned reviews\n",
    "tokenized_reviews = [review.split() for review in df['Content']]\n",
    "\n",
    "# Train the Word2Vec model\n",
    "w2v_model = Word2Vec(tokenized_reviews, vector_size=100, window=5, min_count=2, workers=4)"
   ]
  },
  {
   "cell_type": "markdown",
   "id": "487d3c6f",
   "metadata": {},
   "source": []
  },
  {
   "cell_type": "markdown",
   "id": "481d91bd-46bc-49e0-be7d-75bc4aad57f8",
   "metadata": {},
   "source": [
    "# Visualize some word vectors\n",
    "\n",
    "\n",
    "We visualize the relationship between these word vectors on a two-dimensional interface. The smaller the cos value between the two vectors, the closer the relationship between the two words.\n",
    "\n",
    "Since the dimensions of vector is 100, we use t-SNE to reduce the order to 2 dimensions."
   ]
  },
  {
   "cell_type": "code",
   "execution_count": 19,
   "id": "1be911d3",
   "metadata": {},
   "outputs": [
    {
     "data": {
      "image/png": "[encoded data removed]",
      "text/plain": [
       "<Figure size 1000x1000 with 1 Axes>"
      ]
     },
     "metadata": {},
     "output_type": "display_data"
    }
   ],
   "source": [
    "# Updated code to resolve IndexError issues\n",
    "from sklearn.manifold import TSNE\n",
    "import matplotlib.pyplot as plt\n",
    "import numpy as np\n",
    "\n",
    "# Choose some words to visualize\n",
    "words = ['fuck', 'hate', 'bitch', 'asshole', 'man', 'slut', 'idiot', 'apple', 'china','back','black']\n",
    "\n",
    "# Get the word vectors for these words and make sure the words exist in the model\n",
    "# Create a list of words that exist in the model\n",
    "valid_words = [word for word in words if word in w2v_model.wv]\n",
    "word_vectors = np.array([w2v_model.wv[word] for word in valid_words])\n",
    "\n",
    "# Use t-SNE to reduce the dimension\n",
    "tsne = TSNE(n_components=2, random_state=0, perplexity=min(30, len(valid_words)-1))\n",
    "word_vectors_2d = tsne.fit_transform(word_vectors)\n",
    "\n",
    "# Visualize\n",
    "plt.figure(figsize=(10, 10))\n",
    "for i, word in enumerate(valid_words):\n",
    "    plt.scatter(word_vectors_2d[i, 0], word_vectors_2d[i, 1])\n",
    "    plt.annotate(word, xy=(word_vectors_2d[i, 0], word_vectors_2d[i, 1]), xytext=(5, 2),\n",
    "                 textcoords='offset points', ha='right', va='bottom')\n",
    "plt.show()"
   ]
  },
  {
   "cell_type": "code",
   "execution_count": 18,
   "id": "d1858d9a",
   "metadata": {},
   "outputs": [],
   "source": [
    "# Save the model\n",
    "model_path = \"word2vec_model.bin\"\n",
    "w2v_model.save(model_path)"
   ]
  },
  {
   "cell_type": "markdown",
   "id": "86b6f36f-1983-4e07-ae70-c1953453d15d",
   "metadata": {},
   "source": [
    "### Prediction\n",
    "\n",
    "Split the datasets into training(80%) and testing(20%) sets.\n",
    "\n",
    "After word2vec, we firstly use PCA to reduce the dimensions, then use SVM classifier to predict and evaluate."
   ]
  },
  {
   "cell_type": "code",
   "execution_count": 14,
   "id": "303b88dc",
   "metadata": {},
   "outputs": [
    {
     "name": "stdout",
     "output_type": "stream",
     "text": [
      "              precision    recall  f1-score   support\n",
      "\n",
      "    negative       0.85      0.84      0.85      4961\n",
      "    positive       0.85      0.86      0.85      5039\n",
      "\n",
      "    accuracy                           0.85     10000\n",
      "   macro avg       0.85      0.85      0.85     10000\n",
      "weighted avg       0.85      0.85      0.85     10000\n",
      "\n"
     ]
    }
   ],
   "source": [
    "import numpy as np\n",
    "from sklearn.decomposition import PCA\n",
    "from sklearn.svm import SVC\n",
    "from sklearn.model_selection import train_test_split\n",
    "from sklearn.metrics import classification_report\n",
    "\n",
    "\n",
    "# Generate document feature vectors\n",
    "def document_vector(word2vec_model, doc):\n",
    "    # Delete words that are not in the vocabulary\n",
    "    doc = [word for word in doc if word in word2vec_model.wv]\n",
    "    if len(doc) == 0:\n",
    "        return np.zeros(word2vec_model.vector_size)\n",
    "    # Calculate the average of word vectors\n",
    "    return np.mean(word2vec_model.wv[doc], axis=0)\n",
    "\n",
    "# Compute vectors for each document\n",
    "doc_vectors = np.array([document_vector(w2v_model, doc) for doc in tokenized_reviews])\n",
    "\n",
    "# Appy PCA to reduce the orders\n",
    "pca = PCA(n_components=50)  # n_components 可以根据需要调整\n",
    "doc_vectors_pca = pca.fit_transform(doc_vectors)\n",
    "\n",
    "# Split the datasets\n",
    "X_train, X_test, y_train, y_test = train_test_split(doc_vectors_pca, df['Content'], test_size=0.2, random_state=42)\n",
    "\n",
    "# Train SVM classifier\n",
    "svm = SVC(kernel='linear')  # kernel can change due to our needs\n",
    "svm.fit(X_train, y_train)\n",
    "\n",
    "# Prediction and Evaluation\n",
    "y_pred = svm.predict(X_test)\n",
    "print(classification_report(y_test, y_pred))"
   ]
  },
  {
   "cell_type": "markdown",
   "id": "3f8f2f5f",
   "metadata": {},
   "source": [
    "**Analysis:** \n",
    "\n",
    "The accuracy of prediction is 85%.\n",
    "\n",
    "*Why we choose the mean value of word vector?*\n",
    "\n",
    "* Dimensionality consistency: By averaging word vectors, you get a fixed-size vector regardless of the length of the original text. This is necessary for input into traditional machine learning models.\n",
    "* Preserve semantic information: Each word vector generated by the Word2Vec model captures the semantic information of the word. By averaging the vectors of all words in a document, a semantic representation of the entire document can be synthesized to a certain extent.\n",
    "* Simple and effective: Although this method is simple, it is surprisingly effective in many situations. It does not require complex operations and is relatively cheap to compute, while often providing sufficiently good results, especially on large-scale data sets.\n",
    "  "
   ]
  },
  {
   "cell_type": "markdown",
   "id": "aa9d2320-dfd0-4762-b460-0454732ee4f9",
   "metadata": {},
   "source": [
    "# FastText\n",
    "\n",
    "FastText is a word vector representation and text classification tool developed by the Facebook AI Research (FAIR) team. FastText is similar to Word2Vec, but has some key differences:\n",
    "\n",
    "* Subword information: One of the main innovations of FastText is that it takes into account the internal structure of words. It not only learns vector representations of words, but also learns vector representations of individual substrings (n-grams) of words. For example, for the word \"apple\", it considers the substrings \"ap\", \"app\", \"appl\", \"apple\" and \"pp\", \"ppl\", \"pple\". This makes FastText particularly suitable for handling spelling errors and inflections (e.g. plural forms, tense changes, etc.).\n",
    "* Handling unknown words: Because FastText takes subword information into account, it can generate vectors for words outside the training vocabulary. This is a significant advantage over Word2Vec, which cannot directly generate vectors for words that do not appear in the training set.\n",
    "* Application areas: Although FastText is often used to generate word vectors, it is also often used for text classification tasks, providing efficient training and classification methods, especially for large-scale data sets.\n",
    "* Performance: FastText often provides performance that is comparable to or better than Word2Vec across a variety of languages ​​and tasks, especially when dealing with syntactically rich or morphologically complex languages.\n",
    "* FastText is a powerful and flexible tool suitable for a variety of natural language processing tasks. Because of its processing of subword information, it is particularly suitable for applications that need to be sensitive to morphological changes or spelling errors.\n"
   ]
  },
  {
   "cell_type": "code",
   "execution_count": null,
   "id": "6b818bfd",
   "metadata": {},
   "outputs": [],
   "source": [
    "# add a gride search to find the best parameter"
   ]
  },
  {
   "cell_type": "code",
   "execution_count": 1,
   "id": "7fe4a8d4",
   "metadata": {},
   "outputs": [
    {
     "name": "stderr",
     "output_type": "stream",
     "text": [
      "/tmp/ipykernel_7994/1144591639.py:10: DeprecationWarning: DataFrameGroupBy.apply operated on the grouping columns. This behavior is deprecated, and in a future version of pandas the grouping columns will be excluded from the operation. Either pass `include_groups=False` to exclude the groupings or explicitly select the grouping columns after groupby to silence this warning.\n",
      "  df_sampled = df.groupby('Label').apply(lambda x: x.head(10000)).reset_index(drop=True)\n"
     ]
    }
   ],
   "source": [
    "import pandas as pd\n",
    "import numpy as np\n",
    "import fasttext\n",
    "from sklearn.model_selection import train_test_split\n",
    "\n",
    "\n",
    "df = pd.read_csv(\"processed.csv\")\n",
    "\n",
    "\n",
    "df_sampled = df.groupby('Label').apply(lambda x: x.head(10000)).reset_index(drop=True)\n",
    "\n",
    "\n",
    "df_sampled['fasttext_format'] = '__label__' + df_sampled['Label'].astype(str) + ' ' + df_sampled['Content']\n",
    "\n",
    "\n",
    "train_df, validate_df = train_test_split(df_sampled, test_size=0.2, random_state=42)\n",
    "\n",
    "\n",
    "train_df['fasttext_format'].to_csv(\"fasttext_train.txt\", index=False, header=False)\n",
    "validate_df['fasttext_format'].to_csv(\"fasttext_validate.txt\", index=False, header=False)"
   ]
  },
  {
   "cell_type": "code",
   "execution_count": 2,
   "id": "73188a35-7199-49d6-98e3-80b1338c5acd",
   "metadata": {},
   "outputs": [
    {
     "name": "stderr",
     "output_type": "stream",
     "text": [
      "Read 0M words\n",
      "Number of words:  11755\n",
      "Number of labels: 2\n",
      "Progress: 100.0% words/sec/thread:  390102 lr:  0.000000 avg.loss:  0.357022 ETA:   0h 0m 0s\n",
      "Read 0M words\n",
      "Number of words:  11755\n",
      "Number of labels: 2\n",
      "Progress: 100.0% words/sec/thread:  217409 lr:  0.000000 avg.loss:  0.302651 ETA:   0h 0m 0s\n",
      "Read 0M words\n",
      "Number of words:  11755\n",
      "Number of labels: 2\n",
      "Progress: 100.0% words/sec/thread:   50157 lr:  0.000000 avg.loss:  0.345238 ETA:   0h 0m 0s\n",
      "Read 0M words\n",
      "Number of words:  11755\n",
      "Number of labels: 2\n",
      "Progress: 100.0% words/sec/thread:  379854 lr:  0.000000 avg.loss:  0.300722 ETA:   0h 0m 0s\n",
      "Read 0M words\n",
      "Number of words:  11755\n",
      "Number of labels: 2\n",
      "Progress: 100.0% words/sec/thread:  173774 lr:  0.000000 avg.loss:  0.154735 ETA:   0h 0m 0s\n",
      "Read 0M words\n",
      "Number of words:  11755\n",
      "Number of labels: 2\n",
      "Progress: 100.0% words/sec/thread:   82485 lr:  0.000000 avg.loss:  0.169313 ETA:   0h 0m 0s\n",
      "Read 0M words\n",
      "Number of words:  11755\n",
      "Number of labels: 2\n",
      "Progress: 100.0% words/sec/thread:  303674 lr:  0.000000 avg.loss:  0.264256 ETA:   0h 0m 0s\n",
      "Read 0M words\n",
      "Number of words:  11755\n",
      "Number of labels: 2\n",
      "Progress: 100.0% words/sec/thread:  218091 lr:  0.000000 avg.loss:  0.113907 ETA:   0h 0m 0s\n",
      "Read 0M words\n",
      "Number of words:  11755\n",
      "Number of labels: 2\n",
      "Progress: 100.0% words/sec/thread:   97696 lr:  0.000000 avg.loss:  0.087587 ETA:   0h 0m 0s\n",
      "Read 0M words\n",
      "Number of words:  11755\n",
      "Number of labels: 2\n",
      "Progress: 100.0% words/sec/thread:  392247 lr:  0.000000 avg.loss:  0.338567 ETA:   0h 0m 0s\n",
      "Read 0M words\n",
      "Number of words:  11755\n",
      "Number of labels: 2\n",
      "Progress: 100.0% words/sec/thread:  257679 lr:  0.000000 avg.loss:  0.212931 ETA:   0h 0m 0s\n",
      "Read 0M words\n",
      "Number of words:  11755\n",
      "Number of labels: 2\n",
      "Progress: 100.0% words/sec/thread:  166900 lr:  0.000000 avg.loss:  0.184806 ETA:   0h 0m 0s\n",
      "Read 0M words\n",
      "Number of words:  11755\n",
      "Number of labels: 2\n",
      "Progress: 100.0% words/sec/thread:  292831 lr:  0.000000 avg.loss:  0.287418 ETA:   0h 0m 0s\n",
      "Read 0M words\n",
      "Number of words:  11755\n",
      "Number of labels: 2\n",
      "Progress: 100.0% words/sec/thread:  239899 lr:  0.000000 avg.loss:  0.122649 ETA:   0h 0m 0s\n",
      "Read 0M words\n",
      "Number of words:  11755\n",
      "Number of labels: 2\n",
      "Progress: 100.0% words/sec/thread:  132971 lr:  0.000000 avg.loss:  0.134161 ETA:   0h 0m 0s\n",
      "Read 0M words\n",
      "Number of words:  11755\n",
      "Number of labels: 2\n",
      "Progress: 100.0% words/sec/thread:  294015 lr:  0.000000 avg.loss:  0.241346 ETA:   0h 0m 0s\n",
      "Read 0M words\n",
      "Number of words:  11755\n",
      "Number of labels: 2\n",
      "Progress: 100.0% words/sec/thread:  158836 lr:  0.000000 avg.loss:  0.082833 ETA:   0h 0m 0s\n",
      "Read 0M words\n",
      "Number of words:  11755\n",
      "Number of labels: 2\n",
      "Progress: 100.0% words/sec/thread:  148123 lr:  0.000000 avg.loss:  0.073984 ETA:   0h 0m 0s\n",
      "Read 0M words\n",
      "Number of words:  11755\n",
      "Number of labels: 2\n",
      "Progress: 100.0% words/sec/thread:  325954 lr:  0.000000 avg.loss:  0.327350 ETA:   0h 0m 0s\n",
      "Read 0M words\n",
      "Number of words:  11755\n",
      "Number of labels: 2\n",
      "Progress: 100.0% words/sec/thread:  158737 lr:  0.000000 avg.loss:  0.260048 ETA:   0h 0m 0s\n",
      "Read 0M words\n",
      "Number of words:  11755\n",
      "Number of labels: 2\n",
      "Progress: 100.0% words/sec/thread:  142926 lr:  0.000000 avg.loss:  0.171637 ETA:   0h 0m 0s\n",
      "Read 0M words\n",
      "Number of words:  11755\n",
      "Number of labels: 2\n",
      "Progress: 100.0% words/sec/thread:  320065 lr:  0.000000 avg.loss:  0.329154 ETA:   0h 0m 0s\n",
      "Read 0M words\n",
      "Number of words:  11755\n",
      "Number of labels: 2\n",
      "Progress: 100.0% words/sec/thread:  213909 lr:  0.000000 avg.loss:  0.122721 ETA:   0h 0m 0s\n",
      "Read 0M words\n",
      "Number of words:  11755\n",
      "Number of labels: 2\n",
      "Progress: 100.0% words/sec/thread:  159525 lr:  0.000000 avg.loss:  0.123811 ETA:   0h 0m 0s\n",
      "Read 0M words\n",
      "Number of words:  11755\n",
      "Number of labels: 2\n",
      "Progress: 100.0% words/sec/thread:  377741 lr:  0.000000 avg.loss:  0.273259 ETA:   0h 0m 0s\n",
      "Read 0M words\n",
      "Number of words:  11755\n",
      "Number of labels: 2\n",
      "Progress: 100.0% words/sec/thread:  241472 lr:  0.000000 avg.loss:  0.083356 ETA:   0h 0m 0s\n",
      "Read 0M words\n",
      "Number of words:  11755\n",
      "Number of labels: 2\n",
      "Progress: 100.0% words/sec/thread:  172235 lr:  0.000000 avg.loss:  0.085777 ETA:   0h 0m 0s\n"
     ]
    },
    {
     "name": "stdout",
     "output_type": "stream",
     "text": [
      "Best Accuracy: 0.8335002503755633\n",
      "Best Parameters: {'lr': 0.1, 'epoch': 10, 'wordNgrams': 2}\n"
     ]
    }
   ],
   "source": [
    "def train_and_evaluate(parameter_grid, train_file, validate_file):\n",
    "    best_model = None\n",
    "    best_accuracy = 0\n",
    "    best_params = {}\n",
    "    \n",
    "    for lr in parameter_grid['lr']:\n",
    "        for epoch in parameter_grid['epoch']:\n",
    "            for wordNgrams in parameter_grid['wordNgrams']:\n",
    "                model = fasttext.train_supervised(input=train_file,\n",
    "                                                  lr=lr,\n",
    "                                                  epoch=epoch,\n",
    "                                                  wordNgrams=wordNgrams)\n",
    "                result = model.test(validate_file)\n",
    "                accuracy = result[1]\n",
    "                \n",
    "                if accuracy > best_accuracy:\n",
    "                    best_accuracy = accuracy\n",
    "                    best_model = model\n",
    "                    best_params = {'lr': lr, 'epoch': epoch, 'wordNgrams': wordNgrams}\n",
    "    \n",
    "    return best_model, best_accuracy, best_params\n",
    "\n",
    "\n",
    "parameter_grid = {\n",
    "    'lr': [0.1, 0.5, 1.0],\n",
    "    'epoch': [5, 10, 20],\n",
    "    'wordNgrams': [1, 2, 3]\n",
    "}\n",
    "\n",
    "\n",
    "best_model, best_accuracy, best_params = train_and_evaluate(parameter_grid, \"fasttext_train.txt\", \"fasttext_validate.txt\")\n",
    "\n",
    "print(f\"Best Accuracy: {best_accuracy}\")\n",
    "print(f\"Best Parameters: {best_params}\")\n"
   ]
  },
  {
   "cell_type": "markdown",
   "id": "1e6219b9",
   "metadata": {},
   "source": []
  }
 ],
 "metadata": {
  "kernelspec": {
   "display_name": "Python 3 (ipykernel)",
   "language": "python",
   "name": "python3"
  },
  "language_info": {
   "codemirror_mode": {
    "name": "ipython",
    "version": 3
   },
   "file_extension": ".py",
   "mimetype": "text/x-python",
   "name": "python",
   "nbconvert_exporter": "python",
   "pygments_lexer": "ipython3",
   "version": "3.10.8"
  }
 },
 "nbformat": 4,
 "nbformat_minor": 5
}
