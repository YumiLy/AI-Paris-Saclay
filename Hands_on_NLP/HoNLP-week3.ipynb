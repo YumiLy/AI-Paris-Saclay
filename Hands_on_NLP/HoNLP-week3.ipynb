{
 "cells": [
  {
   "cell_type": "markdown",
   "id": "f5cb8f6c-94df-4e39-b208-e54edc3a9df6",
   "metadata": {},
   "source": [
    "# Hands-On NLP — Class 3"
   ]
  },
  {
   "cell_type": "markdown",
   "id": "aaf60f2c",
   "metadata": {},
   "source": [
    "<span style=\"color:magenta\">Group Names:</span>\n",
    "\n",
    "* Ying Lai 22305391\n",
    "* Yingjie Liu 22200660"
   ]
  },
  {
   "cell_type": "markdown",
   "id": "1e5beddc-b0f9-4cb4-92a7-e1270c541dd0",
   "metadata": {},
   "source": [
    "## Outline\n",
    "\n",
    "- Better vectors: Tf-idf\n",
    "\n",
    "- Ngrams\n",
    "\n",
    "- Text generation"
   ]
  },
  {
   "cell_type": "code",
   "execution_count": 1,
   "id": "a6366df5-2396-4222-8760-37060a1dc94c",
   "metadata": {},
   "outputs": [],
   "source": [
    "import re\n",
    "import collections\n",
    "from pathlib import Path\n",
    "\n",
    "import matplotlib.pyplot as plt\n",
    "import nltk\n",
    "import numpy as np\n",
    "import pandas as pd\n",
    "import seaborn as sns\n",
    "import sklearn\n",
    "from nltk.tokenize import word_tokenize\n",
    "from sklearn import decomposition, naive_bayes\n",
    "from sklearn.feature_extraction.text import CountVectorizer, TfidfVectorizer\n",
    "from sklearn.metrics import (\n",
    "    ConfusionMatrixDisplay,\n",
    "    accuracy_score,\n",
    "    classification_report,\n",
    "    confusion_matrix,\n",
    ")\n",
    "from sklearn.metrics import precision_recall_fscore_support as score\n",
    "from sklearn.model_selection import train_test_split\n",
    "from tqdm.notebook import tqdm"
   ]
  },
  {
   "cell_type": "code",
   "execution_count": 2,
   "id": "a8c44f31",
   "metadata": {},
   "outputs": [
    {
     "name": "stdout",
     "output_type": "stream",
     "text": [
      "sklearn's version: 1.4.0\n",
      "nltk's version: 3.8.1\n",
      "pandas's version: 2.1.4\n"
     ]
    },
    {
     "name": "stderr",
     "output_type": "stream",
     "text": [
      "[nltk_data] Downloading package punkt to /Users/yinglai/nltk_data...\n",
      "[nltk_data]   Package punkt is already up-to-date!\n"
     ]
    }
   ],
   "source": [
    "tqdm.pandas()\n",
    "\n",
    "nltk.download(\"punkt\")\n",
    "\n",
    "sns.set_style(\"darkgrid\")\n",
    "sns.set_context(\"notebook\")\n",
    "\n",
    "pd.set_option(\"display.precision\", 4)\n",
    "\n",
    "print(\"sklearn's version:\", sklearn.__version__)    # 1.3.2\n",
    "print(\"nltk's version:\", nltk.__version__)          # 3.8.1\n",
    "print(\"pandas's version:\", pd.__version__)          # 2.1.4"
   ]
  },
  {
   "cell_type": "code",
   "execution_count": 3,
   "id": "2a0b2586-f2bf-49af-bd7b-a24ce918eee1",
   "metadata": {},
   "outputs": [],
   "source": [
    "%config InlineBackend.figure_format=\"retina\"  # For high DPI display"
   ]
  },
  {
   "cell_type": "markdown",
   "id": "c0cece58",
   "metadata": {},
   "source": [
    "## Getting the data"
   ]
  },
  {
   "cell_type": "code",
   "execution_count": 4,
   "id": "467e1198-37f5-4bc4-98cc-28fbf0b10c34",
   "metadata": {},
   "outputs": [],
   "source": [
    "DATA = Path(\"../data\")\n",
    "\n",
    "TEXT_P = DATA / \"texts\"\n",
    "\n",
    "CORPORA = [\n",
    "    \"mythology\",\n",
    "    \"woodworking\",\n",
    "    \"robotics\",\n",
    "    \"hsm\",\n",
    "    \"health\",\n",
    "    \"portuguese\",\n",
    "]\n",
    "\n",
    "EPS = np.finfo(float).eps"
   ]
  },
  {
   "cell_type": "code",
   "execution_count": 5,
   "id": "45164744-82eb-44ad-b6d9-1a9da7ff8fd6",
   "metadata": {},
   "outputs": [
    {
     "data": {
      "application/vnd.jupyter.widget-view+json": {
       "model_id": "905210b85b9a4789baaf5ac60f3b77e7",
       "version_major": 2,
       "version_minor": 0
      },
      "text/plain": [
       "  0%|          | 0/6 [00:00<?, ?it/s]"
      ]
     },
     "metadata": {},
     "output_type": "display_data"
    },
    {
     "name": "stdout",
     "output_type": "stream",
     "text": [
      "mythology\n",
      "woodworking\n",
      "robotics\n",
      "hsm\n",
      "health\n",
      "portuguese\n"
     ]
    }
   ],
   "source": [
    "data = []\n",
    "\n",
    "for i, corpus in enumerate(tqdm(CORPORA)):\n",
    "    print(corpus)\n",
    "    for fp in (TEXT_P / corpus).glob(\"*.txt\"):\n",
    "        with fp.open() as f:\n",
    "            text = f.read()\n",
    "        data.append(\n",
    "            {\n",
    "                \"id\": fp.stem,\n",
    "                \"text\": text,\n",
    "                \"category\": corpus,\n",
    "                \"cat_id\": i,\n",
    "            }\n",
    "        )"
   ]
  },
  {
   "cell_type": "code",
   "execution_count": 6,
   "id": "6d42f8c4-504f-43c0-b174-5396a852f426",
   "metadata": {},
   "outputs": [
    {
     "data": {
      "text/html": [
       "<div>\n",
       "<style scoped>\n",
       "    .dataframe tbody tr th:only-of-type {\n",
       "        vertical-align: middle;\n",
       "    }\n",
       "\n",
       "    .dataframe tbody tr th {\n",
       "        vertical-align: top;\n",
       "    }\n",
       "\n",
       "    .dataframe thead th {\n",
       "        text-align: right;\n",
       "    }\n",
       "</style>\n",
       "<table border=\"1\" class=\"dataframe\">\n",
       "  <thead>\n",
       "    <tr style=\"text-align: right;\">\n",
       "      <th></th>\n",
       "      <th>text</th>\n",
       "      <th>category</th>\n",
       "      <th>cat_id</th>\n",
       "    </tr>\n",
       "    <tr>\n",
       "      <th>id</th>\n",
       "      <th></th>\n",
       "      <th></th>\n",
       "      <th></th>\n",
       "    </tr>\n",
       "  </thead>\n",
       "  <tbody>\n",
       "    <tr>\n",
       "      <th>mythology.stackexchange_0000001634</th>\n",
       "      <td>Q:\\n\\nCan anyone identify what Chinese mytholo...</td>\n",
       "      <td>mythology</td>\n",
       "      <td>0</td>\n",
       "    </tr>\n",
       "    <tr>\n",
       "      <th>mythology.stackexchange_0000002329</th>\n",
       "      <td>Q:\\n\\nHave runes ever been used to bring someo...</td>\n",
       "      <td>mythology</td>\n",
       "      <td>0</td>\n",
       "    </tr>\n",
       "    <tr>\n",
       "      <th>mythology.stackexchange_0000001146</th>\n",
       "      <td>Q:\\n\\nDifferences in the Greek and Roman portr...</td>\n",
       "      <td>mythology</td>\n",
       "      <td>0</td>\n",
       "    </tr>\n",
       "    <tr>\n",
       "      <th>mythology.stackexchange_0000004770</th>\n",
       "      <td>Q:\\n\\nWhich cultures have the concept of a \"tr...</td>\n",
       "      <td>mythology</td>\n",
       "      <td>0</td>\n",
       "    </tr>\n",
       "    <tr>\n",
       "      <th>mythology.stackexchange_0000000516</th>\n",
       "      <td>Q:\\n\\nWhy did Arawn choose Pwyll to fight Hafg...</td>\n",
       "      <td>mythology</td>\n",
       "      <td>0</td>\n",
       "    </tr>\n",
       "    <tr>\n",
       "      <th>...</th>\n",
       "      <td>...</td>\n",
       "      <td>...</td>\n",
       "      <td>...</td>\n",
       "    </tr>\n",
       "    <tr>\n",
       "      <th>portuguese.stackexchange_0000001017</th>\n",
       "      <td>Q:\\n\\n\"pois não\" has an affirmative connotatio...</td>\n",
       "      <td>portuguese</td>\n",
       "      <td>5</td>\n",
       "    </tr>\n",
       "    <tr>\n",
       "      <th>portuguese.stackexchange_0000004609</th>\n",
       "      <td>Q:\\n\\nPor que \"Teiú\" tem acento?\\n\\nMonossílab...</td>\n",
       "      <td>portuguese</td>\n",
       "      <td>5</td>\n",
       "    </tr>\n",
       "    <tr>\n",
       "      <th>portuguese.stackexchange_0000000484</th>\n",
       "      <td>Q:\\n\\nRegional usage of \"guitarra\" and \"violão...</td>\n",
       "      <td>portuguese</td>\n",
       "      <td>5</td>\n",
       "    </tr>\n",
       "    <tr>\n",
       "      <th>portuguese.stackexchange_0000003833</th>\n",
       "      <td>Q:\\n\\n\"Do the names of the indigenous peoples ...</td>\n",
       "      <td>portuguese</td>\n",
       "      <td>5</td>\n",
       "    </tr>\n",
       "    <tr>\n",
       "      <th>portuguese.stackexchange_0000000490</th>\n",
       "      <td>Q:\\n\\nIs \"farnizim\" the same as saying \"frenes...</td>\n",
       "      <td>portuguese</td>\n",
       "      <td>5</td>\n",
       "    </tr>\n",
       "  </tbody>\n",
       "</table>\n",
       "<p>14450 rows × 3 columns</p>\n",
       "</div>"
      ],
      "text/plain": [
       "                                                                                  text  \\\n",
       "id                                                                                       \n",
       "mythology.stackexchange_0000001634   Q:\\n\\nCan anyone identify what Chinese mytholo...   \n",
       "mythology.stackexchange_0000002329   Q:\\n\\nHave runes ever been used to bring someo...   \n",
       "mythology.stackexchange_0000001146   Q:\\n\\nDifferences in the Greek and Roman portr...   \n",
       "mythology.stackexchange_0000004770   Q:\\n\\nWhich cultures have the concept of a \"tr...   \n",
       "mythology.stackexchange_0000000516   Q:\\n\\nWhy did Arawn choose Pwyll to fight Hafg...   \n",
       "...                                                                                ...   \n",
       "portuguese.stackexchange_0000001017  Q:\\n\\n\"pois não\" has an affirmative connotatio...   \n",
       "portuguese.stackexchange_0000004609  Q:\\n\\nPor que \"Teiú\" tem acento?\\n\\nMonossílab...   \n",
       "portuguese.stackexchange_0000000484  Q:\\n\\nRegional usage of \"guitarra\" and \"violão...   \n",
       "portuguese.stackexchange_0000003833  Q:\\n\\n\"Do the names of the indigenous peoples ...   \n",
       "portuguese.stackexchange_0000000490  Q:\\n\\nIs \"farnizim\" the same as saying \"frenes...   \n",
       "\n",
       "                                       category  cat_id  \n",
       "id                                                       \n",
       "mythology.stackexchange_0000001634    mythology       0  \n",
       "mythology.stackexchange_0000002329    mythology       0  \n",
       "mythology.stackexchange_0000001146    mythology       0  \n",
       "mythology.stackexchange_0000004770    mythology       0  \n",
       "mythology.stackexchange_0000000516    mythology       0  \n",
       "...                                         ...     ...  \n",
       "portuguese.stackexchange_0000001017  portuguese       5  \n",
       "portuguese.stackexchange_0000004609  portuguese       5  \n",
       "portuguese.stackexchange_0000000484  portuguese       5  \n",
       "portuguese.stackexchange_0000003833  portuguese       5  \n",
       "portuguese.stackexchange_0000000490  portuguese       5  \n",
       "\n",
       "[14450 rows x 3 columns]"
      ]
     },
     "execution_count": 6,
     "metadata": {},
     "output_type": "execute_result"
    }
   ],
   "source": [
    "all_df = pd.DataFrame.from_records(data, index=[\"id\"])\n",
    "all_df = all_df.drop(\"robotics.stackexchange_0000005103\")\n",
    "all_df"
   ]
  },
  {
   "cell_type": "markdown",
   "id": "6ea5c0ff-1200-4d45-b7b3-8fded7343f8d",
   "metadata": {},
   "source": [
    "---\n",
    "Here the initialization of `all_df` is done and you can jump to your favorite classification\n",
    "___"
   ]
  },
  {
   "cell_type": "code",
   "execution_count": 7,
   "id": "41a2eb62-3309-4636-bca7-8abb87d0a053",
   "metadata": {},
   "outputs": [
    {
     "data": {
      "image/png": "[encoded data removed]",
      "text/plain": [
       "<Figure size 640x480 with 1 Axes>"
      ]
     },
     "metadata": {
      "image/png": {
       "height": 513,
       "width": 563
      }
     },
     "output_type": "display_data"
    }
   ],
   "source": [
    "all_df.groupby(\"category\").size().plot.bar()\n",
    "plt.grid(axis=\"x\")"
   ]
  },
  {
   "cell_type": "markdown",
   "id": "5ff3abc6-c173-4705-b563-f194f7426990",
   "metadata": {},
   "source": [
    "## Vectorize"
   ]
  },
  {
   "cell_type": "code",
   "execution_count": 8,
   "id": "07eb09d9-a25f-4d44-b836-4244a8a2fedc",
   "metadata": {},
   "outputs": [
    {
     "name": "stdout",
     "output_type": "stream",
     "text": [
      "(4, 9)\n",
      "['and' 'document' 'first' 'is' 'one' 'second' 'the' 'third' 'this']\n"
     ]
    },
    {
     "data": {
      "text/html": [
       "<div>\n",
       "<style scoped>\n",
       "    .dataframe tbody tr th:only-of-type {\n",
       "        vertical-align: middle;\n",
       "    }\n",
       "\n",
       "    .dataframe tbody tr th {\n",
       "        vertical-align: top;\n",
       "    }\n",
       "\n",
       "    .dataframe thead th {\n",
       "        text-align: right;\n",
       "    }\n",
       "</style>\n",
       "<table border=\"1\" class=\"dataframe\">\n",
       "  <thead>\n",
       "    <tr style=\"text-align: right;\">\n",
       "      <th></th>\n",
       "      <th>and</th>\n",
       "      <th>document</th>\n",
       "      <th>first</th>\n",
       "      <th>is</th>\n",
       "      <th>one</th>\n",
       "      <th>second</th>\n",
       "      <th>the</th>\n",
       "      <th>third</th>\n",
       "      <th>this</th>\n",
       "    </tr>\n",
       "  </thead>\n",
       "  <tbody>\n",
       "    <tr>\n",
       "      <th>This is the first document.</th>\n",
       "      <td>0</td>\n",
       "      <td>1</td>\n",
       "      <td>1</td>\n",
       "      <td>1</td>\n",
       "      <td>0</td>\n",
       "      <td>0</td>\n",
       "      <td>1</td>\n",
       "      <td>0</td>\n",
       "      <td>1</td>\n",
       "    </tr>\n",
       "    <tr>\n",
       "      <th>This document is the second document.</th>\n",
       "      <td>0</td>\n",
       "      <td>2</td>\n",
       "      <td>0</td>\n",
       "      <td>1</td>\n",
       "      <td>0</td>\n",
       "      <td>1</td>\n",
       "      <td>1</td>\n",
       "      <td>0</td>\n",
       "      <td>1</td>\n",
       "    </tr>\n",
       "    <tr>\n",
       "      <th>And this is the third one.</th>\n",
       "      <td>1</td>\n",
       "      <td>0</td>\n",
       "      <td>0</td>\n",
       "      <td>1</td>\n",
       "      <td>1</td>\n",
       "      <td>0</td>\n",
       "      <td>1</td>\n",
       "      <td>1</td>\n",
       "      <td>1</td>\n",
       "    </tr>\n",
       "    <tr>\n",
       "      <th>Is this the first document?</th>\n",
       "      <td>0</td>\n",
       "      <td>1</td>\n",
       "      <td>1</td>\n",
       "      <td>1</td>\n",
       "      <td>0</td>\n",
       "      <td>0</td>\n",
       "      <td>1</td>\n",
       "      <td>0</td>\n",
       "      <td>1</td>\n",
       "    </tr>\n",
       "  </tbody>\n",
       "</table>\n",
       "</div>"
      ],
      "text/plain": [
       "                                       and  document  first  is  one  second  \\\n",
       "This is the first document.              0         1      1   1    0       0   \n",
       "This document is the second document.    0         2      0   1    0       1   \n",
       "And this is the third one.               1         0      0   1    1       0   \n",
       "Is this the first document?              0         1      1   1    0       0   \n",
       "\n",
       "                                       the  third  this  \n",
       "This is the first document.              1      0     1  \n",
       "This document is the second document.    1      0     1  \n",
       "And this is the third one.               1      1     1  \n",
       "Is this the first document?              1      0     1  "
      ]
     },
     "execution_count": 8,
     "metadata": {},
     "output_type": "execute_result"
    }
   ],
   "source": [
    "corpus = [\n",
    "    \"This is the first document.\",\n",
    "    \"This document is the second document.\",\n",
    "    \"And this is the third one.\",\n",
    "    \"Is this the first document?\",\n",
    "]\n",
    "\n",
    "vectorizer = CountVectorizer()\n",
    "xs = vectorizer.fit_transform(corpus).toarray()\n",
    "print(xs.shape)\n",
    "# . toarray takes an iterable and figures out what the smallest python array type can hold the values. \n",
    "# returns an array if all values can fit or a list if not.\n",
    "print(vectorizer.get_feature_names_out())\n",
    "\n",
    "cv_df = pd.DataFrame(xs, index=corpus, columns=vectorizer.get_feature_names_out())\n",
    "cv_df"
   ]
  },
  {
   "cell_type": "markdown",
   "id": "9bb0c06d",
   "metadata": {},
   "source": [
    "### TF-IDF\n",
    "\n",
    "- The counting of words is not the ideal way to represent a document\n",
    "\n",
    "- Instead of counting the number of occurences of a word, we could weight it by the number of documents it appears in\n",
    "\n",
    "- Term Frequency - Inverse Document Frequency"
   ]
  },
  {
   "cell_type": "markdown",
   "id": "4637a874",
   "metadata": {},
   "source": [
    "#### From [Wikipedia](https://en.wikipedia.org/wiki/Tf-idf):\n",
    "\n",
    "**Term frequency**\n",
    "\n",
    "$$\\operatorname{tf}(t,d) = \\frac{f_{t,d}}{{\\sum_{t' \\in d}{f_{t',d}}}}$$\n",
    "\n",
    "**Inverse document frequency**\n",
    "\n",
    "$$\\operatorname{idf}(t, D) =  - \\log \\frac{|\\{d \\in D: t \\in d\\}|}{N} = \n",
    "    -\\log \\left({\\frac {n_{t}}{N}}\\right) $$\n",
    "\n",
    "N: total number of documents in the corpus $N = {|D|}$\n",
    "\n",
    "**Smoothed IDF:**\n",
    "\n",
    "$$\\operatorname{idf}(t, D) = - \\log \\left( \\frac {1 + n_t} {N}\\right)+ 1$$"
   ]
  },
  {
   "cell_type": "markdown",
   "id": "6b3bc67e",
   "metadata": {},
   "source": [
    "#### From [scikit-learn documentation](https://scikit-learn.org/stable/modules/feature_extraction.html#tfidf-term-weighting):\n",
    "\n",
    "In `TfidfVectorizer`, the implementation is slightly different:\n",
    "\n",
    "*   For the IDF:\n",
    "\n",
    "    *   Unsmoothed version (`smooth_idf=False`), though a $+1$ is applied to avoid a value of 0 for the IDF:\n",
    "    $$\\operatorname{idf}(t, D) = -\\log \\left({\\frac {n_{t}}{N}}\\right) + 1$$\n",
    "\n",
    "    *   Smoothed version (`smooth_idf=True`):\n",
    "    $$\\operatorname{idf}(t, D) = - \\log \\left( \\frac {1 + n_t} {1 + N}\\right)+ 1$$\n",
    "\n",
    "*   `TFIDF = tf(t, d) * idf(t, D)`\n",
    "\n",
    "*   `tf(t, d)` is the **count** of the term `t` in the document `d`, not the **frequency** (**no division!**)\n",
    "\n",
    "*   Then a global normalization is applied: `TFIDF = TFIDF / norm(TFIDF)`\n",
    "    \n",
    "    (instead of a normalization within `tf` only to obtain a frequency)\n",
    "\n",
    "*   `norm` is the L2 norm by default, but can be changed to L1 or `None`."
   ]
  },
  {
   "cell_type": "markdown",
   "id": "700d233a",
   "metadata": {},
   "source": [
    "#### 🚧 TODO: Count vs. Freq vectorizers\n",
    "\n",
    "Compare the previous results of the `CountVectorizer` with the `TfidfVectorizer` on the same toy dataset."
   ]
  },
  {
   "cell_type": "code",
   "execution_count": 9,
   "id": "9096c2b1-4a5a-415d-94a3-b282c21c80ed",
   "metadata": {},
   "outputs": [
    {
     "data": {
      "text/html": [
       "<div>\n",
       "<style scoped>\n",
       "    .dataframe tbody tr th:only-of-type {\n",
       "        vertical-align: middle;\n",
       "    }\n",
       "\n",
       "    .dataframe tbody tr th {\n",
       "        vertical-align: top;\n",
       "    }\n",
       "\n",
       "    .dataframe thead th {\n",
       "        text-align: right;\n",
       "    }\n",
       "</style>\n",
       "<table border=\"1\" class=\"dataframe\">\n",
       "  <thead>\n",
       "    <tr style=\"text-align: right;\">\n",
       "      <th></th>\n",
       "      <th>and</th>\n",
       "      <th>document</th>\n",
       "      <th>first</th>\n",
       "      <th>is</th>\n",
       "      <th>one</th>\n",
       "      <th>second</th>\n",
       "      <th>the</th>\n",
       "      <th>third</th>\n",
       "      <th>this</th>\n",
       "    </tr>\n",
       "  </thead>\n",
       "  <tbody>\n",
       "    <tr>\n",
       "      <th>This is the first document.</th>\n",
       "      <td>0.0000</td>\n",
       "      <td>0.4698</td>\n",
       "      <td>0.5803</td>\n",
       "      <td>0.3841</td>\n",
       "      <td>0.0000</td>\n",
       "      <td>0.0000</td>\n",
       "      <td>0.3841</td>\n",
       "      <td>0.0000</td>\n",
       "      <td>0.3841</td>\n",
       "    </tr>\n",
       "    <tr>\n",
       "      <th>This document is the second document.</th>\n",
       "      <td>0.0000</td>\n",
       "      <td>0.6876</td>\n",
       "      <td>0.0000</td>\n",
       "      <td>0.2811</td>\n",
       "      <td>0.0000</td>\n",
       "      <td>0.5386</td>\n",
       "      <td>0.2811</td>\n",
       "      <td>0.0000</td>\n",
       "      <td>0.2811</td>\n",
       "    </tr>\n",
       "    <tr>\n",
       "      <th>And this is the third one.</th>\n",
       "      <td>0.5118</td>\n",
       "      <td>0.0000</td>\n",
       "      <td>0.0000</td>\n",
       "      <td>0.2671</td>\n",
       "      <td>0.5118</td>\n",
       "      <td>0.0000</td>\n",
       "      <td>0.2671</td>\n",
       "      <td>0.5118</td>\n",
       "      <td>0.2671</td>\n",
       "    </tr>\n",
       "    <tr>\n",
       "      <th>Is this the first document?</th>\n",
       "      <td>0.0000</td>\n",
       "      <td>0.4698</td>\n",
       "      <td>0.5803</td>\n",
       "      <td>0.3841</td>\n",
       "      <td>0.0000</td>\n",
       "      <td>0.0000</td>\n",
       "      <td>0.3841</td>\n",
       "      <td>0.0000</td>\n",
       "      <td>0.3841</td>\n",
       "    </tr>\n",
       "  </tbody>\n",
       "</table>\n",
       "</div>"
      ],
      "text/plain": [
       "                                          and  document   first      is  \\\n",
       "This is the first document.            0.0000    0.4698  0.5803  0.3841   \n",
       "This document is the second document.  0.0000    0.6876  0.0000  0.2811   \n",
       "And this is the third one.             0.5118    0.0000  0.0000  0.2671   \n",
       "Is this the first document?            0.0000    0.4698  0.5803  0.3841   \n",
       "\n",
       "                                          one  second     the   third    this  \n",
       "This is the first document.            0.0000  0.0000  0.3841  0.0000  0.3841  \n",
       "This document is the second document.  0.0000  0.5386  0.2811  0.0000  0.2811  \n",
       "And this is the third one.             0.5118  0.0000  0.2671  0.5118  0.2671  \n",
       "Is this the first document?            0.0000  0.0000  0.3841  0.0000  0.3841  "
      ]
     },
     "execution_count": 9,
     "metadata": {},
     "output_type": "execute_result"
    }
   ],
   "source": [
    "from sklearn.feature_extraction.text import TfidfVectorizer\n",
    "\n",
    "# tf_idf = ...\n",
    "tf_idf = TfidfVectorizer()\n",
    "xs =  tf_idf.fit_transform(corpus).toarray()\n",
    "\n",
    "tfidf_df = pd.DataFrame(xs, index=corpus, columns=tf_idf.get_feature_names_out())\n",
    "tfidf_df"
   ]
  },
  {
   "cell_type": "markdown",
   "id": "d5642f69-afc2-437e-b4dc-e78b8f1112a5",
   "metadata": {},
   "source": [
    "### Let's now classify the StackOverflow documents in their respective corpus label\n",
    "\n",
    "*   The complete corpus: `all_df`\n",
    "\n",
    "*   Let's use the different vectorizers for representation"
   ]
  },
  {
   "cell_type": "code",
   "execution_count": 10,
   "id": "04236c43",
   "metadata": {},
   "outputs": [],
   "source": [
    "ys = all_df.cat_id.values"
   ]
  },
  {
   "cell_type": "code",
   "execution_count": 11,
   "id": "a08f9f72-443a-416a-9537-2f000ce5117d",
   "metadata": {},
   "outputs": [],
   "source": [
    "cv = CountVectorizer(max_features=5000)\n",
    "xs = cv.fit_transform(all_df.text).toarray()"
   ]
  },
  {
   "cell_type": "code",
   "execution_count": 12,
   "id": "7977ca29",
   "metadata": {},
   "outputs": [
    {
     "name": "stdout",
     "output_type": "stream",
     "text": [
      "xs.shape = (14450, 5000)\n",
      "ys.shape = (14450,)\n"
     ]
    }
   ],
   "source": [
    "print(\"xs.shape =\", xs.shape)\n",
    "print(\"ys.shape =\", ys.shape)"
   ]
  },
  {
   "cell_type": "code",
   "execution_count": 13,
   "id": "c757fdd0-615f-415b-8a59-cc4fbabba1c4",
   "metadata": {},
   "outputs": [
    {
     "name": "stdout",
     "output_type": "stream",
     "text": [
      "(10115, 5000)\n",
      "(4335, 5000)\n"
     ]
    }
   ],
   "source": [
    "train_xs, test_xs, train_ys, test_ys = train_test_split(\n",
    "    xs, ys, test_size=0.3, random_state=0, shuffle=True\n",
    ")\n",
    "print(train_xs.shape)\n",
    "print(test_xs.shape)"
   ]
  },
  {
   "cell_type": "markdown",
   "id": "b1f450b8",
   "metadata": {},
   "source": [
    "#### 🚧 TODO: `CountVectorizer` vs. `TfidfVectorizer` classifiers\n",
    "\n",
    "*   Limit to the 5000 most frequent words to reduce the dimensionality\n",
    "\n",
    "    (the sparse matrix `toarray()` method crashes if no reduction of features is applied)\n",
    "\n",
    "*   Use both to classify the data based on, e.g., the `MultinomialNB` classifier\n",
    "\n",
    "*   Compare their results in terms of accuracy and show their `classification_report`"
   ]
  },
  {
   "cell_type": "code",
   "execution_count": 14,
   "id": "818870c6-a838-4cc3-b3de-83fe0281261b",
   "metadata": {},
   "outputs": [
    {
     "name": "stdout",
     "output_type": "stream",
     "text": [
      "The accuracy is 0.974164\n",
      "              precision    recall  f1-score   support\n",
      "\n",
      "           0       0.95      0.99      0.97       420\n",
      "           1       0.97      1.00      0.98       692\n",
      "           2       0.98      0.97      0.98       935\n",
      "           3       0.95      0.97      0.96       709\n",
      "           4       0.98      0.98      0.98      1054\n",
      "           5       1.00      0.93      0.96       525\n",
      "\n",
      "    accuracy                           0.97      4335\n",
      "   macro avg       0.97      0.97      0.97      4335\n",
      "weighted avg       0.97      0.97      0.97      4335\n",
      "\n"
     ]
    }
   ],
   "source": [
    "# Use both to classify the data based\n",
    "\n",
    "# Used on CountVectorizer\n",
    "\n",
    "# Import library\n",
    "# Multinomial Naive bayes\n",
    "from sklearn.naive_bayes import MultinomialNB\n",
    "\n",
    "model = MultinomialNB()\n",
    "model.fit(train_xs,train_ys)\n",
    "ys_pred = model.predict(test_xs)\n",
    "\n",
    "# Compare their results in terms of accuracy\n",
    "from sklearn import metrics\n",
    "accuracy = metrics.accuracy_score(test_ys, ys_pred)\n",
    "print(f'The accuracy is {accuracy:5f}')\n",
    "\n",
    "# Show their classification_report\n",
    "print(metrics.classification_report(test_ys, ys_pred))\n"
   ]
  },
  {
   "cell_type": "code",
   "execution_count": 15,
   "id": "5b0fdec6-83df-41b2-bfee-11c34b052660",
   "metadata": {},
   "outputs": [],
   "source": [
    "# TfidfVectorizer\n",
    "\n",
    "# Limit to the 5000 most frequent words\n",
    "tfidf = TfidfVectorizer(max_features=5000)\n",
    "xs_tf = tfidf.fit_transform(all_df['text'])"
   ]
  },
  {
   "cell_type": "code",
   "execution_count": 16,
   "id": "d2fd3eef-d347-4f2e-b1c3-71fbb51263a7",
   "metadata": {},
   "outputs": [
    {
     "name": "stdout",
     "output_type": "stream",
     "text": [
      "(10115, 5000)\n",
      "(4335, 5000)\n"
     ]
    }
   ],
   "source": [
    "train_xs_tf, test_xs_tf, train_ys_tf, test_ys_tf = train_test_split(\n",
    "    xs_tf, ys, test_size=0.3, random_state=0, shuffle=True\n",
    ")\n",
    "print(train_xs_tf.shape)\n",
    "print(test_xs_tf.shape)"
   ]
  },
  {
   "cell_type": "code",
   "execution_count": 17,
   "id": "5209366c-5d23-4d34-86f9-1765cacbd133",
   "metadata": {},
   "outputs": [
    {
     "name": "stdout",
     "output_type": "stream",
     "text": [
      "The accuracy is 0.974856\n",
      "              precision    recall  f1-score   support\n",
      "\n",
      "           0       0.97      0.96      0.97       420\n",
      "           1       0.97      1.00      0.98       692\n",
      "           2       0.97      0.98      0.98       935\n",
      "           3       0.95      0.97      0.96       709\n",
      "           4       0.98      0.99      0.99      1054\n",
      "           5       1.00      0.93      0.97       525\n",
      "\n",
      "    accuracy                           0.97      4335\n",
      "   macro avg       0.98      0.97      0.97      4335\n",
      "weighted avg       0.98      0.97      0.97      4335\n",
      "\n"
     ]
    }
   ],
   "source": [
    "# Used on TfidfVectorizer\n",
    "\n",
    "model = MultinomialNB()\n",
    "model.fit(train_xs_tf,train_ys_tf)\n",
    "ys_pred_tf = model.predict(test_xs_tf)\n",
    "\n",
    "# Compare their results in terms of accuracy\n",
    "from sklearn import metrics\n",
    "accuracy = metrics.accuracy_score(test_ys_tf, ys_pred_tf)\n",
    "print(f'The accuracy is {accuracy:5f}')\n",
    "\n",
    "# Show their classification_report\n",
    "print(metrics.classification_report(test_ys_tf, ys_pred_tf))"
   ]
  },
  {
   "cell_type": "markdown",
   "id": "ec272d8e",
   "metadata": {},
   "source": [
    "#### 🚧 TODO: `MultinomialNB` vs. `GaussianNB` classifiers\n",
    "\n",
    "*   Use both to classify the data\n",
    "\n",
    "*   Compare their results in terms of accuracy and show their `classification_report`"
   ]
  },
  {
   "cell_type": "code",
   "execution_count": 18,
   "id": "d9522010-03bc-482f-8b5f-cfdebc511d8c",
   "metadata": {},
   "outputs": [],
   "source": [
    "# Gaussian Naive bayes\n",
    "from sklearn.naive_bayes import GaussianNB"
   ]
  },
  {
   "cell_type": "code",
   "execution_count": 19,
   "id": "54a2d60d-5982-4c7d-8c3d-9379d8eccd2f",
   "metadata": {},
   "outputs": [
    {
     "name": "stdout",
     "output_type": "stream",
     "text": [
      "The accuracy is 0.950404\n",
      "              precision    recall  f1-score   support\n",
      "\n",
      "           0       0.91      0.95      0.93       420\n",
      "           1       0.95      0.97      0.96       692\n",
      "           2       0.97      0.95      0.96       935\n",
      "           3       0.92      0.89      0.91       709\n",
      "           4       0.96      0.96      0.96      1054\n",
      "           5       0.98      0.98      0.98       525\n",
      "\n",
      "    accuracy                           0.95      4335\n",
      "   macro avg       0.95      0.95      0.95      4335\n",
      "weighted avg       0.95      0.95      0.95      4335\n",
      "\n"
     ]
    }
   ],
   "source": [
    "# CountVectorizer\n",
    "model = GaussianNB()\n",
    "model.fit(train_xs,train_ys)\n",
    "ys_pred = model.predict(test_xs)\n",
    "\n",
    "# Compare their results in terms of accuracy\n",
    "from sklearn import metrics\n",
    "accuracy = metrics.accuracy_score(test_ys, ys_pred)\n",
    "print(f'The accuracy is {accuracy:5f}')\n",
    "\n",
    "# Show their classification_report\n",
    "print(metrics.classification_report(test_ys, ys_pred))"
   ]
  },
  {
   "cell_type": "code",
   "execution_count": 20,
   "id": "ebb3b852-7743-481c-b55a-5fbe7c837465",
   "metadata": {},
   "outputs": [
    {
     "name": "stdout",
     "output_type": "stream",
     "text": [
      "The accuracy is 0.974856\n",
      "              precision    recall  f1-score   support\n",
      "\n",
      "           0       0.97      0.96      0.97       420\n",
      "           1       0.97      1.00      0.98       692\n",
      "           2       0.97      0.98      0.98       935\n",
      "           3       0.95      0.97      0.96       709\n",
      "           4       0.98      0.99      0.99      1054\n",
      "           5       1.00      0.93      0.97       525\n",
      "\n",
      "    accuracy                           0.97      4335\n",
      "   macro avg       0.98      0.97      0.97      4335\n",
      "weighted avg       0.98      0.97      0.97      4335\n",
      "\n"
     ]
    }
   ],
   "source": [
    "# TfidfVectorizer\n",
    "model = MultinomialNB()\n",
    "model.fit(train_xs_tf,train_ys_tf)\n",
    "ys_pred_tf = model.predict(test_xs_tf)\n",
    "\n",
    "# Compare their results in terms of accuracy\n",
    "from sklearn import metrics\n",
    "accuracy = metrics.accuracy_score(test_ys_tf, ys_pred_tf)\n",
    "print(f'The accuracy is {accuracy:5f}')\n",
    "\n",
    "# Show their classification_report\n",
    "print(metrics.classification_report(test_ys_tf, ys_pred_tf))"
   ]
  },
  {
   "cell_type": "markdown",
   "id": "5d928327-bf23-4554-8f5f-aaee99c74697",
   "metadata": {},
   "source": [
    "#### 🚧 TODO: Confusion matrix for the MultinomialNB classifier\n",
    "\n",
    "- Verify in a confusion matrix that the precision of portuguese is 1.00 and its recall is about 0.93 with the `MultinomialNB` classifier on the Tfidf vectorizer\n",
    "\n",
    "- Translate this result into a sentence"
   ]
  },
  {
   "cell_type": "code",
   "execution_count": 21,
   "id": "9e2059c5-faa1-45c5-a3ae-7159cb53bcc6",
   "metadata": {},
   "outputs": [],
   "source": [
    "# MultinomialNB\n",
    "# 首先确保所有的数据都是用multinpmialNB做出来的\n",
    "model = MultinomialNB()\n",
    "model.fit(train_xs_tf,train_ys_tf)\n",
    "ys_pred_tf = model.predict(test_xs_tf)"
   ]
  },
  {
   "cell_type": "code",
   "execution_count": 22,
   "id": "48c87900-c850-4e76-9e57-fe12f083a478",
   "metadata": {},
   "outputs": [],
   "source": [
    "#\n",
    "# print('Precision: ' + str(precision_score(test_ys,pred_ys, average='weighted')))\n",
    "# print(metrics.confusion_matrix)"
   ]
  },
  {
   "cell_type": "code",
   "execution_count": null,
   "id": "1aa7094e-f59e-4175-beb3-bad9d516d0a8",
   "metadata": {},
   "outputs": [],
   "source": []
  },
  {
   "cell_type": "markdown",
   "id": "53799ca9-8e2d-40b3-8922-6ad4e2ebc0d7",
   "metadata": {},
   "source": [
    "#### 🚧 TODO: add the `stop_words=\"english\"` option to the `tf_idf` vectorizer \n",
    "\n",
    "*   Compare the size of the `sparse_xs` for the 2 conditions (stop words included or not)\n",
    "\n",
    "*   Retrain with the new vectorizer and the MultinomialNB classifier\n",
    "\n",
    "*   Compare the results with the previous vectorizer"
   ]
  },
  {
   "cell_type": "code",
   "execution_count": 23,
   "id": "56c1f60e-310b-4223-b63e-d3d081373cd9",
   "metadata": {},
   "outputs": [],
   "source": [
    "# With stop words\n",
    "tf_idf_stop = TfidfVectorizer(stop_words=\"english\")\n",
    "sparse_xs = tf_idf_stop.fit_transform(all_df.text).toarray()"
   ]
  },
  {
   "cell_type": "code",
   "execution_count": 24,
   "id": "a4db54d1-2208-4d52-abf5-d1b11ddaa8bf",
   "metadata": {},
   "outputs": [
    {
     "name": "stdout",
     "output_type": "stream",
     "text": [
      "(14450, 152763)\n"
     ]
    }
   ],
   "source": [
    "print(sparse_xs.shape)"
   ]
  },
  {
   "cell_type": "code",
   "execution_count": 25,
   "id": "2f0abbee-e103-45c6-9a33-1f88060b4175",
   "metadata": {},
   "outputs": [
    {
     "name": "stdout",
     "output_type": "stream",
     "text": [
      "(14450, 153076)\n"
     ]
    }
   ],
   "source": [
    "# Without stop words\n",
    "tf_idf = TfidfVectorizer()\n",
    "xs_try = tf_idf.fit_transform(all_df.text).toarray()\n",
    "print(xs_try.shape)"
   ]
  },
  {
   "cell_type": "code",
   "execution_count": null,
   "id": "f6451500-ca6b-474f-865e-f91a7ded16fa",
   "metadata": {},
   "outputs": [],
   "source": [
    "# Retrain with the new vectorizer\n",
    "train_xs_tf_stop, test_xs_tf_stop, train_ys_tf_stop, test_ys_tf_stop = train_test_split(\n",
    "    sparse_xs, ys, test_size=0.3, random_state=0, shuffle=True\n",
    ")\n",
    "print(train_xs_tf_stop.shape)\n",
    "print(test_xs_tf_stop.shape)\n",
    "\n",
    "# the MultinomialNB classifier\n",
    "model = MultinomialNB()\n",
    "model.fit(train_xs_tf_stop,train_ys_tf_stop)\n",
    "ys_pred_tf_stop = model.predict(test_xs_tf_stop)"
   ]
  },
  {
   "cell_type": "code",
   "execution_count": null,
   "id": "303187c9-7fcd-469b-9e83-7509ab3759f4",
   "metadata": {},
   "outputs": [],
   "source": [
    "# Compare with the previous vectorizer\n",
    "accuracy = metrics.accuracy_score(test_ys_tf_stop, ys_pred_tf_stop)\n",
    "print(f'The accuracy is {accuracy:5f}')\n",
    "\n",
    "# Show their classification_report\n",
    "print(metrics.classification_report(test_ys_tf_stop, ys_pred_tf_stop))"
   ]
  },
  {
   "cell_type": "markdown",
   "id": "152ccd31",
   "metadata": {},
   "source": [
    "#### 🚧 TODO: PCA\n",
    "\n",
    "*   Apply PCA to project on 2 dimensions to all vectors (train and test) and plot them\n",
    "\n",
    "*   Compare the plot with the previous vectorizer with, and without the `stop_words=\"english\"` option\n",
    "\n",
    "*   Explain the difference breafly"
   ]
  },
  {
   "cell_type": "code",
   "execution_count": null,
   "id": "fd3f8f2d-2cd9-45b7-b4ef-94ffd6d9ca02",
   "metadata": {},
   "outputs": [],
   "source": []
  },
  {
   "cell_type": "markdown",
   "id": "60441db7",
   "metadata": {},
   "source": [
    "#### 🚧 TODO: Train on PCA\n",
    "\n",
    "*   Apply PCA to project on 2 dimensions to all vectors (train and test), fitting the PCA only on the training set\n",
    "\n",
    "*   Train the MultinomialNB and the GaussianNB classifiers on the PCA vectors\n",
    "\n",
    "    Does it work with both classifiers? Explain breafly.\n",
    "\n",
    "*   Compare the results with the vectorizer with, and without, the `stop_words=\"english\"` option\n",
    "\n",
    "*   Analyze the difference breafly"
   ]
  },
  {
   "cell_type": "code",
   "execution_count": null,
   "id": "abc7d2e3-59da-42cb-b5a6-548b6d9acf3e",
   "metadata": {},
   "outputs": [],
   "source": []
  },
  {
   "cell_type": "markdown",
   "id": "b9dada15-875a-4aea-8d31-01011ef6662b",
   "metadata": {},
   "source": [
    "#### 🚧 TODO: PCA with more dimensions\n",
    "\n",
    "*   Try to find the best number of dimensions for the PCA with [`GridSearchCV`](sklearn.model_selection.GridSearchCV)\n",
    "\n",
    "*   Use pipeline to combine the PCA and the classifier and other potential preprocessing steps\n",
    "\n",
    "*   Boxplot accuracyies for different PCA dimension values using "
   ]
  },
  {
   "cell_type": "code",
   "execution_count": null,
   "id": "da92eaf5-053f-43a3-9c7d-aa0cac7debbe",
   "metadata": {},
   "outputs": [],
   "source": []
  },
  {
   "cell_type": "markdown",
   "id": "4874beb9-408c-467f-9a26-9c6e39c4c678",
   "metadata": {},
   "source": [
    "## N-grams features for text classification\n",
    "\n",
    "*   We will use bigram in this section"
   ]
  },
  {
   "cell_type": "code",
   "execution_count": null,
   "id": "06ffb414-1b14-439f-9f1b-857fc3736956",
   "metadata": {},
   "outputs": [],
   "source": [
    "vectorizer_2g = CountVectorizer(\n",
    "    analyzer=\"word\", ngram_range=(2, 2), max_features=5000,\n",
    ")\n",
    "x2gs = vectorizer_2g.fit_transform(all_df.text).toarray()"
   ]
  },
  {
   "cell_type": "code",
   "execution_count": null,
   "id": "4ad83427-2c40-448c-a68b-2e67af18c439",
   "metadata": {},
   "outputs": [],
   "source": [
    "pd.DataFrame(vectorizer_2g.get_feature_names_out(), columns=[\"bigrams\"])"
   ]
  },
  {
   "cell_type": "code",
   "execution_count": null,
   "id": "4ffc1cd1-36a2-41e4-9d6a-9e51a550e6a3",
   "metadata": {},
   "outputs": [],
   "source": [
    "train_xs, test_xs, train_ys, test_ys = train_test_split(\n",
    "    x2gs, ys, test_size=0.3, random_state=0, shuffle=True\n",
    ")\n",
    "print(train_xs.shape)\n",
    "print(test_xs.shape)"
   ]
  },
  {
   "cell_type": "markdown",
   "id": "4e1f0bbd",
   "metadata": {},
   "source": [
    "#### 🚧 TODO: Train classification models on n-grams\n",
    "\n",
    "*   Train on the `CountVectorizer` with ngrams using the `MultinomialNB` classifier\n",
    "\n",
    "*   Compare the results with the previous \"raw\" `CountVectorizer`"
   ]
  },
  {
   "cell_type": "markdown",
   "id": "8c71a315-40b6-4739-bb20-a6a6a3724c7c",
   "metadata": {},
   "source": [
    "---\n",
    "## Building an n-gram generator\n",
    "___"
   ]
  },
  {
   "cell_type": "markdown",
   "id": "549f111f-d2ae-4ee4-bb99-689b2dd8ec68",
   "metadata": {},
   "source": [
    "### Let's build character trigrams first"
   ]
  },
  {
   "cell_type": "code",
   "execution_count": null,
   "id": "7042cea6-8886-4bc1-b824-75a84de70b75",
   "metadata": {},
   "outputs": [],
   "source": [
    "LINE = \"This is cool!\"\n",
    "N = 3\n",
    "[LINE[i : i + N] for i in range(len(LINE) - N + 1)]"
   ]
  },
  {
   "cell_type": "code",
   "execution_count": null,
   "id": "2c7d6a3b-6032-498d-8317-2091c402c5e5",
   "metadata": {},
   "outputs": [],
   "source": [
    "[tuple(LINE[i : i + N]) for i in range(len(LINE) - N + 1)]"
   ]
  },
  {
   "cell_type": "code",
   "execution_count": null,
   "id": "61fa1606-e4c9-448d-b6a8-bf6d06339a71",
   "metadata": {},
   "outputs": [],
   "source": [
    "LINES = \"\"\"This is cool!\n",
    "This is amazing!\n",
    "But why is this his fish?\"\"\"\n",
    "\n",
    "re.split(\"\\n+\", LINES.lower())"
   ]
  },
  {
   "cell_type": "code",
   "execution_count": null,
   "id": "83ac1be4-fb00-451a-a4ec-e402e6e7fd97",
   "metadata": {},
   "outputs": [],
   "source": [
    "ngrams = collections.Counter()\n",
    "\n",
    "for line in re.split(\"\\n+\", LINES.lower()):\n",
    "    ngrams.update([line[i : i + N] for i in range(len(line) - N + 1)])\n",
    "\n",
    "nc_df = pd.DataFrame.from_dict(\n",
    "    ngrams, orient=\"index\", columns=[\"freq\"]\n",
    ").sort_values(\"freq\", ascending=False)\n",
    "\n",
    "nc_df.head(7)"
   ]
  },
  {
   "cell_type": "markdown",
   "id": "ca11b3ea-589e-4f1b-840f-67c386a0edb3",
   "metadata": {},
   "source": [
    "### Back to our corpora"
   ]
  },
  {
   "cell_type": "markdown",
   "id": "edda40e8",
   "metadata": {},
   "source": [
    "#### 🚧 TODO: Build an ngram generator for the `\"woodworking\"` corpus\n",
    "\n",
    "*   Tokenize the corpus first with `nltk.word_tokenize`\n",
    "\n",
    "*   Normalize the tokens by simply simply lowercasing them\n",
    "\n",
    "*   Give the tokens frequency to the ngram generator"
   ]
  },
  {
   "cell_type": "code",
   "execution_count": null,
   "id": "8b4d2af9-32ff-4e0b-abe1-ad70b29c5685",
   "metadata": {},
   "outputs": [],
   "source": [
    "wood_df = all_df[all_df.category == \"woodworking\"]\n",
    "wood_df.head()"
   ]
  },
  {
   "cell_type": "code",
   "execution_count": null,
   "id": "74899092-8c6d-432a-bb04-eaf2c104b2e7",
   "metadata": {},
   "outputs": [],
   "source": [
    "wood_txt = wood_df.iloc[0].text\n",
    "print(wood_txt[:333])"
   ]
  },
  {
   "cell_type": "markdown",
   "id": "d59f8833",
   "metadata": {},
   "source": [
    "#### 🚧 TODO: Text generation with ngrams\n",
    "\n",
    "*   Generate a text of words until a stop word is generated (`.`)\n",
    "\n",
    "*   Assign a probability to each ngrams based on their frequency\n",
    "\n",
    "*   Sample from the ngrams based on their probability\n",
    "\n",
    "*   Try different starting words (use bigrams)\n",
    "\n",
    " *Note:* [`default_rng`](https://numpy.org/doc/stable/reference/random/generator.html#numpy.random.default_rng) is the recommended constructor for random number generation in NumPy."
   ]
  },
  {
   "cell_type": "markdown",
   "id": "ca86525f-c78b-465b-bcc8-7f281bfd6176",
   "metadata": {},
   "source": [
    "### TODO (optional): Improve this algorithm\n",
    "\n",
    "- Try to fix some possible issues, by handeling exceptions\n",
    "\n",
    "- Improve the output spacing (no space before comma, etc.) and maybe handle the upper case\n",
    "\n",
    "- Try on a different domain of our corpus"
   ]
  },
  {
   "cell_type": "markdown",
   "id": "1d850e54-f593-4be9-967b-fffd88423ed9",
   "metadata": {},
   "source": [
    "---"
   ]
  }
 ],
 "metadata": {
  "kernelspec": {
   "display_name": "Python 3 (ipykernel)",
   "language": "python",
   "name": "python3"
  },
  "language_info": {
   "codemirror_mode": {
    "name": "ipython",
    "version": 3
   },
   "file_extension": ".py",
   "mimetype": "text/x-python",
   "name": "python",
   "nbconvert_exporter": "python",
   "pygments_lexer": "ipython3",
   "version": "3.10.8"
  },
  "vscode": {
   "interpreter": {
    "hash": "09de49be0f1a3fc16ad182c7831a4ec7541eb2056b05e1cb8bc46f2102d16c60"
   }
  }
 },
 "nbformat": 4,
 "nbformat_minor": 5
}
