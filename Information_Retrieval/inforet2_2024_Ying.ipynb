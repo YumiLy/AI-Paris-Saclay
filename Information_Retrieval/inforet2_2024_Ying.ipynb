{
  "cells": [
    {
      "cell_type": "markdown",
      "id": "32e02f0b-7db2-4aa4-897c-55c388331127",
      "metadata": {
        "id": "32e02f0b-7db2-4aa4-897c-55c388331127"
      },
      "source": [
        "# inforet 2"
      ]
    },
    {
      "cell_type": "code",
      "source": [
        "# 授权访问colab\n",
        "from google.colab import drive\n",
        "drive.mount('/content/drive')"
      ],
      "metadata": {
        "id": "Kwln64vyHMKN",
        "colab": {
          "base_uri": "https://localhost:8080/"
        },
        "outputId": "00ef5cb2-691a-4be4-fbbf-c4837515d4b4"
      },
      "id": "Kwln64vyHMKN",
      "execution_count": 1,
      "outputs": [
        {
          "output_type": "stream",
          "name": "stdout",
          "text": [
            "Mounted at /content/drive\n"
          ]
        }
      ]
    },
    {
      "cell_type": "code",
      "execution_count": null,
      "id": "c2e54178-39dc-4056-b037-9b486a7bdaa2",
      "metadata": {
        "colab": {
          "base_uri": "https://localhost:8080/"
        },
        "id": "c2e54178-39dc-4056-b037-9b486a7bdaa2",
        "outputId": "e1aa579d-c78c-4a0a-d020-412ea40529fa"
      },
      "outputs": [
        {
          "output_type": "stream",
          "name": "stdout",
          "text": [
            "--2024-03-17 13:29:43--  https://gerdes.fr/saclay/informationRetrieval/our_msmarco.zip\n",
            "Resolving gerdes.fr (gerdes.fr)... 91.121.110.116\n",
            "Connecting to gerdes.fr (gerdes.fr)|91.121.110.116|:443... connected.\n",
            "HTTP request sent, awaiting response... 200 OK\n",
            "Length: 458004951 (437M) [application/zip]\n",
            "Saving to: ‘/content/drive/MyDrive/our_msmarco.zip’\n",
            "\n",
            "/content/drive/MyDr 100%[===================>] 436.79M  11.2MB/s    in 39s     \n",
            "\n",
            "2024-03-17 13:30:22 (11.2 MB/s) - ‘/content/drive/MyDrive/our_msmarco.zip’ saved [458004951/458004951]\n",
            "\n"
          ]
        }
      ],
      "source": [
        "# no time to lose:\n",
        "!wget https://gerdes.fr/saclay/informationRetrieval/our_msmarco.zip -O /content/drive/MyDrive/our_msmarco.zip\n",
        "# this will be big: 1.2gb!\n",
        "# you will get three files"
      ]
    },
    {
      "cell_type": "code",
      "execution_count": 2,
      "id": "6fdbacdd-e2f1-487c-843c-8ec3c674b426",
      "metadata": {
        "colab": {
          "base_uri": "https://localhost:8080/"
        },
        "id": "6fdbacdd-e2f1-487c-843c-8ec3c674b426",
        "outputId": "d1e65e19-02d3-4312-9d4e-846d9d4ab05a"
      },
      "outputs": [
        {
          "output_type": "stream",
          "name": "stdout",
          "text": [
            "Archive:  /content/drive/MyDrive/our_msmarco.zip\n",
            "  inflating: /content/our_msmarco/our.msmarco.docs.tsv  \n",
            "  inflating: /content/our_msmarco/our.msmarco.queries.tsv  \n",
            "  inflating: /content/our_msmarco/our.msmarco.gold.tsv  \n"
          ]
        }
      ],
      "source": [
        "!unzip /content/drive/MyDrive/our_msmarco.zip -d /content/our_msmarco"
      ]
    },
    {
      "cell_type": "code",
      "execution_count": null,
      "id": "374aee63-9d24-4f05-9a7f-c47c4d60bdb9",
      "metadata": {
        "id": "374aee63-9d24-4f05-9a7f-c47c4d60bdb9"
      },
      "outputs": [],
      "source": []
    },
    {
      "cell_type": "code",
      "execution_count": 3,
      "id": "cf60877b-7250-493a-93aa-b41d8c3b91e1",
      "metadata": {
        "colab": {
          "base_uri": "https://localhost:8080/"
        },
        "id": "cf60877b-7250-493a-93aa-b41d8c3b91e1",
        "outputId": "72496d1e-40f7-4543-9f4c-6105224dcf69"
      },
      "outputs": [
        {
          "output_type": "stream",
          "name": "stdout",
          "text": [
            "Collecting ipython-autotime\n",
            "  Downloading ipython_autotime-0.3.2-py2.py3-none-any.whl (7.0 kB)\n",
            "Requirement already satisfied: ipython in /usr/local/lib/python3.10/dist-packages (from ipython-autotime) (7.34.0)\n",
            "Requirement already satisfied: setuptools>=18.5 in /usr/local/lib/python3.10/dist-packages (from ipython->ipython-autotime) (67.7.2)\n",
            "Collecting jedi>=0.16 (from ipython->ipython-autotime)\n",
            "  Downloading jedi-0.19.1-py2.py3-none-any.whl (1.6 MB)\n",
            "\u001b[2K     \u001b[90m━━━━━━━━━━━━━━━━━━━━━━━━━━━━━━━━━━━━━━━━\u001b[0m \u001b[32m1.6/1.6 MB\u001b[0m \u001b[31m15.0 MB/s\u001b[0m eta \u001b[36m0:00:00\u001b[0m\n",
            "\u001b[?25hRequirement already satisfied: decorator in /usr/local/lib/python3.10/dist-packages (from ipython->ipython-autotime) (4.4.2)\n",
            "Requirement already satisfied: pickleshare in /usr/local/lib/python3.10/dist-packages (from ipython->ipython-autotime) (0.7.5)\n",
            "Requirement already satisfied: traitlets>=4.2 in /usr/local/lib/python3.10/dist-packages (from ipython->ipython-autotime) (5.7.1)\n",
            "Requirement already satisfied: prompt-toolkit!=3.0.0,!=3.0.1,<3.1.0,>=2.0.0 in /usr/local/lib/python3.10/dist-packages (from ipython->ipython-autotime) (3.0.43)\n",
            "Requirement already satisfied: pygments in /usr/local/lib/python3.10/dist-packages (from ipython->ipython-autotime) (2.16.1)\n",
            "Requirement already satisfied: backcall in /usr/local/lib/python3.10/dist-packages (from ipython->ipython-autotime) (0.2.0)\n",
            "Requirement already satisfied: matplotlib-inline in /usr/local/lib/python3.10/dist-packages (from ipython->ipython-autotime) (0.1.6)\n",
            "Requirement already satisfied: pexpect>4.3 in /usr/local/lib/python3.10/dist-packages (from ipython->ipython-autotime) (4.9.0)\n",
            "Requirement already satisfied: parso<0.9.0,>=0.8.3 in /usr/local/lib/python3.10/dist-packages (from jedi>=0.16->ipython->ipython-autotime) (0.8.3)\n",
            "Requirement already satisfied: ptyprocess>=0.5 in /usr/local/lib/python3.10/dist-packages (from pexpect>4.3->ipython->ipython-autotime) (0.7.0)\n",
            "Requirement already satisfied: wcwidth in /usr/local/lib/python3.10/dist-packages (from prompt-toolkit!=3.0.0,!=3.0.1,<3.1.0,>=2.0.0->ipython->ipython-autotime) (0.2.13)\n",
            "Installing collected packages: jedi, ipython-autotime\n",
            "Successfully installed ipython-autotime-0.3.2 jedi-0.19.1\n",
            "time: 453 µs (started: 2024-03-26 23:01:25 +00:00)\n"
          ]
        }
      ],
      "source": [
        "# this turns on the autotimer, so that every cell has a timing information below\n",
        "try:\n",
        "    %load_ext autotime\n",
        "except:\n",
        "    !pip install ipython-autotime\n",
        "    %load_ext autotime\n",
        "# stop using:\n",
        "# %unload_ext autotime\n",
        "# !pip install sklearn\n",
        "# I delete \"!pip install sklearn\", because I encountered the problem:\n",
        "  #  Downloading sklearn-0.0.post12.tar.gz (2.6 kB)\n",
        "  #  error: subprocess-exited-with-error\n"
      ]
    },
    {
      "cell_type": "code",
      "execution_count": 4,
      "id": "ff253cc3-8b08-490c-b946-3e6ff3104da0",
      "metadata": {
        "colab": {
          "base_uri": "https://localhost:8080/"
        },
        "id": "ff253cc3-8b08-490c-b946-3e6ff3104da0",
        "outputId": "4bf2f2d1-ac9b-48ee-8319-8967a6d3beab"
      },
      "outputs": [
        {
          "output_type": "stream",
          "name": "stdout",
          "text": [
            "Requirement already satisfied: scikit-learn in /usr/local/lib/python3.10/dist-packages (1.2.2)\n",
            "Requirement already satisfied: numpy>=1.17.3 in /usr/local/lib/python3.10/dist-packages (from scikit-learn) (1.25.2)\n",
            "Requirement already satisfied: scipy>=1.3.2 in /usr/local/lib/python3.10/dist-packages (from scikit-learn) (1.11.4)\n",
            "Requirement already satisfied: joblib>=1.1.1 in /usr/local/lib/python3.10/dist-packages (from scikit-learn) (1.3.2)\n",
            "Requirement already satisfied: threadpoolctl>=2.0.0 in /usr/local/lib/python3.10/dist-packages (from scikit-learn) (3.3.0)\n",
            "time: 7.65 s (started: 2024-03-26 23:01:25 +00:00)\n"
          ]
        }
      ],
      "source": [
        "!pip install scikit-learn\n",
        "import re\n",
        "import numpy as np\n",
        "import matplotlib.pyplot as plt\n",
        "import pandas as pd\n",
        "import seaborn as sns\n",
        "from collections import Counter\n",
        "from tqdm.notebook import tqdm\n",
        "#from sklearn.feature_extraction.text import CountVectorizer\n",
        "import dask.dataframe as dd"
      ]
    },
    {
      "cell_type": "markdown",
      "id": "c2323687-17ad-497d-ae5f-6f38ad388d4f",
      "metadata": {
        "id": "c2323687-17ad-497d-ae5f-6f38ad388d4f"
      },
      "source": [
        "## our dataset\n",
        "\n",
        "- \"TREC stands for the Text Retrieval Conference. Started in 1992 it is a series of workshops that focus on supporting research within the information retrieval community. It provides the infrastructure necessary for large-scale evaluation of text retrieval methodologies. Every year these workshops are organized, which are centered around a set of tracks. These tracks encourage new researches in the area of information retrieval.\"\n",
        "- TREC 2019 Deep Learning Track https://microsoft.github.io/msmarco/TREC-Deep-Learning-2019\n",
        "- data from MS-Marco https://microsoft.github.io/msmarco/\n",
        "- The dataset contains  367k queries and a corpus of 3.2 million documents.\n",
        "___\n",
        "- if you want to reproduce my selection or get a bigger set, uncomment and execute\n"
      ]
    },
    {
      "cell_type": "code",
      "execution_count": null,
      "id": "0574215f-73a5-4d1a-96b3-ba4dc8314f12",
      "metadata": {
        "colab": {
          "base_uri": "https://localhost:8080/"
        },
        "id": "0574215f-73a5-4d1a-96b3-ba4dc8314f12",
        "outputId": "fc83aabb-0665-475d-b6da-c408337970e1"
      },
      "outputs": [
        {
          "output_type": "stream",
          "name": "stdout",
          "text": [
            "--2024-03-15 13:06:43--  https://msmarco.blob.core.windows.net/msmarcoranking/msmarco-docs.tsv.gz\n",
            "Resolving msmarco.blob.core.windows.net (msmarco.blob.core.windows.net)... 20.150.34.4\n",
            "Connecting to msmarco.blob.core.windows.net (msmarco.blob.core.windows.net)|20.150.34.4|:443... connected.\n",
            "HTTP request sent, awaiting response... 404 The specified resource does not exist.\n",
            "2024-03-15 13:06:43 ERROR 404: The specified resource does not exist..\n",
            "\n",
            "--2024-03-15 13:06:43--  https://msmarco.blob.core.windows.net/msmarcoranking/msmarco-doctrain-queries.tsv.gz\n",
            "Resolving msmarco.blob.core.windows.net (msmarco.blob.core.windows.net)... 20.150.34.4\n",
            "Connecting to msmarco.blob.core.windows.net (msmarco.blob.core.windows.net)|20.150.34.4|:443... connected.\n",
            "HTTP request sent, awaiting response... 404 The specified resource does not exist.\n",
            "2024-03-15 13:06:44 ERROR 404: The specified resource does not exist..\n",
            "\n",
            "--2024-03-15 13:06:44--  https://msmarco.blob.core.windows.net/msmarcoranking/msmarco-doctrain-top100.gz\n",
            "Resolving msmarco.blob.core.windows.net (msmarco.blob.core.windows.net)... 20.150.34.4\n",
            "Connecting to msmarco.blob.core.windows.net (msmarco.blob.core.windows.net)|20.150.34.4|:443... connected.\n",
            "HTTP request sent, awaiting response... 404 The specified resource does not exist.\n",
            "2024-03-15 13:06:45 ERROR 404: The specified resource does not exist..\n",
            "\n",
            "time: 2.17 s (started: 2024-03-15 13:06:43 +00:00)\n"
          ]
        }
      ],
      "source": [
        "\n",
        "# !wget https://msmarco.blob.core.windows.net/msmarcoranking/msmarco-docs.tsv.gz -O /content/drive/MyDrive/msmarco-docs.tsv.gz\n",
        "# !wget https://msmarco.blob.core.windows.net/msmarcoranking/msmarco-doctrain-queries.tsv.gz -O /content/drive/MyDrive/msmarco-doctrain-queries.tsv.gz\n",
        "# !wget https://msmarco.blob.core.windows.net/msmarcoranking/msmarco-doctrain-top100.gz -O /content/drive/MyDrive/msmarco-doctrain-top100.gz\n"
      ]
    },
    {
      "cell_type": "code",
      "source": [
        "# !gzip -d /content/drive/MyDrive/msmarco-docs.tsv.gz\n",
        "# !gzip -d /content/drive/MyDrive/msmarco-doctrain-queries.tsv.gz\n",
        "# !gzip -d /content/drive/MyDrive/msmarco-doctrain-top100.gz\n"
      ],
      "metadata": {
        "colab": {
          "base_uri": "https://localhost:8080/"
        },
        "id": "8issXzwjOMDC",
        "outputId": "312a51f7-2259-45f0-cde6-ba0e916dab1d"
      },
      "id": "8issXzwjOMDC",
      "execution_count": null,
      "outputs": [
        {
          "output_type": "stream",
          "name": "stdout",
          "text": [
            "\n",
            "gzip: /content/drive/MyDrive/msmarco-docs.tsv.gz: unexpected end of file\n",
            "\n",
            "gzip: /content/drive/MyDrive/msmarco-doctrain-queries.tsv.gz: unexpected end of file\n",
            "\n",
            "gzip: /content/drive/MyDrive/msmarco-doctrain-top100.gz: unexpected end of file\n",
            "time: 323 ms (started: 2024-03-15 13:07:13 +00:00)\n"
          ]
        }
      ]
    },
    {
      "cell_type": "markdown",
      "id": "58b288fe-2788-4f9f-983e-07816431ea12",
      "metadata": {
        "id": "58b288fe-2788-4f9f-983e-07816431ea12"
      },
      "source": [
        "## skip to the section \"reading in our smaller files\"\n",
        "\n",
        "come back here if you want to understand how to reduce the dataset or you want to build your own dataset"
      ]
    },
    {
      "cell_type": "markdown",
      "id": "961fd674-6b24-43da-9d92-19e589506666",
      "metadata": {
        "id": "961fd674-6b24-43da-9d92-19e589506666"
      },
      "source": [
        "- we have three datasets:\n",
        "    \n",
        "    1. the queries: msmarco-doctrain-queries.tsv\n",
        "    2. the gold: msmarco-doctrain-top100.tsv is a table containing query_id, doc_id and rank\n",
        "    3. the actual documents: msmarco-docs.tsv 21GB of text! doc_id, url, title, text"
      ]
    },
    {
      "cell_type": "code",
      "source": [
        "import os\n",
        "os.chdir('/content/drive/MyDrive/')"
      ],
      "metadata": {
        "colab": {
          "base_uri": "https://localhost:8080/"
        },
        "id": "H5INqpn0KBno",
        "outputId": "02bcd5c2-ab06-48e8-e2a1-5c22f3834a62"
      },
      "id": "H5INqpn0KBno",
      "execution_count": null,
      "outputs": [
        {
          "output_type": "stream",
          "name": "stdout",
          "text": [
            "time: 809 µs (started: 2024-03-22 12:03:07 +00:00)\n"
          ]
        }
      ]
    },
    {
      "cell_type": "code",
      "execution_count": null,
      "id": "98275be5-2f98-486d-80ae-0d775f1dcbd6",
      "metadata": {
        "colab": {
          "base_uri": "https://localhost:8080/",
          "height": 242
        },
        "id": "98275be5-2f98-486d-80ae-0d775f1dcbd6",
        "outputId": "4094194b-0055-45a0-d93c-27bbd60b74c8"
      },
      "outputs": [
        {
          "output_type": "stream",
          "name": "stdout",
          "text": [
            "Shape=> (367013, 2)\n"
          ]
        },
        {
          "output_type": "execute_result",
          "data": {
            "text/plain": [
              "       qid                                              query\n",
              "0  1185869  )what was the immediate impact of the success ...\n",
              "1  1185868  _________ justice is designed to repair the ha...\n",
              "2  1183785                                     elegxo meaning\n",
              "3   645590                     what does physical medicine do\n",
              "4   186154         feeding rice cereal how many times per day"
            ],
            "text/html": [
              "\n",
              "  <div id=\"df-9f9ff491-f4f2-47b3-960f-82831900a1c1\" class=\"colab-df-container\">\n",
              "    <div>\n",
              "<style scoped>\n",
              "    .dataframe tbody tr th:only-of-type {\n",
              "        vertical-align: middle;\n",
              "    }\n",
              "\n",
              "    .dataframe tbody tr th {\n",
              "        vertical-align: top;\n",
              "    }\n",
              "\n",
              "    .dataframe thead th {\n",
              "        text-align: right;\n",
              "    }\n",
              "</style>\n",
              "<table border=\"1\" class=\"dataframe\">\n",
              "  <thead>\n",
              "    <tr style=\"text-align: right;\">\n",
              "      <th></th>\n",
              "      <th>qid</th>\n",
              "      <th>query</th>\n",
              "    </tr>\n",
              "  </thead>\n",
              "  <tbody>\n",
              "    <tr>\n",
              "      <th>0</th>\n",
              "      <td>1185869</td>\n",
              "      <td>)what was the immediate impact of the success ...</td>\n",
              "    </tr>\n",
              "    <tr>\n",
              "      <th>1</th>\n",
              "      <td>1185868</td>\n",
              "      <td>_________ justice is designed to repair the ha...</td>\n",
              "    </tr>\n",
              "    <tr>\n",
              "      <th>2</th>\n",
              "      <td>1183785</td>\n",
              "      <td>elegxo meaning</td>\n",
              "    </tr>\n",
              "    <tr>\n",
              "      <th>3</th>\n",
              "      <td>645590</td>\n",
              "      <td>what does physical medicine do</td>\n",
              "    </tr>\n",
              "    <tr>\n",
              "      <th>4</th>\n",
              "      <td>186154</td>\n",
              "      <td>feeding rice cereal how many times per day</td>\n",
              "    </tr>\n",
              "  </tbody>\n",
              "</table>\n",
              "</div>\n",
              "    <div class=\"colab-df-buttons\">\n",
              "\n",
              "  <div class=\"colab-df-container\">\n",
              "    <button class=\"colab-df-convert\" onclick=\"convertToInteractive('df-9f9ff491-f4f2-47b3-960f-82831900a1c1')\"\n",
              "            title=\"Convert this dataframe to an interactive table.\"\n",
              "            style=\"display:none;\">\n",
              "\n",
              "  <svg xmlns=\"http://www.w3.org/2000/svg\" height=\"24px\" viewBox=\"0 -960 960 960\">\n",
              "    <path d=\"M120-120v-720h720v720H120Zm60-500h600v-160H180v160Zm220 220h160v-160H400v160Zm0 220h160v-160H400v160ZM180-400h160v-160H180v160Zm440 0h160v-160H620v160ZM180-180h160v-160H180v160Zm440 0h160v-160H620v160Z\"/>\n",
              "  </svg>\n",
              "    </button>\n",
              "\n",
              "  <style>\n",
              "    .colab-df-container {\n",
              "      display:flex;\n",
              "      gap: 12px;\n",
              "    }\n",
              "\n",
              "    .colab-df-convert {\n",
              "      background-color: #E8F0FE;\n",
              "      border: none;\n",
              "      border-radius: 50%;\n",
              "      cursor: pointer;\n",
              "      display: none;\n",
              "      fill: #1967D2;\n",
              "      height: 32px;\n",
              "      padding: 0 0 0 0;\n",
              "      width: 32px;\n",
              "    }\n",
              "\n",
              "    .colab-df-convert:hover {\n",
              "      background-color: #E2EBFA;\n",
              "      box-shadow: 0px 1px 2px rgba(60, 64, 67, 0.3), 0px 1px 3px 1px rgba(60, 64, 67, 0.15);\n",
              "      fill: #174EA6;\n",
              "    }\n",
              "\n",
              "    .colab-df-buttons div {\n",
              "      margin-bottom: 4px;\n",
              "    }\n",
              "\n",
              "    [theme=dark] .colab-df-convert {\n",
              "      background-color: #3B4455;\n",
              "      fill: #D2E3FC;\n",
              "    }\n",
              "\n",
              "    [theme=dark] .colab-df-convert:hover {\n",
              "      background-color: #434B5C;\n",
              "      box-shadow: 0px 1px 3px 1px rgba(0, 0, 0, 0.15);\n",
              "      filter: drop-shadow(0px 1px 2px rgba(0, 0, 0, 0.3));\n",
              "      fill: #FFFFFF;\n",
              "    }\n",
              "  </style>\n",
              "\n",
              "    <script>\n",
              "      const buttonEl =\n",
              "        document.querySelector('#df-9f9ff491-f4f2-47b3-960f-82831900a1c1 button.colab-df-convert');\n",
              "      buttonEl.style.display =\n",
              "        google.colab.kernel.accessAllowed ? 'block' : 'none';\n",
              "\n",
              "      async function convertToInteractive(key) {\n",
              "        const element = document.querySelector('#df-9f9ff491-f4f2-47b3-960f-82831900a1c1');\n",
              "        const dataTable =\n",
              "          await google.colab.kernel.invokeFunction('convertToInteractive',\n",
              "                                                    [key], {});\n",
              "        if (!dataTable) return;\n",
              "\n",
              "        const docLinkHtml = 'Like what you see? Visit the ' +\n",
              "          '<a target=\"_blank\" href=https://colab.research.google.com/notebooks/data_table.ipynb>data table notebook</a>'\n",
              "          + ' to learn more about interactive tables.';\n",
              "        element.innerHTML = '';\n",
              "        dataTable['output_type'] = 'display_data';\n",
              "        await google.colab.output.renderOutput(dataTable, element);\n",
              "        const docLink = document.createElement('div');\n",
              "        docLink.innerHTML = docLinkHtml;\n",
              "        element.appendChild(docLink);\n",
              "      }\n",
              "    </script>\n",
              "  </div>\n",
              "\n",
              "\n",
              "<div id=\"df-d198b21c-483b-4e66-9ea0-3102888a4e09\">\n",
              "  <button class=\"colab-df-quickchart\" onclick=\"quickchart('df-d198b21c-483b-4e66-9ea0-3102888a4e09')\"\n",
              "            title=\"Suggest charts\"\n",
              "            style=\"display:none;\">\n",
              "\n",
              "<svg xmlns=\"http://www.w3.org/2000/svg\" height=\"24px\"viewBox=\"0 0 24 24\"\n",
              "     width=\"24px\">\n",
              "    <g>\n",
              "        <path d=\"M19 3H5c-1.1 0-2 .9-2 2v14c0 1.1.9 2 2 2h14c1.1 0 2-.9 2-2V5c0-1.1-.9-2-2-2zM9 17H7v-7h2v7zm4 0h-2V7h2v10zm4 0h-2v-4h2v4z\"/>\n",
              "    </g>\n",
              "</svg>\n",
              "  </button>\n",
              "\n",
              "<style>\n",
              "  .colab-df-quickchart {\n",
              "      --bg-color: #E8F0FE;\n",
              "      --fill-color: #1967D2;\n",
              "      --hover-bg-color: #E2EBFA;\n",
              "      --hover-fill-color: #174EA6;\n",
              "      --disabled-fill-color: #AAA;\n",
              "      --disabled-bg-color: #DDD;\n",
              "  }\n",
              "\n",
              "  [theme=dark] .colab-df-quickchart {\n",
              "      --bg-color: #3B4455;\n",
              "      --fill-color: #D2E3FC;\n",
              "      --hover-bg-color: #434B5C;\n",
              "      --hover-fill-color: #FFFFFF;\n",
              "      --disabled-bg-color: #3B4455;\n",
              "      --disabled-fill-color: #666;\n",
              "  }\n",
              "\n",
              "  .colab-df-quickchart {\n",
              "    background-color: var(--bg-color);\n",
              "    border: none;\n",
              "    border-radius: 50%;\n",
              "    cursor: pointer;\n",
              "    display: none;\n",
              "    fill: var(--fill-color);\n",
              "    height: 32px;\n",
              "    padding: 0;\n",
              "    width: 32px;\n",
              "  }\n",
              "\n",
              "  .colab-df-quickchart:hover {\n",
              "    background-color: var(--hover-bg-color);\n",
              "    box-shadow: 0 1px 2px rgba(60, 64, 67, 0.3), 0 1px 3px 1px rgba(60, 64, 67, 0.15);\n",
              "    fill: var(--button-hover-fill-color);\n",
              "  }\n",
              "\n",
              "  .colab-df-quickchart-complete:disabled,\n",
              "  .colab-df-quickchart-complete:disabled:hover {\n",
              "    background-color: var(--disabled-bg-color);\n",
              "    fill: var(--disabled-fill-color);\n",
              "    box-shadow: none;\n",
              "  }\n",
              "\n",
              "  .colab-df-spinner {\n",
              "    border: 2px solid var(--fill-color);\n",
              "    border-color: transparent;\n",
              "    border-bottom-color: var(--fill-color);\n",
              "    animation:\n",
              "      spin 1s steps(1) infinite;\n",
              "  }\n",
              "\n",
              "  @keyframes spin {\n",
              "    0% {\n",
              "      border-color: transparent;\n",
              "      border-bottom-color: var(--fill-color);\n",
              "      border-left-color: var(--fill-color);\n",
              "    }\n",
              "    20% {\n",
              "      border-color: transparent;\n",
              "      border-left-color: var(--fill-color);\n",
              "      border-top-color: var(--fill-color);\n",
              "    }\n",
              "    30% {\n",
              "      border-color: transparent;\n",
              "      border-left-color: var(--fill-color);\n",
              "      border-top-color: var(--fill-color);\n",
              "      border-right-color: var(--fill-color);\n",
              "    }\n",
              "    40% {\n",
              "      border-color: transparent;\n",
              "      border-right-color: var(--fill-color);\n",
              "      border-top-color: var(--fill-color);\n",
              "    }\n",
              "    60% {\n",
              "      border-color: transparent;\n",
              "      border-right-color: var(--fill-color);\n",
              "    }\n",
              "    80% {\n",
              "      border-color: transparent;\n",
              "      border-right-color: var(--fill-color);\n",
              "      border-bottom-color: var(--fill-color);\n",
              "    }\n",
              "    90% {\n",
              "      border-color: transparent;\n",
              "      border-bottom-color: var(--fill-color);\n",
              "    }\n",
              "  }\n",
              "</style>\n",
              "\n",
              "  <script>\n",
              "    async function quickchart(key) {\n",
              "      const quickchartButtonEl =\n",
              "        document.querySelector('#' + key + ' button');\n",
              "      quickchartButtonEl.disabled = true;  // To prevent multiple clicks.\n",
              "      quickchartButtonEl.classList.add('colab-df-spinner');\n",
              "      try {\n",
              "        const charts = await google.colab.kernel.invokeFunction(\n",
              "            'suggestCharts', [key], {});\n",
              "      } catch (error) {\n",
              "        console.error('Error during call to suggestCharts:', error);\n",
              "      }\n",
              "      quickchartButtonEl.classList.remove('colab-df-spinner');\n",
              "      quickchartButtonEl.classList.add('colab-df-quickchart-complete');\n",
              "    }\n",
              "    (() => {\n",
              "      let quickchartButtonEl =\n",
              "        document.querySelector('#df-d198b21c-483b-4e66-9ea0-3102888a4e09 button');\n",
              "      quickchartButtonEl.style.display =\n",
              "        google.colab.kernel.accessAllowed ? 'block' : 'none';\n",
              "    })();\n",
              "  </script>\n",
              "</div>\n",
              "    </div>\n",
              "  </div>\n"
            ],
            "application/vnd.google.colaboratory.intrinsic+json": {
              "type": "dataframe",
              "variable_name": "all_queries"
            }
          },
          "metadata": {},
          "execution_count": 7
        },
        {
          "output_type": "stream",
          "name": "stdout",
          "text": [
            "time: 961 ms (started: 2024-03-15 13:50:43 +00:00)\n"
          ]
        }
      ],
      "source": [
        "all_queries=pd.read_table('msmarco-doctrain-queries.tsv',header=None)\n",
        "all_queries.columns=['qid','query']\n",
        "print('Shape=>',all_queries.shape)\n",
        "all_queries.head()"
      ]
    },
    {
      "cell_type": "markdown",
      "id": "38bbe076-dd9d-4d97-bfba-31269a20ab86",
      "metadata": {
        "id": "38bbe076-dd9d-4d97-bfba-31269a20ab86"
      },
      "source": [
        "#### reducing the dataset\n",
        "- here we take 1000 queries.\n",
        "- if this is too big for your computer, use this code to build smaller version, starting with the already reduced 1000 query set that we've downloaded before\n"
      ]
    },
    {
      "cell_type": "code",
      "execution_count": null,
      "id": "710fa4f5-ca4e-4fae-b295-b35e08e6e942",
      "metadata": {
        "id": "710fa4f5-ca4e-4fae-b295-b35e08e6e942",
        "colab": {
          "base_uri": "https://localhost:8080/",
          "height": 242
        },
        "outputId": "16136fad-e7a7-4cdb-b144-cf6650cd4d83"
      },
      "outputs": [
        {
          "output_type": "stream",
          "name": "stdout",
          "text": [
            "Shape=> (1000, 2)\n"
          ]
        },
        {
          "output_type": "execute_result",
          "data": {
            "text/plain": [
              "      qid                                              query\n",
              "0  687888                                      what is a jpe\n",
              "1  480210                         price for asphalt driveway\n",
              "2  591004                 what causes pressure skin bruising\n",
              "3  260536      how long drive from flagstaff to grand canyon\n",
              "4   39422  average number of bowel movements per day for ..."
            ],
            "text/html": [
              "\n",
              "  <div id=\"df-ec79719e-859c-46d9-b319-3bc654e289be\" class=\"colab-df-container\">\n",
              "    <div>\n",
              "<style scoped>\n",
              "    .dataframe tbody tr th:only-of-type {\n",
              "        vertical-align: middle;\n",
              "    }\n",
              "\n",
              "    .dataframe tbody tr th {\n",
              "        vertical-align: top;\n",
              "    }\n",
              "\n",
              "    .dataframe thead th {\n",
              "        text-align: right;\n",
              "    }\n",
              "</style>\n",
              "<table border=\"1\" class=\"dataframe\">\n",
              "  <thead>\n",
              "    <tr style=\"text-align: right;\">\n",
              "      <th></th>\n",
              "      <th>qid</th>\n",
              "      <th>query</th>\n",
              "    </tr>\n",
              "  </thead>\n",
              "  <tbody>\n",
              "    <tr>\n",
              "      <th>0</th>\n",
              "      <td>687888</td>\n",
              "      <td>what is a jpe</td>\n",
              "    </tr>\n",
              "    <tr>\n",
              "      <th>1</th>\n",
              "      <td>480210</td>\n",
              "      <td>price for asphalt driveway</td>\n",
              "    </tr>\n",
              "    <tr>\n",
              "      <th>2</th>\n",
              "      <td>591004</td>\n",
              "      <td>what causes pressure skin bruising</td>\n",
              "    </tr>\n",
              "    <tr>\n",
              "      <th>3</th>\n",
              "      <td>260536</td>\n",
              "      <td>how long drive from flagstaff to grand canyon</td>\n",
              "    </tr>\n",
              "    <tr>\n",
              "      <th>4</th>\n",
              "      <td>39422</td>\n",
              "      <td>average number of bowel movements per day for ...</td>\n",
              "    </tr>\n",
              "  </tbody>\n",
              "</table>\n",
              "</div>\n",
              "    <div class=\"colab-df-buttons\">\n",
              "\n",
              "  <div class=\"colab-df-container\">\n",
              "    <button class=\"colab-df-convert\" onclick=\"convertToInteractive('df-ec79719e-859c-46d9-b319-3bc654e289be')\"\n",
              "            title=\"Convert this dataframe to an interactive table.\"\n",
              "            style=\"display:none;\">\n",
              "\n",
              "  <svg xmlns=\"http://www.w3.org/2000/svg\" height=\"24px\" viewBox=\"0 -960 960 960\">\n",
              "    <path d=\"M120-120v-720h720v720H120Zm60-500h600v-160H180v160Zm220 220h160v-160H400v160Zm0 220h160v-160H400v160ZM180-400h160v-160H180v160Zm440 0h160v-160H620v160ZM180-180h160v-160H180v160Zm440 0h160v-160H620v160Z\"/>\n",
              "  </svg>\n",
              "    </button>\n",
              "\n",
              "  <style>\n",
              "    .colab-df-container {\n",
              "      display:flex;\n",
              "      gap: 12px;\n",
              "    }\n",
              "\n",
              "    .colab-df-convert {\n",
              "      background-color: #E8F0FE;\n",
              "      border: none;\n",
              "      border-radius: 50%;\n",
              "      cursor: pointer;\n",
              "      display: none;\n",
              "      fill: #1967D2;\n",
              "      height: 32px;\n",
              "      padding: 0 0 0 0;\n",
              "      width: 32px;\n",
              "    }\n",
              "\n",
              "    .colab-df-convert:hover {\n",
              "      background-color: #E2EBFA;\n",
              "      box-shadow: 0px 1px 2px rgba(60, 64, 67, 0.3), 0px 1px 3px 1px rgba(60, 64, 67, 0.15);\n",
              "      fill: #174EA6;\n",
              "    }\n",
              "\n",
              "    .colab-df-buttons div {\n",
              "      margin-bottom: 4px;\n",
              "    }\n",
              "\n",
              "    [theme=dark] .colab-df-convert {\n",
              "      background-color: #3B4455;\n",
              "      fill: #D2E3FC;\n",
              "    }\n",
              "\n",
              "    [theme=dark] .colab-df-convert:hover {\n",
              "      background-color: #434B5C;\n",
              "      box-shadow: 0px 1px 3px 1px rgba(0, 0, 0, 0.15);\n",
              "      filter: drop-shadow(0px 1px 2px rgba(0, 0, 0, 0.3));\n",
              "      fill: #FFFFFF;\n",
              "    }\n",
              "  </style>\n",
              "\n",
              "    <script>\n",
              "      const buttonEl =\n",
              "        document.querySelector('#df-ec79719e-859c-46d9-b319-3bc654e289be button.colab-df-convert');\n",
              "      buttonEl.style.display =\n",
              "        google.colab.kernel.accessAllowed ? 'block' : 'none';\n",
              "\n",
              "      async function convertToInteractive(key) {\n",
              "        const element = document.querySelector('#df-ec79719e-859c-46d9-b319-3bc654e289be');\n",
              "        const dataTable =\n",
              "          await google.colab.kernel.invokeFunction('convertToInteractive',\n",
              "                                                    [key], {});\n",
              "        if (!dataTable) return;\n",
              "\n",
              "        const docLinkHtml = 'Like what you see? Visit the ' +\n",
              "          '<a target=\"_blank\" href=https://colab.research.google.com/notebooks/data_table.ipynb>data table notebook</a>'\n",
              "          + ' to learn more about interactive tables.';\n",
              "        element.innerHTML = '';\n",
              "        dataTable['output_type'] = 'display_data';\n",
              "        await google.colab.output.renderOutput(dataTable, element);\n",
              "        const docLink = document.createElement('div');\n",
              "        docLink.innerHTML = docLinkHtml;\n",
              "        element.appendChild(docLink);\n",
              "      }\n",
              "    </script>\n",
              "  </div>\n",
              "\n",
              "\n",
              "<div id=\"df-dfda01df-3139-462e-808a-2fabc97527b0\">\n",
              "  <button class=\"colab-df-quickchart\" onclick=\"quickchart('df-dfda01df-3139-462e-808a-2fabc97527b0')\"\n",
              "            title=\"Suggest charts\"\n",
              "            style=\"display:none;\">\n",
              "\n",
              "<svg xmlns=\"http://www.w3.org/2000/svg\" height=\"24px\"viewBox=\"0 0 24 24\"\n",
              "     width=\"24px\">\n",
              "    <g>\n",
              "        <path d=\"M19 3H5c-1.1 0-2 .9-2 2v14c0 1.1.9 2 2 2h14c1.1 0 2-.9 2-2V5c0-1.1-.9-2-2-2zM9 17H7v-7h2v7zm4 0h-2V7h2v10zm4 0h-2v-4h2v4z\"/>\n",
              "    </g>\n",
              "</svg>\n",
              "  </button>\n",
              "\n",
              "<style>\n",
              "  .colab-df-quickchart {\n",
              "      --bg-color: #E8F0FE;\n",
              "      --fill-color: #1967D2;\n",
              "      --hover-bg-color: #E2EBFA;\n",
              "      --hover-fill-color: #174EA6;\n",
              "      --disabled-fill-color: #AAA;\n",
              "      --disabled-bg-color: #DDD;\n",
              "  }\n",
              "\n",
              "  [theme=dark] .colab-df-quickchart {\n",
              "      --bg-color: #3B4455;\n",
              "      --fill-color: #D2E3FC;\n",
              "      --hover-bg-color: #434B5C;\n",
              "      --hover-fill-color: #FFFFFF;\n",
              "      --disabled-bg-color: #3B4455;\n",
              "      --disabled-fill-color: #666;\n",
              "  }\n",
              "\n",
              "  .colab-df-quickchart {\n",
              "    background-color: var(--bg-color);\n",
              "    border: none;\n",
              "    border-radius: 50%;\n",
              "    cursor: pointer;\n",
              "    display: none;\n",
              "    fill: var(--fill-color);\n",
              "    height: 32px;\n",
              "    padding: 0;\n",
              "    width: 32px;\n",
              "  }\n",
              "\n",
              "  .colab-df-quickchart:hover {\n",
              "    background-color: var(--hover-bg-color);\n",
              "    box-shadow: 0 1px 2px rgba(60, 64, 67, 0.3), 0 1px 3px 1px rgba(60, 64, 67, 0.15);\n",
              "    fill: var(--button-hover-fill-color);\n",
              "  }\n",
              "\n",
              "  .colab-df-quickchart-complete:disabled,\n",
              "  .colab-df-quickchart-complete:disabled:hover {\n",
              "    background-color: var(--disabled-bg-color);\n",
              "    fill: var(--disabled-fill-color);\n",
              "    box-shadow: none;\n",
              "  }\n",
              "\n",
              "  .colab-df-spinner {\n",
              "    border: 2px solid var(--fill-color);\n",
              "    border-color: transparent;\n",
              "    border-bottom-color: var(--fill-color);\n",
              "    animation:\n",
              "      spin 1s steps(1) infinite;\n",
              "  }\n",
              "\n",
              "  @keyframes spin {\n",
              "    0% {\n",
              "      border-color: transparent;\n",
              "      border-bottom-color: var(--fill-color);\n",
              "      border-left-color: var(--fill-color);\n",
              "    }\n",
              "    20% {\n",
              "      border-color: transparent;\n",
              "      border-left-color: var(--fill-color);\n",
              "      border-top-color: var(--fill-color);\n",
              "    }\n",
              "    30% {\n",
              "      border-color: transparent;\n",
              "      border-left-color: var(--fill-color);\n",
              "      border-top-color: var(--fill-color);\n",
              "      border-right-color: var(--fill-color);\n",
              "    }\n",
              "    40% {\n",
              "      border-color: transparent;\n",
              "      border-right-color: var(--fill-color);\n",
              "      border-top-color: var(--fill-color);\n",
              "    }\n",
              "    60% {\n",
              "      border-color: transparent;\n",
              "      border-right-color: var(--fill-color);\n",
              "    }\n",
              "    80% {\n",
              "      border-color: transparent;\n",
              "      border-right-color: var(--fill-color);\n",
              "      border-bottom-color: var(--fill-color);\n",
              "    }\n",
              "    90% {\n",
              "      border-color: transparent;\n",
              "      border-bottom-color: var(--fill-color);\n",
              "    }\n",
              "  }\n",
              "</style>\n",
              "\n",
              "  <script>\n",
              "    async function quickchart(key) {\n",
              "      const quickchartButtonEl =\n",
              "        document.querySelector('#' + key + ' button');\n",
              "      quickchartButtonEl.disabled = true;  // To prevent multiple clicks.\n",
              "      quickchartButtonEl.classList.add('colab-df-spinner');\n",
              "      try {\n",
              "        const charts = await google.colab.kernel.invokeFunction(\n",
              "            'suggestCharts', [key], {});\n",
              "      } catch (error) {\n",
              "        console.error('Error during call to suggestCharts:', error);\n",
              "      }\n",
              "      quickchartButtonEl.classList.remove('colab-df-spinner');\n",
              "      quickchartButtonEl.classList.add('colab-df-quickchart-complete');\n",
              "    }\n",
              "    (() => {\n",
              "      let quickchartButtonEl =\n",
              "        document.querySelector('#df-dfda01df-3139-462e-808a-2fabc97527b0 button');\n",
              "      quickchartButtonEl.style.display =\n",
              "        google.colab.kernel.accessAllowed ? 'block' : 'none';\n",
              "    })();\n",
              "  </script>\n",
              "</div>\n",
              "    </div>\n",
              "  </div>\n"
            ],
            "application/vnd.google.colaboratory.intrinsic+json": {
              "type": "dataframe",
              "variable_name": "our_queries",
              "summary": "{\n  \"name\": \"our_queries\",\n  \"rows\": 1000,\n  \"fields\": [\n    {\n      \"column\": \"qid\",\n      \"properties\": {\n        \"dtype\": \"number\",\n        \"std\": 329869,\n        \"min\": 1610,\n        \"max\": 1185864,\n        \"num_unique_values\": 1000,\n        \"samples\": [\n          858686,\n          37711,\n          990078\n        ],\n        \"semantic_type\": \"\",\n        \"description\": \"\"\n      }\n    },\n    {\n      \"column\": \"query\",\n      \"properties\": {\n        \"dtype\": \"string\",\n        \"num_unique_values\": 1000,\n        \"samples\": [\n          \"what is ucla's acceptance rate\",\n          \"average income from mcdonald's franchise\",\n          \"where is palo alto california\"\n        ],\n        \"semantic_type\": \"\",\n        \"description\": \"\"\n      }\n    }\n  ]\n}"
            }
          },
          "metadata": {},
          "execution_count": 8
        },
        {
          "output_type": "stream",
          "name": "stdout",
          "text": [
            "time: 62.8 ms (started: 2024-03-15 13:50:44 +00:00)\n"
          ]
        }
      ],
      "source": [
        "our_queries=all_queries.sample(n=1000,random_state=42).reset_index(drop=True)\n",
        "print('Shape=>',our_queries.shape)\n",
        "our_queries.head()"
      ]
    },
    {
      "cell_type": "code",
      "execution_count": null,
      "id": "6e734ee2-9ce4-4c7d-9062-2f1a71d62e91",
      "metadata": {
        "id": "6e734ee2-9ce4-4c7d-9062-2f1a71d62e91",
        "colab": {
          "base_uri": "https://localhost:8080/"
        },
        "outputId": "7ea7bf95-734a-4150-921e-b519e31566a1"
      },
      "outputs": [
        {
          "output_type": "stream",
          "name": "stdout",
          "text": [
            "time: 18.6 ms (started: 2024-03-15 13:50:44 +00:00)\n"
          ]
        }
      ],
      "source": [
        "our_queries.to_csv('our.msmarco.queries.tsv',sep='\\t')"
      ]
    },
    {
      "cell_type": "markdown",
      "id": "f4f44a4f-81d3-4994-8806-07c656e814af",
      "metadata": {
        "id": "f4f44a4f-81d3-4994-8806-07c656e814af"
      },
      "source": [
        "#### the gold file\n",
        "- 36m lines!"
      ]
    },
    {
      "cell_type": "code",
      "execution_count": null,
      "id": "f97d1b2a-4fe3-4209-b75a-47f904dd9515",
      "metadata": {
        "id": "f97d1b2a-4fe3-4209-b75a-47f904dd9515",
        "colab": {
          "base_uri": "https://localhost:8080/",
          "height": 449
        },
        "outputId": "3cd705f1-d4a5-4768-da5a-1fcf2a44c413"
      },
      "outputs": [
        {
          "output_type": "stream",
          "name": "stdout",
          "text": [
            "Shape=> (36701116, 6)\n"
          ]
        },
        {
          "output_type": "display_data",
          "data": {
            "text/plain": [
              "       qid  Q0     docid  rank    score             runstring\n",
              "0  1185869  Q0    D59221     1 -4.80433  IndriQueryLikelihood\n",
              "1  1185869  Q0    D59220     2 -4.92127  IndriQueryLikelihood\n",
              "2  1185869  Q0  D2192591     3 -5.05215  IndriQueryLikelihood\n",
              "3  1185869  Q0  D2777518     4 -5.05486  IndriQueryLikelihood\n",
              "4  1185869  Q0  D2371978     5 -5.07048  IndriQueryLikelihood"
            ],
            "text/html": [
              "\n",
              "  <div id=\"df-62e3c04e-d384-48e4-abc4-4ec6c5544f0a\" class=\"colab-df-container\">\n",
              "    <div>\n",
              "<style scoped>\n",
              "    .dataframe tbody tr th:only-of-type {\n",
              "        vertical-align: middle;\n",
              "    }\n",
              "\n",
              "    .dataframe tbody tr th {\n",
              "        vertical-align: top;\n",
              "    }\n",
              "\n",
              "    .dataframe thead th {\n",
              "        text-align: right;\n",
              "    }\n",
              "</style>\n",
              "<table border=\"1\" class=\"dataframe\">\n",
              "  <thead>\n",
              "    <tr style=\"text-align: right;\">\n",
              "      <th></th>\n",
              "      <th>qid</th>\n",
              "      <th>Q0</th>\n",
              "      <th>docid</th>\n",
              "      <th>rank</th>\n",
              "      <th>score</th>\n",
              "      <th>runstring</th>\n",
              "    </tr>\n",
              "  </thead>\n",
              "  <tbody>\n",
              "    <tr>\n",
              "      <th>0</th>\n",
              "      <td>1185869</td>\n",
              "      <td>Q0</td>\n",
              "      <td>D59221</td>\n",
              "      <td>1</td>\n",
              "      <td>-4.80433</td>\n",
              "      <td>IndriQueryLikelihood</td>\n",
              "    </tr>\n",
              "    <tr>\n",
              "      <th>1</th>\n",
              "      <td>1185869</td>\n",
              "      <td>Q0</td>\n",
              "      <td>D59220</td>\n",
              "      <td>2</td>\n",
              "      <td>-4.92127</td>\n",
              "      <td>IndriQueryLikelihood</td>\n",
              "    </tr>\n",
              "    <tr>\n",
              "      <th>2</th>\n",
              "      <td>1185869</td>\n",
              "      <td>Q0</td>\n",
              "      <td>D2192591</td>\n",
              "      <td>3</td>\n",
              "      <td>-5.05215</td>\n",
              "      <td>IndriQueryLikelihood</td>\n",
              "    </tr>\n",
              "    <tr>\n",
              "      <th>3</th>\n",
              "      <td>1185869</td>\n",
              "      <td>Q0</td>\n",
              "      <td>D2777518</td>\n",
              "      <td>4</td>\n",
              "      <td>-5.05486</td>\n",
              "      <td>IndriQueryLikelihood</td>\n",
              "    </tr>\n",
              "    <tr>\n",
              "      <th>4</th>\n",
              "      <td>1185869</td>\n",
              "      <td>Q0</td>\n",
              "      <td>D2371978</td>\n",
              "      <td>5</td>\n",
              "      <td>-5.07048</td>\n",
              "      <td>IndriQueryLikelihood</td>\n",
              "    </tr>\n",
              "  </tbody>\n",
              "</table>\n",
              "</div>\n",
              "    <div class=\"colab-df-buttons\">\n",
              "\n",
              "  <div class=\"colab-df-container\">\n",
              "    <button class=\"colab-df-convert\" onclick=\"convertToInteractive('df-62e3c04e-d384-48e4-abc4-4ec6c5544f0a')\"\n",
              "            title=\"Convert this dataframe to an interactive table.\"\n",
              "            style=\"display:none;\">\n",
              "\n",
              "  <svg xmlns=\"http://www.w3.org/2000/svg\" height=\"24px\" viewBox=\"0 -960 960 960\">\n",
              "    <path d=\"M120-120v-720h720v720H120Zm60-500h600v-160H180v160Zm220 220h160v-160H400v160Zm0 220h160v-160H400v160ZM180-400h160v-160H180v160Zm440 0h160v-160H620v160ZM180-180h160v-160H180v160Zm440 0h160v-160H620v160Z\"/>\n",
              "  </svg>\n",
              "    </button>\n",
              "\n",
              "  <style>\n",
              "    .colab-df-container {\n",
              "      display:flex;\n",
              "      gap: 12px;\n",
              "    }\n",
              "\n",
              "    .colab-df-convert {\n",
              "      background-color: #E8F0FE;\n",
              "      border: none;\n",
              "      border-radius: 50%;\n",
              "      cursor: pointer;\n",
              "      display: none;\n",
              "      fill: #1967D2;\n",
              "      height: 32px;\n",
              "      padding: 0 0 0 0;\n",
              "      width: 32px;\n",
              "    }\n",
              "\n",
              "    .colab-df-convert:hover {\n",
              "      background-color: #E2EBFA;\n",
              "      box-shadow: 0px 1px 2px rgba(60, 64, 67, 0.3), 0px 1px 3px 1px rgba(60, 64, 67, 0.15);\n",
              "      fill: #174EA6;\n",
              "    }\n",
              "\n",
              "    .colab-df-buttons div {\n",
              "      margin-bottom: 4px;\n",
              "    }\n",
              "\n",
              "    [theme=dark] .colab-df-convert {\n",
              "      background-color: #3B4455;\n",
              "      fill: #D2E3FC;\n",
              "    }\n",
              "\n",
              "    [theme=dark] .colab-df-convert:hover {\n",
              "      background-color: #434B5C;\n",
              "      box-shadow: 0px 1px 3px 1px rgba(0, 0, 0, 0.15);\n",
              "      filter: drop-shadow(0px 1px 2px rgba(0, 0, 0, 0.3));\n",
              "      fill: #FFFFFF;\n",
              "    }\n",
              "  </style>\n",
              "\n",
              "    <script>\n",
              "      const buttonEl =\n",
              "        document.querySelector('#df-62e3c04e-d384-48e4-abc4-4ec6c5544f0a button.colab-df-convert');\n",
              "      buttonEl.style.display =\n",
              "        google.colab.kernel.accessAllowed ? 'block' : 'none';\n",
              "\n",
              "      async function convertToInteractive(key) {\n",
              "        const element = document.querySelector('#df-62e3c04e-d384-48e4-abc4-4ec6c5544f0a');\n",
              "        const dataTable =\n",
              "          await google.colab.kernel.invokeFunction('convertToInteractive',\n",
              "                                                    [key], {});\n",
              "        if (!dataTable) return;\n",
              "\n",
              "        const docLinkHtml = 'Like what you see? Visit the ' +\n",
              "          '<a target=\"_blank\" href=https://colab.research.google.com/notebooks/data_table.ipynb>data table notebook</a>'\n",
              "          + ' to learn more about interactive tables.';\n",
              "        element.innerHTML = '';\n",
              "        dataTable['output_type'] = 'display_data';\n",
              "        await google.colab.output.renderOutput(dataTable, element);\n",
              "        const docLink = document.createElement('div');\n",
              "        docLink.innerHTML = docLinkHtml;\n",
              "        element.appendChild(docLink);\n",
              "      }\n",
              "    </script>\n",
              "  </div>\n",
              "\n",
              "\n",
              "<div id=\"df-0b245f95-7af5-4314-81b7-9a3de0bb8152\">\n",
              "  <button class=\"colab-df-quickchart\" onclick=\"quickchart('df-0b245f95-7af5-4314-81b7-9a3de0bb8152')\"\n",
              "            title=\"Suggest charts\"\n",
              "            style=\"display:none;\">\n",
              "\n",
              "<svg xmlns=\"http://www.w3.org/2000/svg\" height=\"24px\"viewBox=\"0 0 24 24\"\n",
              "     width=\"24px\">\n",
              "    <g>\n",
              "        <path d=\"M19 3H5c-1.1 0-2 .9-2 2v14c0 1.1.9 2 2 2h14c1.1 0 2-.9 2-2V5c0-1.1-.9-2-2-2zM9 17H7v-7h2v7zm4 0h-2V7h2v10zm4 0h-2v-4h2v4z\"/>\n",
              "    </g>\n",
              "</svg>\n",
              "  </button>\n",
              "\n",
              "<style>\n",
              "  .colab-df-quickchart {\n",
              "      --bg-color: #E8F0FE;\n",
              "      --fill-color: #1967D2;\n",
              "      --hover-bg-color: #E2EBFA;\n",
              "      --hover-fill-color: #174EA6;\n",
              "      --disabled-fill-color: #AAA;\n",
              "      --disabled-bg-color: #DDD;\n",
              "  }\n",
              "\n",
              "  [theme=dark] .colab-df-quickchart {\n",
              "      --bg-color: #3B4455;\n",
              "      --fill-color: #D2E3FC;\n",
              "      --hover-bg-color: #434B5C;\n",
              "      --hover-fill-color: #FFFFFF;\n",
              "      --disabled-bg-color: #3B4455;\n",
              "      --disabled-fill-color: #666;\n",
              "  }\n",
              "\n",
              "  .colab-df-quickchart {\n",
              "    background-color: var(--bg-color);\n",
              "    border: none;\n",
              "    border-radius: 50%;\n",
              "    cursor: pointer;\n",
              "    display: none;\n",
              "    fill: var(--fill-color);\n",
              "    height: 32px;\n",
              "    padding: 0;\n",
              "    width: 32px;\n",
              "  }\n",
              "\n",
              "  .colab-df-quickchart:hover {\n",
              "    background-color: var(--hover-bg-color);\n",
              "    box-shadow: 0 1px 2px rgba(60, 64, 67, 0.3), 0 1px 3px 1px rgba(60, 64, 67, 0.15);\n",
              "    fill: var(--button-hover-fill-color);\n",
              "  }\n",
              "\n",
              "  .colab-df-quickchart-complete:disabled,\n",
              "  .colab-df-quickchart-complete:disabled:hover {\n",
              "    background-color: var(--disabled-bg-color);\n",
              "    fill: var(--disabled-fill-color);\n",
              "    box-shadow: none;\n",
              "  }\n",
              "\n",
              "  .colab-df-spinner {\n",
              "    border: 2px solid var(--fill-color);\n",
              "    border-color: transparent;\n",
              "    border-bottom-color: var(--fill-color);\n",
              "    animation:\n",
              "      spin 1s steps(1) infinite;\n",
              "  }\n",
              "\n",
              "  @keyframes spin {\n",
              "    0% {\n",
              "      border-color: transparent;\n",
              "      border-bottom-color: var(--fill-color);\n",
              "      border-left-color: var(--fill-color);\n",
              "    }\n",
              "    20% {\n",
              "      border-color: transparent;\n",
              "      border-left-color: var(--fill-color);\n",
              "      border-top-color: var(--fill-color);\n",
              "    }\n",
              "    30% {\n",
              "      border-color: transparent;\n",
              "      border-left-color: var(--fill-color);\n",
              "      border-top-color: var(--fill-color);\n",
              "      border-right-color: var(--fill-color);\n",
              "    }\n",
              "    40% {\n",
              "      border-color: transparent;\n",
              "      border-right-color: var(--fill-color);\n",
              "      border-top-color: var(--fill-color);\n",
              "    }\n",
              "    60% {\n",
              "      border-color: transparent;\n",
              "      border-right-color: var(--fill-color);\n",
              "    }\n",
              "    80% {\n",
              "      border-color: transparent;\n",
              "      border-right-color: var(--fill-color);\n",
              "      border-bottom-color: var(--fill-color);\n",
              "    }\n",
              "    90% {\n",
              "      border-color: transparent;\n",
              "      border-bottom-color: var(--fill-color);\n",
              "    }\n",
              "  }\n",
              "</style>\n",
              "\n",
              "  <script>\n",
              "    async function quickchart(key) {\n",
              "      const quickchartButtonEl =\n",
              "        document.querySelector('#' + key + ' button');\n",
              "      quickchartButtonEl.disabled = true;  // To prevent multiple clicks.\n",
              "      quickchartButtonEl.classList.add('colab-df-spinner');\n",
              "      try {\n",
              "        const charts = await google.colab.kernel.invokeFunction(\n",
              "            'suggestCharts', [key], {});\n",
              "      } catch (error) {\n",
              "        console.error('Error during call to suggestCharts:', error);\n",
              "      }\n",
              "      quickchartButtonEl.classList.remove('colab-df-spinner');\n",
              "      quickchartButtonEl.classList.add('colab-df-quickchart-complete');\n",
              "    }\n",
              "    (() => {\n",
              "      let quickchartButtonEl =\n",
              "        document.querySelector('#df-0b245f95-7af5-4314-81b7-9a3de0bb8152 button');\n",
              "      quickchartButtonEl.style.display =\n",
              "        google.colab.kernel.accessAllowed ? 'block' : 'none';\n",
              "    })();\n",
              "  </script>\n",
              "</div>\n",
              "    </div>\n",
              "  </div>\n"
            ],
            "application/vnd.google.colaboratory.intrinsic+json": {
              "type": "dataframe",
              "summary": "{\n  \"name\": \"our_gold_top100\",\n  \"rows\": 5,\n  \"fields\": [\n    {\n      \"column\": \"qid\",\n      \"properties\": {\n        \"dtype\": \"number\",\n        \"std\": 0,\n        \"min\": 1185869,\n        \"max\": 1185869,\n        \"num_unique_values\": 1,\n        \"samples\": [\n          1185869\n        ],\n        \"semantic_type\": \"\",\n        \"description\": \"\"\n      }\n    },\n    {\n      \"column\": \"Q0\",\n      \"properties\": {\n        \"dtype\": \"category\",\n        \"num_unique_values\": 1,\n        \"samples\": [\n          \"Q0\"\n        ],\n        \"semantic_type\": \"\",\n        \"description\": \"\"\n      }\n    },\n    {\n      \"column\": \"docid\",\n      \"properties\": {\n        \"dtype\": \"string\",\n        \"num_unique_values\": 5,\n        \"samples\": [\n          \"D59220\"\n        ],\n        \"semantic_type\": \"\",\n        \"description\": \"\"\n      }\n    },\n    {\n      \"column\": \"rank\",\n      \"properties\": {\n        \"dtype\": \"number\",\n        \"std\": 1,\n        \"min\": 1,\n        \"max\": 5,\n        \"num_unique_values\": 5,\n        \"samples\": [\n          2\n        ],\n        \"semantic_type\": \"\",\n        \"description\": \"\"\n      }\n    },\n    {\n      \"column\": \"score\",\n      \"properties\": {\n        \"dtype\": \"number\",\n        \"std\": 0.11543778051400665,\n        \"min\": -5.07048,\n        \"max\": -4.80433,\n        \"num_unique_values\": 5,\n        \"samples\": [\n          -4.92127\n        ],\n        \"semantic_type\": \"\",\n        \"description\": \"\"\n      }\n    },\n    {\n      \"column\": \"runstring\",\n      \"properties\": {\n        \"dtype\": \"category\",\n        \"num_unique_values\": 1,\n        \"samples\": [\n          \"IndriQueryLikelihood\"\n        ],\n        \"semantic_type\": \"\",\n        \"description\": \"\"\n      }\n    }\n  ]\n}"
            }
          },
          "metadata": {}
        },
        {
          "output_type": "stream",
          "name": "stdout",
          "text": [
            "Shape=> (100000, 6)\n"
          ]
        },
        {
          "output_type": "execute_result",
          "data": {
            "text/plain": [
              "      qid  Q0     docid  rank    score             runstring\n",
              "0  310290  Q0   D579750     1 -5.11498  IndriQueryLikelihood\n",
              "1  310290  Q0   D579754     2 -5.57703  IndriQueryLikelihood\n",
              "2  310290  Q0  D2380815     3 -5.84852  IndriQueryLikelihood\n",
              "3  310290  Q0   D822566     4 -5.95002  IndriQueryLikelihood\n",
              "4  310290  Q0  D2249695     5 -6.08326  IndriQueryLikelihood"
            ],
            "text/html": [
              "\n",
              "  <div id=\"df-0c1cebb9-9ef9-495c-b72b-2aab7f54a142\" class=\"colab-df-container\">\n",
              "    <div>\n",
              "<style scoped>\n",
              "    .dataframe tbody tr th:only-of-type {\n",
              "        vertical-align: middle;\n",
              "    }\n",
              "\n",
              "    .dataframe tbody tr th {\n",
              "        vertical-align: top;\n",
              "    }\n",
              "\n",
              "    .dataframe thead th {\n",
              "        text-align: right;\n",
              "    }\n",
              "</style>\n",
              "<table border=\"1\" class=\"dataframe\">\n",
              "  <thead>\n",
              "    <tr style=\"text-align: right;\">\n",
              "      <th></th>\n",
              "      <th>qid</th>\n",
              "      <th>Q0</th>\n",
              "      <th>docid</th>\n",
              "      <th>rank</th>\n",
              "      <th>score</th>\n",
              "      <th>runstring</th>\n",
              "    </tr>\n",
              "  </thead>\n",
              "  <tbody>\n",
              "    <tr>\n",
              "      <th>0</th>\n",
              "      <td>310290</td>\n",
              "      <td>Q0</td>\n",
              "      <td>D579750</td>\n",
              "      <td>1</td>\n",
              "      <td>-5.11498</td>\n",
              "      <td>IndriQueryLikelihood</td>\n",
              "    </tr>\n",
              "    <tr>\n",
              "      <th>1</th>\n",
              "      <td>310290</td>\n",
              "      <td>Q0</td>\n",
              "      <td>D579754</td>\n",
              "      <td>2</td>\n",
              "      <td>-5.57703</td>\n",
              "      <td>IndriQueryLikelihood</td>\n",
              "    </tr>\n",
              "    <tr>\n",
              "      <th>2</th>\n",
              "      <td>310290</td>\n",
              "      <td>Q0</td>\n",
              "      <td>D2380815</td>\n",
              "      <td>3</td>\n",
              "      <td>-5.84852</td>\n",
              "      <td>IndriQueryLikelihood</td>\n",
              "    </tr>\n",
              "    <tr>\n",
              "      <th>3</th>\n",
              "      <td>310290</td>\n",
              "      <td>Q0</td>\n",
              "      <td>D822566</td>\n",
              "      <td>4</td>\n",
              "      <td>-5.95002</td>\n",
              "      <td>IndriQueryLikelihood</td>\n",
              "    </tr>\n",
              "    <tr>\n",
              "      <th>4</th>\n",
              "      <td>310290</td>\n",
              "      <td>Q0</td>\n",
              "      <td>D2249695</td>\n",
              "      <td>5</td>\n",
              "      <td>-6.08326</td>\n",
              "      <td>IndriQueryLikelihood</td>\n",
              "    </tr>\n",
              "  </tbody>\n",
              "</table>\n",
              "</div>\n",
              "    <div class=\"colab-df-buttons\">\n",
              "\n",
              "  <div class=\"colab-df-container\">\n",
              "    <button class=\"colab-df-convert\" onclick=\"convertToInteractive('df-0c1cebb9-9ef9-495c-b72b-2aab7f54a142')\"\n",
              "            title=\"Convert this dataframe to an interactive table.\"\n",
              "            style=\"display:none;\">\n",
              "\n",
              "  <svg xmlns=\"http://www.w3.org/2000/svg\" height=\"24px\" viewBox=\"0 -960 960 960\">\n",
              "    <path d=\"M120-120v-720h720v720H120Zm60-500h600v-160H180v160Zm220 220h160v-160H400v160Zm0 220h160v-160H400v160ZM180-400h160v-160H180v160Zm440 0h160v-160H620v160ZM180-180h160v-160H180v160Zm440 0h160v-160H620v160Z\"/>\n",
              "  </svg>\n",
              "    </button>\n",
              "\n",
              "  <style>\n",
              "    .colab-df-container {\n",
              "      display:flex;\n",
              "      gap: 12px;\n",
              "    }\n",
              "\n",
              "    .colab-df-convert {\n",
              "      background-color: #E8F0FE;\n",
              "      border: none;\n",
              "      border-radius: 50%;\n",
              "      cursor: pointer;\n",
              "      display: none;\n",
              "      fill: #1967D2;\n",
              "      height: 32px;\n",
              "      padding: 0 0 0 0;\n",
              "      width: 32px;\n",
              "    }\n",
              "\n",
              "    .colab-df-convert:hover {\n",
              "      background-color: #E2EBFA;\n",
              "      box-shadow: 0px 1px 2px rgba(60, 64, 67, 0.3), 0px 1px 3px 1px rgba(60, 64, 67, 0.15);\n",
              "      fill: #174EA6;\n",
              "    }\n",
              "\n",
              "    .colab-df-buttons div {\n",
              "      margin-bottom: 4px;\n",
              "    }\n",
              "\n",
              "    [theme=dark] .colab-df-convert {\n",
              "      background-color: #3B4455;\n",
              "      fill: #D2E3FC;\n",
              "    }\n",
              "\n",
              "    [theme=dark] .colab-df-convert:hover {\n",
              "      background-color: #434B5C;\n",
              "      box-shadow: 0px 1px 3px 1px rgba(0, 0, 0, 0.15);\n",
              "      filter: drop-shadow(0px 1px 2px rgba(0, 0, 0, 0.3));\n",
              "      fill: #FFFFFF;\n",
              "    }\n",
              "  </style>\n",
              "\n",
              "    <script>\n",
              "      const buttonEl =\n",
              "        document.querySelector('#df-0c1cebb9-9ef9-495c-b72b-2aab7f54a142 button.colab-df-convert');\n",
              "      buttonEl.style.display =\n",
              "        google.colab.kernel.accessAllowed ? 'block' : 'none';\n",
              "\n",
              "      async function convertToInteractive(key) {\n",
              "        const element = document.querySelector('#df-0c1cebb9-9ef9-495c-b72b-2aab7f54a142');\n",
              "        const dataTable =\n",
              "          await google.colab.kernel.invokeFunction('convertToInteractive',\n",
              "                                                    [key], {});\n",
              "        if (!dataTable) return;\n",
              "\n",
              "        const docLinkHtml = 'Like what you see? Visit the ' +\n",
              "          '<a target=\"_blank\" href=https://colab.research.google.com/notebooks/data_table.ipynb>data table notebook</a>'\n",
              "          + ' to learn more about interactive tables.';\n",
              "        element.innerHTML = '';\n",
              "        dataTable['output_type'] = 'display_data';\n",
              "        await google.colab.output.renderOutput(dataTable, element);\n",
              "        const docLink = document.createElement('div');\n",
              "        docLink.innerHTML = docLinkHtml;\n",
              "        element.appendChild(docLink);\n",
              "      }\n",
              "    </script>\n",
              "  </div>\n",
              "\n",
              "\n",
              "<div id=\"df-b5b97fdb-1595-4868-90fe-b66816a0d7f6\">\n",
              "  <button class=\"colab-df-quickchart\" onclick=\"quickchart('df-b5b97fdb-1595-4868-90fe-b66816a0d7f6')\"\n",
              "            title=\"Suggest charts\"\n",
              "            style=\"display:none;\">\n",
              "\n",
              "<svg xmlns=\"http://www.w3.org/2000/svg\" height=\"24px\"viewBox=\"0 0 24 24\"\n",
              "     width=\"24px\">\n",
              "    <g>\n",
              "        <path d=\"M19 3H5c-1.1 0-2 .9-2 2v14c0 1.1.9 2 2 2h14c1.1 0 2-.9 2-2V5c0-1.1-.9-2-2-2zM9 17H7v-7h2v7zm4 0h-2V7h2v10zm4 0h-2v-4h2v4z\"/>\n",
              "    </g>\n",
              "</svg>\n",
              "  </button>\n",
              "\n",
              "<style>\n",
              "  .colab-df-quickchart {\n",
              "      --bg-color: #E8F0FE;\n",
              "      --fill-color: #1967D2;\n",
              "      --hover-bg-color: #E2EBFA;\n",
              "      --hover-fill-color: #174EA6;\n",
              "      --disabled-fill-color: #AAA;\n",
              "      --disabled-bg-color: #DDD;\n",
              "  }\n",
              "\n",
              "  [theme=dark] .colab-df-quickchart {\n",
              "      --bg-color: #3B4455;\n",
              "      --fill-color: #D2E3FC;\n",
              "      --hover-bg-color: #434B5C;\n",
              "      --hover-fill-color: #FFFFFF;\n",
              "      --disabled-bg-color: #3B4455;\n",
              "      --disabled-fill-color: #666;\n",
              "  }\n",
              "\n",
              "  .colab-df-quickchart {\n",
              "    background-color: var(--bg-color);\n",
              "    border: none;\n",
              "    border-radius: 50%;\n",
              "    cursor: pointer;\n",
              "    display: none;\n",
              "    fill: var(--fill-color);\n",
              "    height: 32px;\n",
              "    padding: 0;\n",
              "    width: 32px;\n",
              "  }\n",
              "\n",
              "  .colab-df-quickchart:hover {\n",
              "    background-color: var(--hover-bg-color);\n",
              "    box-shadow: 0 1px 2px rgba(60, 64, 67, 0.3), 0 1px 3px 1px rgba(60, 64, 67, 0.15);\n",
              "    fill: var(--button-hover-fill-color);\n",
              "  }\n",
              "\n",
              "  .colab-df-quickchart-complete:disabled,\n",
              "  .colab-df-quickchart-complete:disabled:hover {\n",
              "    background-color: var(--disabled-bg-color);\n",
              "    fill: var(--disabled-fill-color);\n",
              "    box-shadow: none;\n",
              "  }\n",
              "\n",
              "  .colab-df-spinner {\n",
              "    border: 2px solid var(--fill-color);\n",
              "    border-color: transparent;\n",
              "    border-bottom-color: var(--fill-color);\n",
              "    animation:\n",
              "      spin 1s steps(1) infinite;\n",
              "  }\n",
              "\n",
              "  @keyframes spin {\n",
              "    0% {\n",
              "      border-color: transparent;\n",
              "      border-bottom-color: var(--fill-color);\n",
              "      border-left-color: var(--fill-color);\n",
              "    }\n",
              "    20% {\n",
              "      border-color: transparent;\n",
              "      border-left-color: var(--fill-color);\n",
              "      border-top-color: var(--fill-color);\n",
              "    }\n",
              "    30% {\n",
              "      border-color: transparent;\n",
              "      border-left-color: var(--fill-color);\n",
              "      border-top-color: var(--fill-color);\n",
              "      border-right-color: var(--fill-color);\n",
              "    }\n",
              "    40% {\n",
              "      border-color: transparent;\n",
              "      border-right-color: var(--fill-color);\n",
              "      border-top-color: var(--fill-color);\n",
              "    }\n",
              "    60% {\n",
              "      border-color: transparent;\n",
              "      border-right-color: var(--fill-color);\n",
              "    }\n",
              "    80% {\n",
              "      border-color: transparent;\n",
              "      border-right-color: var(--fill-color);\n",
              "      border-bottom-color: var(--fill-color);\n",
              "    }\n",
              "    90% {\n",
              "      border-color: transparent;\n",
              "      border-bottom-color: var(--fill-color);\n",
              "    }\n",
              "  }\n",
              "</style>\n",
              "\n",
              "  <script>\n",
              "    async function quickchart(key) {\n",
              "      const quickchartButtonEl =\n",
              "        document.querySelector('#' + key + ' button');\n",
              "      quickchartButtonEl.disabled = true;  // To prevent multiple clicks.\n",
              "      quickchartButtonEl.classList.add('colab-df-spinner');\n",
              "      try {\n",
              "        const charts = await google.colab.kernel.invokeFunction(\n",
              "            'suggestCharts', [key], {});\n",
              "      } catch (error) {\n",
              "        console.error('Error during call to suggestCharts:', error);\n",
              "      }\n",
              "      quickchartButtonEl.classList.remove('colab-df-spinner');\n",
              "      quickchartButtonEl.classList.add('colab-df-quickchart-complete');\n",
              "    }\n",
              "    (() => {\n",
              "      let quickchartButtonEl =\n",
              "        document.querySelector('#df-b5b97fdb-1595-4868-90fe-b66816a0d7f6 button');\n",
              "      quickchartButtonEl.style.display =\n",
              "        google.colab.kernel.accessAllowed ? 'block' : 'none';\n",
              "    })();\n",
              "  </script>\n",
              "</div>\n",
              "    </div>\n",
              "  </div>\n"
            ],
            "application/vnd.google.colaboratory.intrinsic+json": {
              "type": "dataframe",
              "variable_name": "our_gold_top100",
              "summary": "{\n  \"name\": \"our_gold_top100\",\n  \"rows\": 100000,\n  \"fields\": [\n    {\n      \"column\": \"qid\",\n      \"properties\": {\n        \"dtype\": \"number\",\n        \"std\": 329706,\n        \"min\": 1610,\n        \"max\": 1185864,\n        \"num_unique_values\": 1000,\n        \"samples\": [\n          791395,\n          34210,\n          321206\n        ],\n        \"semantic_type\": \"\",\n        \"description\": \"\"\n      }\n    },\n    {\n      \"column\": \"Q0\",\n      \"properties\": {\n        \"dtype\": \"category\",\n        \"num_unique_values\": 1,\n        \"samples\": [\n          \"Q0\"\n        ],\n        \"semantic_type\": \"\",\n        \"description\": \"\"\n      }\n    },\n    {\n      \"column\": \"docid\",\n      \"properties\": {\n        \"dtype\": \"string\",\n        \"num_unique_values\": 92565,\n        \"samples\": [\n          \"D3333313\"\n        ],\n        \"semantic_type\": \"\",\n        \"description\": \"\"\n      }\n    },\n    {\n      \"column\": \"rank\",\n      \"properties\": {\n        \"dtype\": \"number\",\n        \"std\": 28,\n        \"min\": 1,\n        \"max\": 100,\n        \"num_unique_values\": 100,\n        \"samples\": [\n          84\n        ],\n        \"semantic_type\": \"\",\n        \"description\": \"\"\n      }\n    },\n    {\n      \"column\": \"score\",\n      \"properties\": {\n        \"dtype\": \"number\",\n        \"std\": 0.8638425963844313,\n        \"min\": -11.6424,\n        \"max\": -3.79994,\n        \"num_unique_values\": 80702,\n        \"samples\": [\n          -7.26055\n        ],\n        \"semantic_type\": \"\",\n        \"description\": \"\"\n      }\n    },\n    {\n      \"column\": \"runstring\",\n      \"properties\": {\n        \"dtype\": \"category\",\n        \"num_unique_values\": 1,\n        \"samples\": [\n          \"IndriQueryLikelihood\"\n        ],\n        \"semantic_type\": \"\",\n        \"description\": \"\"\n      }\n    }\n  ]\n}"
            }
          },
          "metadata": {},
          "execution_count": 10
        },
        {
          "output_type": "stream",
          "name": "stdout",
          "text": [
            "time: 1min 1s (started: 2024-03-15 13:50:51 +00:00)\n"
          ]
        }
      ],
      "source": [
        "gold_top100=pd.read_table('msmarco-doctrain-top100',delimiter=' ',header=None)\n",
        "gold_top100.columns=['qid','Q0','docid','rank','score','runstring']\n",
        "print('Shape=>',gold_top100.shape)\n",
        "display(gold_top100.head())\n",
        "# Reducing train_top100 for training\n",
        "# NameError: name 'train_top100' is not defined\n",
        "# I changed it to gold_top100\n",
        "\n",
        "our_gold_top100=gold_top100[gold_top100['qid'].isin(our_queries['qid'].unique())].reset_index(drop=True)\n",
        "print('Shape=>',our_gold_top100.shape)\n",
        "our_gold_top100.head()"
      ]
    },
    {
      "cell_type": "code",
      "execution_count": null,
      "id": "ab90450d-6564-4e49-a2ae-397f618a90fb",
      "metadata": {
        "id": "ab90450d-6564-4e49-a2ae-397f618a90fb",
        "colab": {
          "base_uri": "https://localhost:8080/"
        },
        "outputId": "d62ba8a4-108c-4096-b2d6-cb57a7287f88"
      },
      "outputs": [
        {
          "output_type": "stream",
          "name": "stdout",
          "text": [
            "time: 910 ms (started: 2024-03-15 13:58:47 +00:00)\n"
          ]
        }
      ],
      "source": [
        "our_gold_top100.to_csv('our.msmarco.gold.tsv',sep='\\t')"
      ]
    },
    {
      "cell_type": "markdown",
      "id": "576936ea-3f1d-4ac7-9249-a9b4960d8691",
      "metadata": {
        "id": "576936ea-3f1d-4ac7-9249-a9b4960d8691"
      },
      "source": [
        "#### the data file\n",
        "\n",
        "- it's so big that it's smarter to use dask: https://docs.dask.org/en/stable/"
      ]
    },
    {
      "cell_type": "code",
      "source": [
        "!wget https://msmarco.z22.web.core.windows.net/msmarcoranking/msmarco-docs.tsv.gz -O /content/msmarco-docs.tsv.gz"
      ],
      "metadata": {
        "colab": {
          "base_uri": "https://localhost:8080/"
        },
        "id": "jCCoZ9lcaRkz",
        "outputId": "fc6d5af2-918b-45d0-f1b0-6e84c05950a9"
      },
      "id": "jCCoZ9lcaRkz",
      "execution_count": null,
      "outputs": [
        {
          "output_type": "stream",
          "name": "stdout",
          "text": [
            "--2024-03-15 13:59:54--  https://msmarco.z22.web.core.windows.net/msmarcoranking/msmarco-docs.tsv.gz\n",
            "Resolving msmarco.z22.web.core.windows.net (msmarco.z22.web.core.windows.net)... 20.150.34.1\n",
            "Connecting to msmarco.z22.web.core.windows.net (msmarco.z22.web.core.windows.net)|20.150.34.1|:443... connected.\n",
            "HTTP request sent, awaiting response... 200 OK\n",
            "Length: 8446274598 (7.9G) [application/x-gzip]\n",
            "Saving to: ‘/content/msmarco-docs.tsv.gz’\n",
            "\n",
            "/content/msmarco-do 100%[===================>]   7.87G  18.8MB/s    in 7m 17s  \n",
            "\n",
            "2024-03-15 14:07:11 (18.4 MB/s) - ‘/content/msmarco-docs.tsv.gz’ saved [8446274598/8446274598]\n",
            "\n",
            "time: 7min 17s (started: 2024-03-15 13:59:53 +00:00)\n"
          ]
        }
      ]
    },
    {
      "cell_type": "code",
      "source": [
        "!gzip -d /content/msmarco-docs.tsv.gz"
      ],
      "metadata": {
        "colab": {
          "base_uri": "https://localhost:8080/"
        },
        "id": "AwjNOudjaYwP",
        "outputId": "c2fee1a9-eab9-4a2c-d025-8d2cd799e160"
      },
      "id": "AwjNOudjaYwP",
      "execution_count": null,
      "outputs": [
        {
          "output_type": "stream",
          "name": "stdout",
          "text": [
            "time: 6min 13s (started: 2024-03-15 14:07:47 +00:00)\n"
          ]
        }
      ]
    },
    {
      "cell_type": "code",
      "execution_count": null,
      "id": "e3ad34c4-45f8-47cc-bcbd-37f10ab3405d",
      "metadata": {
        "id": "e3ad34c4-45f8-47cc-bcbd-37f10ab3405d",
        "colab": {
          "base_uri": "https://localhost:8080/",
          "height": 311
        },
        "outputId": "ce4b976d-91b4-446b-d822-b3bce0444d7b"
      },
      "outputs": [
        {
          "output_type": "execute_result",
          "data": {
            "text/plain": [
              "      docid                                                url  \\\n",
              "0  D1555982  https://answers.yahoo.com/question/index?qid=2...   \n",
              "1   D301595  http://childparenting.about.com/od/physicalemo...   \n",
              "2  D1359209             http://visihow.com/Check_for_Lice_Nits   \n",
              "3  D2147834  http://www.nytimes.com/2010/01/05/business/glo...   \n",
              "4  D1568809  http://www.realtor.com/realestateandhomes-sear...   \n",
              "\n",
              "                                               title  \\\n",
              "0  The hot glowing surfaces of stars emit energy ...   \n",
              "1  Developmental Milestones and Your 8-Year-Old C...   \n",
              "2                                Check for Lice Nits   \n",
              "3                    Dubai Opens a Tower to Beat All   \n",
              "4      Coulterville, CA Real Estate & Homes for Sale   \n",
              "\n",
              "                                                body  \n",
              "0  Science & Mathematics Physics The hot glowing ...  \n",
              "1  School-Age Kids Growth & Development Developme...  \n",
              "2  Check for Lice Nits Edited by Mian Sheilette O...  \n",
              "3  Global Business Dubai Opens a Tower to Beat Al...  \n",
              "4  Coulterville, CA Real Estate & Homes for Sale4...  "
            ],
            "text/html": [
              "\n",
              "  <div id=\"df-14af9cf1-acb3-4f58-96ef-50e6b4f75ba4\" class=\"colab-df-container\">\n",
              "    <div>\n",
              "<style scoped>\n",
              "    .dataframe tbody tr th:only-of-type {\n",
              "        vertical-align: middle;\n",
              "    }\n",
              "\n",
              "    .dataframe tbody tr th {\n",
              "        vertical-align: top;\n",
              "    }\n",
              "\n",
              "    .dataframe thead th {\n",
              "        text-align: right;\n",
              "    }\n",
              "</style>\n",
              "<table border=\"1\" class=\"dataframe\">\n",
              "  <thead>\n",
              "    <tr style=\"text-align: right;\">\n",
              "      <th></th>\n",
              "      <th>docid</th>\n",
              "      <th>url</th>\n",
              "      <th>title</th>\n",
              "      <th>body</th>\n",
              "    </tr>\n",
              "  </thead>\n",
              "  <tbody>\n",
              "    <tr>\n",
              "      <th>0</th>\n",
              "      <td>D1555982</td>\n",
              "      <td>https://answers.yahoo.com/question/index?qid=2...</td>\n",
              "      <td>The hot glowing surfaces of stars emit energy ...</td>\n",
              "      <td>Science &amp; Mathematics Physics The hot glowing ...</td>\n",
              "    </tr>\n",
              "    <tr>\n",
              "      <th>1</th>\n",
              "      <td>D301595</td>\n",
              "      <td>http://childparenting.about.com/od/physicalemo...</td>\n",
              "      <td>Developmental Milestones and Your 8-Year-Old C...</td>\n",
              "      <td>School-Age Kids Growth &amp; Development Developme...</td>\n",
              "    </tr>\n",
              "    <tr>\n",
              "      <th>2</th>\n",
              "      <td>D1359209</td>\n",
              "      <td>http://visihow.com/Check_for_Lice_Nits</td>\n",
              "      <td>Check for Lice Nits</td>\n",
              "      <td>Check for Lice Nits Edited by Mian Sheilette O...</td>\n",
              "    </tr>\n",
              "    <tr>\n",
              "      <th>3</th>\n",
              "      <td>D2147834</td>\n",
              "      <td>http://www.nytimes.com/2010/01/05/business/glo...</td>\n",
              "      <td>Dubai Opens a Tower to Beat All</td>\n",
              "      <td>Global Business Dubai Opens a Tower to Beat Al...</td>\n",
              "    </tr>\n",
              "    <tr>\n",
              "      <th>4</th>\n",
              "      <td>D1568809</td>\n",
              "      <td>http://www.realtor.com/realestateandhomes-sear...</td>\n",
              "      <td>Coulterville, CA Real Estate &amp; Homes for Sale</td>\n",
              "      <td>Coulterville, CA Real Estate &amp; Homes for Sale4...</td>\n",
              "    </tr>\n",
              "  </tbody>\n",
              "</table>\n",
              "</div>\n",
              "    <div class=\"colab-df-buttons\">\n",
              "\n",
              "  <div class=\"colab-df-container\">\n",
              "    <button class=\"colab-df-convert\" onclick=\"convertToInteractive('df-14af9cf1-acb3-4f58-96ef-50e6b4f75ba4')\"\n",
              "            title=\"Convert this dataframe to an interactive table.\"\n",
              "            style=\"display:none;\">\n",
              "\n",
              "  <svg xmlns=\"http://www.w3.org/2000/svg\" height=\"24px\" viewBox=\"0 -960 960 960\">\n",
              "    <path d=\"M120-120v-720h720v720H120Zm60-500h600v-160H180v160Zm220 220h160v-160H400v160Zm0 220h160v-160H400v160ZM180-400h160v-160H180v160Zm440 0h160v-160H620v160ZM180-180h160v-160H180v160Zm440 0h160v-160H620v160Z\"/>\n",
              "  </svg>\n",
              "    </button>\n",
              "\n",
              "  <style>\n",
              "    .colab-df-container {\n",
              "      display:flex;\n",
              "      gap: 12px;\n",
              "    }\n",
              "\n",
              "    .colab-df-convert {\n",
              "      background-color: #E8F0FE;\n",
              "      border: none;\n",
              "      border-radius: 50%;\n",
              "      cursor: pointer;\n",
              "      display: none;\n",
              "      fill: #1967D2;\n",
              "      height: 32px;\n",
              "      padding: 0 0 0 0;\n",
              "      width: 32px;\n",
              "    }\n",
              "\n",
              "    .colab-df-convert:hover {\n",
              "      background-color: #E2EBFA;\n",
              "      box-shadow: 0px 1px 2px rgba(60, 64, 67, 0.3), 0px 1px 3px 1px rgba(60, 64, 67, 0.15);\n",
              "      fill: #174EA6;\n",
              "    }\n",
              "\n",
              "    .colab-df-buttons div {\n",
              "      margin-bottom: 4px;\n",
              "    }\n",
              "\n",
              "    [theme=dark] .colab-df-convert {\n",
              "      background-color: #3B4455;\n",
              "      fill: #D2E3FC;\n",
              "    }\n",
              "\n",
              "    [theme=dark] .colab-df-convert:hover {\n",
              "      background-color: #434B5C;\n",
              "      box-shadow: 0px 1px 3px 1px rgba(0, 0, 0, 0.15);\n",
              "      filter: drop-shadow(0px 1px 2px rgba(0, 0, 0, 0.3));\n",
              "      fill: #FFFFFF;\n",
              "    }\n",
              "  </style>\n",
              "\n",
              "    <script>\n",
              "      const buttonEl =\n",
              "        document.querySelector('#df-14af9cf1-acb3-4f58-96ef-50e6b4f75ba4 button.colab-df-convert');\n",
              "      buttonEl.style.display =\n",
              "        google.colab.kernel.accessAllowed ? 'block' : 'none';\n",
              "\n",
              "      async function convertToInteractive(key) {\n",
              "        const element = document.querySelector('#df-14af9cf1-acb3-4f58-96ef-50e6b4f75ba4');\n",
              "        const dataTable =\n",
              "          await google.colab.kernel.invokeFunction('convertToInteractive',\n",
              "                                                    [key], {});\n",
              "        if (!dataTable) return;\n",
              "\n",
              "        const docLinkHtml = 'Like what you see? Visit the ' +\n",
              "          '<a target=\"_blank\" href=https://colab.research.google.com/notebooks/data_table.ipynb>data table notebook</a>'\n",
              "          + ' to learn more about interactive tables.';\n",
              "        element.innerHTML = '';\n",
              "        dataTable['output_type'] = 'display_data';\n",
              "        await google.colab.output.renderOutput(dataTable, element);\n",
              "        const docLink = document.createElement('div');\n",
              "        docLink.innerHTML = docLinkHtml;\n",
              "        element.appendChild(docLink);\n",
              "      }\n",
              "    </script>\n",
              "  </div>\n",
              "\n",
              "\n",
              "<div id=\"df-d1ce3c69-e3d6-4bf3-ae25-8ff7446dbf6b\">\n",
              "  <button class=\"colab-df-quickchart\" onclick=\"quickchart('df-d1ce3c69-e3d6-4bf3-ae25-8ff7446dbf6b')\"\n",
              "            title=\"Suggest charts\"\n",
              "            style=\"display:none;\">\n",
              "\n",
              "<svg xmlns=\"http://www.w3.org/2000/svg\" height=\"24px\"viewBox=\"0 0 24 24\"\n",
              "     width=\"24px\">\n",
              "    <g>\n",
              "        <path d=\"M19 3H5c-1.1 0-2 .9-2 2v14c0 1.1.9 2 2 2h14c1.1 0 2-.9 2-2V5c0-1.1-.9-2-2-2zM9 17H7v-7h2v7zm4 0h-2V7h2v10zm4 0h-2v-4h2v4z\"/>\n",
              "    </g>\n",
              "</svg>\n",
              "  </button>\n",
              "\n",
              "<style>\n",
              "  .colab-df-quickchart {\n",
              "      --bg-color: #E8F0FE;\n",
              "      --fill-color: #1967D2;\n",
              "      --hover-bg-color: #E2EBFA;\n",
              "      --hover-fill-color: #174EA6;\n",
              "      --disabled-fill-color: #AAA;\n",
              "      --disabled-bg-color: #DDD;\n",
              "  }\n",
              "\n",
              "  [theme=dark] .colab-df-quickchart {\n",
              "      --bg-color: #3B4455;\n",
              "      --fill-color: #D2E3FC;\n",
              "      --hover-bg-color: #434B5C;\n",
              "      --hover-fill-color: #FFFFFF;\n",
              "      --disabled-bg-color: #3B4455;\n",
              "      --disabled-fill-color: #666;\n",
              "  }\n",
              "\n",
              "  .colab-df-quickchart {\n",
              "    background-color: var(--bg-color);\n",
              "    border: none;\n",
              "    border-radius: 50%;\n",
              "    cursor: pointer;\n",
              "    display: none;\n",
              "    fill: var(--fill-color);\n",
              "    height: 32px;\n",
              "    padding: 0;\n",
              "    width: 32px;\n",
              "  }\n",
              "\n",
              "  .colab-df-quickchart:hover {\n",
              "    background-color: var(--hover-bg-color);\n",
              "    box-shadow: 0 1px 2px rgba(60, 64, 67, 0.3), 0 1px 3px 1px rgba(60, 64, 67, 0.15);\n",
              "    fill: var(--button-hover-fill-color);\n",
              "  }\n",
              "\n",
              "  .colab-df-quickchart-complete:disabled,\n",
              "  .colab-df-quickchart-complete:disabled:hover {\n",
              "    background-color: var(--disabled-bg-color);\n",
              "    fill: var(--disabled-fill-color);\n",
              "    box-shadow: none;\n",
              "  }\n",
              "\n",
              "  .colab-df-spinner {\n",
              "    border: 2px solid var(--fill-color);\n",
              "    border-color: transparent;\n",
              "    border-bottom-color: var(--fill-color);\n",
              "    animation:\n",
              "      spin 1s steps(1) infinite;\n",
              "  }\n",
              "\n",
              "  @keyframes spin {\n",
              "    0% {\n",
              "      border-color: transparent;\n",
              "      border-bottom-color: var(--fill-color);\n",
              "      border-left-color: var(--fill-color);\n",
              "    }\n",
              "    20% {\n",
              "      border-color: transparent;\n",
              "      border-left-color: var(--fill-color);\n",
              "      border-top-color: var(--fill-color);\n",
              "    }\n",
              "    30% {\n",
              "      border-color: transparent;\n",
              "      border-left-color: var(--fill-color);\n",
              "      border-top-color: var(--fill-color);\n",
              "      border-right-color: var(--fill-color);\n",
              "    }\n",
              "    40% {\n",
              "      border-color: transparent;\n",
              "      border-right-color: var(--fill-color);\n",
              "      border-top-color: var(--fill-color);\n",
              "    }\n",
              "    60% {\n",
              "      border-color: transparent;\n",
              "      border-right-color: var(--fill-color);\n",
              "    }\n",
              "    80% {\n",
              "      border-color: transparent;\n",
              "      border-right-color: var(--fill-color);\n",
              "      border-bottom-color: var(--fill-color);\n",
              "    }\n",
              "    90% {\n",
              "      border-color: transparent;\n",
              "      border-bottom-color: var(--fill-color);\n",
              "    }\n",
              "  }\n",
              "</style>\n",
              "\n",
              "  <script>\n",
              "    async function quickchart(key) {\n",
              "      const quickchartButtonEl =\n",
              "        document.querySelector('#' + key + ' button');\n",
              "      quickchartButtonEl.disabled = true;  // To prevent multiple clicks.\n",
              "      quickchartButtonEl.classList.add('colab-df-spinner');\n",
              "      try {\n",
              "        const charts = await google.colab.kernel.invokeFunction(\n",
              "            'suggestCharts', [key], {});\n",
              "      } catch (error) {\n",
              "        console.error('Error during call to suggestCharts:', error);\n",
              "      }\n",
              "      quickchartButtonEl.classList.remove('colab-df-spinner');\n",
              "      quickchartButtonEl.classList.add('colab-df-quickchart-complete');\n",
              "    }\n",
              "    (() => {\n",
              "      let quickchartButtonEl =\n",
              "        document.querySelector('#df-d1ce3c69-e3d6-4bf3-ae25-8ff7446dbf6b button');\n",
              "      quickchartButtonEl.style.display =\n",
              "        google.colab.kernel.accessAllowed ? 'block' : 'none';\n",
              "    })();\n",
              "  </script>\n",
              "</div>\n",
              "    </div>\n",
              "  </div>\n"
            ],
            "application/vnd.google.colaboratory.intrinsic+json": {
              "type": "dataframe",
              "summary": "{\n  \"name\": \"df\",\n  \"rows\": 5,\n  \"fields\": [\n    {\n      \"column\": \"docid\",\n      \"properties\": {\n        \"dtype\": \"string\",\n        \"num_unique_values\": 5,\n        \"samples\": [\n          \"D301595\",\n          \"D1568809\",\n          \"D1359209\"\n        ],\n        \"semantic_type\": \"\",\n        \"description\": \"\"\n      }\n    },\n    {\n      \"column\": \"url\",\n      \"properties\": {\n        \"dtype\": \"string\",\n        \"num_unique_values\": 5,\n        \"samples\": [\n          \"http://childparenting.about.com/od/physicalemotionalgrowth/tp/Child-Development-Your-Eight-Year-Old-Child.htm\",\n          \"http://www.realtor.com/realestateandhomes-search/Coulterville_CA/pg-4\",\n          \"http://visihow.com/Check_for_Lice_Nits\"\n        ],\n        \"semantic_type\": \"\",\n        \"description\": \"\"\n      }\n    },\n    {\n      \"column\": \"title\",\n      \"properties\": {\n        \"dtype\": \"string\",\n        \"num_unique_values\": 5,\n        \"samples\": [\n          \"Developmental Milestones and Your 8-Year-Old Child\",\n          \"Coulterville, CA Real Estate & Homes for Sale\",\n          \"Check for Lice Nits\"\n        ],\n        \"semantic_type\": \"\",\n        \"description\": \"\"\n      }\n    },\n    {\n      \"column\": \"body\",\n      \"properties\": {\n        \"dtype\": \"string\",\n        \"num_unique_values\": 5,\n        \"samples\": [\n          \"School-Age Kids Growth & Development Developmental Milestones and Your 8-Year-Old Child8-Year-Olds Are Expanding Their Worlds By Katherine Lee | Reviewed by Joel Forman, MDUpdated February 10, 2018Share Pin Email Print Eight-year-olds are becoming more confident about themselves and who they are. At age 8, your child will likely have developed some interests and hobbies and will know what he or she likes or doesn't like. At the same time, children this age are learning more about the world at large and are also better able to navigate social relationships with others more independently, with less guidance from parents. At home, 8-year-olds are able to tackle more complicated household chores and take on more responsibility for taking care of themselves, even helping out with younger siblings. In general, according to the CDC, these are some changes you may see in your child: Shows more independence from parents and family. Starts to think about the future. Understands more about his or her place in the world. Pays more attention to friendships and teamwork. Wants to be liked and accepted by friends.1 Behavior and Daily Routines Fabrice Le Rouge/Getty Images The 8-year-old's behavior and daily routines are shaped by the child's taste, interests, and personality. Parents and other significant adults in the child's life should keep in mind the importance of being good role models since this is a time when children are figuring out the world and who they are and how they fit into it. At this age, your child may get involved with more complex social activities and behaviors that help define his or her sense of self. Effective discipline techniques at this age include continuing to praise good behavior, focusing your child's efforts, what they can do and change, rather than innate traits (such as \\\"you are smart\\\"). Set up and enforce consistent rules. Discipline should be aimed at guiding your child rather than punishing. Follow it with a discussion with your child about what she could do differently next time. Your 8-year-old can do more self-care in regards to hygiene and may begin to want to be part of deciding what the family eats. You might begin to give your child chores to contribute to the maintenance of the household and an allowance to begin to learn to manage money. At this age, your child still needs 10 to 11 hours of sleep per night.2 Physical Development Image Source/Getty Images For 8-year-old children, physical development will continue to be more about refinement of skills, coordination, and muscle control rather than huge changes. They begin to look like \\\"big kids,\\\" but puberty is still a couple of years away for most of them. Children with natural athletic potential may show their abilities at this developmental stage as their physical skills become more precise and accurate. In fact, this is often the age at which children decide whether they are athletic or not, and choose to participate in or avoid sports. Either way, it's important for parents to encourage physical activity. Even if your child isn't an athlete she can still enjoy running, swimming, biking, and many other types of non-sports-related physical fun.3 Emotional Development John Howard/Getty Images Eight-year-old emotional development may be growing at a deeper level than in younger years, and an 8-year-old may show more sophisticated and complex emotions and interactions. For instance, an 8-year-old may mask true thoughts or emotions to spare someone else's feelings or work through a problem without an adult's close supervision or intervention. This is the time when your child may be developing a more sophisticated sense of himself in the world. Her interests, talents, friends, and relationship with family all help her to establish a clear self-identity. It's also the beginning of desiring privacy and flip-flopping between self-confidence and self-doubt. It can be a good time to help your child develop patience and empathy for others.4 Cognitive Development Tom Merton/Getty Images Eight-year-old children are at a stage of intellectual development where they will be able to pay attention for longer periods of time. You can expect your child to be able to concentrate on an activity for up to an hour or more. Eight-year-olds will also be able to think more critically and express opinions using more complex and sophisticated vocabulary and language skills.5 Social Development Christopher Futcher/Getty Images This is the phase of social development where many children love being a part of sports teams and other social groups. In general, 8-year-old children enjoy school and will count on and value relationships with a few close friends and classmates. Parents of 8-year-olds should be on the lookout for problems such as school refusal, as this may indicate learning difficulties or being bullied at school. It is also a good age at which to discuss respecting others.6 What If My Child Is Different? Developmental milestones provide professionals and parents with a tool for comparing children to a norm. No child fits the ideal norm perfectly, and each child will have his or her personal quirks, strengths, challenges, and preferences. With that said, however, if you feel your child is far behind or ahead of the norm, it's well worth discussing the issue with your pediatrician and your child's teacher. If there are issues or opportunities, now is the time to learn about and address them. A Word From Verywell Your 8-year-old is in the full bloom of childhood. Enjoy activities and explore the world together. It's a great time to spark new interests in your child and watch her grow in every way. Sources: Anthony, Michelle. The emotional lives of 8-10-year-olds. Scholastic Publishing. Chaplin TM, Aldao A. Gender differences in emotion expression in children: A meta-analytic review Psychological Bulletin. 2013;139 (4):735-765. doi:10.1037/a0030737. Middle childhood. CDC. \",\n          \"Coulterville, CA Real Estate & Homes for Sale40 Homes sorted by Relevant Listings\\u00d7There are no homes in this area, so we've scouted surrounding areas to show you some. Try these nearby homes Multiple Listings found for 10283 Jalapa Way Listing 1 Listing 2Brokered by BERKSHIRE HATHAWAY HOMESERVICES-CALIFORNIA REALTY-SONORA24New$369,00010283 Jalapa Way , La Grange , CA 95329House for Sale3 bd 3 ba 2,100 sq ft 1.8 acres lot View details Contact Agent Brokered by homecoin21New$210,00014481 Buena Vista Ct , La Grange , CA 95329House for Sale2 bd 2 ba 1,440 sq ft 2.2 acres lot View details Contact Agent Multiple Listings found for 5448 Avenida Lugo NListing 1 Listing 2Brokered by Keller Williams Realty15Pending$72,0005448 Avenida Lugo N , La Grange , CA 95329Land10.2 acres lot View details Contact Agent Brokered by REMAX Diversified34Pending$325,0004141 La Grange Rd , La Grange , CA 95329House for Sale2 bd 3 ba 2,128 sq ft 7.8 acres lot View details Contact Agent Found 40 matching properties \",\n          \"Check for Lice Nits Edited by Mian Sheilette Ong, Eng, Lynn, Nuance and 1 other8 Parts: Everything About Head Lice, Eggs, and Nits How to Check for Head Lice, Nits, and Eggs Symptoms of Pubic Lice Symptoms of Body Lice Treatment for Body Lice Alternative Method For Removing Lice Without Harsh Chemicals Tips, Tricks and Warnings Comments Personal hygiene is a priority for everyone. With excellent personal hygiene, you will be able to carry yourself well anywhere at any given time. It will also show that you take good care of yourself. Was this helpful? Yes| No| I need help Ad Everything About Head Lice, Eggs, and Nits Even if you have excellent hygiene, ectoparasites such as lice, can strike. Most often, your child brings it home from school. If you become afflicted with such parasites, you must act quickly and make sure you are thorough in your efforts to get rid of them. Was this helpful? Yes| No| I need help Lice are wingless and very tiny. They infest your scalp and other body areas such as the pubic and armpit regions. Adult lice lay eggs. When the eggs hatch, they leave shells behind. These shells are called nits. When you see these nits on your scalp or on any area of the body, it is a neon sign of a lice infestation. You should know how to check for lice nits if you want to have a parasite-free body and scalp. It will definitely make you more confident when mingling with other people. Yes, it may be tedious and laborious, but this will help ensure a healthier lifestyle. Was this helpful? Yes| No| I need help A Basic Description of Lice Recognize lice. You should definitely know how to recognize lice. These are wingless, tiny arthropods (six-legged invertebrates) that reside on your scalp. Lice are ectoparasites that rely on your blood to survive. They are about the size of a sesame seed. Lice are like mosquitoes, but instead of flying, they do best with crawling. You can get lice by being in direct contact with someone infested with head lice. Another way would be to share items such as headbands, clips, combs, or hats. Was this helpful? Yes| No| I need help Eggs The female head lice lay eggs. These eggs are almost invisible to the naked eye because they're tiny and they blend into the color of your hair. Female head lice usually lay their eggs on the hair shafts near the hair roots. They attach with an adhesive that's naturally waterproof. That is why they cannot be blown or washed away. Was this helpful? Yes| No| I need help By the time the head lice eggs hatch, they leave empty eggshells behind. These are called nits. You could confuse nits with hairspray flakes, sand, or dandruff. Like the lice eggs, nits still have their adhesives so they cannot be removed that easily. Nits differ in coloration (brownish yellow, white). As the hair grows, the attached nits are found away from the roots. Since nits are indications of lice infestation, many schools do not admit children who have them. It is important for parents to check their children's heads for nits and eggs on a regular basis so that lice treatment could be performed immediately. Removing nits and lice eggs takes patience and a fine-toothed comb. Was this helpful? Yes| No| I need help Life Cycle of Head Lice Head lice have three phases in their life cycle (40-50 days):1 Egg phase. The mature female lays eggs that are coated with an adhesive. This adhesive is effective for attaching the eggs to the hair shafts near the hair roots. The newly hatched head lice will hatch after 10 days. Was this step helpful? Yes| No| I need help2 Nymph phase. A nymph comes out of the head lice egg. They are not that easy to see. Nymphs cannot reproduce yet because they don't have a fully developed reproductive system yet. It takes 12 days for lice nymphs to mature. Was this step helpful? Yes| No| I need help3 Adult phase. This is the phase where the nymphs are finally mature enough to produce and lay eggs. Once they are sexually mature, they can lay four to 10 eggs every day. The life of adult head lice lasts about 28 days. Don't panic, but about 280 lice eggs could be laid by one mature female before she dies. Was this step helpful? Yes| No| I need help How to Check for Head Lice, Nits, and Eggs You can tell if there is a head lice infestation when the suspected host itches all the time. Oftentimes, children scratch their heads, nape, or behind the ears. Red bumps or small wounds might also be present in these areas. Once you notice itching or bumps, immediately check your child's head. There could already be a head lice outbreak in their school. You can check for head lice, nits, and eggs by using the following steps: Was this helpful? Yes| No| I need help First Check For Lice1 Choose a relaxing place. Select a comfortable area for head lice checking. You should position your child seated in front of you. This will allow you to check all over your child's head conveniently. Do not do this on furniture that's upholstered, as lice may end up there. Go for a kitchen chair instead...you might even want to do this on the back deck. Was this step helpful? Yes| No| I need help2 Make sure there is natural light. It should be bright enough so you could detect the nits. The tiny adult lice do move quickly so you have to have appropriate lighting to see them. Head lice eggs are translucent. Moving the light around or moving under the light helps pinpoint them. Was this step helpful? Yes| No| I need help3 Fully examine the scalp. Part areas of hair and look closely at the scalp, the area behind the ears, and the nape. Was this step helpful? Yes| No| I need help The Wet Hair Technique Detecting head lice, eggs, and nits can be done by combing the hair with a fine-toothed comb. This method takes 5-15 minutes, depending on the thickness and the length of the hair. This can also be used as part of the treatment. Was this helpful? Yes| No| I need help1 Wash the hair with regular shampoo. Was this step helpful? Yes| No| I need help2 Rinse the hair thoroughly and apply regular conditioner. Use three times the amount you usually use and do not rinse it out of the hair. This makes it really easy to comb. Was this step helpful? Yes| No| I need help3 Use a regular comb to remove tangles. Was this step helpful? Yes| No| I need help4 Get a fine-toothed comb or a detection comb. There are detection combs that come with or without prescriptions, available at any drug store. Was this step helpful? Yes| No| I need help5 Comb the hair using the detection comb. Make sure that it touches the scalp and reaches the tips of the hair. Was this step helpful? Yes| No| I need help6 Work the entire head. Was this step helpful? Yes| No| I need help7 Look at the comb and check for lice, nits, and eggs. Was this step helpful? Yes| No| I need help8 If there are lice, nits, or eggs in the comb, wash it thoroughly first before running it through the hair again. Was this step helpful? Yes| No| I need help9 Continue this process over the entire head. Was this step helpful? Yes| No| I need help10 Rinse off the conditioner . Repeat the combing process to make sure every area is dealt with. Was this step helpful? Yes| No| I need help Dry Hair Technique This only takes about 3-5 minutes, depending on the hair's thickness. This is not effective for treating lice, only detecting it.1 Use an ordinary comb to untangle and straighten dry hair. Was this step helpful? Yes| No| I need help2 Use the detection comb as soon as the tangles are removed. Was this step helpful? Yes| No| I need help3 Start combing from the hair base to the hair tips. Do this about three to four times before combing the next area. Was this step helpful? Yes| No| I need help4 Examine the detection comb for lice, nits, and eggs. Was this step helpful? Yes| No| I need help5 If there are any lice, nits or eggs in the comb, rinse the comb and dry it thoroughly before using it again. Was this step helpful? Yes| No| I need help6 Perform the process until every portion of the hair is cleared. Was this step helpful? Yes| No| I need help Symptoms of Pubic Lice Pubic lice can also be acquired. This is spread through sexual intercourse. If a sexual partner detects pubic lice infestation in his or her own pubic area, both sexual partners should be treated to avoid spreading the parasites again. Pubic lice are usually grey or brown. They can be acquired from infested clothes, bedding, and towels. Pubic lice look like tiny crabs and that's why they are also known as \\\"crabs\\\". These are the symptoms you have to watch out for: Was this helpful? Yes| No| I need help1 Grey dots or brown dots present on the skin near or on the pubic area. Was this step helpful? Yes| No| I need help2 Intense level of itching. Was this step helpful? Yes| No| I need help3 White eggs on the pubic hair shafts, very close to the roots. Was this step helpful? Yes| No| I need help4 Pubic lice can also be present on the hair shafts of hair that grow on your underarms, trunk, and thighs. They could even be present in mustaches and beards. Was this step helpful? Yes| No| I need help Treatment of Pubic Lice1 Use special lice shampoos that are formulated to kill pubic lice. These shampoos work on dry pubic hair. Just be careful not to let the shampoo get in contact with mucus areas such as the anus or the vagina. The shampoo could burn or irritate the mucus areas. Leave the shampoo for on to 10 minutes. Was this step helpful? Yes| No| I need help2 Pour on enough warm water to lather the shampoo up. Was this step helpful? Yes| No| I need help3 Rinse the area thoroughly. Was this step helpful? Yes| No| I need help4 If the patient has a hairy pubic area, a detection comb should be used to check for head lice, nits, and eggs. Was this step helpful? Yes| No| I need help5 Rinse thoroughly. Was this step helpful? Yes| No| I need help6 Wash all clothes, sheets, undergarments, and towels using warm water for 20 minutes. This will ensure the death of the crabs. Was this step helpful? Yes| No| I need help7 Perform another treatment after seven to 10 days of the first treatment to get rid of the newly hatched pubic lice. Was this step helpful? Yes| No| I need help8 You might want to consider shaving the public hair to the skin, but don't do it anytime near the special shampoo. You really don't want that stuff absorbing into your skin. Was this step helpful? Yes| No| I need help Symptoms of Body Lice Body lice move to your skin to feed and then return to the seams of your clothes. They lay their eggs in the seams. Home lice sprays can be used to kill the adult lice, nits, and eggs. Spray them on non-washable objects, vehicle interiors, furniture, and mattresses. Was this helpful? Yes| No| I need help Treatment for Body Lice After ridding your body of lice, wash all linens, coats, scarves, hats (washable ones), towels, and garments using hot water. Use high heat in drying them for about 20 minutes. If the items are non-washable, have them dry-cleaned. Was this helpful? Yes| No| I need help Personal hygiene is important and checking for lice nits is a very significant part of it. Be vigilant in preventing this infestation so that you could have a lice-free, healthy lifestyle. Alternative Method For Removing Lice Without Harsh Chemicals This is an effective way to remove lice and nits from your child's hair, without the use of any dangerous chemicals. If you've got longer hair, tie it up while you're doing this process...just to be safer. Was this helpful? Yes| No| I need help What You'll Need Conditioner. Get a bottle or jar of thick conditioner - doesn't have to be expensive. Shampoo. Two towels. Four clips to hold hair out of your way. Plastic bag that will fit over the affected person's head. Fine-toothed comb. Blow dryer. Flat iron. This isn't a clothes iron, but like a curling iron, but flat. Girls use it to straighten their hair. Was this helpful? Yes| No| I need help Instructions For Dealing With Lice1 Put on your gloves. Was this step helpful? Yes| No| I need help2 Put a towel around the neck of the person you're helping. Was this step helpful? Yes| No| I need help3 Work with dry hair that has been combed to remove tangles. Was this step helpful? Yes| No| I need help4 Part the hair into four sections. Was this step helpful? Yes| No| I need help5 Smother them. Starting in the first section, from the nap of the neck, part the hair in \\u00bd inch sections, putting a big dollop of conditioner at the roots. Make the next parting, more conditioner, and so on. Was this step helpful? Yes| No| I need help6 Remove the clip each time you start a new section. Was this step helpful? Yes| No| I need help7 You'll actually see the critters crawling out of your way, and by the time you get to the front - where the bangs are, you'll see them all huddling. Was this step helpful? Yes| No| I need help8 Smother the roots with conditioner. Was this step helpful? Yes| No| I need help9 Now add tons of conditioner until the entire head is covered thickly with the conditioner. Was this step helpful? Yes| No| I need help10 Place the plastic bag over the head, only covering the hair, and clip to secure. Was this step helpful? Yes| No| I need help11 Spend a half an hour holding the blow dryer on high heat, all over the head. Make sure you don't spend too long in one place, as you might burn the person you're treating. Was this step helpful? Yes| No| I need help12 Take off the bag, and lean them over a sink or the tub. Comb the hair over and over - with the conditioner still in the hair. The comb should move fairly easily through the hair. As you comb, you'll see dead lice coming out of the hair. Comb and comb and comb. Was this step helpful? Yes| No| I need help13 Shampoo the hair - twice. Was this step helpful? Yes| No| I need help14 Clean up half way through . Throw away the gloves and the plastic bag. Put them into another plastic bag, tie it, and put it right outside in the garbage. Wash the comb and clips carefully. Put the towel you've used straight into the washer. Was this step helpful? Yes| No| I need help Instructions For Dealing With The Nits Now you've killed the lice, but you still have the nits to deal with.1 Heat up the flat iron. Was this step helpful? Yes| No| I need help2 Dry the hair completely - it cannot even be damp. Was this step helpful? Yes| No| I need help3 Section the hair the same way you did for the conditioner. Was this step helpful? Yes| No| I need help4 One section at a time - starting from the nap of the neck, iron each section of hair with the flat iron trying to get close to the scalp, but taking great care not to burn your child - or whomever you're helping. The heat of the iron will kill the nits. Was this step helpful? Yes| No| I need help5 When you're done, comb the hair. Was this step helpful? Yes| No| I need help6 Shampoo the hair and condition. Was this step helpful? Yes| No| I need help7 Keep your fingers crossed that your child or friend is now lice-free. Was this step helpful? Yes| No| I need help Tips, Tricks and Warnings Do not share personal items such as combs, underwear, and towels with other people. Choose a reputable hotel when traveling. Always remember - smother the lice - get the nits with heat. If you have problems with any of the steps in this article, please ask a question for more help, or post in the comments section below. Comments Visi How welcomes all comments. If you do not want to be anonymous, register or log in. It is free. Article Info Categories : Health & Wellness Recent edits by: Nuance, Lynn, Eng Share this Article: Discuss Print Email Edit Send fan mail to authors \"\n        ],\n        \"semantic_type\": \"\",\n        \"description\": \"\"\n      }\n    }\n  ]\n}"
            }
          },
          "metadata": {},
          "execution_count": 17
        },
        {
          "output_type": "stream",
          "name": "stdout",
          "text": [
            "time: 4.17 s (started: 2024-03-15 14:14:09 +00:00)\n"
          ]
        }
      ],
      "source": [
        "df=dd.read_table('/content/msmarco-docs.tsv',blocksize=100e6,header=None) #  partitions of 100MB\n",
        "df.columns=['docid','url','title','body']\n",
        "df.head()"
      ]
    },
    {
      "cell_type": "code",
      "execution_count": null,
      "id": "7982a03f-f966-4883-9a6f-0980a390a1db",
      "metadata": {
        "id": "7982a03f-f966-4883-9a6f-0980a390a1db",
        "colab": {
          "base_uri": "https://localhost:8080/"
        },
        "outputId": "9ad015f4-9a36-4830-e785-9ea5fd6248fe"
      },
      "outputs": [
        {
          "output_type": "stream",
          "name": "stdout",
          "text": [
            "3213835 msmarco-docs.tsv\n",
            "time: 2min 51s (started: 2024-03-15 14:15:00 +00:00)\n"
          ]
        }
      ],
      "source": [
        "# can't get the number of rows quickly :s\n",
        "# very slow:\n",
        "# len(df.index)\n",
        "\n",
        "# faster:\n",
        "os.chdir('/content/')\n",
        "!wc -l msmarco-docs.tsv"
      ]
    },
    {
      "cell_type": "markdown",
      "id": "096ad493-1139-48c2-baeb-a29905d0bdd4",
      "metadata": {
        "id": "096ad493-1139-48c2-baeb-a29905d0bdd4"
      },
      "source": [
        "- big dataset with 3m rows!\n",
        "- we want the top 100 for our queries\n",
        "- this takes some time!"
      ]
    },
    {
      "cell_type": "code",
      "execution_count": null,
      "id": "4a4912c9-64e4-4c90-8dba-1fc3cfef013b",
      "metadata": {
        "id": "4a4912c9-64e4-4c90-8dba-1fc3cfef013b",
        "colab": {
          "base_uri": "https://localhost:8080/",
          "height": 242
        },
        "outputId": "95dd1369-af9e-4d96-bd96-72953c24aca5"
      },
      "outputs": [
        {
          "output_type": "stream",
          "name": "stdout",
          "text": [
            "Number of Rows=> 92565\n"
          ]
        },
        {
          "output_type": "execute_result",
          "data": {
            "text/plain": [
              "      docid                                              title  \\\n",
              "0  D2981241                 What do you call a group of lions?   \n",
              "1   D687756                                                  .   \n",
              "2   D913099  Everything You Need To Learn How To Cook Veget...   \n",
              "3   D328017  What is the difference between latitude, longi...   \n",
              "4  D1636347                      When was the pulley invented?   \n",
              "\n",
              "                                                body  \n",
              "0  Lions Vocabulary of the English Language Word ...  \n",
              "1  The A Priori Argument ( also, Rationalization;...  \n",
              "2  Home > How To Cook Vegetables Everything You N...  \n",
              "3  Longitude Latitude Geographic Coordinate Syste...  \n",
              "4  Answers.com ® Wiki Answers ® Categories Techno...  "
            ],
            "text/html": [
              "\n",
              "  <div id=\"df-36ecabd6-33ca-442c-af20-ac64ccc6b19f\" class=\"colab-df-container\">\n",
              "    <div>\n",
              "<style scoped>\n",
              "    .dataframe tbody tr th:only-of-type {\n",
              "        vertical-align: middle;\n",
              "    }\n",
              "\n",
              "    .dataframe tbody tr th {\n",
              "        vertical-align: top;\n",
              "    }\n",
              "\n",
              "    .dataframe thead th {\n",
              "        text-align: right;\n",
              "    }\n",
              "</style>\n",
              "<table border=\"1\" class=\"dataframe\">\n",
              "  <thead>\n",
              "    <tr style=\"text-align: right;\">\n",
              "      <th></th>\n",
              "      <th>docid</th>\n",
              "      <th>title</th>\n",
              "      <th>body</th>\n",
              "    </tr>\n",
              "  </thead>\n",
              "  <tbody>\n",
              "    <tr>\n",
              "      <th>0</th>\n",
              "      <td>D2981241</td>\n",
              "      <td>What do you call a group of lions?</td>\n",
              "      <td>Lions Vocabulary of the English Language Word ...</td>\n",
              "    </tr>\n",
              "    <tr>\n",
              "      <th>1</th>\n",
              "      <td>D687756</td>\n",
              "      <td>.</td>\n",
              "      <td>The A Priori Argument ( also, Rationalization;...</td>\n",
              "    </tr>\n",
              "    <tr>\n",
              "      <th>2</th>\n",
              "      <td>D913099</td>\n",
              "      <td>Everything You Need To Learn How To Cook Veget...</td>\n",
              "      <td>Home &gt; How To Cook Vegetables Everything You N...</td>\n",
              "    </tr>\n",
              "    <tr>\n",
              "      <th>3</th>\n",
              "      <td>D328017</td>\n",
              "      <td>What is the difference between latitude, longi...</td>\n",
              "      <td>Longitude Latitude Geographic Coordinate Syste...</td>\n",
              "    </tr>\n",
              "    <tr>\n",
              "      <th>4</th>\n",
              "      <td>D1636347</td>\n",
              "      <td>When was the pulley invented?</td>\n",
              "      <td>Answers.com ® Wiki Answers ® Categories Techno...</td>\n",
              "    </tr>\n",
              "  </tbody>\n",
              "</table>\n",
              "</div>\n",
              "    <div class=\"colab-df-buttons\">\n",
              "\n",
              "  <div class=\"colab-df-container\">\n",
              "    <button class=\"colab-df-convert\" onclick=\"convertToInteractive('df-36ecabd6-33ca-442c-af20-ac64ccc6b19f')\"\n",
              "            title=\"Convert this dataframe to an interactive table.\"\n",
              "            style=\"display:none;\">\n",
              "\n",
              "  <svg xmlns=\"http://www.w3.org/2000/svg\" height=\"24px\" viewBox=\"0 -960 960 960\">\n",
              "    <path d=\"M120-120v-720h720v720H120Zm60-500h600v-160H180v160Zm220 220h160v-160H400v160Zm0 220h160v-160H400v160ZM180-400h160v-160H180v160Zm440 0h160v-160H620v160ZM180-180h160v-160H180v160Zm440 0h160v-160H620v160Z\"/>\n",
              "  </svg>\n",
              "    </button>\n",
              "\n",
              "  <style>\n",
              "    .colab-df-container {\n",
              "      display:flex;\n",
              "      gap: 12px;\n",
              "    }\n",
              "\n",
              "    .colab-df-convert {\n",
              "      background-color: #E8F0FE;\n",
              "      border: none;\n",
              "      border-radius: 50%;\n",
              "      cursor: pointer;\n",
              "      display: none;\n",
              "      fill: #1967D2;\n",
              "      height: 32px;\n",
              "      padding: 0 0 0 0;\n",
              "      width: 32px;\n",
              "    }\n",
              "\n",
              "    .colab-df-convert:hover {\n",
              "      background-color: #E2EBFA;\n",
              "      box-shadow: 0px 1px 2px rgba(60, 64, 67, 0.3), 0px 1px 3px 1px rgba(60, 64, 67, 0.15);\n",
              "      fill: #174EA6;\n",
              "    }\n",
              "\n",
              "    .colab-df-buttons div {\n",
              "      margin-bottom: 4px;\n",
              "    }\n",
              "\n",
              "    [theme=dark] .colab-df-convert {\n",
              "      background-color: #3B4455;\n",
              "      fill: #D2E3FC;\n",
              "    }\n",
              "\n",
              "    [theme=dark] .colab-df-convert:hover {\n",
              "      background-color: #434B5C;\n",
              "      box-shadow: 0px 1px 3px 1px rgba(0, 0, 0, 0.15);\n",
              "      filter: drop-shadow(0px 1px 2px rgba(0, 0, 0, 0.3));\n",
              "      fill: #FFFFFF;\n",
              "    }\n",
              "  </style>\n",
              "\n",
              "    <script>\n",
              "      const buttonEl =\n",
              "        document.querySelector('#df-36ecabd6-33ca-442c-af20-ac64ccc6b19f button.colab-df-convert');\n",
              "      buttonEl.style.display =\n",
              "        google.colab.kernel.accessAllowed ? 'block' : 'none';\n",
              "\n",
              "      async function convertToInteractive(key) {\n",
              "        const element = document.querySelector('#df-36ecabd6-33ca-442c-af20-ac64ccc6b19f');\n",
              "        const dataTable =\n",
              "          await google.colab.kernel.invokeFunction('convertToInteractive',\n",
              "                                                    [key], {});\n",
              "        if (!dataTable) return;\n",
              "\n",
              "        const docLinkHtml = 'Like what you see? Visit the ' +\n",
              "          '<a target=\"_blank\" href=https://colab.research.google.com/notebooks/data_table.ipynb>data table notebook</a>'\n",
              "          + ' to learn more about interactive tables.';\n",
              "        element.innerHTML = '';\n",
              "        dataTable['output_type'] = 'display_data';\n",
              "        await google.colab.output.renderOutput(dataTable, element);\n",
              "        const docLink = document.createElement('div');\n",
              "        docLink.innerHTML = docLinkHtml;\n",
              "        element.appendChild(docLink);\n",
              "      }\n",
              "    </script>\n",
              "  </div>\n",
              "\n",
              "\n",
              "<div id=\"df-9011f9ac-0caa-432a-874e-ead31662a270\">\n",
              "  <button class=\"colab-df-quickchart\" onclick=\"quickchart('df-9011f9ac-0caa-432a-874e-ead31662a270')\"\n",
              "            title=\"Suggest charts\"\n",
              "            style=\"display:none;\">\n",
              "\n",
              "<svg xmlns=\"http://www.w3.org/2000/svg\" height=\"24px\"viewBox=\"0 0 24 24\"\n",
              "     width=\"24px\">\n",
              "    <g>\n",
              "        <path d=\"M19 3H5c-1.1 0-2 .9-2 2v14c0 1.1.9 2 2 2h14c1.1 0 2-.9 2-2V5c0-1.1-.9-2-2-2zM9 17H7v-7h2v7zm4 0h-2V7h2v10zm4 0h-2v-4h2v4z\"/>\n",
              "    </g>\n",
              "</svg>\n",
              "  </button>\n",
              "\n",
              "<style>\n",
              "  .colab-df-quickchart {\n",
              "      --bg-color: #E8F0FE;\n",
              "      --fill-color: #1967D2;\n",
              "      --hover-bg-color: #E2EBFA;\n",
              "      --hover-fill-color: #174EA6;\n",
              "      --disabled-fill-color: #AAA;\n",
              "      --disabled-bg-color: #DDD;\n",
              "  }\n",
              "\n",
              "  [theme=dark] .colab-df-quickchart {\n",
              "      --bg-color: #3B4455;\n",
              "      --fill-color: #D2E3FC;\n",
              "      --hover-bg-color: #434B5C;\n",
              "      --hover-fill-color: #FFFFFF;\n",
              "      --disabled-bg-color: #3B4455;\n",
              "      --disabled-fill-color: #666;\n",
              "  }\n",
              "\n",
              "  .colab-df-quickchart {\n",
              "    background-color: var(--bg-color);\n",
              "    border: none;\n",
              "    border-radius: 50%;\n",
              "    cursor: pointer;\n",
              "    display: none;\n",
              "    fill: var(--fill-color);\n",
              "    height: 32px;\n",
              "    padding: 0;\n",
              "    width: 32px;\n",
              "  }\n",
              "\n",
              "  .colab-df-quickchart:hover {\n",
              "    background-color: var(--hover-bg-color);\n",
              "    box-shadow: 0 1px 2px rgba(60, 64, 67, 0.3), 0 1px 3px 1px rgba(60, 64, 67, 0.15);\n",
              "    fill: var(--button-hover-fill-color);\n",
              "  }\n",
              "\n",
              "  .colab-df-quickchart-complete:disabled,\n",
              "  .colab-df-quickchart-complete:disabled:hover {\n",
              "    background-color: var(--disabled-bg-color);\n",
              "    fill: var(--disabled-fill-color);\n",
              "    box-shadow: none;\n",
              "  }\n",
              "\n",
              "  .colab-df-spinner {\n",
              "    border: 2px solid var(--fill-color);\n",
              "    border-color: transparent;\n",
              "    border-bottom-color: var(--fill-color);\n",
              "    animation:\n",
              "      spin 1s steps(1) infinite;\n",
              "  }\n",
              "\n",
              "  @keyframes spin {\n",
              "    0% {\n",
              "      border-color: transparent;\n",
              "      border-bottom-color: var(--fill-color);\n",
              "      border-left-color: var(--fill-color);\n",
              "    }\n",
              "    20% {\n",
              "      border-color: transparent;\n",
              "      border-left-color: var(--fill-color);\n",
              "      border-top-color: var(--fill-color);\n",
              "    }\n",
              "    30% {\n",
              "      border-color: transparent;\n",
              "      border-left-color: var(--fill-color);\n",
              "      border-top-color: var(--fill-color);\n",
              "      border-right-color: var(--fill-color);\n",
              "    }\n",
              "    40% {\n",
              "      border-color: transparent;\n",
              "      border-right-color: var(--fill-color);\n",
              "      border-top-color: var(--fill-color);\n",
              "    }\n",
              "    60% {\n",
              "      border-color: transparent;\n",
              "      border-right-color: var(--fill-color);\n",
              "    }\n",
              "    80% {\n",
              "      border-color: transparent;\n",
              "      border-right-color: var(--fill-color);\n",
              "      border-bottom-color: var(--fill-color);\n",
              "    }\n",
              "    90% {\n",
              "      border-color: transparent;\n",
              "      border-bottom-color: var(--fill-color);\n",
              "    }\n",
              "  }\n",
              "</style>\n",
              "\n",
              "  <script>\n",
              "    async function quickchart(key) {\n",
              "      const quickchartButtonEl =\n",
              "        document.querySelector('#' + key + ' button');\n",
              "      quickchartButtonEl.disabled = true;  // To prevent multiple clicks.\n",
              "      quickchartButtonEl.classList.add('colab-df-spinner');\n",
              "      try {\n",
              "        const charts = await google.colab.kernel.invokeFunction(\n",
              "            'suggestCharts', [key], {});\n",
              "      } catch (error) {\n",
              "        console.error('Error during call to suggestCharts:', error);\n",
              "      }\n",
              "      quickchartButtonEl.classList.remove('colab-df-spinner');\n",
              "      quickchartButtonEl.classList.add('colab-df-quickchart-complete');\n",
              "    }\n",
              "    (() => {\n",
              "      let quickchartButtonEl =\n",
              "        document.querySelector('#df-9011f9ac-0caa-432a-874e-ead31662a270 button');\n",
              "      quickchartButtonEl.style.display =\n",
              "        google.colab.kernel.accessAllowed ? 'block' : 'none';\n",
              "    })();\n",
              "  </script>\n",
              "</div>\n",
              "    </div>\n",
              "  </div>\n"
            ],
            "application/vnd.google.colaboratory.intrinsic+json": {
              "type": "dataframe",
              "summary": "{\n  \"name\": \"our_docs\",\n  \"rows\": 5,\n  \"fields\": [\n    {\n      \"column\": \"docid\",\n      \"properties\": {\n        \"dtype\": \"string\",\n        \"num_unique_values\": 5,\n        \"samples\": [\n          \"D687756\",\n          \"D1636347\",\n          \"D913099\"\n        ],\n        \"semantic_type\": \"\",\n        \"description\": \"\"\n      }\n    },\n    {\n      \"column\": \"title\",\n      \"properties\": {\n        \"dtype\": \"string\",\n        \"num_unique_values\": 5,\n        \"samples\": [\n          \".\",\n          \"When was the pulley invented?\",\n          \"Everything You Need To Learn How To Cook Vegetables\"\n        ],\n        \"semantic_type\": \"\",\n        \"description\": \"\"\n      }\n    },\n    {\n      \"column\": \"body\",\n      \"properties\": {\n        \"dtype\": \"string\",\n        \"num_unique_values\": 5,\n        \"samples\": [\n          \"The A Priori Argument ( also, Rationalization; Dogmatism, Proof Texting. ): A corrupt argument from logos, starting with a given, pre-set belief, dogma, doctrine, scripture verse, \\\"fact\\\" or conclusion and then searching for any reasonable or reasonable-sounding argument to rationalize, defend or justify it. Certain ideologues and religious fundamentalists are proud to use this fallacy as their primary method of \\\"reasoning\\\" and some are even honest enough to say so. E.g., since we know there is no such thing as \\\"evolution,\\\" a prime duty of believers is to look for ways to explain away growing evidence, such as is found in DNA, that might suggest otherwise. See also the Argument from Ignorance. The opposite of this fallacy is the Taboo. Ableism (also, The Con Artist's Fallacy; The Dacoit's Fallacy; Shearing the Sheeple; Profiteering; \\\"Vulture Capitalism,\\\" \\\"Wealth is disease, and I am the cure. \\\"): A corrupt argument from ethos, arguing that because someone is intellectually slower, physically or emotionally less capable, less ambitious, less aggressive, older or less healthy (or simply more trusting or less lucky) than others, s/he \\\"naturally\\\" deserves less in life and may be freely victimized by those who are luckier, quicker, younger, stronger, healthier, greedier, more powerful, less moral or more gifted (or who simply have more immediate felt need for money, often involving some form of addiction). This fallacy is a \\\"softer\\\" argumentum ad baculum. When challenged, those who practice this fallacy seem to most often shrug their shoulders and mumble \\\"Life is ruff and you gotta be tuff [ sic ],\\\" \\\"You gotta do what you gotta do to get ahead in this world,\\\" \\\"It's no skin off my nose,\\\" \\\"That's free enterprise,\\\" \\\"That's the way life is!\\\" or similar. Actions have Consequences: The contemporary fallacy of a person in power falsely describing an imposed punishment or penalty as a \\\"consequence\\\" of another's negative act. E.g.,\\\" The consequences of your misbehavior could include suspension or expulsion.\\\" A corrupt argument from ethos, arrogating to oneself or to one's rules or laws an ethos of cosmic inevitability, i.e., the ethos of God, Fate, Karma, Destiny or Reality Itself. Illness or food poisoning are likely \\\"consequences\\\" of eating spoiled food, while being \\\"grounded\\\" is a punishment for, not a \\\"consequence,\\\" of childhood misbehavior. Freezing to death is a natural \\\"consequence\\\" of going out naked in subzero weather but going to prison is a punishment for bank robbery, not a natural, inevitable or unavoidable \\\"consequence,\\\" of robbing a bank. Not to be confused with the Argument from Consequences, which is quite different. See also Blaming the Victim. An opposite fallacy is that of Moral Licensing. The Ad Hominem Argument (also, \\\"Personal attack,\\\" \\\"Poisoning the well\\\"): The fallacy of attempting to refute an argument by attacking the opposition\\u2019s intelligence, morals, education, professional qualifications, personal character or reputation, using a corrupted negative argument from ethos. E.g., \\\"That so-called judge;\\\" or \\\"He's so evil that you can't believe anything he says.\\\" See also \\\"Guilt by Association.\\\" The opposite of this is the \\\"Star Power\\\" fallacy. Another obverse of Ad Hominem is the Token Endorsement Fallacy, where, in the words of scholar Lara Bhasin, \\\"Individual A has been accused of anti-Semitism, but Individual B is Jewish and says Individual A is not anti-Semitic, and the implication of course is that we can believe Individual B because, being Jewish, he has special knowledge of anti- Semitism. Or, a presidential candidate is accused of anti-Muslim bigotry, but someone finds a testimony from a Muslim who voted for said candidate, and this is trotted out as evidence against the candidate's bigotry.\\\" The same fallacy would apply to a sports team offensively named after a marginalized ethnic group, but which has obtained the endorsement (freely given or paid) of some member, traditional leader or tribal council of that marginalized group so that the otherwise-offensive team name and logo magically become \\\"okay\\\" and nonracist. The Affective Fallacy ( also The Romantic Fallacy; Emotion over Reflection; \\\"Follow Your Heart\\\"): An extremely common modern fallacy of Pathos, that one's emotions, urges or \\\"feelings\\\" are innate and in every case self-validating, autonomous, and above any human intent or act of will (one's own or others'), and are thus immune to challenge or criticism. (In fact, researchers now [2017] have robust scientific evidence that emotions are actually cognitive and not innate.) In this fallacy one argues, \\\"I feel it, so it must be true. My feelings are valid, so you have no right to criticize what I say or do, or how I say or do it.\\\" This latter is also a fallacy of stasis, confusing a respectful and reasoned response or refutation with personal invalidation, disrespect, prejudice, bigotry, sexism, homophobia or hostility. A grossly sexist form of the Affective Fallacy is the well-known crude fallacy that the phallus \\\"Has no conscience\\\" (also, \\\"A man's gotta do what a man's gotta do;\\\" \\\"Thinking with your other head. \\\"), i.e., since (male) sexuality is self-validating and beyond voluntary control what one does with it cannot be controlled either and such actions are not open to criticism, an assertion eagerly embraced and extended beyond the male gender in certain reifications of \\\"Desire\\\" in contemporary academic theory. See also, Playing on Emotion. Opposite to this fallacy is the Chosen Emotion Fallacy (thanks to scholar Marc Lawson for identifying this fallacy), in which one falsely claims complete, or at least reliable prior voluntary control over one's own autonomic, \\\"gut level\\\" affective reactions. Closely related if not identical to this last is the ancient fallacy of Angelism, falsely claiming that one is capable of \\\"objective\\\" reasoning and judgment without emotion, claiming for oneself a viewpoint of Olympian \\\"disinterested objectivity\\\" or pretending to place oneself far above all personal feelings, temptations or bias. See also, Mortification. Alphabet Soup: A corrupt modern implicit fallacy from ethos in which a person inappropriately overuses acronyms, abbreviations, form numbers and arcane insider \\\"shop talk\\\" primarily to prove to an audience that s/he \\\"speaks their language\\\" and is \\\"one of them\\\" and to shut out, confuse or impress outsiders. E.g., \\\"It's not uncommon for a K-12 with ASD to be both GT and LD;\\\" \\\"I had a twenty-minute DX Q-so on 15 with a Zed-S1 and a couple of LU2's even though the QR-Nancy was 10 over S9;\\\" or \\\"I hope I'll keep on seeing my BAQ on my LES until the day I get my DD214.\\\" See also, Name Calling. This fallacy has recently become common in media pharmaceutical advertising in the United States, where \\\"Alphabet Soup\\\" is used to create false identification with and to exploit patient groups suffering from specific illnesses or conditions, e.g., \\\"If you have DPC with associated ZL you can keep your B2D under control with Luglugmena \\u00ae. Ask your doctor today about Luglugmena \\u00ae Helium Tetracarbide lozenges to control symptoms of ZL and to keep your B2D under that crucial 7.62 threshold. Side effects of Luglugmena \\u00ae may include K4 Syndrome which may lead to lycanthropic bicephaly, BMJ and occasionally, death. Do not take Luglugmena \\u00aeif you are allergic to dogbite or have type D Flinder's Garbosis...\\\"Alternative Truth (also, Alt Facts; Counterknowledge; Disinformation; Information Pollution): A newly-famous contemporary fallacy of logos rooted in postmodernism, denying the resilience of facts or truth as such. Writer Hannah Arendt, in her The Origins of Totalitarianism (1951) warned that \\\"The ideal subject of totalitarian rule is not the convinced Nazi or the dedicated communist, but people for whom the distinction between fact and fiction, true and false, no longer exists.\\\" Journalist Leslie Grass (2017) writes in her Blog Reachoutrecovery.com, \\\"Is there someone in your life who insists things happened that didn\\u2019t happen, or has a completely different version of events in which you have the facts? It\\u2019s a form of mind control and is very common among families dealing with substance and behavior problems.\\\" She suggests that such \\\"Alternate Facts\\\" work to \\\"put you off balance,\\\" \\\"control the story,\\\" and \\\"make you think you're crazy,\\\" and she notes that \\\"presenting alternate facts is the hallmark of untrustworthy people.\\\" The Alternative Truth fallacy is related to the Big Lie Technique. See also Gaslighting, Blind Loyalty, The Big Brain/Little Brain Fallacy, and Two Truths The Appeal to Closure: The contemporary fallacy that an argument, standpoint, action or conclusion no matter how questionable must be accepted as final or else the point will remain unsettled, which is unthinkable because those affected will be denied \\\"closure.\\\" This fallacy falsely reifies a specialized term (closure) from Gestalt Psychology while refusing to recognize the undeniable truth that some points will indeed remain open and unsettled, perhaps forever. E.g., \\\"Society would be protected, real punishment would be inflicted, crime would be deterred and justice served if we sentenced you to life without parole, but we need to execute you in order to provide some closure.\\\" See also, Argument from Ignorance, and Argument from Consequences. The opposite of this fallacy is the Paralysis of Analysis. The Appeal to Heaven: (also, Argumentum ad Coelum, Deus Vult, Gott mit Uns, Manifest Destiny, American Exceptionalism, or the Special Covenant): An ancient, extremely dangerous fallacy (a deluded argument from ethos) that of claiming to know the mind of God (or History, or a higher power), who has allegedly ordered or anointed, supports or approves of one's own country, standpoint or actions so no further justification is required and no serious challenge is possible. (E.g., \\\"God ordered me to kill my children,\\\" or \\\"We need to take away your land, since God [or Scripture, or Manifest Destiny, or Fate, or Heaven] has given it to us as our own.\\\") A private individual who seriously asserts this fallacy risks ending up in a psychiatric ward, but groups or nations who do it are far too often taken seriously. Practiced by those who will not or cannot tell God's will from their own, this vicious (and blasphemous) fallacy has been the cause of endless bloodshed over history. See also, Moral Superiority, and Magical Thinking. Also applies to deluded negative Appeals to Heaven, e.g., \\\"You say that famine and ecological collapse due to climate change are real dangers during the coming century, but I know God wouldn't ever let that happen to us!\\\" The opposite of the Appeal to Heaven is the Job's Comforter fallacy. The Appeal to Nature (also, Biologizing; The Green Fallacy): The contemporary romantic fallacy of ethos (that of \\\"Mother Nature\\\") that if something is \\\"natural\\\" it has to be good, healthy and beneficial. E.g., \\\"Our premium herb tea is lovingly brewed from the finest freshly-picked and delicately dried natural T. Radicans leaves. Those who dismiss it as mere 'Poison Ivy' don't understand that it's 100% organic, with no additives, GMO's or artificial ingredients It's time to Go Green and lay back in Mother's arms.\\\" One who employs or falls for this fallacy forgets the old truism that left to itself, nature is indeed \\\"red in tooth and claw.\\\" This fallacy also applies to arguments alleging that something is \\\"unnatural,\\\" or \\\"against nature\\\" and thus evil ( The Argument from Natural Law) e.g. \\\"Homosexuality should be outlawed because it's against nature,\\\" arrogating to oneself the authority to define what is \\\"natural\\\" and what is unnatural or perverted. E.g., during the American Revolution British sources widely condemned rebellion against King George III as \\\"unnatural,\\\" and American revolutionaries as \\\"perverts,\\\" because the Divine Right of Kings represented Natural Law, and according to 1 Samuel 15:23 in the Bible, rebellion is like unto witchcraft. The Appeal to Pity: (also, \\\"Argumentum ad Miserecordiam\\\"): The fallacy of urging an audience to \\u201croot for the underdog\\u201d regardless of the issues at hand. A classic example is, \\u201cThose poor, cute little squeaky mice are being gobbled up by mean, nasty cats ten times their size!\\u201d A contemporary example might be America's uncritical popular support for the Arab Spring movement of 2010-2012 in which The People (\\\"The underdogs\\\") were seen to be heroically overthrowing cruel dictatorships, a movement that has resulted in retrospect in chaos, impoverishment, anarchy, mass suffering, civil war, the regional collapse of civilization and rise of extremism, and the largest refugee crisis since World War II. A corrupt argument from pathos. See also, Playing to Emotions. The opposite of the Appeal to Pity is the Appeal to Rigor, an argument (often based on machismo or on manipulating an audience's fear) based on mercilessness. E.g., \\\"I'm a real man, not like those bleeding hearts, and I'll be tough on [fill in the name of the enemy or bogeyman of the hour].\\\" In academia this latter fallacy applies to politically-motivated or elitist calls for \\\"Academic Rigor,\\\" and rage against university developmental / remedial classes, open admissions, \\\"dumbing down\\\" and \\\"grade inflation. \\\"The Appeal to Tradition: (also, Conservative Bias; Back in Those Good Times, \\\"The Good Old Days\\\"): The ancient fallacy that a standpoint, situation or action is right, proper and correct simply because it has \\\"always\\\" been that way, because people have \\\"always\\\" thought that way, or because it was that way long ago (most often meaning in the audience members' youth or childhood, not before) and still continues to serve one particular group very well. A corrupted argument from ethos (that of past generations). E.g., \\\"In America, women have always been paid less, so let's not mess with long-standing tradition.\\\" See also Argument from Inertia, and Default Bias. The opposite of this fallacy is The Appeal to Novelty (also, \\\"Pro-Innovation bias,\\\" \\\"Recency Bias,\\\" and \\\"The Bad Old Days;\\\" The Early Adopter's Fallacy), e.g., \\\"It's NEW, and [therefore it must be] improved!\\\" or \\\"This is the very latest discovery--it has to be better. \\\"Appeasement (also, \\\"Assertiveness,\\\" \\\"The squeaky wheel gets the grease;\\\" \\\"I know my rights! \\\"): This fallacy, most often popularly connected to the shameful pre-World War II appeasement of Hitler, is in fact still commonly practiced in public agencies, education and retail business today, e.g. \\\"Customers are always right, even when they're wrong. Don't argue with them, just give'em what they want so they'll shut up and go away, and not make a stink--it's cheaper and easier than a lawsuit.\\\" Widespread unchallenged acceptance of this fallacy encourages offensive, uncivil public behavior and sometimes the development of a coarse subculture of obnoxious, \\\"assertive\\\" manipulators who, like \\\"spoiled\\\" children, leverage their knowledge of how to figuratively (or sometimes even literally!) \\\"make a stink\\\" into a primary coping skill in order to get what they want when they want it. The works of the late Community Organizing guru Saul Alinsky suggest practical, nonviolent ways for groups to harness the power of this fallacy to promote social change, for good or for evil.. See also Bribery. The Argument from Consequences (also, Outcome Bias): The major fallacy of logos, arguing that something cannot be true because if it were the consequences or outcome would be unacceptable. (E.g., \\\"Global climate change cannot be caused by human burning of fossil fuels, because if it were, switching to non-polluting energy sources would bankrupt American industry,\\\" or \\\"Doctor, that's wrong! I can't have terminal cancer, because if I did that'd mean that I won't live to see my kids get married!\\\") Not to be confused with Actions have Consequences. The Argument from Ignorance (also, Argumentum ad Ignorantiam): The fallacy that since we don\\u2019t know (or can never know, or cannot prove) whether a claim is true or false, it must be false, or it must be true. E.g., \\u201cScientists are never going to be able to positively prove their crazy theory that humans evolved from other creatures, because we weren't there to see it! So, that proves the Genesis six-day creation account is literally true as written!\\u201d This fallacy includes Attacking the Evidence (also, \\\"Whataboutism\\\"; The Missing Link fallacy), e.g. \\\"Some or all of your key evidence is missing, incomplete, or even faked! What about that? That proves you're wrong and I'm right!\\\" This fallacy usually includes fallacious \\u201cEither-Or Reasoning\\u201d as well: E.g., \\u201cThe vet can't find any reasonable explanation for why my dog died. See! See! That proves that you poisoned him! There\\u2019s no other logical explanation!\\u201d A corrupted argument from logos, and a fallacy commonly found in American political, judicial and forensic reasoning. The recently famous \\\"Flying Spaghetti Monster\\\" meme is a contemporary refutation of this fallacy--simply because we cannot conclusively disprove the existence of such an absurd entity does not argue for its existence. See also A Priori Argument, Appeal to Closure, The Simpleton's Fallacy, and Argumentum ex Silentio. The Argument from Incredulity: The popular fallacy of doubting or rejecting a novel claim or argument out of hand simply because it appears superficially \\\"incredible,\\\" \\\"insane\\\" or \\\"crazy,\\\" or because it goes against one's own personal beliefs, prior experience or ideology. This cynical fallacy falsely elevates the saying popularized by Carl Sagan, that \\\"Extraordinary claims require extraordinary proof,\\\" to an absolute law of logic. See also Hoyle's Fallacy. The common, popular-level form of this fallacy is dismissing surprising, extraordinary or unfamiliar arguments and evidence with a wave of the hand, a shake of the head, and a mutter of \\\"that's crazy! \\\"The Argument from Inertia (also \\u201cStay the Course\\u201d): The fallacy that it is necessary to continue on a mistaken course of action regardless of pain and sacrifice involved and even after discovering it is mistaken, because changing course would mean admitting that one's decision (or one's leader, or one's country, or one's faith) was wrong, and all one's effort, expense, sacrifice and even bloodshed was for nothing, and that's unthinkable. A variety of the Argument from Consequences, E for Effort, or the Appeal to Tradition. See also \\\"Throwing Good Money After Bad. \\\"The Argument from Motives (also Questioning Motives): The fallacy of declaring a standpoint or argument invalid solely because of the evil, corrupt or questionable motives of the one making the claim. E.g., \\\"Bin Laden wanted us to withdraw from Afghanistan, so we have to keep up the fight!\\\" Even evil people with the most corrupt motives sometimes say the truth (and even good people with the highest and purest motives are often wrong or mistaken). A variety of the Ad Hominem argument. The opposite side of this fallacy is falsely justifying or excusing evil or vicious actions because of the perpetrator's aparent purity of motives or lack of malice. (E.g., \\\"Sure, she may have beaten her children bloody now and again but she was a highly educated, ambitious professional woman at the end of her rope, deprived of adult conversation and stuck between four walls for years on end with a bunch of screaming, fighting brats, doing the best she could with what little she had. How can you stand there and accuse her of child abuse?\\\") See also Moral Licensing. Argumentum ad Baculum (\\\"Argument from the Club.\\\" Also, \\\"Argumentum ad Baculam,\\\" \\\"Argument from Strength,\\\" \\\"Muscular Leadership,\\\" \\\"Non-negotiable Demands,\\\" \\\"Hard Power,\\\" Bullying, The Power-Play, Fascism, Resolution by Force of Arms, Shock and Awe. ): The fallacy of \\\"persuasion\\\" or \\\"proving one is right\\\" by force, violence, brutality, terrorism, superior strength, raw military might, or threats of violence. E.g., \\\"Gimmee your wallet or I'll knock your head off!\\\" or \\\"We have the perfect right to take your land, since we have the big guns and you don't.\\\" Also applies to indirect forms of threat. E.g., \\\"Give up your foolish pride, kneel down and accept our religion today if you don't want to burn in hell forever and ever!\\\" A mainly discursive Argumentum ad Baculum is that of forcibly silencing opponents, ruling them \\\"out of order,\\\" blocking, censoring or jamming their message, or simply speaking over them or/speaking more loudly than they do, this last a tactic particularly attributed to men in mixed-gender discussions. Argumentum ad Mysteriam (\\\"Argument from Mystery;\\\" also Mystagogy. ): A darkened chamber, incense, chanting or drumming, bowing and kneeling, special robes or headgear, holy rituals and massed voices reciting sacred mysteries in an unknown tongue have a quasi-hypnotic effect and can often persuade more strongly than any logical argument. The Puritan Reformation was in large part a rejection of this fallacy. When used knowingly and deliberately this fallacy is particularly vicious and accounts for some of the fearsome persuasive power of cults. An example of an Argumentum ad Mysteriam is the \\\" Long Ago and Far Away \\\" fallacy, the fact that facts, evidence, practices or arguments from ancient times, distant lands and/or \\\"exotic\\\" cultures seem to acquire a special gravitas or ethos simply because of their antiquity, language or origin, e.g., publicly chanting Holy Scriptures in their original (most often incomprehensible) ancient languages, preferring the Greek, Latin, Assyrian or Old Slavonic Christian Liturgies over their vernacular versions, or using classic or newly invented Greek and Latin names for fallacies in order to support their validity. See also, Esoteric Knowledge. An obverse of the Argumentum ad Mysteriam is the Standard Version Fallacy. Argumentum ex Silentio (Argument from Silence): The fallacy that if available sources remain silent or current knowledge and evidence can prove nothing about a given subject or question this fact in itself proves the truth of one's claim. E.g., \\\"Science can tell us nothing about God. That proves God doesn't exist.\\\" Or \\\"Science admits it can tell us nothing about God, so you can't deny that God exists!\\\" Often misused in the American justice system, where, contrary to the 5th Amendment and the legal presumption of innocence until proven guilty, remaining silent or \\\"taking the Fifth\\\" is often falsely portrayed as proof of guilt. E.g., \\\"Mr. Hixon can offer no alibi for his whereabouts the evening of January 15th. This proves that he was in fact in room 331 at the Smuggler's Inn, murdering his wife with a hatchet!\\\" In today's America, choosing to remain silent in the face of a police officer's questions can make one guilty enough to be arrested or even shot. See also, Argument from Ignorance. Availability Bias (also, Attention Bias, Anchoring Bias): A fallacy of logos stemming from the natural tendency to give undue attention and importance to information that is immediately available at hand, particularly the first or last information received, and to minimize or ignore broader data or wider evidence that clearly exists but is not as easily remembered or accessed. E.g., \\\"We know from experience that this doesn't work,\\\" when \\\"experience\\\" means the most recent local attempt, ignoring overwhelming experience from other places and times where it ha s worked and does work. Also related is the fallacy of Hyperbole [also, Magnification, or sometimes Catastrophizing] where an immediate instance is immediately proclaimed \\\"the most significant in all of human history,\\\" or the \\\"worst in the whole world!\\\" This latter fallacy works extremely well with less-educated audiences and those whose \\\"whole world\\\" is very small indeed, audiences who \\\"hate history\\\" and whose historical memory spans several weeks at best. The Bandwagon Fallacy (also, Argument from Common Sense, Argumentum ad Populum): The fallacy of arguing that because \\\"everyone,\\\" \\\"the people,\\\" or \\\"the majority\\\" (or someone in power who has widespread backing) supposedly thinks or does something, it must therefore be true and right. E.g., \\\"Whether there actually is large scale voter fraud in America or not, many people now think there is and that makes it so.\\\" Sometimes also includes Lying with Statistics, e.g. \\u201cOver 75% of Americans believe that crooked Bob Hodiak is a thief, a liar and a pervert. There may not be any evidence, but for anyone with half a brain that conclusively proves that Crooked Bob should go to jail! Lock him up! Lock him up!\\u201d This is sometimes combined with the \\\"Argumentum ad Baculum,\\\" e.g., \\\"Like it or not, it's time to choose sides: Are you going to get on board the bandwagon with everyone else, or get crushed under the wheels as it goes by?\\\" Or in the 2017 words of former White House spokesperson Sean Spicer, \\\"\\\"They should either get with the program or they can go,\\\" A contemporary digital form of the Bandwagon Fallacy is the Information Cascade, \\\" in which people echo the opinions of others, usually online, even when their own opinions or exposure to information contradicts that opinion. When information cascades form a pattern, this pattern can begin to overpower later opinions by making it seem as if a consensus already exists.\\\" (Thanks to Teaching Tolerance for this definition!) See also Wisdom of the Crowd, and The Big Lie Technique. For the opposite of this fallacy see the Romantic Rebel fallacy. The Big Brain/Little Brain Fallacy (also, the F\\u00fchrerprinzip; Mad Leader Disease): A not-uncommon but extreme example of the Blind Loyalty Fallacy below, in which a tyrannical boss, military commander, or religious or cult-leader tells followers \\\"Don't think with your little brains (the brain in your head), but with your BIG brain (mine).\\\" This last is sometimes expressed in positive terms, i.e., \\\"You don't have to worry and stress out about the rightness or wrongness of what you are doing since I, the Leader. am assuming all moral and legal responsibility for all your actions. So long as you are faithfully following orders without question I will defend you and gladly accept all the consequences up to and including eternal damnation if I'm wrong.\\\" The opposite of this is the fallacy of \\\"Plausible Deniability.\\\" See also, \\\"Just Do It! \\\", and \\\"Gaslighting. \\\"The Big \\\"But\\\" Fallacy (also, Special Pleading): The fallacy of enunciating a generally-accepted principle and then directly negating it with a \\\"but.\\\" Often this takes the form of the \\\"Special Case,\\\" which is supposedly exempt from the usual rules of law, logic, morality, ethics or even credibility E.g., \\\"As Americans we have always believed on principle that every human being has God-given, inalienable rights to life, liberty and the pursuit of happiness, including in the case of criminal accusations a fair and speedy trial before a jury of one's peers. BUT, your crime was so unspeakable and a trial would be so problematic for national security that it justifies locking you up for life in Guantanamo without trial, conviction or possibility of appeal.\\\" Or, \\\"Yes, Honey, I still love you more than life itself, and I know that in my wedding vows I promised before God that I'd forsake all others and be faithful to you 'until death do us part,' but you have to understand, this was a special case...\\\" See also, \\\"Shopping Hungry,\\\" and \\\"We Have to do Something ! \\\"The Big Lie Technique (also the Bold Faced Lie; \\\"Staying on Message. \\\"): The contemporary fallacy of repeating a lie, fallacy, slogan, talking-point, nonsense-statement or deceptive half-truth over and over in different forms (particularly in the media) until it becomes part of daily discourse and people accept it without further proof or evidence. Sometimes the bolder and more outlandish the Big Lie becomes the more credible it seems to a willing, most often angry audience. E.g., \\\"What about the Jewish Problem?\\\" Note that when this particular phony debate was going on there was no \\\"Jewish Problem,\\\" only a Nazi Problem, but hardly anybody in power recognized or wanted to talk about that, while far too many ordinary Germans were only too ready to find a convenient scapegoat to blame for their suffering during the Great Depression. Writer Miles J. Brewer expertly demolishes The Big Lie Technique in his classic (1930) short story, \\\"The Gostak and the Doshes.\\\" However, more contemporary examples of the Big Lie fallacy might be the completely fictitious August 4, 1964 \\\"Tonkin Gulf Incident\\\" concocted under Lyndon Johnson as a false justification for escalating the Vietnam War, or the non-existent \\\"Weapons of Mass Destruction\\\" in Iraq (conveniently abbreviated \\\"WMD's\\\" in order to lend this Big Lie a legitimizing, military-sounding \\\"Alphabet Soup\\\" ethos), used in 2003 as a false justification for the Second Gulf War. The November, 2016 U. S. President-elect's statement that \\\"millions\\\" of ineligible votes were cast in that year's American. presidential election appears to be a classic Big Lie. See also, Alternative Truth; The Bandwagon Fallacy, the Straw Man, Alphabet Soup, and Propaganda. Blind Loyalty (also Blind Obedience, Unthinking Obedience, the \\\"Team Player\\\" appeal, the Nuremberg Defense): The dangerous fallacy that an argument or action is right simply and solely because a respected leader or source (a President, expert, one\\u2019s parents, one's own \\\"side,\\\" team or country, one\\u2019s boss or commanding officers) says it is right. This is over-reliance on authority, a gravely corrupted argument from ethos that puts loyalty above truth, above one's own reason and above conscience. In this case a person attempts to justify incorrect, stupid or criminal behavior by whining \\\"That's what I was told to do,\\\" or \\u201cI was just following orders.\\\" See also, The Big Brain/Little Brain Fallacy, and The \\\"Soldiers' Honor\\\" Fallacy. Blood is Thicker than Water (also Favoritism; Compadrismo; \\\"For my friends, anything. \\\"): The reverse of the \\\"Ad Hominem\\\" fallacy, a corrupt argument from ethos where a statement, argument or action is automatically regarded as true, correct and above challenge because one is related to, knows and likes, or is on the same team or side, or belongs to the same religion, party, club or fraternity as the individual involved. (E.g., \\\"My brother-in-law says he saw you goofing off on the job. You're a hard worker but who am I going to believe, you or him? You're fired!\\\") See also the Identity Fallacy. Brainwashing (also, Propaganda, \\\"Radicalization. \\\"): The Cold War-era fantasy that an enemy can instantly win over or \\\"radicalize\\\" an unsuspecting audience with their vile but somehow unspeakably persuasive \\\"propaganda,\\\" e.g., \\\"Don't look at that website! They're trying to brainwash you with their propaganda!\\\" Historically, \\\"brainwashing\\\" refers more properly to the inhuman Argumentum ad Baculum of \\\"beating an argument into\\\" a prisoner via a combination of pain, fear, sensory or sleep deprivation, prolonged abuse and sophisticated psychological manipulation (also, the \\\" Stockholm Syndrome .\\\"). Such \\\"brainwashing\\\" can also be accomplished by pleasure (\\\" Love Bombing ,\\\"); e.g., \\\"Did you like that? I know you did. Well, there's lots more where that came from when you sign on with us!\\\" (See also, \\\"Bribery.\\\") An unspeakably sinister form of persuasion by brainwashing involves deliberately addicting a person to drugs and then providing or withholding the substance depending on the addict's compliance. Note: Only the other side brainwashes. \\\"We\\\" never brainwash. Bribery (also, Material Persuasion, Material Incentive, Financial Incentive). The fallacy of \\\"persuasion\\\" by bribery, gifts or favors is the reverse of the Argumentum ad Baculum. As is well known, someone who is persuaded by bribery rarely \\\"stays persuaded\\\" in the long term unless the bribes keep on coming in and increasing with time. See also Appeasement. Calling \\\"Cards\\\": A contemporary fallacy of logos, arbitrarily and falsely dismissing familiar or easily-anticipated but valid, reasoned objections to one's standpoint with a wave of the hand, as mere \\\"cards\\\" in some sort of \\\"game\\\" of rhetoric, e.g. \\\"Don't try to play the 'Race Card' against me,\\\" or \\\"She's playing the 'Woman Card' again,\\\" or \\\"That 'Hitler Card' won't score with me in this argument.\\\" See also, The Taboo, and Political Correctness. Circular Reasoning (also, The Vicious Circle; Catch 22, Begging the Question, C irculus in P robando ): A fallacy of logos where A is because of B, and B is because of A, e.g., \\\"You can't get a job without experience, and you can't get experience without a job.\\\" Also refers to falsely arguing that something is true by repeating the same statement in different words. E.g., \\u201cThe witchcraft problem is the most urgent spiritual crisis in the world today. Why? Because witches threaten our very eternal salvation.\\u201d A corrupt argument from logos. See also the \\\"Big Lie technique. \\\"The Complex Question: The contemporary fallacy of demanding a direct answer to a question that cannot be answered without first analyzing or challenging the basis of the question itself. E.g., \\\"Just answer me 'yes' or 'no': Did you think you could get away with plagiarism and not suffer the consequences?\\\" Or, \\\"Why did you rob that bank?\\\" Also applies to situations where one is forced to either accept or reject complex standpoints or propositions containing both acceptable and unacceptable parts. A corruption of the argument from logos. A counterpart of Either/Or Reasoning. Confirmation Bias: A fallacy of logos, the common tendency to notice, search out, select and share evidence that confirms one's own standpoint and beliefs, as opposed to contrary evidence. This fallacy is how \\\"fortune tellers\\\" work--If I am told I will meet a \\\"tall, dark stranger\\\" I will be on the lookout for a tall, dark stranger, and when I meet someone even marginally meeting that description I will marvel at the correctness of the \\\"psychic's\\\" prediction. In contemporary times Confirmation Bias is most often seen in the tendency of various audiences to \\\"curate their political environments, subsisting on one-sided information diets and [even] selecting into politically homogeneous neighborhoods\\\" ( Michael A. Neblo et al., 2017, Science magazine ). Confirmation Bias (also, Homophily) means that people tend to seek out and follow solely those media outlets that confirm their common ideological and cultural biases, sometimes to an degree that leads a the false (implicit or even explicit) conclusion that \\\"everyone\\\" agrees with that bias and that anyone who doesn't is \\\"crazy,\\\" \\\"looney,\\\" evil or even \\\"radicalized.\\\" See also, \\\"Half Truth,\\\" and \\\"Defensiveness. \\\"Cost Bias: A fallacy of ethos (that of a product), the fact that something expensive (either in terms of money, or something that is \\\"hard fought\\\" or \\\"hard won\\\" or for which one \\\"paid dearly\\\") is generally valued more highly than something obtained free or cheaply, regardless of the item's real quality, utility or true value to the purchaser. E. g., \\\"Hey, I worked hard to get this car! It may be nothing but a clunker that can't make it up a steep hill, but it's mine, and to me it's better than some millionaire's limo.\\\" Also applies to judging the quality of a consumer item (or even of its owner!) primarily by the item's brand, price, label or source, e.g., \\\"Hey, you there in the Jay-Mart suit! Har-har!\\\" or, \\\"Ooh, she's driving a Mercedes! \\\"Default Bias: (also, Normalization of Evil, \\\"Deal with it;\\\" \\\"If it ain't broke, don't fix it;\\\" Acquiescence; \\\"Making one's peace with the situation;\\\" \\\"Get used to it;\\\" \\\"Whatever is, is right;\\\" \\\"It is what it is;\\\" \\\"Let it be, let it be;\\\" \\\"This is the best of all possible worlds [or, the only possible world];\\\" \\\"Better the devil you know than the devil you don't. \\\"): The logical fallacy of automatically favoring or accepting a situation simply because it exists right now, and arguing that any other alternative is mad, unthinkable, impossible, or at least would take too much effort, expense, stress or risk to change. The opposite of this fallacy is that of Nihilism (\\\"Tear it all down! \\\"), blindly rejecting what exists in favor of what could be, the adolescent fantasy of romanticizing anarchy, chaos (an ideology sometimes called political \\\" Chaos Theory \\\"), disorder, \\\"permanent revolution,\\\" or change for change's sake. Defensiveness (also, Choice-support Bias: Myside Bias): A fallacy of ethos (one's own), in which after one has taken a given decision, commitment or course of action, one automatically tends to defend that decision and to irrationally dismiss opposing options even when one's decision later on proves to be shaky or wrong. E.g., \\\"Yeah, I voted for Snith. Sure, he turned out to be a crook and a liar and he got us into war, but I still say that at that time he was better than the available alternatives!\\\" See also \\\"Argument from Inertia\\\" and \\\"Confirmation Bias. \\\"Deliberate Ignorance: (also, Closed-mindedness; \\\"I don't want to hear it! \\\"; Motivated Ignorance; Tuning Out; Hear No Evil, See No Evil, Speak No Evil [The Three Monkeys' Fallacy]): As described by author and commentator Brian Resnik on Vox.com (2017), this is the fallacy of simply choosing not to listen, \\\"tuning out\\\" or turning off any information, evidence or arguments that challenge one's beliefs, ideology, standpoint, or peace of mind, following the popular humorous dictum: \\\"Don't try to confuse me with the facts; my mind is made up!\\\" This seemingly innocuous fallacy has enabled the most vicious tyrannies and abuses over history, and continues to do so today. See also Trust your Gut, Confirmation Bias, The Third Person Effect, \\\"They're All Crooks,\\\" the Simpleton's Fallacy, and The Positive Thinking Fallacy. Diminished Responsibility: The common contemporary fallacy of applying a specialized judicial concept (that criminal punishment should be less if one's judgment was impaired) to reality in general. E.g., \\\"You can't count me absent on Monday--I was hung over and couldn't come to class so it's not my fault.\\\" Or, \\\"Yeah, I was speeding on the freeway and killed a guy, but I was buzzed out of my mind and didn't know what I was doing so it didn't matter that much.\\\" In reality the death does matter very much to the victim, to his family and friends and to society in general. Whether the perpetrator was high or not does not matter at all since the material results are the same. This also includes the fallacy of Panic, a very common contemporary fallacy that one's words or actions, no matter how damaging or evil, somehow don't \\\"count\\\" because \\\"I panicked!\\\" This fallacy is rooted in the confusion of \\\"consequences\\\" with \\\"punishment.\\\" See also \\\"Venting. \\\"Disciplinary Blinders: A very common contemporary scholarly or professional fallacy of ethos (that of one's discipline, profession or academic field), automatically disregarding, discounting or ignoring a priori otherwise-relevant research, arguments and evidence that come from outside one's own professional discipline, discourse community or academic area of study. E.g., \\\"That might be relevant or not, but it's so not what we're doing in our field right now.\\\" See also, \\\"Star Power\\\" and \\\"Two Truths.\\\" An analogous fallacy is that of Denominational Blinders, arbitrarily ignoring or waving aside without serious consideration any arguments or discussion about faith, morality, ethics, spirituality, the Divine or the afterlife that come from outside one's own specific religious denomination or faith tradition. Dog-Whistle Politics: An extreme version of reductionism and sloganeering in the public sphere, a contemporary fallacy of logos and pathos in which a brief phrase or slogan of the hour, e.g., \\\"Abortion,\\\" \\\"The 1%,\\\" \\\"9/11,\\\" \\\"Zionism,\\\"\\\"Chain Migration,\\\" \\\"Islamic Terrorism,\\\" \\\"Fascism,\\\" \\\"Communism,\\\" \\\"Big government,\\\" \\\"Taco trucks! \\\", \\\"Tax and tax and spend and spend,\\\" \\\"Gun violence,\\\" \\\"Gun control,\\\" \\\"Freedom of choice,\\\" \\\"Lock 'em up,\\\", \\\"Amnesty,\\\" etc. is flung out as \\\"red meat\\\" or \\\"chum in the water\\\" that reflexively sends one's audience into a snapping, foaming-at-the-mouth feeding-frenzy. Any reasoned attempt to more clearly identify, deconstruct or challenge an opponent's \\\"dog whistle\\\" appeal results in puzzled confusion at best and wild, irrational fury at worst. \\\"Dog whistles\\\" differ widely in different places, moments and cultural milieux, and they change and lose or gain power so quickly that even recent historic texts sometimes become extraordinarily difficult to interpret. A common but sad instance of the fallacy of Dog Whistle Politics is that of candidate \\\"debaters\\\" of differing political shades simply blowing a succession of discursive \\\"dog whistles\\\" at their audience instead of addressing, refuting or even bothering to listen to each other's arguments, a situation resulting in contemporary (2017) allegations that the political Right and Left in America are speaking \\\"different languages\\\" when they are simply blowing different \\\"dog whistles.\\\" See also, Reductionism.. The \\\"Draw Your Own Conclusion\\\" Fallacy (also the Non-argument Argument; Let the Facts Speak for Themselves). In this fallacy of logos an otherwise uninformed audience is presented with carefully selected and groomed, \\\"shocking facts\\\" and then prompted to immediately \\\"draw their own conclusions.\\\" E.g., \\\"Crime rates are more than twice as high among middle-class Patzinaks than among any other similar population group--draw your own conclusions.\\\" It is well known that those who are allowed to \\\"come to their own conclusions\\\" are generally much more strongly convinced than those who are given both evidence and conclusion up front. However, Dr. William Lorimer points out that \\\"The only rational response to the non-argument is 'So what?' i.e. 'What do you think you've proved, and why/how do you think you've proved it?'\\\" Closely related (if not identical) to this is the well-known \\\"Leading the Witness\\\" Fallacy, where a sham, sarcastic or biased question is asked solely in order to evoke a desired answer. The Dunning-Kruger Effect: A cognitive bias that leads people of limited skills or knowledge to mistakenly believe their abilities are greater than they actually are. (Thanks to Teaching Tolerance for this definition!) E.g., \\\"I know Washington was the Father of His Country and never told a lie, Pocahontas was the first Native American, Lincoln freed the slaves, Hitler murdered six million Jews, Susan B. Anthony won equal rights for women, and Martin Luther King said \\\"I have a dream!\\\" Moses parted the Red Sea, Caesar said \\\"Et tu, Brute?\\\" and the only reason America didn't win the Vietnam War hands-down like we always do was because they tied our generals' hands and the politicians cut and run. See? Why do I need to take a history course? I know everything about history! \\\"E\\\" for Effort. (also Noble Effort; I'm Trying My Best; The Lost Cause): The common contemporary fallacy of ethos that something must be right, true, valuable, or worthy of respect and honor solely because one (or someone else) has put so much sincere good-faith effort or even sacrifice and bloodshed into it. (See also Appeal to Pity; Argument from Inertia; Heroes All; or Sob Story). An extreme example of this fallacy is Waving the Bloody Shirt ( also, the \\\"Blood of the Martyrs\\\" Fallacy), the fallacy that a cause or argument, no matter how questionable or reprehensible, cannot be questioned without dishonoring the blood and sacrifice of those who died so nobly for that cause. E.g., \\\" Defend the patriotic gore / That flecked the streets of Baltimore.. .\\\" (from the official Maryland State Song). See also Cost Bias, The Soldier's Honor Fallacy, and the Argument from Inertia. Either/Or Reasoning: (also False Dilemma, All or Nothing Thinking; False Dichotomy, Black/White Fallacy, False Binary): A fallacy of logos that falsely offers only two possible options even though a broad range of possible alternatives, variations and combinations are always readily available. E.g., \\\"Either you are 100% Simon Straightarrow or you are as queer as a three dollar bill--it's as simple as that and there's no middle ground!\\\" Or, \\u201cEither you\\u2019re in with us all the way or you\\u2019re a hostile and must be destroyed! What's it gonna be?\\\" Or, if your performance is anything short of perfect, you consider yourself an abject failure. Also applies to falsely contrasting one option or case to another that is not really opposed, e.g., falsely opposing \\\"Black Lives Matter\\\" to \\\"Blue Lives Matter\\\" when in fact not a few police officers are themselves African American, and African Americans and police are not (or ought not to be!) natural enemies. Or, falsely posing a choice of either helping needy American veterans or helping needy foreign refugees, when in fact in today's United States there are ample resources available to easily do both should we care to do so. See also, Overgeneralization. Equivocation: The fallacy of deliberately failing to define one's terms, or knowingly and deliberately using words in a different sense than the one the audience will understand. (E.g., President Bill Clinton stating that he did not have sexual relations with \\\"that woman,\\\" meaning no sexual penetration, knowing full well that the audience will understand his statement as \\\"I had no sexual contact of any kind with that woman.\\\") This is a corruption of the argument from logos, and a tactic often used in American jurisprudence. Historically, this referred to a tactic used during the Reformation-era religious wars in Europe, when people were forced to swear loyalty to one or another side and did as demanded via \\\"equivocation,\\\" i.e., \\\"When I solemnly swore true faith and allegiance to the King I really meant to King Jesus, King of Kings, and not to the evil usurper squatting on the throne today.\\\" This latter form of fallacy is excessively rare today when the swearing of oaths has become effectively meaningless except as obscenity or as speech formally subject to perjury penalties in legal or judicial settings. The Eschatological Fallacy: The ancient fallacy of arguing, \\\"This world is coming to an end, so...\\\" Popularly refuted by the observation that \\\"Since the world is coming to an end you won't need your life savings anyhow, so why not give it all to me? \\\"Esoteric Knowledge (also Esoteric Wisdom; Gnosticism; Inner Truth; the Inner Sanctum; Need to Know): A fallacy from logos and ethos, that there is some knowledge reserved only for the Wise, the Holy or the Enlightened, (or those with proper Security Clearance), things that the masses cannot understand and do not deserve to know, at least not until they become wiser, more trusted or more \\\"spiritually advanced.\\\" The counterpart of this fallacy is that of Obscurantism (also Obscurationism, or Willful Ignorance), that (almost always said in a basso profundo voice) \\\"There are some things that we mere mortals must never seek to know!\\\" E.g., \\\"Scientific experiments that violate the privacy of the marital bed and expose the deep and private mysteries of human sexual behavior to the harsh light of science are obscene, sinful and morally evil. There are some things that we as humans are simply not meant to know!\\\" For the opposite of this latter, see the \\\"Plain Truth Fallacy.\\\" See also, Argumentum ad Mysteriam. Essentializing: A fallacy of logos that proposes a person or thing \\u201cis what it is and that\\u2019s all that it is,\\u201d and at its core will always be the way it is right now (E.g., \\\"All terrorists are monsters, and will still be terrorist monsters even if they live to be 100,\\\" or \\\"'The poor you will always have with you,' so any effort to eliminate poverty is pointless.\\\"). Also refers to the fallacy of arguing that something is a certain way \\\"by nature,\\\" an empty claim that no amount of proof can refute. (E.g., \\\"Americans are cold and greedy by nature,\\\" or \\\"Women are naturally better cooks than men.\\\") See also \\\"Default Bias.\\\" The opposite of this is Relativizing, the typically postmodern fallacy of blithely dismissing any and all arguments against one's standpoint by shrugging one's shoulders and responding \\\" Whatever..., I don't feel like arguing about it;\\\" \\\"It all depends...;\\\" \\\"That's your opinion; everything's relative;\\\" or falsely invoking Einstein's Theory of Relativity, Heisenberg's Uncertainty Principle, Quantum Weirdness or the Theory of Multiple Universes in order to confuse, mystify or \\\"refute\\\" an opponent. See also, \\\"Red Herring\\\" and \\\"Appeal to Nature. \\\"The Etymological Fallacy: (also, \\\"The Underlying Meaning\\\"): A fallacy of logos, drawing false conclusions from the (most often long-forgotten) linguistic origins of a current word, or the alleged meanings or associations of that word in another language. E.g., \\\"As used in physics, electronics and electrical engineering the term 'hysteresis' is grossly sexist since it originally came from the Greek word for 'uterus' or 'womb.'\\\" Or, \\\"I refuse to eat fish! Don't you know that the French word for \\\"fish\\\" is 'poisson,' which looks just like the English word 'poison'? And doesn't that suggest something to you?\\\" Famously, postmodern philosopher Jacques Derrida played on this fallacy at great length in his (1968) \\\" Plato's Pharmacy . \\\"The Excluded Middle: A corrupted argument from logos that proposes that since a little of something is good, more must be better (or that if less of something is good, none at all is even better). E.g., \\\"If eating an apple a day is good for you, eating an all-apple diet is even better!\\\" or \\\"If a low fat diet prolongs your life, a no-fat diet should make you live forever!\\\" An opposite of this fallacy is that of Excluded Outliers, where one arbitrarily discards evidence, examples or results that disprove one's standpoint by simply describing them as \\\"Weird,\\\" \\\"Outliers,\\\" or \\\"Atypical.\\\" See also, \\\"The Big 'But' Fallacy.\\\" Also opposite is the Middle of the Road Fallacy (also, Falacia ad Temperantiam; \\\"The Politics of the Center;\\\" Marginalization of the Adversary), where one demonstrates the \\\"reasonableness\\\" of one's own standpoint (no matter how extreme) not on its own merits, but solely or mainly by presenting it as the only \\\"moderate\\\" path among two or more obviously unacceptable extreme alternatives. E.g., anti-Communist scholar Charles Roig (1979) notes that Vladimir Lenin successfully argued for Bolshevism in Russia as the only available \\\"moderate\\\" middle path between bomb-throwing Nihilist terrorists on the ultra-left and a corrupt and hated Czarist autocracy on the right. As Texas politician and humorist Jim Hightower famously declares in an undated quote, \\\" The middle of the road is for yellow lines and dead armadillos. \\\"The \\\"F-Bomb\\\" (also Cursing; Obscenity; Profanity). An adolescent fallacy of pathos, attempting to defend or strengthen one's argument with gratuitous, unrelated sexual, obscene, vulgar, crude or profane language when such language does nothing to make an argument stronger, other than perhaps to create a sense of identity with certain young male \\\"urban\\\" audiences. This fallacy also includes adding gratuitous sex scenes or \\\"adult\\\" language to an otherwise unrelated novel or movie, sometimes simply to avoid the dreaded \\\"G\\\" rating. Related to this fallacy is the Salacious Fallacy, falsely attracting attention to and thus potential agreement with one's argument by inappropriately sexualizing it, particularly connecting it to some form of sex that is perceived as deviant, perverted or prohibited (E.g., Arguing against Bill Clinton's presidential legacy by continuing to wave Monica's Blue Dress, or against Donald Trump's presidency by obsessively highlighting his past boasting about genital groping). Historically, this dangerous fallacy was deeply implicated with the crime of lynching, in which false, racist accusations against a Black or minority victim were almost always salacious in nature and the sensation involved was successfully used to whip up public emotion to a murderous pitch. See also, Red Herring. The False Analogy: The fallacy of incorrectly comparing one thing to another in order to draw a false conclusion. E.g., \\\"Just like an alley cat needs to prowl, a normal adult can\\u2019t be tied down to one single lover.\\\" The opposite of this fallacy is the Sui Generis Fallacy (also, Differance), a postmodern stance that rejects the validity of analogy and of inductive reasoning altogether because any given person, place, thing or idea under consideration is \\\"sui generis\\\" i.e., different and unique, in a class unto itself. Finish the Job: The dangerous contemporary fallacy, often aimed at a lesser-educated or working class audience, that an action or standpoint (or the continuation of that action or standpoint) may not be questioned or discussed because there is \\\"a job to be done\\\" or finished, falsely assuming \\\"jobs\\\" are meaningless but never to be questioned. Sometimes those involved internalize (\\\"buy into\\\") the \\\"job\\\" and make the task a part of their own ethos. (E.g., \\\"Ours is not to reason why / Ours is but to do or die.\\\") Related to this is the \\\" Just a Job\\\" fallacy. (E.g., \\\"How can torturers stand to look at themselves in the mirror? But I guess it's OK because for them it's just a job like any other, the job that they get paid to do.\\\") See also \\\"Blind Loyalty,\\\" \\\"The Soldiers' Honor Fallacy\\\" and the \\\"Argument from Inertia. \\\"The Free Speech Fallacy: The infantile fallacy of responding to challenges to one's statements and standpoints by whining, \\\"It's a free country, isn't it? I can say anything I want to!\\\" A contemporary case of this fallacy is the \\\" Safe Space,\\\" or \\\"Safe Place,\\\" where it is not allowed to refute, challenge or even discuss another's beliefs because that might be too uncomfortable or \\\"triggery\\\" for emotionally fragile individuals. E.g., \\\"All I told him was, 'Jesus loves the little children,' but then he turned around and asked me 'But what about birth defects?' That's mean. I think I'm going to cry!\\\" Prof. Bill Hart Davidson (2017) notes that \\\"Ironically, the most strident calls for 'safety' come from those who want us to issue protections for discredited ideas. Things that science doesn't support AND that have destroyed lives - things like the inherent superiority of one race over another. Those ideas wither under demands for evidence. They *are* unwelcome. But let's be clear: they are unwelcome because they have not survived the challenge of scrutiny.\\\" Ironically, in contemporary America \\\"free speech\\\" has often become shorthand for freedom of racist, offensive or even neo-Nazi expression, ideological trends that once in power typically quash free speech. Additionally, a recent (2017) scientific study has found that, in fact, \\\" people think harder and produce better political arguments when their views are challenged \\\" and not artificially protected without challenge. The Fundamental Attribution Error (also, Self Justification): A corrupt argument from ethos, this fallacy occurs as a result of observing and comparing behavior. \\\"You assume that the bad behavior of others is caused by character flaws and foul dispositions while your behavior is explained by the environment. So, for example, I get up in the morning at 10 a.m. I say it is because my neighbors party until 2 in the morning (situation) but I say that the reason why you do it is that you are lazy. Interestingly, it is more common in individualistic societies where we value self volition. Collectivist societies tend to look at the environment more. (It happens there, too, but it is much less common.)\\\" [Thanks to scholar Joel Sax for this!] The obverse of this fallacy is Self Deprecation (also Self Debasement), where, out of either a false humility or a genuine lack of self-esteem, one deliberately puts oneself down, most often in hopes of attracting denials, gratifying compliments and praise. Gaslighting: A recently-prominent, vicious fallacy of logic, denying or invalidating a person's own knowledge and experiences by deliberately twisting or distorting known facts, memories, scenes, events and evidence in order to disorient a vulnerable opponent and to make him or her doubt his/her sanity. E.g., \\\"Who are you going to believe? Me, or your own eyes?\\\" Or, \\\"You claim you found me in bed with her? Think again! You're crazy! You seriously need to see a shrink.\\\" A very common, though cruel instance of Gaslighting that seems to have been particularly familiar among mid-20th century generations is the fallacy of Emotional Invalidation, questioning, after the fact, the reality or \\\"validity\\\" of affective states, either another's or one's own. E.g., \\\"Sure, I made it happen from beginning to end, but but it wasn't me doing it, it was just my stupid hormones betraying me.\\\" Or, \\\"You didn't really mean it when you said you 'hate' Mommy. Now take a time-out and you'll feel better.\\\" Or, \\\"No, you're not really in love; it's just infatuation or 'puppy love.'\\\" The fallacy of \\\"Gaslighting\\\" is named after British playwright Patrick Hamilton's 1938 stage play \\\"Gas Light,\\\" also known as \\\"Angel Street.\\\" See also, Blind Loyalty, \\\"The Big Brain/Little Brain Fallacy,\\\" The Affective Fallacy, and \\\"Alternative Truth. \\\"Guilt by Association: The fallacy of trying to refute or condemn someone's standpoint, arguments or actions by evoking the negative ethos of those with whom the speaker is identified or of a group, party, religion or race to which he or she belongs or was once associated with. A form of Ad Hominem Argument, e.g., \\\"Don't listen to her. She's a Republican so you can't trust anything she says,\\\" or \\\"Are you or have you ever been a member of the Communist Party?\\\" An extreme instance of this is the Machiavellian \\\"For my enemies, nothing\\\" Fallacy, where real or perceived \\\"enemies\\\" are by definition always wrong and must be conceded nothing, not even the time of day, e.g., \\\"He's a Republican, so even if he said the sky is blue I wouldn't believe him. \\\"The Half Truth (also Card Stacking, Stacking the Deck, Incomplete Information): A corrupt argument from logos, the fallacy of consciously selecting, collecting and sharing only that evidence that supports one's own standpoint, telling the strict truth but deliberately minimizing or omitting important key details in order to falsify the larger picture and support a false conclusion. (E.g. \\u201cThe truth is that Bangladesh is one of the world's fastest-growing countries and can boast of a young, ambitious and hard-working population, a family-positive culture, a delightful, warm climate of tropical beaches and swaying palms where it never snows, low cost medical and dental care, a vibrant faith tradition and a multitude of places of worship, an exquisite, world-class spicy local curry cuisine and a swinging entertainment scene. Taken together, all these solid facts clearly prove that Bangladesh is one of the world\\u2019s most desirable places for young families to live, work and raise a family.\\u201d) See also, Confirmation Bias. Hero-Busting (also, \\\"The Perfect is the Enemy of the Good\\\"): A postmodern fallacy of ethos under which, since nothing and nobody in this world is perfect there are not and have never been any heroes: Washington and Jefferson held slaves, Lincoln was (by our contemporary standards) a racist, Karl Marx sexually exploited his family's own young live-in domestic worker and got her pregnant, Martin Luther King Jr. had an eye for women too, Lenin condemned feminism, the Mahatma drank his own urine (ugh! ), Pope Francis is wrong on abortion, capitalism, same-sex marriage and women's ordination, Mother Teresa loved suffering and was wrong on just about everything else too, etc., etc Also applies to the now near-universal political tactic of ransacking everything an opponent has said, written or done since infancy in order to find something to misinterpret or condemn (and we all have something! ). An early example of this latter tactic is deftly described in Robert Penn Warren's classic (1946) novel, All the King's Men. This is the opposite of the \\\"Heroes All\\\" fallacy, below. The \\\"Hero Busting\\\" fallacy has also been selectively employed at the service of the Identity Fallacy (see below) to falsely \\\"prove\\\" that \\\"you cannot trust anyone\\\" but a member of \\\"our\\\" identity-group since everyone else, even the so-called \\\"heroes\\\" or \\\"allies\\\" of other groups, are all racist, sexist, anti-Semitic, or hate \\\"us.\\\" E.g., In 1862 Abraham Lincoln said he was willing to settle the U. S. Civil War either with or without freeing the slaves if it would preserve the Union, thus \\\"conclusively proving\\\" that all whites are viciously racist at heart and that African Americans must do for self and never trust any of \\\"them,\\\" not even those who claim to be allies. Heroes All (also, \\\"Everybody's a Winner\\\"): The contemporary fallacy that everyone is above average or extraordinary. A corrupted argument from pathos (not wanting anyone to lose or to feel bad). Thus, every member of the Armed Services, past or present, who serves honorably is a national hero, every student who competes in the Science Fair wins a ribbon or trophy, and every racer is awarded a winner's yellow jersey. This corruption of the argument from pathos, much ridiculed by disgraced American humorist Garrison Keeler, ignores the fact that if everybody wins nobody wins, and if everyone's a hero no one's a hero. The logical result of this fallacy is that, as children's author Alice Childress writes (1973), \\\" A hero ain't nothing but a sandwich .\\\" See also the \\\"Soldiers' Honor Fallacy. \\\"Hoyle's Fallacy: A fallacy of logos, falsely assuming that a possible event of low (even vanishingly low) probability can never have happened and/or would never happen in real life. E.g., \\\"The probability of something as complex as human DNA emerging by purely random evolution in the time the earth has existed is so negligible that it is for all practical purposes impossible and must have required divine intervention.\\\" Or, \\\"The chance of a casual, Saturday-night poker player being dealt four aces off an honest, shuffled deck is so infinitesimal that it would never occur even once in a normal lifetime! That proves you cheated!\\\" See also, Argument from Incredulity. An obverse of Hoyle's Fallacy is \\\"You Can't Win if You Don't Play,\\\" (also, \\\"Someone's gonna win and it might as well be YOU!\\\") a common and cruel contemporary fallacy used to persuade vulnerable audiences, particularly the poor, the mathematically illiterate and gambling addicts to throw their money away on lotteries, horse races, casinos and other long-shot gambling schemes. I Wish I Had a Magic Wand: The fallacy of regretfully (and falsely) proclaiming oneself powerless to change a bad or objectionable situation over which one has power. E.g., \\\"What can we do about gas prices? As Secretary of Energy I wish I had a magic wand, but I don't\\\" [shrug] . Or, \\\"No, you can't quit piano lessons. I wish I had a magic wand and could teach you piano overnight, but I don't, so like it or not, you have to keep on practicing.\\\" The parent, of course, ignores the possibility that the child may not want or need to learn piano. See also, TINA. The Identity Fallacy (also Identity Politics; \\\"Die away, ye old forms and logic!\\\" ): A corrupt postmodern argument from ethos, a variant on the Argumentum ad Hominem in which the validity of one's logic, evidence, experience or arguments depends not on their own strength but rather on whether the one arguing is a member of a given social class, generation, nationality, religious or ethnic group, color, gender or sexual orientation, profession, occupation or subgroup. In this fallacy, valid opposing evidence and arguments are brushed aside or \\\"othered\\\" without comment or consideration, as simply not worth arguing about solely because of the lack of proper background or ethos of the person making the argument, or because the one arguing does not self-identify as a member of the \\\"in-group.\\\" E.g., \\\"You'd understand me right away if you were Burmese but since you're not there's no way I can explain it to you,\\\" or \\\"Nobody but another nurse can know what a nurse has to go through.\\\" Identity fallacies are reinforced by common ritual, language, and discourse. However, these fallacies are occasionally self-interested, driven by the egotistical ambitions of academics, politicians and would-be group leaders anxious to build their own careers by carving out a special identity group constituency to the exclusion of existing broader-based identities and leadership. An Identity Fallacy may lead to scorn or rejection of potentially useful allies, real or prospective, because they are not of one's own identity. The Identity Fallacy promotes an exclusivist, sometimes cultish \\\"do for self\\\" philosophy which in today's world virtually guarantees self-marginalization and ultimate defeat. A recent application of the Identity Fallacy is the fallacious accusation of \\\" Cultural Appropriation,\\\" in which those who are not of the right Identity are condemned for \\\"appropriating\\\" the cuisine, clothing, language or music of a marginalized group, forgetting the old axiom that \\\"Imitation is the sincerest form of flattery.\\\" Accusations of Cultural Appropriation very often stem from competing selfish economic interests (E.g., \\\"What right do those p*nche Gringos have to set up a taco place right here on Guadalupe Drive to take away business from Do\\u00f1a Teresa's Taquer\\u00eda? They even dare to play Mexican music in their dining room! That's cultural appropriation!\\\"). See also, Othering. Infotainment (also Infortainment; Fake News; Info Wars); A very corrupt and dangerous modern media-driven fallacy that deliberately and knowingly stirs in facts, news, falsities and outright lies with entertainment, a mixture usually concocted for specific, base ideological and profit-making motives. Origins of this fallacy predate the current era in the form of \\\"Yellow\\\" or \\\"Tabloid\\\" Journalism. This deadly fallacy has caused endless social unrest, discontent and even shooting wars (e.g., the Spanish American War) over the course of modern history. Practitioners of this fallacy sometimes hypocritically justify its use on the basis that their readers/listeners/viewers \\\"know beforehand\\\" (or should know) that the content offered is not intended as real news and is offered for entertainment purposes only, but in fact this caveat is rarely observed by uncritical audiences who eagerly swallow what the purveyors put forth. See also Dog-Whistle Politics. The Job's Comforter Fallacy (also, \\\"Karma is a bi**h;\\\" \\\"What goes around comes around. \\\"): The fallacy that since there is no such thing as random chance and we (I, my group, or my country) are under special protection of heaven, any misfortune or natural disaster that we suffer must be a punishment for our own or someone else's secret sin or open wickedness. The opposite of the Appeal to Heaven, this is the fallacy employed by the Westboro Baptist Church members who protest fallen service members' funerals all around the United States. See also, Magical Thinking. Just Do it. ( also, \\\"Find a way;\\\" \\\"I don't care how you do it;\\\" \\\"Accomplish the mission;\\\" \\\"By Any Means Necessary.\\\" ): A pure, abusive Argumentum ad Baculum (argument from force), in which someone in power arbitrarily waves aside or overrules the moral objections of subordinates or followers and orders them to accomplish a goal by any means required, fair or foul The clear implication is that unethical or immoral methods should be used. E.g., \\\"You say there's no way you can finish the dig on schedule because you found an old pioneer gravesite with a fancy tombstone on the excavation site? Well, find a way! Make it disappear! Just do it! I don't want to know how you do it, just do it! This is a million dollar contract and we need it done by Tuesday.\\\" See also, Plausible Deniability. Just Plain Folks (also, \\\"Values\\\" ): This corrupt modern argument from ethos argues to a less-educated or rural audience that the one arguing is \\\"just plain folks\\\" who is a \\\"plain talker,\\\" \\\"says what s/he is thinking,\\\" \\\"scorns political correctness,\\\" someone who \\\"you don't need a dictionary to understand\\\" and who thinks like the audience and is thus worthy of belief, unlike some member of the fancy-talking, latte-sipping Left Coast Political Elite, some \\\"double-domed professor,\\\" \\\"inside-the-beltway Washington bureaucrat,\\\" \\\"tree-hugger\\\" or other despised outsider who \\\"doesn't think like we do\\\" or \\\"doesn't share our values.\\\" This is a counterpart to the Ad Hominem Fallacy and most often carries a distinct reek of xenophobia or racism as well. See also the Plain Truth Fallacy and the Simpleton's Fallacy. The Law of Unintended Consequences (also, \\\"Every Revolution Ends up Eating its own Young:\\\" Grit; Resilience Doctrine): In this very dangerous, archly pessimistic postmodern fallacy the bogus \\\"Law of Unintended Consequences,\\\" once a semi-humorous satirical corollary of \\\"Murphy's Law,\\\" is elevated to to the status of an iron law of history. This fallacy arbitrarily proclaims a priori that since we can never know everything or securely foresee anything, sooner or later in today's \\\"complex world\\\" unforeseeable adverse consequences and negative side effects (so-called \\\"unknown unknowns\\\") will always end up blindsiding and overwhelming, defeating and vitiating any and all naive \\\"do-gooder\\\" efforts to improve our world. Instead, one must always expect defeat and be ready to roll with the punches by developing \\\"grit\\\" or \\\"resilience\\\" as a primary survival skill. This nihilist fallacy is a practical negation of the the possibility of any valid argument from logos. See also, TINA. Lying with Statistics: The contemporary fallacy of misusing true figures and numbers to \\u201cprove\\u201d unrelated claims. (e.g. \\\"In real terms, attending college has never been cheaper than it is now. When expressed as a percentage of the national debt, the cost of getting a college education is actually far less today than it was back in 1965!\\\"). A corrupted argument from logos, often preying on the public's perceived or actual mathematical ignorance. This includes the Tiny Percentage Fallacy, that an amount or action that is quite significant in and of itself somehow becomes insignificant simply because it's a tiny percentage of something much larger. E.g., the arbitrary arrest, detention or interception of \\\"only\\\" a few hundred legally-boarded international travelers as a tiny percentage of the tens of thousands who normally arrive. Under this same fallacy a consumer who would choke on spending an extra dollar for two cans of peas will typically ignore $50 extra on the price of a car or $1000 extra on the price of a house simply because these differences are \\\"only\\\" a tiny percentage of the much larger amount being spent. Historically, sales taxes or value-added taxes (VAT) have successfully gained public acceptance and remain \\\"under the radar\\\" because of this latter fallacy, even though amounting to hundreds or thousands of dollars a year in extra tax burden. See also Half-truth, the Snow Job, and the Red Herring. Magical Thinking (also, the Sin of Presumption; Expect a Miracle! ): An ancient but deluded fallacy of logos, arguing that when it comes to \\\"crunch time,\\\" provided one has enough faith, prays hard enough, says the right words, does the right rituals, \\\"names it and claims it,\\\" or \\\"claims the Promise,\\\" God will always suspend the laws of the universe and work a miracle at the request of or for the benefit of the True Believer. In practice this nihilist fallacy denies the existence of a rational or predictable universe and thus the possibility of any valid argument from logic. See also, Positive Thinking, the Appeal to Heaven, and the Job's Comforter fallacy. Mala Fides (Arguing in Bad Faith; also Sophism): Using an argument that the arguer himself or herself knows is not valid. E.g., An unbeliever attacking believers by throwing verses from their own Holy Scriptures at them, or a lawyer arguing for the innocence of someone whom s/he knows full well to be guilty. This latter is a common practice in American jurisprudence, and is sometimes portrayed as the worst face of \\\"Sophism.\\\" [ Special thanks to Bradley Steffens for pointing out this fallacy!] Included under this fallacy is the fallacy of Motivational Truth ( also, Demagogy, or Campaign Promises), deliberately lying to \\\"the people\\\" to gain their support or motivate them toward some action the rhetor perceives to be desirable (using evil discursive means toward a \\\"good\\\" material end). A particularly bizarre and corrupt form of this latter fallacy is Self Deception (also, Whistling by the Graveyard). in which one deliberately and knowingly deludes oneself in order to achieve a goal, or perhaps simply to suppress anxiety and maintain one's energy level, enthusiasm, morale, peace of mind or sanity in moments of adversity. Measurability: A corrupt argument from logos and ethos (that of science and mathematics), the modern Fallacy of Measurability proposes that if something cannot be measured, quantified and replicated it does not exist, or is \\\"nothing but anecdotal, touchy-feely stuff\\\" unworthy of serious consideration, i.e., mere gossip or subjective opinion. Often, achieving \\\"Measurability\\\" necessarily demands preselecting, \\\"fiddling\\\" or \\\"massaging\\\" the available data simply in order to make it statistically tractable, or in order to support a desired conclusion. Scholar Thomas Persing thus describes \\\"The modernist fallacy of falsely and inappropriately applying norms, standardizations, and data point requirements to quantify productivity or success. This is similar to complex question, measurability, and oversimplification fallacies where the user attempts to categorize complicated / diverse topics into terms that when measured, suit their position. For example, the calculation of inflation in the United States doesn't include the changes in the price to gasoline, because the price of gasoline is too volatile, despite the fact gasoline is necessary for most people to live their lives in the United States.\\\" See also, \\\"A Priori Argument,\\\" \\\"Lying with Statistics,\\\" and the \\\"Procrustean Fallacy. \\\"Mind-reading (Also, \\\"The Fallacy of Speculation;\\\" \\\"I can read you like a book\\\"): An ancient fallacy, a corruption of stasis theory, speculating about someone else's thoughts, emotions, motivations and \\\"body language\\\" and then claiming to understand these clearly, sometimes more accurately than the person in question knows themselves. The rhetor deploys this phony \\\"knowledge\\\" as a fallacious warrant for or against a given standpoint. Scholar Myron Peto offers as an example the baseless claim that \\u201cObama doesn\\u2019t a da** [sic] for human rights.\\u201d Assertions that \\\"call for speculation\\\" are rightly rejected as fallacious in U. S. judicial proceedings but far too often pass uncontested in public discourse. The opposite of this fallacy is the postmodern fallacy of Mind Blindness (also, the Autist's Fallacy ), a complete denial of any normal human capacity for \\\"Theory of Mind,\\\" postulating the utter incommensurability and privacy of minds and thus the impossibility of ever knowing or truly understanding another's thoughts, emotions, motivations or intents. This fallacy, much promoted by the late postmodernist guru Jacques Derrida, necessarily vitiates any form of Stasis Theory. However, the Fallacy of Mind Blindness has been decisively refuted in several studies, including recent (2017) research published by the Association for Psychological Science, and a (2017) Derxel University study indicating how \\\"our minds align when we communicate. \\\"Moral Licensing: The contemporary ethical fallacy that one's consistently moral life, good behavior or recent extreme suffering or sacrifice earns him/her the right to commit an immoral act without repercussions, consequences or punishment. E.g., \\\"I've been good all year, so one bad won't matter,\\\" or \\\"After what I've been through, God knows I need this.\\\" The fallacy of Moral Licensing is also sometimes applied to nations, e.g., \\\"Those who criticize repression and the Gulag in the former USSR forget what extraordinary suffering the Russians went through in World War II and the millions upon millions who died.\\\" See also Argument from Motives. The opposite of this fallacy is the (excessively rare in our times) ethical fallacy of Scruples, in which one obsesses to pathological excess about one's accidental, forgotten, unconfessed or unforgiven sins and because of them, the seemingly inevitable prospect of eternal damnation. Moral Superiority (also, Self Righteousness; the Moral High Ground): An ancient, immoral and extremely dangerous fallacy, enunciated in Thomistic / Scholastic philosophy in the late Middle Ages, arguing that Evil has no rights that the Good and the Righteous are bound to respect. That way lies torture, heretic-burning, and the Spanish Inquisition. Those who practice this vicious fallacy reject any \\\"moral equivalency\\\" (i.e., even-handed treatment) between themselves (the Righteous) and their enemies (the Wicked), against whom anything is fair, and to whom nothing must be conceded, not even the right to life. This fallacy is a specific denial of the ancient \\\"Golden Rule,\\\" and has been the cause of endless intractable conflict, since if one is Righteous no negotiation with Evil and its minions is possible; The only imaginable road to a \\\"just\\\" peace is through total victory, i.e., the absolute defeat and liquidation of one's Wicked enemies. American folk singer and Nobel Laureate Bob Dylan expertly demolishes this fallacy in his 1963 protest song, \\\"With God on Our Side.\\\" See also the Appeal to Heaven, and Moving the Goalposts. Mortification (also, Live as Though You're Dying; Pleasure-hating; No Pain No Gain): An ancient fallacy of logos, trying to \\\"beat the flesh into submission\\\" by extreme exercise or ascetic practices, deliberate starvation or infliction of pain, denying the undeniable fact that discomfort and pain exist for the purpose of warning of lasting damage to the body. Extreme examples of this fallacy are various forms of self-flagellation such as practiced by the New Mexico \\\" Penitentes \\\" during Holy Week or by Shia devotees during Muharram. More familiar contemporary manifestations of this fallacy are extreme \\\"insanity\\\" exercise regimes not intended for normal health, fitness or competitive purposes but just to \\\"toughen\\\" or \\\"punish\\\" the body. Certain pop-nutritional theories and diets seem based on this fallacy as well. Some contemporary experts suggest that self-mortification (an English word related to the Latinate French root \\\"mort,\\\" or \\\"death.\\\") is in fact \\\"suicide on the installment plan.\\\" Others suggest that it involves a narcotic-like addiction to the body's natural endorphins. The opposite of this fallacy is the ancient fallacy of Hedonism, seeking and valuing physical pleasure as a good in itself, simply for its own sake. Moving the Goalposts (also, Changing the Rules; All's Fair in Love and War; The Nuclear Option; \\\"Winning isn't everything, it's the only thing\\\"): A fallacy of logos, demanding certain proof or evidence, a certain degree of support or a certain number of votes to decide an issue, and then when this is offered, demanding even more, different or better support in order to deny victory to an opponent. For those who practice the fallacy of Moral Superiority (above), Moving the Goalposts is often perceived as perfectly good and permissible if necessary to prevent the victory of Wickedness and ensure the triumph of one's own side, i.e, the Righteous. MYOB (Mind Your Own Business; also You're Not the Boss of Me; \\\"None of yer beeswax,\\\" \\\"So What? \\\", The Appeal to Privacy): The contemporary fallacy of arbitrarily prohibiting or terminating any discussion of one's own standpoints or behavior, no matter how absurd, dangerous, evil or offensive, by drawing a phony curtain of privacy around oneself and one's actions. A corrupt argument from ethos (one's own). E.g., \\\"Sure, I was doing eighty and weaving between lanes on Mesa Street--what's it to you? You're not a cop, you're not my nanny. It's my business if I want to speed, and your business to get the hell out of my way. Mind your own damn business!\\\" Or, \\\"Yeah, I killed my baby. So what? Butt out! It wasn't your brat, so it's none of your damn business!\\\" Rational discussion is cut off because \\\"it is none of your business!\\\" See also, \\\"Taboo.\\\" The counterpart of this is \\\" Nobody Will Ever Know, \\\" (also \\\"What happens in Vegas stays in Vegas;\\\" \\\"I Think We're Alone Now,\\\" or the Heart of Darkness Syndrome) the fallacy that just because nobody important is looking (or because one is on vacation, or away in college, or overseas) one may freely commit immoral, selfish, negative or evil acts at will without expecting any of the normal consequences or punishment . Author Joseph Conrad graphically describes this sort of moral degradation in the character of Kurtz in his classic novel, Heart of Darkness. Name-Calling: A variety of the \\\"Ad Hominem\\\" argument. The dangerous fallacy that, simply because of who one is or is alleged to be, any and all arguments, disagreements or objections against one's standpoint or actions are automatically racist, sexist, anti-Semitic, bigoted, discriminatory or hateful. E.g., \\\"My stand on abortion is the only correct one. To disagree with me, argue with me or question my judgment in any way would only show what a pig you really are.\\\" Also applies to refuting an argument by simply calling it a \\\"fallacy,\\\" or declaring it invalid without proving why it is invalid, or summarily dismissing arguments or opponents by labeling them \\\"racist,\\\" \\\"communist,\\\" \\\"fascist,\\\" \\\"moron,\\\" any name followed by the suffix \\\"tard\\\" (short for the highly offensive \\\"retard\\\") or some other negative name without further explanation. E.g., \\\"He's an a**hole, end of story\\\" or \\\"I'm a loser.\\\" A subset of this is the Newspeak fallacy, creating identification with a certain kind of audience by inventing or using racist or offensive, sometimes military-sounding nicknames for opponents or enemies, e.g., \\\"The damned DINO's are even worse than the Repugs and the Neocons.\\\" Or, \\\"In the Big One it took us only five years to beat both the J*ps and the Jerries, so more than a decade and a half after niner-eleven why is it so hard for us to beat a raggedy bunch of Hajjis and Towel-heads?\\\" Note that originally the word \\\"Nazi\\\" belonged in this category, but this term has long come into use as a proper English noun. See also, \\\"Reductionism,\\\" \\\"Ad Hominem Argument,\\\" and \\\"Alphabet Soup. \\\"The Narrative Fallacy (also, the Fable; the Poster Child) The ancient fallacy of persuasion by telling a \\\"heartwarming\\\" or horrifying story or fable, particularly to less-educated or uncritical audiences who are less likely to grasp purely logical arguments or general principles. E.g., Charles Dickens' \\\"A Christmas Carol.\\\" Narratives and fables, particularly those that name names and personalize arguments, tend to be far more persuasive at a popular level than other forms of argument and are virtually irrefutable, even when the story in question is well known to be entirely fictional. This fallacy is found even in the field of science, as noted by a recent (2017) scientific study. The NIMBY Fallacy (Not in My Back Yard; also \\\"Build a Wall! \\\"; \\\"Lock'em up and throw away the key;\\\" The Ostrich Strategy; The Gitmo Solution.). The infantile fallacy that a problem, challenge or threat that is not physically nearby or to which I am not directly exposed has for all practical purposes \\\"gone away\\\" and ceased to exist. Thus, a problem can be permanently and definitively solved by \\\"making it go away,\\\" preferably to someplace \\\"out of sight,\\\" a walled-off ghetto or a distant isle where there is no news coverage, and where nobody important stays. Lacking that, it can be made to go away by simply eliminating, censoring or ignoring \\\"negative\\\" media coverage and public discussion of the problem and focusing on \\\"positive, encouraging\\\" things instead. No Discussion (also No Negotiation; the Control Voice; Peace through Strength; a Muscular Foreign Policy; Fascism): A pure Argumentum ad Baculum that rejects reasoned dialogue, offering either instant, unconditional compliance/surrender or defeat/death as the only two options for settling even minor differences, e.g., screaming \\\"Get down on the ground, now !\\\" or declaring \\\"We don't talk to terrorists.\\\" This deadly fallacy falsely paints real or potential \\\"hostiles\\\" as monsters devoid of all reason, and far too often contains a very strong element of \\\"machismo\\\" as well. I.e. \\\"A real, muscular leader never resorts to pantywaist pleading, apologies, excuses, fancy talk or argument. That's for lawyers, liars and pansies and is nothing but a delaying tactic. A real man stands tall, says what he thinks, draws fast and shoots to kill.\\\" The late actor John Wayne frequently portrayed this fallacy in his movie roles. See also, The Pout. Non-recognition: A deluded fallacy in which one deliberately chooses not to publicly \\\"recognize\\\" ground truth, usually on the theory that this would somehow reward evil-doers if we recognize their deeds as real or consequential. Often the underlying theory is that the situation is \\\"temporary\\\" and will soon be reversed. E.g., In the decades from 1949 until Richard Nixon's presidency the United States officially refused to recognize the existence of the most populous nation on earth, the People's Republic of China, because America supported the U. S.-friendly Republic of China government on Taiwan instead and hoped they might somehow return to power on the mainland. Perversely, in 2016 the U. S. President-Elect caused a significant international flap by chatting with the President of the government on Taiwan, a de facto violation of long-standing American non-recognition of that same regime. More than half a century after the Korean War the U. S. still refuses to pronounce the name of, or recognize (much less conduct normal, peaceful negotiations with) a nuclear-armed DPRK (North Korea). An individual who practices this fallacy risks institutionalization (e.g., \\\"I refuse to recognize Mom's murder, 'cuz that'd give the victory to the murderer! I refuse to watch you bury her! Stop! Stop!\\\") but tragically, such behavior is only too common in international relations. See also the State Actor Fallacy, Political Correctness, and The Pout. The Non Sequitur: The deluded fallacy of offering evidence, reasons or conclusions that have no logical connection to the argument at hand (e.g. \\u201cThe reason I flunked your course is because the U. S. government is now putting out purple five-dollar bills! Purple! \\u201d). (See also Red Herring. )Occasionally involves the breathtaking arrogance of claiming to have special knowledge of why God, fate, karma or the Universe is doing certain things. E.g., \\\"This week's earthquake was obviously meant to punish those people for their great wickedness.\\\" See also, Magical Thinking, and the Appeal to Heaven. Nothing New Under the Sun (also, Uniformitarianism, \\u201cSeen it all before;\\u201d \\\"Surprise, surprise;\\\" \\\"Plus \\u00e7a change, plus c'est la m\\u00eame chose.\\\") : Fairly rare in contemporary discourse, this deeply cynical fallacy, a corruption of the argument from logos, falsely proposes that there is not and will never be any real novelty in this world. Any argument that there are truly \\u201cnew\\u201d ideas or phenomena is judged a priori to be unworthy of serious discussion and dismissed with a jaded sigh and a wave of the hand as \\\"the same old same old.\\\" E.g., \\u201c [Sigh!] Idiots! Don't you see that the current influx of refugees from the Mideast is just the same old Muslim invasion of Christendom that\\u2019s been going on for 1,400 years?\\u201d Or, \\u201cLibertarianism is nothing but re-warmed anarchism, which, in turn, is nothing but the ancient Antinomian Heresy. Like I told you before, there's nothing new under the sun!\\u201dOlfactory Rhetoric (also, \\\"The Nose Knows\\\"): A vicious, zoological-level fallacy of pathos in which opponents are marginalized, dehumanized or hated primarily based on their supposed odor, lack of personal cleanliness, imagined diseases or filth. E. g., \\\"Those demonstrators are demanding something or another but I'll only talk to them if first they go home and take a bath!\\\" Or, \\\"I can smell a Jew a block away!\\\" Also applies to demeaning other cultures or nationalities based on their differing cuisines, e.g., \\\"I don't care what they say or do, their breath always stinks of garlic. And have you ever smelled their kitchens?\\\" Olfactory Rhetoric straddles the borderline between a fallacy and a psychopathology. A2017 study by Ruhr University Bochumsuggests that olfactory rhetoric does not arise from a simple, automatic physiological reaction to an actual odor, but in fact, strongly depends on one's predetermined reaction or prejudices toward another, and one's olfactory center \\\"is activated even before we perceive an odour.\\\" See also, Othering. Oops! (also, \\\"Oh, I forgot...,\\\" \\\"The Judicial Surprise,\\\" \\\"The October Surprise,\\\"): A corrupt argument from logos in which toward the decisive end of a discussion, debate, trial, electoral campaign period, or decision-making process an opponent suddenly, elaborately and usually sarcastically shams having just remembered or uncovered some salient fact, argument or evidence. E.g., \\\"Oops, I forgot to ask you: You were convicted of this same offense twice before, weren't you?!\\\" Banned in American judicial argument, this fallacy is only too common in public discourse. Also applies to supposedly \\\"discovering\\\" and sensationally reporting some potentially damning information or evidence and then, after the damage has been done or the decision has been made, quietly declaring, \\\"Oops, I guess that really wasn't that significant after all. Ignore what I said. Sorry 'bout that! \\\"Othering (also Otherizing, \\\"They're Not Like Us,\\\" Stereotyping, Xenophobia, Racism, Prejudice): A badly corrupted, discriminatory argument from ethos where facts, arguments, experiences or objections are arbitrarily disregarded, ignored or put down without serious consideration because those involved \\\"are not like us,\\\" or \\\"don't think like us.\\\" E.g., \\\"It's OK for Mexicans to earn a buck an hour in the maquiladoras [Mexico-based \\\"Twin Plants\\\" run by American or other foreign corporations]. If it happened here I'd call it brutal exploitation and daylight robbery but south of the border, down Mexico way the economy is different and they're not like us.\\\" Or, \\\"You claim that life must be really terrible over there for terrorists to ever think of blowing themselves up with suicide vests just to make a point, but always remember that they're different from us. They don't think about life and death the same way we do.\\\" A vicious variety of the Ad Hominem Fallacy, most often applied to non-white or non-Christian populations. A variation on this fallacy is the \\\"Speakee\\\" Fallacy (\\\"You speakee da English? \\\"; also the Shibboleth), in which an opponent's arguments are mocked, ridiculed and dismissed solely because of the speaker's alleged or real accent, dialect, or lack of fluency in standard English, e.g., \\\"He told me 'Vee vorkers need to form a younion!' but I told him I'm not a 'vorker,' and to come back when he learns to speak proper English.\\\" A very dangerous, extreme example of Othering is Dehumanization, a fallacy of faulty analogy where opponents are dismissed as mere cockroaches, lice, apes, monkeys, rats, weasels or bloodsucking parasites who have no right to speak or to live at all, and probably should be \\\"squashed like bugs.\\\" This fallacy is ultimately the \\\"logic\\\" behind ethnic cleansing, genocide and gas ovens. See also the Identity Fallacy, \\\"Name Calling\\\" and \\\"Olfactory Rhetoric.\\\" The opposite of this fallacy is the \\\"Pollyanna Principle\\\" below. Overexplanation: A fallacy of logos stemming from the real paradox that beyond a certain point, more explanation, instructions, data, discussion, evidence or proof inevitably results in less, not more, understanding. Contemporary urban mythology holds that this fallacy is typically male (\\\" Mansplaining \\\"), while barely half a century ago the prevailing myth was that it was men who were naturally monosyllabic, grunting or non-verbal while women would typically overexplain (e.g., the 1960 hit song by Joe Jones, \\\"You Talk Too Much\\\"). \\\"Mansplaining\\\" is, according to scholar Danelle Pecht, \\\"the infuriating tendency of many men to always have to be the smartest person in the room, regardless of the topic of discussion and how much they actually know!\\\" See also The Snow Job, and the \\\"Plain Truth\\\" fallacy. Overgeneralization (also Hasty Generalization; Totus pro Partes Fallacy; the Merological Fallacy ): A fallacy of logos where a broad generalization that is agreed to be true is offered as overriding all particular cases, particularly special cases requiring immediate attention. E.g., \\\"Doctor, you say that this time of year a flu vaccination is essential. but I would counter that ALL vaccinations are essential\\\" (implying that I'm not going to give special attention to getting the flu shot). Or, attempting to refute \\\"Black Lives Matter\\\" by replying, \\\"All Lives Matter,\\\" the latter undeniably true but still a fallacious overgeneralization in that specific and urgent context. \\\" Overgeneralization can also mean one sees a single negative outcome as an eternal pattern of defeat. Overgeneralization may also include the the Pars pro Toto Fallacy, the stupid but common fallacy of incorrectly applying one or two true examples to all cases. E.g., a minority person who commits a particularly horrifying crime, and whose example is then used to smear the reputation of the entire group, or when a government publishes special lists of crimes committed by groups who are supposed to be hated, e.g., Jews, or undocumented immigrants. Famously, the case of one Willie Horton was successfully used in this manner in the 1988 American presidential election to smear African Americans, Liberals, and by extension, Democratic presidential candidate Michael Dukakis. See also the fallacy of \\\"Zero Tolerance\\\" below. The Paralysis of Analysis (also, Procrastination; the Nirvana Fallacy): A postmodern fallacy that since all data is never in, any conclusion is always provisional, no legitimate decision can ever be made and any action should always be delayed until forced by circumstances. A corruption of the argument from logos. (See also the \\\"Law of Unintended Consequences. \\\")The Passive Voice Fallacy (also, the Bureaucratic Passive): A fallacy from ethos, concealing active human agency behind the curtain of the grammatical passive voice, e.g., \\\"It has been decided that you are to be let go,\\\" arrogating an ethos of cosmic infallibility and inevitability to a very fallible conscious decision made by identifiable, fallible and potentially culpable human beings. Scholar Jackson Katz notes (2017): \\\"We talk about how many women were raped last year, not about how many men raped women. We talk about how many girls in a school district were harassed last year, not about how many boys harassed girls. We talk about how many teenage girls in the state of Vermont got pregnant last year, rather than how many men and boys impregnated teenage girls. ... So you can see how the use of the passive voice has a political effect. [It] shifts the focus off of men and boys and onto girls and women. Even the term 'Violence against women' is problematic. It's a passive construction; there's no active agent in the sentence. It's a bad thing that happens to women, but when you look at the term 'violence against women' nobody is doing it to them, it just happens to them... Men aren't even a part of it.\\\" See also, Political Correctness. An obverse of the Passive Voice Fallacy is the Be-verb Fallacy , a cultish linguistic theory and the bane of many a first-year composition student's life, alleging that an extraordinary degree of \\\"clarity,\\\" \\\"sanity,\\\" or textual \\\"liveliness\\\" can be reached by strictly eliminating all passive verb forms and all forms of the verb \\\"to be\\\" from English-language writing. This odd but unproven contention, dating back to Alfred Korzybski's \\\"General Semantics\\\" self-improvement movement of the 1920's and '30's via S. I. Hayakawa, blithely ignores the fact that although numerous major world languages lack a ubiquitous \\\"be-verb,\\\" e.g., Russian, Hindi and Arabic, speakers of these languages, like English-speaking General Semantics devotees themselves, have never been proven to enjoy any particular cognitive advantage over ordinary everyday users of the passive voice and the verb \\\"to be.\\\" Nor have writers of the curiously stilted English that results from applying this fallacy achieved any special success in academia, professional or technical writing, or in the popular domain. Paternalism: A serious fallacy of ethos, arbitrarily tut-tutting, dismissing or ignoring another's arguments or concerns as \\\"childish\\\" or \\\"immature;\\\" taking a condescending attitude of superiority toward opposing standpoints or toward opponents themselves. E.g., \\\"Your argument against the war is so infantile. Try approaching the issue like an adult for a change,\\\" \\\"I don't argue with children ,\\\" or \\\"Somebody has to be the grownup in the room, and it might as well be me. Here's why you're wrong...\\\" Also refers to the sexist fallacy of dismissing a woman's argument because she is a woman, e.g., \\\"Oh, it must be that time of the month, eh?\\\" See also \\\"Ad Hominem Argument\\\" and \\\"Tone Policing. \\\"Personalizaion: A deluded fallacy of ethos, seeing yourself or someone else as the essential cause of some external event for which you or the other person had no responsibility. E.g., \\\"Never fails! It had to happen! It's my usual rotten luck that the biggest blizzard of the year had to occur just on the day of our winter festival. If it wasn't for ME being involved I'm sure the blizzard wouldn't have happened!\\\" This fallacy can also be taken in a positive sense, e.g. Hitler evidently believed that simply because he was Hitler every bullet would miss him and no explosive could touch him. \\\"Personalization\\\" straddles the borderline between a fallacy and a psychopathology. See also, \\\"The Job's Comforter Fallacy,\\\" and \\\"Magical Thinking. \\\"The Plain Truth Fallacy; (also, the Simple Truth fallacy, Salience Bias, the KISS Principle [Keep it Short and Simple / Keep it Simple, Stupid], the Monocausal Fallacy; the Executive Summary): A fallacy of logos favoring familiar, singular, summarized or easily comprehensible data, examples, explanations and evidence over those that are more complex and unfamiliar but much closer to the truth. E.g., \\\"Ooooh, look at all those equations and formulas! Just boil it down to the Simple Truth,\\\" or \\\"I don't want your damned philosophy lesson! Just tell me the Plain Truth about why this is happening.\\\" A more sophisticated version of this fallacy arbitrarily proposes, as did 18th century Scottish rhetorician John Campbell, that the Truth is always simple by nature and only malicious enemies of Truth would ever seek to make it complicated. (See also, The Snow Job, and Overexplanation.) The opposite of this is the postmodern fallacy of Ineffability or Complexity (also, Truthiness; Post-Truth),, arbitrarily declaring that today's world is so complex that there is no truth, or that Truth (capital-T), if indeed such a thing exists, is unknowable except perhaps by God or the Messiah and is thus forever inaccessible and irrelevant to us mere mortals, making any cogent argument from logos impossible. See also the Big Lie, and Paralysis of Analysis. Plausible Deniability: A vicious fallacy of ethos under which someone in power forces those under his or her control to do some questionable or evil act and to then falsely assume or conceal responsibility for that act in order to protect the ethos of the one in command. E.g., \\\"Arrange a fatal accident but make sure I know nothing about it! \\\"Playing on Emotion (also, the Sob Story; the Pathetic Fallacy; the \\\"Bleeding Heart\\\" fallacy, the Drama Queen / Drama King Fallacy): The classic fallacy of pure argument from pathos, ignoring facts and evoking emotion alone. E.g., \\u201cIf you don\\u2019t agree that witchcraft is a major problem just shut up, close your eyes for a moment and picture in your mind all those poor moms crying bitter tears for their innocent tiny children whose cozy little beds and happy tricycles lie all cold and abandoned, just because of those wicked old witches! Let's string\\u2019em all up!\\u201d The opposite of this is the Apathetic Fallacy (also, Cynicism; Burnout; Compassion Fatigue), where any and all legitimate arguments from pathos are brushed aside because, as noted country music artist Jo Dee Messina sang (2005), \\\"My give-a-damn's busted.\\\" Obverse to Playing on Emotion is the ancient fallacy of Refinement (\\\" Real Feelings\\\"), where certain classes of living beings such as plants and non-domesticated animals, infants, babies and minor children, barbarians, slaves, deep-sea sailors, farmworkers, criminals and convicts, refugees, addicts, terrorists, Catholics, Jews, foreigners, the poor, people of color, \\\"Hillbillies,\\\" \\\"Hobos,\\\" homeless or undocumented people, or \\\"the lower classes\\\" in general are deemed incapable of experiencing real pain like we do, or of having any \\\" real feelings\\\" at all, only brutish appetites, vile lusts, evil drives, filthy cravings, biological instincts, psychological reflexes and automatic tropisms. Noted rhetorician Kenneth Burke falls into this last, behaviorist fallacy in his otherwise brilliant (1966) Language as Symbolic Action, in his discussion of a bird trapped in a lecture room. See also, Othering. Political Correctness (\\\"PC\\\"): A postmodern fallacy, a counterpart of the \\\"Name Calling\\\" fallacy, supposing that the nature of a thing or situation can be changed by simply changing its name. E.g., \\\"Today we strike a blow for animal rights and against cruelty to animals by changing the name of \\u2018pets\\u2019 to \\u2018animal companions.\\u2019\\\" Or \\\"Never, ever play the 'victim' card, because it's so manipulative and sounds so negative, helpless and despairing. Instead of being 'victims,' we are proud to be 'survivors.'\\\" (Of course, when \\\"victims\\\" disappear then perpetrators conveniently vanish as well!) See also, The Passive Voice Fallacy, and The Scripted Message. Also applies to other forms of political \\\" Language Control,\\\" e.g., being careful never to refer to North Korea or ISIS/ISIL by their rather pompous proper names (\\\"the Democratic People's Republic of Korea\\\" and \\\"the Islamic State,\\\" respectively) or to the Syrian government as the \\\"Syrian government,\\\" (It's always the \\\"Regime\\\" or the \\\"Dictatorship.\\\"). Occasionally the fallacy of \\\"Political Correctness\\\" is falsely confused with simple courtesy, e.g., \\\"I'm sick and tired of the tyranny of Political Correctness, having to watch my words all the time--I want to be free to speak my mind and to call out a N----- or a Queer in public any time I damn well feel like it!\\\" See also, Non-recognition. An opposite of this fallacy is the fallacy of Venting, below. The Pollyanna Principle (also, \\\"The Projection Bias,\\\" \\\"They're Just Like Us,\\\" \\\"Singing 'Kumbaya. '\\\"): A traditional, often tragic fallacy of ethos, that of automatically (and falsely) assuming that everyone else in any given place, time and circumstance had or has basically the same (positive) wishes, desires, interests, concerns, ethics and moral code as \\\"we\\\" do. This fallacy practically if not theoretically denies both the reality of difference and the human capacity to chose radical evil. E.g., arguing that \\\"The only thing most Nazi Storm Troopers wanted was the same thing we do, to live in peace and prosperity and to have a good family life,\\\" when the reality was radically otherwise. Dr. William Lorimer offers this explanation: \\\" The Projection Bias is the flip side of the 'They're Not Like Us' [Othering] fallacy. The Projection bias (fallacy) is 'They're just people like me, therefore they must be motivated by the same things that motivate me.' For example: 'I would never pull a gun and shoot a police officer unless I was convinced he was trying to murder me; therefore, when Joe Smith shot a police officer, he must have been in genuine fear for his life.' I see the same fallacy with regard to Israel: 'The people of Gaza just want to be left in peace; therefore, if Israel would just lift the blockade and allow Hamas to import anything they want, without restriction, they would stop firing rockets at Israel.' That may or may not be true - I personally don't believe it - but the argument clearly presumes that the people of Gaza, or at least their leaders, are motivated by a desire for peaceful co-existence.\\\" The Pollyanna Principle was gently but expertly demolished in the classic twentieth-century American animated cartoon series, \\\"The Flintstones,\\\" in which the humor lay in the absurdity of picturing \\\"Stone Age\\\" characters having the same concerns, values and lifestyles as mid-twentieth century white working class Americans. This is the opposite of the Othering fallacy. (Note: The Pollyanna Principle fallacy should not be confused with a psychological principle of the same name which observes that positive memories are usually retained more strongly than negative ones. )The Positive Thinking Fallacy: An immensely popular but deluded modern fallacy of logos, that because we are \\\"thinking positively\\\" that in itself somehow biases external, objective reality in our favor even before we lift a finger to act. See also, Magical Thinking. Note that this particular fallacy is often part of a much wider closed-minded, somewhat cultish ideology where the practitioner is warned against paying attention to to or even acknowledging the reality of evil, or of \\\"negative\\\" evidence or counter-arguments against his/her standpoints. In the latter case rational discussion, argument or refutation is most often futile. See also, Deliberate Ignorance. The Post Hoc Argument: (also, \\\"Post Hoc Propter Hoc;\\\" \\\"Post Hoc Ergo Propter Hoc;\\\" \\\"Too much of a coincidence,\\\" the \\\"Clustering Illusion\\\"): The classic paranoiac fallacy of attributing an imaginary causality to random coincidences, concluding that just because something happens close to, at the same time as, or just after something else, the first thing is caused by the second. E.g., \\\"AIDS first emerged as a epidemic back in the very same era when Disco music was becoming popular--that's too much of a coincidence: It proves that Disco caused AIDS!\\\" Correlation does not equal causation. The Pout (also The Silent Treatment; Nonviolent Civil Disobedience; Noncooperation): An often-infantile Argumentum ad Baculum that arbitrarily rejects or gives up on dialogue before it is concluded. The most benign nonviolent form of this fallacy is found in passive-aggressive tactics such as slowdowns, boycotts, lockouts, sitdowns and strikes. Under President Barack Obama the United States finally ended a half-century long political Pout with Cuba. See also \\\"No Discussion\\\" and \\\"Nonrecognition. \\\"The Procrustean Fallacy (also, \\\"Keeping up Standards,\\\" Standardization, Uniformity, Fordism). The modernist fallacy of falsely and inappropriately applying the norms and requirements of standardized manufacturing. quality control and rigid scheduling, or of military discipline to inherently diverse free human beings, their lives, education, behavior, clothing and appearance. This fallacy often seems to stem from the pathological need of someone in power to place in \\\"order\\\" their disturbingly free, messy and disordered universe by restricting others' freedom and insisting on rigid standardization, alphabetization, discipline, uniformity and \\\"objective\\\" assessment of everyone under their power. This fallacy partially explains why marching in straight lines, mass calisthenics, goose-stepping, drum-and-bugle or flag corps, standing at attention, saluting, uniforms, and standardized categorization are so typical of fascism, tyrannical regimes, and of tyrants petty and grand everywhere. Thanks to author Eimar O'Duffy for identifying this fallacy!Prosopology (also, Prosopography, Reciting the Litany; \\\"Tell Me, What Were Their Names? \\\"; Reading the Roll of Martyrs): An ancient fallacy of pathos and ethos, publicly reading out loud, singing, or inscribing at length a list of names (most or all of which will be unknown to the reader or audience), sometimes in a negative sense, to underline the gravity of a past tragedy or mass-casualty event, sometimes in a positive sense, to emphasize the ancient historical continuity of a church, organization or cause. Proper names, especially if they are from the same culture or language group as the audience, can have near-mystical persuasive power. In some cases, those who use this fallacy in its contemporary form will defend it as an attempt to \\\"personalize\\\" an otherwise anonymous recent mass tragedy. This fallacy was virtually unknown in secular American affairs before about 100 years ago, when the custom emerged of listing of the names of local World War I casualties on community monuments around the country. That this is indeed a fallacy is evident by the fact that the names on these century-old monuments are now meaningful only to genealogists and specialized historians, just as the names on the Vietnam War Memorial in Washington or the names of those who perished on 9/11 will surely be in another several generations. The Red Herring (also, Distraction): An irrelevant argument, attempting to mislead and distract an audience by bringing up an unrelated but emotionally loaded issue. E.g., \\\"In regard to my several bankruptcies and recent indictment for corruption let\\u2019s be straight up about what\\u2019s really important: Terrorism! Just look at what happened last week in [name the place]. Vote for me and I'll fight those terrorists anywhere in the world!\\\" Also applies to raising unrelated issues as falsely opposing the issue at hand, e.g., \\\"You say 'Black Lives Matter,' but I would rather say 'Climate Change Matters!'\\\" when the two contentions are in no way opposed, only competing for attention. See also Availability Bias, and Dog Whistle Politics. Reductio ad Hitlerum (or, ad Hitleram): A highly problematic contemporary historical-revisionist contention that the argument \\\"That's just what Hitler said (or would have said, or would have done)\\\" is a fallacy, an instance of the Ad Hominem argument and/or Guilt by Association. Whether the Reductio ad Hitlerum can be considered an actual fallacy or not seems to fundamentally depend on one's personal view of Hitler and the gravity of his crimes. Reductionism: (also, Oversimplifying, Sloganeering): The fallacy of deceiving an audience by giving simple answers or bumper-sticker slogans in response to complex questions, especially when appealing to less educated or unsophisticated audiences. E.g., \\\"If the glove doesn\\u2019t fit, you must vote to acquit.\\\" Or, \\\"Vote for Snith. He'll bring back jobs!\\\" In science, technology, engineering and mathematics (\\\"STEM subjects\\\") reductionism is intentionally practiced to make intractable problems computable, e.g., the well-known humorous suggestion, \\\" First, let's assume the cow is a sphere! \\\". See also, the Plain Truth Fallacy, and Dog-whistle Politics. Reifying (also, Mistaking the Map for the Territory): The ancient fallacy of treating imaginary intellectual categories, schemata or names as actual, material \\\"things.\\\" (E.g., \\\"The War against Terror is just another chapter in the eternal fight to the death between Freedom and Absolute Evil!\\\") Sometimes also referred to as \\\" Essentializing \\\" or \\u201c Hypostatization .\\u201dThe Romantic Rebel (also, the Truthdig / Truthout Fallacy ; the Brave Heretic; Conspiracy theories; the Iconoclastic Fallacy): The contemporary fallacy of claiming Truth or validity for one's standpoint solely or primarily because one is supposedly standing up heroically to the dominant \\\"orthodoxy,\\\" the current Standard Model, conventional wisdom or Political Correctness, or whatever may be the Bandwagon of the moment; a corrupt argument from ethos. E.g., \\\"Back in the day the scientific establishment thought that the world was flat, that was until Columbus proved them wrong! Now they want us to believe that ordinary water is nothing but H 2 O. Are you going to believe them? The government is frantically trying to suppress the truth that our public drinking-water supply actually has nitrogen in it and causes congenital vampirism! And what about Area 51? Don't you care? Or are you just a kiss-up for the corrupt scientific establishment?\\\" The opposite of the Bandwagon fallacy. The \\\"Save the Children\\\" Fallacy (also, Humanitarian Crisis): A cruel and cynical contemporary media-driven fallacy of pathos, an instance of the fallacious Appeal to Pity, attracting public support for intervention in somebody else's crisis in a distant country by repeatedly showing in gross detail the extreme (real) suffering of the innocent, defenseless little children (occasionally extended even to their pets!) on \\\"our\\\" side, conveniently ignoring the reality that innocent children on all sides usually suffer the most in any war, conflict, famine or crisis. Recent (2017) examples include the so-called \\\"Rohingya\\\" in Myanmar/Burma (ignoring multiple other ethnicities suffering ongoing hunger and conflict in that impoverished country), children in rebel-held areas of Syria (areas held by our rebels, not by the Syrian government or by Islamic State rebels), and the children of Mediterranean boat-people (light complected children from the Mideast, Afghanistan and North Africa, but not darker, African-complected children from sub-Saharan countries, children who are evidently deemed by the media to be far less worthy of pity). Scholar Glen Greenwald points out that a cynical key part of this tactic is hiding the child and adult victims of one's own violence while \\\"milking\\\" the tragic, blood-soaked images of children killed by the \\\"other side\\\" for every tear they can generate as a causus belli [a puffed-up excuse for war, conflict or American/Western intervention]. Scapegoating (also, Blamecasting): The ancient fallacy that whenever something goes wrong there's always someone other than oneself to blame. Although sometimes this fallacy is a practical denial of randomness or chance itself, today it is more often a mere insurance-driven business decision (\\\"I don't care if it was an accident! Somebody with deep pockets is gonna pay for this! \\\"), though often scapegoating is no more than a cynical ploy to shield those truly responsible from blame. The term \\\"Scapegoating\\\" is also used to refer to the tactic of casting collective blame on marginalized or scorned \\\"Others,\\\" e.g., \\\"The Jews are to blame!\\\" A particularly corrupt and cynical example of scapegoating is the fallacy of Blaming the Victim, in which one falsely casts the blame for one's own evil or questionable actions on those affected, e.g., \\\"If you move an eyelash I'll have to kill you and you'll be to blame!\\\" \\\"If you don't bow to our demands we'll shut down the government and it'll be totally YOUR fault!\\\" or \\\"You bi**h, you acted flirty and made me rape you! Then you snitched on me to the cops and let them collect a rape kit on you, and now I'm going to prison and every bit of it is your fault!\\\" See also, the Affective Fallacy. Scare Tactics (also Appeal to Fear; Paranoia; the Bogeyman Fallacy; Shock Doctrine [Shock Doc]; Rally 'Round the Flag; Rally 'Round the President): A variety of Playing on Emotions, a corrupted argument from pathos, taking advantage of a emergent or deliberately-created crisis and its associated public shock, panic and chaos in order to impose an argument, action or solution that would be clearly unacceptable if carefully considered. E.g., \\\"If you don't shut up and do what I say we're all gonna die! In this moment of crisis we can't afford the luxury of criticizing or trying to second-guess my decisions when our very lives and freedom are in peril! Instead, we need to be united as one!\\\" Or, in the (2017) words of former White House Spokesperson Sean Spicer, \\\"This is about the safety of America!\\\" This fallacy is discussed at length in Naomi Klein's (2010) The Shock Doctrine: The Rise of Disaster Capitalism and her (2017) No is Not Enough: Resisting Trump's Shock Politics and Winning the World We Need. See also, The Shopping Hungry Fallacy, Dog-Whistle Politics, \\\"We Have to do Something! \\\", and The Worst Case Fallacy. \\\"Scoring\\\" (also, Moving the Ball Down the Field, the Sports World Fallacy; \\\"Hey, Sports Fans! \\\"): An instance of faulty analogy, the common contemporary fallacy of inappropriately and most often offensively applying sports, gaming, hunting or other recreational imagery to unrelated areas of life, such as war or intimacy. E.g., \\\"Nope, I haven't scored with Francis yet, but last night I managed to get to third base!\\\" or \\\"We really need to take our ground game into Kim's half of the field if we ever expect to score against North Korea.\\\" This fallacy is almost always soaked in testosterone and machismo. An associated fallacy is that of Evening up the Score (also, Getting Even), exacting tit-for-tat vengeance as though life were some sort of \\\"point-score\\\" sports contest. Counter-arguments to the \\\"Scoring\\\" fallacy usually fall on deaf ears, since the one and only purpose for playing a game is to \\\"score,\\\" isn't it? The Scripted Message (also, Talking Points): A contemporary fallacy related to Big Lie Technique, where a politician or public figure strictly limits her/his statements on a given issue to repeating carefully scripted, often exaggerated or empty phrases developed to achieve maximum acceptance or maximum desired reaction from a target audience. See also, Dog Whistle Politics, and Political Correctness, above. The opposite of this fallacy is that of \\\"Venting. \\\"Sending the Wrong Message: A dangerous fallacy of logos that attacks a given statement, argument or action, no matter how good, true or necessary, because it will \\\"send the wrong message.\\\" In effect, those who use this fallacy are openly confessing to fraud and admitting that the truth will destroy the fragile web of illusion they have deliberately created by their lies. E.g., \\\"Actually, we haven't a clue about how to deal with this crisis, but if we publicly admit it we'll be sending the wrong message.\\\" See also, \\\"Mala Fides. \\\"Shifting the Burden of Proof : A classic fallacy of logos that challenges an opponent to disprove a claim rather than asking the person making the claim to defend his/her own argument. E.g., \\\"These days space-aliens are everywhere among us, masquerading as true humans, even right here on campus! I dare you to prove it isn't so! See? You can't! You admit it! That means what I say has to be true. Most probably, you're one of them, since you seem to be so soft on space-aliens!\\\" A typical tactic in using this fallacy is first to get an opponent to admit that a far-fetched claim, or some fact related to it, is indeed at least theoretically \\\"possible,\\\" and then declare the claim \\\"proven\\\" absent evidence to the contrary. E.g., \\\"So you admit that massive undetected voter fraud is indeed possible under our current system, and could have happened in this country at least in theory, and you can't produce even the tiniest scintilla of evidence that it didn't actually happen! Ha-ha! I rest my case.\\\" See also, Argument from Ignorance. The Shopping Hungry Fallacy: A fallacy of pathos, a variety of Playing on Emotions and sometimes Scare Tactics, making stupid but important decisions (or being prompted, manipulated or forced to \\\"freely\\\" take public or private decisions that may be later regretted but are difficult to reverse) \\\"in the heat of the moment\\\" when under the influence of strong emotion (hunger, fear, lust, anger, sadness, regret, fatigue, even joy, love or happiness). E.g., Trevor Noah, (2016) host of the Daily Show on American television attributes public approval of draconian measures in the Patriot Act and the creation of the U. S. Department of Homeland Security to America's \\\"shopping hungry\\\" immediately after 9/11. See also, Scare Tactics; \\\"We Have to Do Something; \\\" and The Big \\\"But\\\" Fallacy. The Silent Majority Fallacy: A variety of the argument from ignorance, this fallacy, famously enunciated by disgraced American President Richard Nixon, alleges special knowledge of a hidden \\\"silent majority\\\" of voters (or of the population in general) that stands in support of an otherwise unpopular leader and his/her policies, contrary to the repeated findings of polls, surveys and popular vote totals. In an extreme case the leader arrogates to him/herself the title of the \\\" Voice of the Voiceless. \\\"The Simpleton's Fallacy: (Or, The \\\"Good Simpleton\\\" Fallacy): A corrupt fallacy of logos, described in an undated quote from science writer Isaac Asimov as \\\" T he false notion that democracy means that 'my ignorance is just as good as your knowledge.'\\\" The name of this fallacy is borrowed from Walter M. Miller Jr.'s classic (1960) post-apocalyptic novel, A Canticle for Leibowitz, in which in the centuries after a nuclear holocaust knowledge and learning become so despised that \\\"Good Simpleton\\\" becomes the standard form of interpersonal salutation. This fallacy is masterfully portrayed in the person of the title character in the 1994 Hollywood movie, \\\"Forrest Gump.\\\" The fallacy is widely alleged to have had a great deal to do with the outcome of the 2016 US presidential election, See also \\\"Just Plain Folks,\\\" and the \\\"Plain Truth Fallacy.\\\" U. S. President Barrack Obama noted to the contrary (2016), \\\"In politics and in life, ignorance is not a virtue. It's not cool to not know what you're talking about. That's not real or telling it like it is. That's not challenging political correctness. That's just not knowing what you're talking about.\\\" The term \\\"Simpleton's Fallacy\\\" has also been used to refer to a deceptive technique of argumentation, feigning ignorance in order to get one's opponent to admit to, explain or overexplain something s/he would rather not discuss. E.g., \\\"I see here that you have a related prior conviction for something called 'Criminal Sodomy.' I may be a poor, naive simpleton but I'm not quite sure what that fine and fancy lawyer-talk means in plain English. Please explain to the jury in simple terms what exactly you did to get convicted of that crime.\\\" See also, Argument from Ignorance, and The Third Person Effect. The Slippery Slope (also, the Domino Theory): The common fallacy that \\\"one thing inevitably leads to another.\\\" E.g., \\\"If you two go and drink coffee together one thing will lead to another and next thing you know you'll be pregnant and end up spending your life on welfare living in the Projects,\\\" or \\\"If we close Gitmo one thing will lead to another and before you know it armed terrorists will be strolling through our church doors with suicide belts, proud as you please, smack in the middle of the 10:30 a.m. Sunday worship service right here in Garfield, Kansas! \\\"The Snow Job (also Falacia ad Verbosium; Information Bias): A fallacy of logos, \\u201cproving\\u201d a claim by overwhelming an audience (\\\"snowing them under\\\") with mountains of true but marginally-relevant documents, graphs, words, facts, numbers, information and statistics that look extremely impressive but which the intended audience cannot be expected to understand or properly evaluate. This is a corrupted argument from logos. See also, \\\"Lying with Statistics.\\\" The opposite of this fallacy is the Plain Truth Fallacy. The Soldiers' Honor Fallacy: The ancient fallacy that all who wore a uniform, fought hard and followed orders are worthy of some special honor or glory or are even \\\"heroes,\\\" whether they fought for freedom or fought to defend slavery, marched under Grant or Lee, Hitler, Stalin, Eisenhower or Mc Arthur, fought to defend their homes, fought for oil or to spread empire, or even fought against and killed U. S. soldiers! A corrupt argument from ethos (that of a soldier), closely related to the \\\"Finish the Job\\\" fallacy (\\\"Sure, he died for a lie, but he deserves honor because he followed orders and did his job faithfully to the end!\\\"). See also \\\"Heroes All.\\\" This fallacy was recognized and decisively refuted at the Nuremburg Trials after World War II but remains powerful to this day nonetheless. See also \\\"Blind Loyalty.\\\" Related is the State Actor Fallacy, that those who fight and die for their country (America, Russia, Iran, the Third Reich, etc.) are worthy of honor or at least pardonable while those who fight for a non-state actor (armed abolitionists, guerrillas, freedom-fighters, jihadis, mujahideen) are not and remain \\\"terrorists\\\" no matter how noble or vile their cause, until or unless they win and become the recognized state, or are adopted by a state after the fact. The Standard Version Fallacy: The ancient fallacy, a discursive Argumentum ad Baculum, of choosing a \\\"Standard Translation\\\" or \\\"Authorized Version\\\" of an ancient or sacred text and arbitrarily declaring it \\\"correct\\\" and \\\"authoritative,\\\" necessarily eliminating much of the poetry and underlying meaning of the original but conveniently quashing any further discussion about the meaning of the original text, e.g., the Vulgate or The King James Version. The easily demonstrable fact that translation (beyond three or four words) is neither uniform nor reversible (i.e., never comes back exactly the same when retranslated from another language) gives the lie to any efforts to make translation of human languages into an exact science. Islam clearly recognizes this fallacy when characterizing any attempt to translate the sacred text of the Holy Qur'an out of the original Arabic as a \\\"paraphrase\\\" at very best. An obverse of this fallacy is the Argumentum ad Mysteriam, above. An extension of the Standard Version Fallacy is the Monolingual Fallacy, at an academic level the fallacy of ignorantly assuming (as a monolingual person) that transparent, in-depth translation between languages is the norm, or even possible at all, allowing one to conveniently and falsely ignore everyday issues of translation when close-reading translated literature or academic text and theory. At the popular level the Monolingual Fallacy allows monolinguals to blithely demand that visitors, migrants, refugees and newcomers learn English, either before arriving or else overnight after arrival in the United States, while applying no such demand to themselves when they go to Asia, Europe, Latin America, or even French-speaking areas of Canada. Not rarely, this fallacy descends into gross racism or ethnic discrimination, e.g., the demagogy of warning of \\\"Spanish being spoken right here on Main Street and taco trucks on every corner!\\\" See also, Othering, and Dog-Whistle Politics. Star Powe r (also Testimonial, Questionable Authority, Faulty Use of Authority, Falacia ad Vericundiam; Eminence-based Practice): In academia and medicine, a corrupt argument from ethos in which arguments, standpoints and themes of professional discourse are granted fame and validity or condemned to obscurity solely by whoever may be the reigning \\\"stars\\\" or \\\"premier journals\\\" of the profession or discipline at the moment. E.g., \\\"Foster's take on Network Theory has been thoroughly criticized and is so last-week!. This week everyone's into Safe Spaces and Pierce's Theory of Microaggressions. Get with the program.\\\" (See also, the Bandwagon.) Also applies to an obsession with journal Impact Factors. At the popular level this fallacy also refers to a corrupt argument from ethos in which public support for a standpoint or product is established by a well-known or respected figure (i.e.,. a star athlete or entertainer) who is not an expert and who may have been well paid to make the endorsement (e.g., \\u201cOlympic gold-medal pole-vaulter Fulano de Tal uses Quick Flush Internet--Shouldn\\u2019t you?\\\" Or, \\\"My favorite rock star warns that vaccinations spread cooties, so I'm not vaccinating my kids!\\\" ). Includes other false, meaningless or paid means of associating oneself or one\\u2019s product or standpoint with the ethos of a famous person or event (e.g., \\u201cTry Salsa Cabria, the official taco sauce of the Winter Olympics!\\u201d). This fallacy also covers Faulty use of Quotes (also, The Devil Quotes Scripture), including quoting out of context or against the clear intent of the original speaker or author. E.g., racists quoting and twisting the Rev. Dr. Martin Luther King Jr.'s statements in favor of racial equality against contemporary activists and movements for racial equality. The Straw Man (also \\\"The Straw Person\\\" \\\"\\\"The Straw Figure\\\"): The fallacy of setting up a phony, weak, extreme or ridiculous parody of an opponent's argument and then proceeding to knock it down or reduce it to absurdity with a rhetorical wave of the hand. E.g., \\\"Vegetarians say animals have feelings like you and me. Ever seen a cow laugh at a Shakespeare comedy? Vegetarianism is nonsense!\\\" Or, \\\"Pro-choicers hate babies and want to kill them!\\\" Or, \\\"Pro-lifers hate women and want them to spend their lives barefoot, pregnant and chained to the kitchen stove!\\\" A too-common example of this fallacy is that of highlighting the most absurd, offensive, silly or violent examples in a mass movement or demonstration, e.g. \\\"Tree huggers\\\" for environmentalists, \\\"bra burners\\\" for feminists, or \\\"rioters\\\" when there are a dozen violent crazies in a peaceful, disciplined demonstration of thousands or tens of thousands, and then falsely portraying these extreme examples as typical of the entire movement in order to condemn it with a wave of the hand. See also Olfactory Rhetoric. The Taboo (also, Dogmatism):: The ancient fallacy of unilaterally declaring certain \\\"bedrock\\\" arguments, assumptions, dogmas, standpoints or actions \\\"sacrosanct\\\" and not open to discussion, or arbitrarily taking some emotional tones, logical standpoints, doctrines or options \\\"off the table\\\" beforehand. (E.g., \\\" \\\"No, let's no t discuss my sexuality,\\\" \\\"Don't bring my drinking into this,\\\" or \\\"Before we start, you need to know I won't allow you to play the race card or permit you to attack my arguments by claiming 'That's just what Hitler would say!'\\\") Also applies to discounting or rejecting certain arguments, facts and evidence (or even experiences!) out of hand because they are supposedly \\\"against the Bible\\\" or other sacred dogma (See also the A Priori Argument). This fallacy occasionally degenerates into a separate, distracting argument over who gets to define the parameters, tones, dogmas and taboos of the main argument, though at this point reasoned discourse most often breaks down and the entire affair becomes a naked Argumentum ad Baculum. See also, MYOB, Tone Policing, and Calling \\\"Cards. \\\"They're All Crooks: The common contemporary fallacy of refusing to get involved in public politics because \\\"all\\\" politicians and politics are allegedly corrupt, ignoring the fact that if this is so in a democratic country it is precisely because decent people like you and I refuse to get involved, leaving the field open to the \\\"crooks\\\" by default. An example of Circular Reasoning. Related to this fallacy is \\\" They're All Biased ,\\\" the extremely common contemporary cynical fallacy of ignoring news and news media because none tells the \\\"objective truth\\\" and all push some \\\"agenda.\\\" This basically true observation logically requiring audiences to regularly view or read a variety of media sources in order to get any approximation of reality, but for many younger people today (2017) it means in practice, \\\"Ignore news, news media and public affairs altogether and instead pay attention to something that's fun, exciting or personally interesting to you .\\\" The sinister implication for democracy is, \\\"Mind your own business and leave all the 'big' questions to your betters, those whose job is to deal with these questions and who are well paid to do so.\\\" See also the Third Person Effect, and Deliberate Ignorance. The \\\"Third Person Effect\\\" (also, \\\"Wise up!\\\" and \\\"They're All Liars\\\"): An example of the fallacy of Deliberate Ignorance, the arch-cynical postmodern fallacy of deliberately discounting or ignoring media information a priori, opting to remain in ignorance rather than \\\"listening to the lies\\\" of the mainstream media, the President, the \\\"medical establishment,\\\" professionals, professors, doctors and the \\\"academic elite\\\" or other authorities or information sources, even about urgent subjects (e.g., the need for vaccinations) on which these sources are otherwise publicly considered to be generally reliable or relatively trustworthy. According to Drexel University researchers (2017), the \\\"Third Person Effect ... suggests that individuals will perceive a mass media message to have more influence on others, than themselves. This perception tends to counteract the message's intended 'call-to-action.' Basically, this suggests that over time people wised up to the fact that some mass media messages were intended to manipulate them -- so the messages became less and less effective.\\\" This fallacy seems to be opposite to and an overreaction to the Big Lie Technique. See also, Deliberate Ignorance, the Simpleton's Fallacy, and Trust your Gut. The \\\"Thousand Flowers\\\" Fallacy (also, \\\"Take names and kick butt. \\\"): A sophisticated, modern \\\"Argumentum ad Baculum\\\" in which free and open discussion and \\\"brainstorming\\\" are temporarily allowed and encouraged (even demanded) within an organization or country not primarily in order to hear and consider opposing views, but rather to \\\"smoke out,\\\" identify and later punish, fire or liquidate dissenters or those not following the Party Line. The name comes from the Thousand Flowers Period in Chinese history when Communist leader Chairman Mao Tse Tung applied this policy with deadly effect. Throwing Good Money After Bad (also, \\\"Sunk Cost Fallacy\\\"): In his excellent book, Logically Fallacious (2015), Author Bo Bennett describes this fallacy as follows: \\\"Reasoning that further investment is warranted on the fact that the resources already invested will be lost otherwise, not taking into consideration the overall losses involved in the further investment.\\\" In other words, risking additional money to \\\"save\\\" an earlier, losing investment, ignoring the old axiom that \\\"Doing the same thing and expecting different results is the definition of insanity.\\\" E.g., \\\"I can't stop betting now, because I already bet the rent and lost, and I need to win it back or my wife will kill me when I get home!\\\" See also Argument from Inertia. TINA (There Is No Alternative. Also the \\\"Love it or Leave It\\\" Fallacy; \\\"Get over it,\\\" \\\"Suck it up,\\\" \\\"It is what it is,\\\" \\\"Actions/Elections have consequences,\\\" or the \\\"Fait Accompli\\\"): A very common contemporary extension of the either/or fallacy in which someone in power quashes critical thought by announcing that there is no realistic alternative to a given standpoint, status or action, arbitrarily ruling any and all other options out of bounds, or announcing that a decision has been made and any further discussion is insubordination, disloyalty, treason, disobedience or simply a waste of precious time when there's a job to be done. (See also, \\\"Taboo;\\\" \\\"Finish the Job.\\\") TINA is most often a naked power-play, a slightly more sophisticated variety of the Argumentum ad Baculum. See also Appeal to Closure. Tone Policing. A corrupt argument from pathos and delivery, the fallacy of judging the validity of an argument primarily by its emotional tone of delivery, ignoring the reality that a valid fact or argument remains valid whether it is offered calmly and deliberatively or is shouted in a \\\"shrill\\\" or even \\\"hysterical\\\" tone, whether carefully written and published in professional, academic language in a respected, peer-reviewed journal or screamed through a bull-horn and peppered with vulgarity. Conversely, a highly urgent emotional matter is still urgent even if argued coldly and rationally. This fallacy creates a false dichotomy between reason and emotion and thus implicitly favors those who are not personally involved or emotionally invested in an argument, e.g., \\\"I know you're upset, but I won't discuss it with you until you calm down,\\\" or \\\"I'd believe what you wrote were it not for your adolescent overuse of exclamation points throughout the text.\\\" Or alternately, \\\"You seem to be taking the death of your spouse way too calmly. You're under arrest for homicide. You have the right to remain silent...\\\" Tone Policing is frequent in contemporary discourse of power, particularly in response to discourse of protest, and is occasionally used in sexist ways, e.g. the accusation of being \\\"shrill\\\" is almost always used against women, never against men. See also, The F-Bomb. Transfer: (also, Name Dropping) A corrupt argument from ethos, falsely associating a famous or respected person, place or thing with an unrelated thesis or standpoint (e.g. putting a picture of the Rev. Dr. Martin Luther King Jr. on an advertisement for mattresses, using Genghis Khan, a Mongol who hated Chinese, as the name of a Chinese restaurant, or using the Texas flag to sell more cars or pickups in Texas that were made in Detroit, Kansas City or Korea). This fallacy is common in contemporary academia in the form of using a profusion of scholarly-looking citations from respected authorities to lend a false gravitas to otherwise specious ideas or text. See also \\\"Star Power. \\\"Trust your Gut (also, Trust your Heart; Trust Your Feelings; Trust your Intuition; Trust your Instincts; Emotional Reasoning): A corrupt argument from pathos, the ancient fallacy of relying primarily on \\\"gut feelings\\\" rather than reason or evidence to make decisions. A recent (2017) Ohio State University study finds, unsurprisingly, that people who \\\"trust their gut\\\" are significantly more susceptible to falling for \\\"fake news,\\\" phony conspiracy theories, frauds and scams than those who insist on hard evidence or logic. See also Deliberate Ignorance, the Affective Fallacy, and The \\\"Third Person Effect. \\\"Tu Quoque (\\\"You Do it Too! \\\"; also, Two Wrongs Make a Right): A corrupt argument from ethos, the fallacy of defending a shaky or false standpoint or excusing one's own bad action by pointing out that one's opponent's acts, ideology or personal character are also open to question, or are perhaps even worse than one's own. E.g., \\\"Sure, we may have tortured prisoners and killed kids with drones, but we don't cut off heads like they do!\\\" Or, \\\"You can't stand there and accuse me of corruption! You guys are all into politics and you know what we have to do to get reelected!\\\" Unusual, self-deprecating variants on this fallacy are the Ego / Nos Quoque Fallacies (\\\"I / we do it too! \\\"), minimizing or defending another's evil actions because I am / we are guilty of the same thing or of even worse. E.g., In response to allegations that Russian Premier Vladimir Putin is a \\\"killer,\\\" American President Donald Trump (2/2017) told an interviewer, \\\"There are a lot of killers. We've got a lot of killers. What, do you think our country's so innocent?\\\" This fallacy is related to the Red Herring and to the Ad Hominem Argument. Two-sides Fallacy (also, Teach the Controversy): The presentation of an issue that makes it seem to have two sides of equal weight or significance, when in fact a consensus or much stronger argument supports just one side. Also called \\u201cfalse balance\\u201d or \\u201cfalse equivalence.\\u201d (Thanks to Teaching Tolerance for this definition!) E.g,. \\\"Scientists theorize that the Earth is a sphere, but there are always two sides to any argument: Others believe that the Earth is flat and is perched on the back of a giant turtle, and a truly balanced presentation of the issue requires teaching both explanations without bias or unduly favoring either side over the other. \\\"Two Truths ( also, Compartmentalization; Epistemically Closed Systems; Alternative Truth): A very corrupt and dangerous fallacy of logos and ethos, first formally described in medieval times but still common today, holding that there exists one \\\"truth\\\" in one given environment (e.g., in science, work or school) and simultaneously a different, formally contradictory but equally true \\\"truth\\\" in a different epistemic system, context, environment, intended audience or discourse community (e.g., in one's religion or at home). This can lead to a situation of stable cognitive dissonance where, as UC Irvine scholar Dr. Carter T. Butts describes it (2016), \\\"I know but don't believe,\\\" making rational discussion difficult, painful or impossible. This fallacy also describes the discourse of politicians who cynically proclaim one \\\"truth\\\" as mere \\\"campaign rhetoric\\\" used \\\"to mobilize the base,\\\" or \\\"for domestic consumption only,\\\" and a quite different and contradictory \\\"truth\\\" for more general or practical purposes once in office. See also Disciplinary Blinders; Alternative Truth. Venting (also, Letting off Steam; Loose Lips): In the Venting fallacy a person argues that her/his words are or ought to be exempt from criticism or consequence because s/he was \\\"only venting,\\\" even though this very admission implies that the one \\\"venting\\\" was, at long last, freely expressing his/her true, heartfelt and uncensored opinion about the matter in question. This same fallacy applies to minimizing, denying the significance of or excusing other forms of frank, unguarded or uninhibited offensive expression as mere \\\" Locker-room Talk ,\\\" \\\" Alpha-male Speech \\\" or nothing but cute, adorable, perhaps even sexy \\\" Bad-boy Talk .\\\" See also, the Affective Fallacy. Opposite to this fallacy are the fallacies of Political Correctness and the Scripted Message, above. Venue: The ancient fallacy of Venue, a corrupt argument from kairos, falsely and arbitrarily invalidates an otherwise-valid argument or piece of evidence because it is supposedly offered in the wrong place, at the wrong moment or in an inappropriate court, medium or forum. According to Ph D student Amanda Thran, \\\"Quite often, people will say to me in person that Facebook, Twitter, etc. are 'not the right forums' for discussing politically and socially sensitive issues. ... In this same vein, I\\u2019ve also encountered the following argument: 'Facebook, which is used for sharing wedding, baby, and pet photos, is an inappropriate place for political discourse; people don\\u2019t wished to be burdened with that when they log in.' In my experience, this line of reasoning is most often employed (and abused) to shut down a conversation when one feels they are losing it. Ironically, I have seen it used when the argument has already been transpiring on the platform [in] an already lengthy discussion.\\\" See also Disciplinary Blinders. We Have to Do Something: (also, the Placebo Effect; Political Theater; Security Theater; We have to send a message): The dangerous contemporary fallacy that when \\\"People are scared / People are angry / People are fed up / People are hurting / People want change\\\" it becomes necessary to do something, anything, at once without stopping to ask \\\"What?\\\" or \\\"Why? \\\", even if what is done is an overreaction, is a completely ineffective sham, an inert placebo, or actually makes the situation worse, rather than \\\"just sitting there doing nothing.\\\" (E.g., \\\"Banning air passengers from carrying ham sandwiches onto the plane and making parents take off their newborn infants' tiny pink baby-shoes probably does nothing to deter potential terrorists, but people are scared and we have to do something to respond to this crisis!\\\") This is a badly corrupted argument from pathos. (See also \\\"Scare Tactic\\\" and \\\"The Big 'But' Fallacy. \\\")Where there\\u2019s Smoke, there\\u2019s Fire (also Hasty Conclusion; Jumping to a Conclusion): The dangerous fallacy of ignorantly drawing a snap conclusion and/or taking action without sufficient evidence. E.g., \\u201cCaptain! The guy sitting next to me in coach has dark skin and is reading a book in some kind of funny language all full of accent marks, weird squiggles above the \\\"N's\\\" and upside-down question marks. It must be Arabic! Get him off the plane before he blows us all to kingdom come!\\u201d A variety of the \\u201cJust in Case\\u201d fallacy. The opposite of this fallacy is the \\\"Paralysis of Analysis. \\\"The Wisdom of the Crowd (also, The Magic of the Market; the Wikipedia Fallacy; Crowdsourcing): A very common contemporary fallacy that individuals may be wrong but \\\"the crowd\\\" or \\\"the market\\\" is infallible, ignoring historic examples like witch-burning, lynching, and the market crash of 2008. This fallacy is why most American colleges and universities currently (2017) ban students from using Wikipedia as a serious reference source. The Worst-Case Fallacy (also, \\\"Just in case;\\\" \\\"We can't afford to take chances;\\\" \\\"An abundance of caution;\\\" \\\"Better Safe than Sorry;\\\" \\\"Better to prevent than to lament. \\\"): A pessimistic fallacy by which one\\u2019s reasoning is based on an improbable, far-fetched or even completely imaginary worst-case scenario rather than on reality. This plays on pathos (fear) rather than reason, and is often politically motivated. E.g., \\\"What if armed terrorists were to attack your county grain elevator tomorrow morning at dawn? Are you ready to fight back? Better stock up on assault rifles and ammunition today, just in case!\\\" See also Scare Tactics. The opposite of this is the Positive Thinking Fallacy. The Worst Negates the Bad (also, Be Grateful for What You've Got): The extremely common modern logical fallacy that an objectively bad situation somehow isn't so bad simply because it could have been far worse, or because someone, somewhere has it even worse. E.g., \\\"I cried because I had no shoes, until I saw someone who had no feet.\\\" Or, \\\"You're protesting because you earn only $7.25 an hour? You could just as easily be out on the street! I happen to know there are people in Uttar Pradesh who are doing the very same work you're doing for one tenth of what you're making, and they're pathetically glad just to have work at all. You need to shut up, put down that picket sign, get back to work for what I care to pay you, and thank me each and every day for giving you a job! \\\"Zero Tolerance (also, Zero Risk Bias, Broken Windows Policing, Disproportionate Response; Even One is Too Many; Exemplary Punishment; Judenrein): The contemporary fallacy of declaring an \\\"emergency\\\" and promising to disregard justice and due process and devote unlimited resources (and occasionally, unlimited cruelty) to stamp out a limited, insignificant or even nonexistent problem. E.g., \\\"I just read about an actual case of cannibalism somewhere in this country. That's disgusting, and even one case is way, way too many! We need a Federal Taskforce against Cannibalism with a million-dollar budget and offices in every state, a national SCAN program in all the grade schools (Stop Cannibalism in America Now! ), and an automatic double death penalty for cannibals; in other words, zero tolerance for cannibalism in this country!\\\" This is a corrupt and cynical argument from pathos, almost always politically driven, a particularly sinister variety of Dog Whistle Politics and the \\\"We Have to do Something\\\" fallacy. See also, \\\"Playing on Emotions,\\\" \\\"Red Herring,\\\" and also the \\\"Big Lie Technique. \\\"OW 7/06 with thanks to the late Susan Spence. Final revision 1/18, with special thanks to Business Insider , Teaching Tolerance, and Vox.com, to Bradley Steffens, to Jackson Katz, Brian Resnick, Glen Greenwald, Lara Bhasin, Danelle M. Pecht, Marc Lawson, Eimar O'Duffy, and Mike Caetano, to Dr. William Lorimer, Dr. Carter T. Butts, Dr. Bo Bennett, Myron Peto, Joel Sax, Thomas Persing, Amanda Thran, and to all the others who suggested corrections, additions and clarifications. Links to Amazon.com on this page are for reader convenience only, and no endorsement is offered or implied. This list is no longer being maintained, but please continue to copy, mirror, update and share it freely. \",\n          \"Answers.com \\u00ae Wiki Answers \\u00ae Categories Technology Engineering Machinery and Tools Simple Machines (engineering)Pulleys When was the pulley invented? Flag When was the pulley invented? Answer by Gp.34076396447722 Confidence votes 2The block and tackle (or pulley system) was brought to us by Archimedes (287BC - 212BC) in Greece, but neither Archimedes, nor any who wrote about him and his extraordinary work dated the invention.stupid answer12 people found this useful Was this answer useful? Yes Somewhat No Isaac Mc Ardle 154,572 Contributions Enthusiastic teacher and student of global warming and climate change. Who invented the pulley? Answer . Archimedes Know2much Stuff 73 Contributions Why was the pulley invented?to gain mechanical advantage. So you dont need to apply as much force to move something. A pulley halves the ammount of force needed, but you need to pull a rope twice as fa \\u2026Who invented pulleys? Archimedes (not a group, a guy) invented pulleys as well as other simple machines. Who invented a pulley? Archimedes Who invented the pulley system? Archimedes Why did Archimedes invent the compound pulley? Archimedes invent the compound pulley around 250 BC. The inventionwas to utilize leverage to make moving a heavy object easier. What year did Archimedes invent the pulley?5518 he my great great great great grand father Happy man 11 Contributions Where was the pulley invented?very early times Ebolton 402 Contributions How was the pulley invented? Probably somebody threw a vine over a stick... Who invented the pulleys?\\\\ngorge w bush Did Archimedes invented the pulley?yes What country was credited with the invention of the pulley? It was Sicily!Answered In Isaac Newton Did Isaac Newton invent the Pulley? No but he did invent other great things Andrea Crua 8 Contributions Answered In Ancient Egypt Did Egyptians invent the pulley? Yes, they did invent the pulley Hope this helps!Answered In Pulleys Where was pulleys invented? In acient greece Colin Peters 610,892 Contributions Be helpful Answered In Pulleys Who invented the first pulley in Australia? Pulleys have been used for thousands of years by many different civilisations. It is impossible to say who first invented them or where. Answered In Inventions What were pulleys made out of when they were first invented?iron \",\n          \"Home > How To Cook Vegetables Everything You Need To Learn How To Cook Vegetables By Patty Knutson Learn how to cook vegetables. First we'll have a chat about which ones to buy organic, how much to eat, and whether they should be raw or cooked. Then, it's time to visit our complete Veggie Guide. Learn how to shop for, clean, and cook fresh vegetables, plus flavor tips. There's so much here for you to play with. Raise your hand if you grew up with a dislike of most vegetables. Veggies aren't always easy to swallow when you're a kid, especially for those of you who grew up with them straight out of a can -- which were further overcooked and heaped on your plate in a wimpy mass. Blechhh!It's time to learn the key to cooking vegetables you can fall in love with!There are many different veggies to choose from, various cooking techniques, and so many flavoring ideas that you're bound to find some new favorites. And don't forget about the magical nutrition that juicing provides. Here's what you'll discover below: Complete Vegetable Cooking Guide Why should we eat vegetables? Which ones are important to buy organic -- and which aren't? How much do you need? Juice them!Raw or cooked? General rules when working with vegetables. Vegetable Cooking Guide Eat Your Veggies! 4-6 Servings (or more!) Per Day Click on any vegetable to learn how to select, prep and clean, cook, and flavor to perfection. Asparagus Definitely one of my favorites. It's a delicate veggie, can be expensive, and easy to overcook. So it's vital to learn how to do it right. Beets A sweet and hearty root vegetable that turns rich and buttery once it's cooked. Broccoli Become a master at cooking fresh broccoli, a clear favorite among most people. It's available year-round and can be use alone or mixed into any number of dishes. Really versatile. Brussels Sprouts It took me a while to warm up to these little guys. But now, they are definitely at the top of my list. They cook up so tender and have a special flavor that is a bit like cabbage -- but not quite as earthy. Cabbage Cabbage is incredibly good for you. It's relatively inexpensive, and available year-round. The red variety is more nutrient-dense. Carrots Carrots are so versatile. You can use them in savory dishes like soups or sweet dishes like carrot cake. Kids and adults alike love them. They're fun to play around with in the kitchen because it's fairly difficult to ruin them by overcooking. Cauliflower I don't feel enough attention is paid to good ol' cauliflower. It's available practically everywhere and at a good price. And it makes the BEST soup, chunky or creamy. Fall in love with cauliflower!Collard, Mustard, and Turnip Greens It took me YEARS as a vegan before I attempted collard greens. Sheesh, what took me so long? Collards have a taste and texture that is a cross between spinach and kale -- and soooo good for you. Mustard and turnip greens are a little more bitter but you can offset that with a little healthy sweetener. Eat your greens!Corn on the Cob Since it's not a veggie but in fact a whole grain, you'll find it over in the Whole Grains Guide. Green Beans Surely one of the most underappreciated veggies is the green bean. But when in season and cooked up right, green beans are mouthwateringly tender with a bite. (Hey, that rhymes.) Sheer perfection. Kale OMG, if you don't love kale yet...you will! I promise. It's cheap. It's available year-round. And you can eat it alone, add it to soups or stews, make crispy potato-chip-like kale chips. Did I mention it's one of the most nutritious veggies and high in calcium? Score!Potatoes, Sweet Potatoes, and Yams Comforting. Hearty. Swoon-worthy. I don't know about you, but I love potatoes of all kinds. They're inexpensive and versatile. Did you know the \\\"yams\\\" you see in the store are not true yams, they're a variety of sweet potato. And potatoes are not even related to sweet potatoes. Who woulda thunk it? :)Spinach Spinach is one of those vegetables that we all seem to despise as kids, but somewhere along the way we fall in love. Whether wilting spinach, mixing it into another dish, or eating it raw, it's important to learn how to clean and prep this yummy and super healthy veggie. Swiss Chard I feel Swiss chard is a kinder, gentler version of kale. And it cooks up like spinach, with a delicate flavor, as far as greens go. It's easy to fall in love with Swiss chard!Squash One of THE EASIEST veggies to prepare. And the gorgeous colorful innards tell you just how incredibly good for you squash is! num-num-num Turnips Turnips are QUITE persnickety! Sort of high maintenance, but the results are outstanding if you do it right. Turnip lovers unite!WHY to eat your vegetables!After reading on and watching the video below, you're going to want to load up on your veggies. Promise. :)Vegetables are some of the most nutrient dense foods you can eat. They contain a fair amount of protein -- in fact, it's the protein which gives them their structure. They're filled with vitamins, which our bodies cannot make and must be supplied in the diet. And the dark green veggies provide calcium. In fact, even though cow's milk provides 150 mg of calcium per serving (1/2 cup), the amount absorbed is only 48 mg. Whereas bok choy, which contains 79 mg of calcium per serving (1/2 cup), the amount absorbed is 42 mg!Veggies are so beautiful and span the colors of the rainbow. These vibrant colors indicate they're chock full of phytochemicals, those disease-preventing chemicals found in all plant foods. The varying colors signify varying nutrients which is why it's important to include all the colors of the vegetable rainbow to cover the innumerable health benefits veggies bring to the table. And if you're watching your weight, it's good to know you can stuff your pie hole with tons of veggies because they're low calorie while being a healthy carb -- the kind your body uses for energy. Is It Vital To Choose Organics? It's OPTIMUM to eat organic vegetables all the time since they're grown in soil which is naturally abundant in nutrients. But let's be real, it's not always easy to find organic veggies, plus it can get expensive. So to make things easier on you, memorize these Top 5 Veggies you should ALWAYS buy organic. Why? Because they are members of \\\"The Dirty Dozen\\\", the top 12 fruits and veggies that must be purchased organic due to the amount of pesticides they contain: Celery Spinach (and other Leafy Greens like Kale and Collard Greens Sweet Bell Peppers (and Hot Peppers if you eat a lot of them! )Cucumbers Cherry Tomatoes Snap Peas (Imported)Potatoes If you can't find these organic, then don't eat them. Plain and simple. The missing five of the Dirty Dozen are the \\\"dirty fruits\\\". And on the flipside, there are \\\"The Clean 15\\\" - those fruits and veggies that contain the least amount of chemical pesticides, in case you can't afford to purchase (or don't have access to) organics: Onion Sweet Corn (technically a whole grain, organic)Asparagus Sweet Peas Cabbage Eggplant Sweet Potato Avocado (technically a fruit)Cauliflower The missing 6 are the \\\"clean fruits\\\". By the way, if you get the chance, join a local CSA group (Community Supported Agriculture), or start one up yourself. They are faaaantastic because they support your local farmers, and the prices are usually very reasonable for FRESH, ORGANIC produce! I love what Michelle from Brooklyn has to say about her experience with a CSA. Click here to locate a food co-operative or CSA near you. Here in Reno, Nevada, our gor-geous Great Basin Co-op (who ALWAYS has fresh, organic produce, most of it locally grown) has created Dropp, where you can place an order for not only fresh produce, but many other products in bulk. Place your order one day, and pick it up the next day. And if you don't have anything like this near you, start your own buying club. How Much Do You Need? Eat 4-6 servings of vegetables per day. Having a hard time imagining how you're going to eat that much food? Keep in mind a serving might be smaller than you think! One serving of cooked veggies is equal to 1/2 cup or the size of 1/2 a baseball. Refer to the Vegan Food Pyramid to learn more about serving sizes. Mix things up a bit -- snack on 1 cup of raw veggies with dip, enjoy 1 cup of cooked veggies with dinner, get in the habit of adding chopped veggies to most dishes you prepare. Once you're in the groove, you'll discover that it's actually quite simple to meet the required amount of vegetable servings per day. Another way to ensure you're getting the veggies you need is to make them the focus of at least one meal per day. Meaning, your veggie will take up the majority of room on your plate. Many times, this will mean you're eating 1 1/2 cups of veggies which is equal to 3 servings! See how easy that was? :)Juice Those Veggies!Purchase a vegetable juicer and juice those veggies! This is an excellent way to get the nutrients from a large amount of veggies. ( Here's the juicer I've had since 1997. It's a workhorse (!) and still going strong after all these years. )For instance, it takes about 5-6 carrots to make one glass of carrot juice. That's a lot of beta carotene! One 3/4 cup glass of vegetable juice equals 1 serving of vegetables. While making vegetable juices is a delicious way to meet your daily veggie quota, juicing DOES remove the all-important fiber that we need. So be sure to include a mix of fresh veggies and their juice in your daily diet. Here are some ideas for fresh vegetable juices to get you started. Feel free to experiment until you find your favorites:apple carrotapple carrot beet (my personal fave)apple carrot cucumber celery chardcarrot beetcarrot celery cabbagecarrot cucumbercarrot strawberrycarrot spinachcelery spinachspinach cabbage celeryspinach celery tomato Feel free to add foods and flavors that will help your juice to be more palatable -- especially important when juicing deep greens. Ideas: Fruits, Cranberries, Garlic, Lemon, Dill, Cayenne, and Tamari. Raw Or Cooked? Raw veggies are chock full of nutrients and are invaluable to your good health. At the same time, cooking your veggies helps to break down the cellulose walls which makes some nutrients more accessible than they'd be in their raw state. So what's the answer? Should you eat your veggies raw or cooked? Quite simply: Be sure your diet is filled with both raw AND cooked vegetables. Eat one fresh green leafy salad per day (2 cups equals 1 serving), and add chopped raw veggies such as bell peppers, onions, bok choy and grated beets. The more colorful, the better -- and the more beautiful your salad is, the more your mouth will water before your first delectable bite. As a general rule, I've always found that those veggies that seem to be lacking in lip-smacking flavor in their raw state seem to be the veggies that are best cooked first to make their nutrients more readily available. Every body is different, and the nutrients my body needs might differ slightly from those that your body needs. So listen to your body -- you'll discover which veggies you prefer cooked and which you like raw. Don't be afraid to experiment to find what works for you. The most important thing is to just get those veggies into your belly! :)Some General Rules About Vegetables Whenever possible, don't peel your veggies -- the skins contain lots of valuable nutrients;Avoid overcooking your veggies. As a general rule, veggies should be JUST tender when poked with a fork. Green veggies should be cooked just until they turn a bright and vibrant green;When making a dish with more than one veggie (recommended! ), be sure to cut them all about the same size so they cook up in the same amount of time (or close to it);To clean root vegetables, simply scrub with a brush under cold running water. Most of your veggies are best cleaned in a bowl full of cold water and an edible acid, such as lemon juice or apple cider vinegar, for 10 minutes -- this will ensure thorough cleansing. 1/4 cup of this edible acid is usually enough for a large bowl of water;Cook only the veggies you need at each meal -- leftover cooked veggies are very sad and have lost their vitality. If they look wimpy, they ARE wimpy!Whenever possible, select fresh, local, seasonal, organic veggies;Most veggies can be washed immediately upon returning from the grocery, then placed into air-tight bags or Tupperware-like containers to keep your greens and veggies fresh. When you're ready to eat, they'll be ready to go;If you own a vacuum sealer and would like to seal your vegetables for the freezer, be sure to cook them GENTLY first -- parboiling seems to work best, meaning drop cut veggies into boiling water for just a couple minutes to JUST begin the cooking process, then remove and run under cold water. Cool thoroughly, and be aware that you may have to use a large bag to allow room for water to \\\"seep\\\" towards the seal without interrupting the sealing action. Random Factoid - Raw broccoli emits a gas that will break the seal on your bags. Next: Choose A Grain To Go With Your Veggies\\\"I do a LOT of searching online and have to say yours is probably the most informative vegan site I have come across. Actually, it is one of the most informative sites I have seen for vegetables, bar none. \\\"Many sites have good recipes, some have good health and nutrition info, but yours is wonderfully complete. You are very generous with the information you offer.\\\" -- Peggy M., Toowoomba, Queensland, Australia Back to the top - How To Cook Vegetables \"\n        ],\n        \"semantic_type\": \"\",\n        \"description\": \"\"\n      }\n    }\n  ]\n}"
            }
          },
          "metadata": {},
          "execution_count": 20
        },
        {
          "output_type": "stream",
          "name": "stdout",
          "text": [
            "time: 7min (started: 2024-03-15 14:18:08 +00:00)\n"
          ]
        }
      ],
      "source": [
        "def create_corpus(result):\n",
        "  unique_docid=result['docid'].unique()\n",
        "  condition=df['docid'].isin(unique_docid)\n",
        "  corpus=df[condition].reset_index(drop=True)\n",
        "  corpus=corpus.drop(columns='url')\n",
        "  print('Number of Rows=>',len(corpus))\n",
        "  return corpus\n",
        "\n",
        "our_docs=create_corpus(our_gold_top100)\n",
        "our_docs.head()"
      ]
    },
    {
      "cell_type": "code",
      "source": [
        "our_docs.to_csv('our.msmarco.docs.tsv',sep='\\t', single_file=True)"
      ],
      "metadata": {
        "id": "pccDlASXhsKA"
      },
      "id": "pccDlASXhsKA",
      "execution_count": null,
      "outputs": []
    },
    {
      "cell_type": "markdown",
      "id": "6ea2310d-0bbb-42c4-8189-c8606c00fc30",
      "metadata": {
        "id": "6ea2310d-0bbb-42c4-8189-c8606c00fc30"
      },
      "source": [
        "- this is still a big file: 92k documents"
      ]
    },
    {
      "cell_type": "markdown",
      "id": "5bc01012-818c-46ae-bc27-d789ce2e0063",
      "metadata": {
        "id": "5bc01012-818c-46ae-bc27-d789ce2e0063"
      },
      "source": [
        "# reading in our smaller files\n",
        "here we use the\n",
        "\n",
        "- !wget https://gerdes.fr/saclay/informationRetrieval/our_msmarco.zip\n",
        "- !unzip our_msmarco.zip"
      ]
    },
    {
      "cell_type": "code",
      "source": [
        "import os\n",
        "os.chdir('/content/our_msmarco')"
      ],
      "metadata": {
        "colab": {
          "base_uri": "https://localhost:8080/"
        },
        "id": "H36gDnDIgp_e",
        "outputId": "af2b73c5-5e28-4125-f246-fc650c3b312f"
      },
      "id": "H36gDnDIgp_e",
      "execution_count": 5,
      "outputs": [
        {
          "output_type": "stream",
          "name": "stdout",
          "text": [
            "time: 832 µs (started: 2024-03-26 23:01:45 +00:00)\n"
          ]
        }
      ]
    },
    {
      "cell_type": "code",
      "execution_count": 6,
      "id": "b3532319-bc8b-47ce-bf91-10f26cd0fe37",
      "metadata": {
        "id": "b3532319-bc8b-47ce-bf91-10f26cd0fe37",
        "outputId": "1d4174f7-d9b1-430f-a0ca-995d6a27b833",
        "colab": {
          "base_uri": "https://localhost:8080/",
          "height": 442
        }
      },
      "outputs": [
        {
          "output_type": "execute_result",
          "data": {
            "text/plain": [
              "         qid                                              query\n",
              "0     687888                                      what is a jpe\n",
              "1     480210                         price for asphalt driveway\n",
              "2     591004                 what causes pressure skin bruising\n",
              "3     260536      how long drive from flagstaff to grand canyon\n",
              "4      39422  average number of bowel movements per day for ...\n",
              "..       ...                                                ...\n",
              "995    89597                            cell voltage mv meaning\n",
              "996  1167043                                 what an ip address\n",
              "997   737304                     what is daily max citizens atm\n",
              "998   156934      do i need a florida commercial driver license\n",
              "999   654329                  what does tv on cameras stand for\n",
              "\n",
              "[1000 rows x 2 columns]"
            ],
            "text/html": [
              "\n",
              "  <div id=\"df-add761a6-4d48-4d7f-9964-f379652c673f\" class=\"colab-df-container\">\n",
              "    <div>\n",
              "<style scoped>\n",
              "    .dataframe tbody tr th:only-of-type {\n",
              "        vertical-align: middle;\n",
              "    }\n",
              "\n",
              "    .dataframe tbody tr th {\n",
              "        vertical-align: top;\n",
              "    }\n",
              "\n",
              "    .dataframe thead th {\n",
              "        text-align: right;\n",
              "    }\n",
              "</style>\n",
              "<table border=\"1\" class=\"dataframe\">\n",
              "  <thead>\n",
              "    <tr style=\"text-align: right;\">\n",
              "      <th></th>\n",
              "      <th>qid</th>\n",
              "      <th>query</th>\n",
              "    </tr>\n",
              "  </thead>\n",
              "  <tbody>\n",
              "    <tr>\n",
              "      <th>0</th>\n",
              "      <td>687888</td>\n",
              "      <td>what is a jpe</td>\n",
              "    </tr>\n",
              "    <tr>\n",
              "      <th>1</th>\n",
              "      <td>480210</td>\n",
              "      <td>price for asphalt driveway</td>\n",
              "    </tr>\n",
              "    <tr>\n",
              "      <th>2</th>\n",
              "      <td>591004</td>\n",
              "      <td>what causes pressure skin bruising</td>\n",
              "    </tr>\n",
              "    <tr>\n",
              "      <th>3</th>\n",
              "      <td>260536</td>\n",
              "      <td>how long drive from flagstaff to grand canyon</td>\n",
              "    </tr>\n",
              "    <tr>\n",
              "      <th>4</th>\n",
              "      <td>39422</td>\n",
              "      <td>average number of bowel movements per day for ...</td>\n",
              "    </tr>\n",
              "    <tr>\n",
              "      <th>...</th>\n",
              "      <td>...</td>\n",
              "      <td>...</td>\n",
              "    </tr>\n",
              "    <tr>\n",
              "      <th>995</th>\n",
              "      <td>89597</td>\n",
              "      <td>cell voltage mv meaning</td>\n",
              "    </tr>\n",
              "    <tr>\n",
              "      <th>996</th>\n",
              "      <td>1167043</td>\n",
              "      <td>what an ip address</td>\n",
              "    </tr>\n",
              "    <tr>\n",
              "      <th>997</th>\n",
              "      <td>737304</td>\n",
              "      <td>what is daily max citizens atm</td>\n",
              "    </tr>\n",
              "    <tr>\n",
              "      <th>998</th>\n",
              "      <td>156934</td>\n",
              "      <td>do i need a florida commercial driver license</td>\n",
              "    </tr>\n",
              "    <tr>\n",
              "      <th>999</th>\n",
              "      <td>654329</td>\n",
              "      <td>what does tv on cameras stand for</td>\n",
              "    </tr>\n",
              "  </tbody>\n",
              "</table>\n",
              "<p>1000 rows × 2 columns</p>\n",
              "</div>\n",
              "    <div class=\"colab-df-buttons\">\n",
              "\n",
              "  <div class=\"colab-df-container\">\n",
              "    <button class=\"colab-df-convert\" onclick=\"convertToInteractive('df-add761a6-4d48-4d7f-9964-f379652c673f')\"\n",
              "            title=\"Convert this dataframe to an interactive table.\"\n",
              "            style=\"display:none;\">\n",
              "\n",
              "  <svg xmlns=\"http://www.w3.org/2000/svg\" height=\"24px\" viewBox=\"0 -960 960 960\">\n",
              "    <path d=\"M120-120v-720h720v720H120Zm60-500h600v-160H180v160Zm220 220h160v-160H400v160Zm0 220h160v-160H400v160ZM180-400h160v-160H180v160Zm440 0h160v-160H620v160ZM180-180h160v-160H180v160Zm440 0h160v-160H620v160Z\"/>\n",
              "  </svg>\n",
              "    </button>\n",
              "\n",
              "  <style>\n",
              "    .colab-df-container {\n",
              "      display:flex;\n",
              "      gap: 12px;\n",
              "    }\n",
              "\n",
              "    .colab-df-convert {\n",
              "      background-color: #E8F0FE;\n",
              "      border: none;\n",
              "      border-radius: 50%;\n",
              "      cursor: pointer;\n",
              "      display: none;\n",
              "      fill: #1967D2;\n",
              "      height: 32px;\n",
              "      padding: 0 0 0 0;\n",
              "      width: 32px;\n",
              "    }\n",
              "\n",
              "    .colab-df-convert:hover {\n",
              "      background-color: #E2EBFA;\n",
              "      box-shadow: 0px 1px 2px rgba(60, 64, 67, 0.3), 0px 1px 3px 1px rgba(60, 64, 67, 0.15);\n",
              "      fill: #174EA6;\n",
              "    }\n",
              "\n",
              "    .colab-df-buttons div {\n",
              "      margin-bottom: 4px;\n",
              "    }\n",
              "\n",
              "    [theme=dark] .colab-df-convert {\n",
              "      background-color: #3B4455;\n",
              "      fill: #D2E3FC;\n",
              "    }\n",
              "\n",
              "    [theme=dark] .colab-df-convert:hover {\n",
              "      background-color: #434B5C;\n",
              "      box-shadow: 0px 1px 3px 1px rgba(0, 0, 0, 0.15);\n",
              "      filter: drop-shadow(0px 1px 2px rgba(0, 0, 0, 0.3));\n",
              "      fill: #FFFFFF;\n",
              "    }\n",
              "  </style>\n",
              "\n",
              "    <script>\n",
              "      const buttonEl =\n",
              "        document.querySelector('#df-add761a6-4d48-4d7f-9964-f379652c673f button.colab-df-convert');\n",
              "      buttonEl.style.display =\n",
              "        google.colab.kernel.accessAllowed ? 'block' : 'none';\n",
              "\n",
              "      async function convertToInteractive(key) {\n",
              "        const element = document.querySelector('#df-add761a6-4d48-4d7f-9964-f379652c673f');\n",
              "        const dataTable =\n",
              "          await google.colab.kernel.invokeFunction('convertToInteractive',\n",
              "                                                    [key], {});\n",
              "        if (!dataTable) return;\n",
              "\n",
              "        const docLinkHtml = 'Like what you see? Visit the ' +\n",
              "          '<a target=\"_blank\" href=https://colab.research.google.com/notebooks/data_table.ipynb>data table notebook</a>'\n",
              "          + ' to learn more about interactive tables.';\n",
              "        element.innerHTML = '';\n",
              "        dataTable['output_type'] = 'display_data';\n",
              "        await google.colab.output.renderOutput(dataTable, element);\n",
              "        const docLink = document.createElement('div');\n",
              "        docLink.innerHTML = docLinkHtml;\n",
              "        element.appendChild(docLink);\n",
              "      }\n",
              "    </script>\n",
              "  </div>\n",
              "\n",
              "\n",
              "<div id=\"df-fe634e62-4120-40b3-8e1b-931d8c15473c\">\n",
              "  <button class=\"colab-df-quickchart\" onclick=\"quickchart('df-fe634e62-4120-40b3-8e1b-931d8c15473c')\"\n",
              "            title=\"Suggest charts\"\n",
              "            style=\"display:none;\">\n",
              "\n",
              "<svg xmlns=\"http://www.w3.org/2000/svg\" height=\"24px\"viewBox=\"0 0 24 24\"\n",
              "     width=\"24px\">\n",
              "    <g>\n",
              "        <path d=\"M19 3H5c-1.1 0-2 .9-2 2v14c0 1.1.9 2 2 2h14c1.1 0 2-.9 2-2V5c0-1.1-.9-2-2-2zM9 17H7v-7h2v7zm4 0h-2V7h2v10zm4 0h-2v-4h2v4z\"/>\n",
              "    </g>\n",
              "</svg>\n",
              "  </button>\n",
              "\n",
              "<style>\n",
              "  .colab-df-quickchart {\n",
              "      --bg-color: #E8F0FE;\n",
              "      --fill-color: #1967D2;\n",
              "      --hover-bg-color: #E2EBFA;\n",
              "      --hover-fill-color: #174EA6;\n",
              "      --disabled-fill-color: #AAA;\n",
              "      --disabled-bg-color: #DDD;\n",
              "  }\n",
              "\n",
              "  [theme=dark] .colab-df-quickchart {\n",
              "      --bg-color: #3B4455;\n",
              "      --fill-color: #D2E3FC;\n",
              "      --hover-bg-color: #434B5C;\n",
              "      --hover-fill-color: #FFFFFF;\n",
              "      --disabled-bg-color: #3B4455;\n",
              "      --disabled-fill-color: #666;\n",
              "  }\n",
              "\n",
              "  .colab-df-quickchart {\n",
              "    background-color: var(--bg-color);\n",
              "    border: none;\n",
              "    border-radius: 50%;\n",
              "    cursor: pointer;\n",
              "    display: none;\n",
              "    fill: var(--fill-color);\n",
              "    height: 32px;\n",
              "    padding: 0;\n",
              "    width: 32px;\n",
              "  }\n",
              "\n",
              "  .colab-df-quickchart:hover {\n",
              "    background-color: var(--hover-bg-color);\n",
              "    box-shadow: 0 1px 2px rgba(60, 64, 67, 0.3), 0 1px 3px 1px rgba(60, 64, 67, 0.15);\n",
              "    fill: var(--button-hover-fill-color);\n",
              "  }\n",
              "\n",
              "  .colab-df-quickchart-complete:disabled,\n",
              "  .colab-df-quickchart-complete:disabled:hover {\n",
              "    background-color: var(--disabled-bg-color);\n",
              "    fill: var(--disabled-fill-color);\n",
              "    box-shadow: none;\n",
              "  }\n",
              "\n",
              "  .colab-df-spinner {\n",
              "    border: 2px solid var(--fill-color);\n",
              "    border-color: transparent;\n",
              "    border-bottom-color: var(--fill-color);\n",
              "    animation:\n",
              "      spin 1s steps(1) infinite;\n",
              "  }\n",
              "\n",
              "  @keyframes spin {\n",
              "    0% {\n",
              "      border-color: transparent;\n",
              "      border-bottom-color: var(--fill-color);\n",
              "      border-left-color: var(--fill-color);\n",
              "    }\n",
              "    20% {\n",
              "      border-color: transparent;\n",
              "      border-left-color: var(--fill-color);\n",
              "      border-top-color: var(--fill-color);\n",
              "    }\n",
              "    30% {\n",
              "      border-color: transparent;\n",
              "      border-left-color: var(--fill-color);\n",
              "      border-top-color: var(--fill-color);\n",
              "      border-right-color: var(--fill-color);\n",
              "    }\n",
              "    40% {\n",
              "      border-color: transparent;\n",
              "      border-right-color: var(--fill-color);\n",
              "      border-top-color: var(--fill-color);\n",
              "    }\n",
              "    60% {\n",
              "      border-color: transparent;\n",
              "      border-right-color: var(--fill-color);\n",
              "    }\n",
              "    80% {\n",
              "      border-color: transparent;\n",
              "      border-right-color: var(--fill-color);\n",
              "      border-bottom-color: var(--fill-color);\n",
              "    }\n",
              "    90% {\n",
              "      border-color: transparent;\n",
              "      border-bottom-color: var(--fill-color);\n",
              "    }\n",
              "  }\n",
              "</style>\n",
              "\n",
              "  <script>\n",
              "    async function quickchart(key) {\n",
              "      const quickchartButtonEl =\n",
              "        document.querySelector('#' + key + ' button');\n",
              "      quickchartButtonEl.disabled = true;  // To prevent multiple clicks.\n",
              "      quickchartButtonEl.classList.add('colab-df-spinner');\n",
              "      try {\n",
              "        const charts = await google.colab.kernel.invokeFunction(\n",
              "            'suggestCharts', [key], {});\n",
              "      } catch (error) {\n",
              "        console.error('Error during call to suggestCharts:', error);\n",
              "      }\n",
              "      quickchartButtonEl.classList.remove('colab-df-spinner');\n",
              "      quickchartButtonEl.classList.add('colab-df-quickchart-complete');\n",
              "    }\n",
              "    (() => {\n",
              "      let quickchartButtonEl =\n",
              "        document.querySelector('#df-fe634e62-4120-40b3-8e1b-931d8c15473c button');\n",
              "      quickchartButtonEl.style.display =\n",
              "        google.colab.kernel.accessAllowed ? 'block' : 'none';\n",
              "    })();\n",
              "  </script>\n",
              "</div>\n",
              "    </div>\n",
              "  </div>\n"
            ],
            "application/vnd.google.colaboratory.intrinsic+json": {
              "type": "dataframe",
              "variable_name": "queries",
              "summary": "{\n  \"name\": \"queries\",\n  \"rows\": 1000,\n  \"fields\": [\n    {\n      \"column\": \"qid\",\n      \"properties\": {\n        \"dtype\": \"number\",\n        \"std\": 329869,\n        \"min\": 1610,\n        \"max\": 1185864,\n        \"num_unique_values\": 1000,\n        \"samples\": [\n          858686,\n          37711,\n          990078\n        ],\n        \"semantic_type\": \"\",\n        \"description\": \"\"\n      }\n    },\n    {\n      \"column\": \"query\",\n      \"properties\": {\n        \"dtype\": \"string\",\n        \"num_unique_values\": 1000,\n        \"samples\": [\n          \"what is ucla's acceptance rate\",\n          \"average income from mcdonald's franchise\",\n          \"where is palo alto california\"\n        ],\n        \"semantic_type\": \"\",\n        \"description\": \"\"\n      }\n    }\n  ]\n}"
            }
          },
          "metadata": {},
          "execution_count": 6
        },
        {
          "output_type": "stream",
          "name": "stdout",
          "text": [
            "time: 48.4 ms (started: 2024-03-26 23:01:47 +00:00)\n"
          ]
        }
      ],
      "source": [
        "queries = pd.read_csv('our.msmarco.queries.tsv',sep='\\t',usecols=[1,2])\n",
        "queries"
      ]
    },
    {
      "cell_type": "code",
      "execution_count": 7,
      "id": "ada037f1-1bd5-4a67-a2e9-b38adada382d",
      "metadata": {
        "id": "ada037f1-1bd5-4a67-a2e9-b38adada382d",
        "outputId": "e35b421b-ff86-4e64-cae1-3eca6c2ca2dd",
        "colab": {
          "base_uri": "https://localhost:8080/",
          "height": 442
        }
      },
      "outputs": [
        {
          "output_type": "execute_result",
          "data": {
            "text/plain": [
              "          qid     docid  rank    score\n",
              "0      310290   D579750     1 -5.11498\n",
              "1      310290   D579754     2 -5.57703\n",
              "2      310290  D2380815     3 -5.84852\n",
              "3      310290   D822566     4 -5.95002\n",
              "4      310290  D2249695     5 -6.08326\n",
              "...       ...       ...   ...      ...\n",
              "99995  257942   D253854    96 -6.32693\n",
              "99996  257942  D3056621    97 -6.32837\n",
              "99997  257942  D1323491    98 -6.32871\n",
              "99998  257942  D2722485    99 -6.33100\n",
              "99999  257942  D2339077   100 -6.33441\n",
              "\n",
              "[100000 rows x 4 columns]"
            ],
            "text/html": [
              "\n",
              "  <div id=\"df-9943a54d-83b9-4c86-b6dc-dae604c8e78f\" class=\"colab-df-container\">\n",
              "    <div>\n",
              "<style scoped>\n",
              "    .dataframe tbody tr th:only-of-type {\n",
              "        vertical-align: middle;\n",
              "    }\n",
              "\n",
              "    .dataframe tbody tr th {\n",
              "        vertical-align: top;\n",
              "    }\n",
              "\n",
              "    .dataframe thead th {\n",
              "        text-align: right;\n",
              "    }\n",
              "</style>\n",
              "<table border=\"1\" class=\"dataframe\">\n",
              "  <thead>\n",
              "    <tr style=\"text-align: right;\">\n",
              "      <th></th>\n",
              "      <th>qid</th>\n",
              "      <th>docid</th>\n",
              "      <th>rank</th>\n",
              "      <th>score</th>\n",
              "    </tr>\n",
              "  </thead>\n",
              "  <tbody>\n",
              "    <tr>\n",
              "      <th>0</th>\n",
              "      <td>310290</td>\n",
              "      <td>D579750</td>\n",
              "      <td>1</td>\n",
              "      <td>-5.11498</td>\n",
              "    </tr>\n",
              "    <tr>\n",
              "      <th>1</th>\n",
              "      <td>310290</td>\n",
              "      <td>D579754</td>\n",
              "      <td>2</td>\n",
              "      <td>-5.57703</td>\n",
              "    </tr>\n",
              "    <tr>\n",
              "      <th>2</th>\n",
              "      <td>310290</td>\n",
              "      <td>D2380815</td>\n",
              "      <td>3</td>\n",
              "      <td>-5.84852</td>\n",
              "    </tr>\n",
              "    <tr>\n",
              "      <th>3</th>\n",
              "      <td>310290</td>\n",
              "      <td>D822566</td>\n",
              "      <td>4</td>\n",
              "      <td>-5.95002</td>\n",
              "    </tr>\n",
              "    <tr>\n",
              "      <th>4</th>\n",
              "      <td>310290</td>\n",
              "      <td>D2249695</td>\n",
              "      <td>5</td>\n",
              "      <td>-6.08326</td>\n",
              "    </tr>\n",
              "    <tr>\n",
              "      <th>...</th>\n",
              "      <td>...</td>\n",
              "      <td>...</td>\n",
              "      <td>...</td>\n",
              "      <td>...</td>\n",
              "    </tr>\n",
              "    <tr>\n",
              "      <th>99995</th>\n",
              "      <td>257942</td>\n",
              "      <td>D253854</td>\n",
              "      <td>96</td>\n",
              "      <td>-6.32693</td>\n",
              "    </tr>\n",
              "    <tr>\n",
              "      <th>99996</th>\n",
              "      <td>257942</td>\n",
              "      <td>D3056621</td>\n",
              "      <td>97</td>\n",
              "      <td>-6.32837</td>\n",
              "    </tr>\n",
              "    <tr>\n",
              "      <th>99997</th>\n",
              "      <td>257942</td>\n",
              "      <td>D1323491</td>\n",
              "      <td>98</td>\n",
              "      <td>-6.32871</td>\n",
              "    </tr>\n",
              "    <tr>\n",
              "      <th>99998</th>\n",
              "      <td>257942</td>\n",
              "      <td>D2722485</td>\n",
              "      <td>99</td>\n",
              "      <td>-6.33100</td>\n",
              "    </tr>\n",
              "    <tr>\n",
              "      <th>99999</th>\n",
              "      <td>257942</td>\n",
              "      <td>D2339077</td>\n",
              "      <td>100</td>\n",
              "      <td>-6.33441</td>\n",
              "    </tr>\n",
              "  </tbody>\n",
              "</table>\n",
              "<p>100000 rows × 4 columns</p>\n",
              "</div>\n",
              "    <div class=\"colab-df-buttons\">\n",
              "\n",
              "  <div class=\"colab-df-container\">\n",
              "    <button class=\"colab-df-convert\" onclick=\"convertToInteractive('df-9943a54d-83b9-4c86-b6dc-dae604c8e78f')\"\n",
              "            title=\"Convert this dataframe to an interactive table.\"\n",
              "            style=\"display:none;\">\n",
              "\n",
              "  <svg xmlns=\"http://www.w3.org/2000/svg\" height=\"24px\" viewBox=\"0 -960 960 960\">\n",
              "    <path d=\"M120-120v-720h720v720H120Zm60-500h600v-160H180v160Zm220 220h160v-160H400v160Zm0 220h160v-160H400v160ZM180-400h160v-160H180v160Zm440 0h160v-160H620v160ZM180-180h160v-160H180v160Zm440 0h160v-160H620v160Z\"/>\n",
              "  </svg>\n",
              "    </button>\n",
              "\n",
              "  <style>\n",
              "    .colab-df-container {\n",
              "      display:flex;\n",
              "      gap: 12px;\n",
              "    }\n",
              "\n",
              "    .colab-df-convert {\n",
              "      background-color: #E8F0FE;\n",
              "      border: none;\n",
              "      border-radius: 50%;\n",
              "      cursor: pointer;\n",
              "      display: none;\n",
              "      fill: #1967D2;\n",
              "      height: 32px;\n",
              "      padding: 0 0 0 0;\n",
              "      width: 32px;\n",
              "    }\n",
              "\n",
              "    .colab-df-convert:hover {\n",
              "      background-color: #E2EBFA;\n",
              "      box-shadow: 0px 1px 2px rgba(60, 64, 67, 0.3), 0px 1px 3px 1px rgba(60, 64, 67, 0.15);\n",
              "      fill: #174EA6;\n",
              "    }\n",
              "\n",
              "    .colab-df-buttons div {\n",
              "      margin-bottom: 4px;\n",
              "    }\n",
              "\n",
              "    [theme=dark] .colab-df-convert {\n",
              "      background-color: #3B4455;\n",
              "      fill: #D2E3FC;\n",
              "    }\n",
              "\n",
              "    [theme=dark] .colab-df-convert:hover {\n",
              "      background-color: #434B5C;\n",
              "      box-shadow: 0px 1px 3px 1px rgba(0, 0, 0, 0.15);\n",
              "      filter: drop-shadow(0px 1px 2px rgba(0, 0, 0, 0.3));\n",
              "      fill: #FFFFFF;\n",
              "    }\n",
              "  </style>\n",
              "\n",
              "    <script>\n",
              "      const buttonEl =\n",
              "        document.querySelector('#df-9943a54d-83b9-4c86-b6dc-dae604c8e78f button.colab-df-convert');\n",
              "      buttonEl.style.display =\n",
              "        google.colab.kernel.accessAllowed ? 'block' : 'none';\n",
              "\n",
              "      async function convertToInteractive(key) {\n",
              "        const element = document.querySelector('#df-9943a54d-83b9-4c86-b6dc-dae604c8e78f');\n",
              "        const dataTable =\n",
              "          await google.colab.kernel.invokeFunction('convertToInteractive',\n",
              "                                                    [key], {});\n",
              "        if (!dataTable) return;\n",
              "\n",
              "        const docLinkHtml = 'Like what you see? Visit the ' +\n",
              "          '<a target=\"_blank\" href=https://colab.research.google.com/notebooks/data_table.ipynb>data table notebook</a>'\n",
              "          + ' to learn more about interactive tables.';\n",
              "        element.innerHTML = '';\n",
              "        dataTable['output_type'] = 'display_data';\n",
              "        await google.colab.output.renderOutput(dataTable, element);\n",
              "        const docLink = document.createElement('div');\n",
              "        docLink.innerHTML = docLinkHtml;\n",
              "        element.appendChild(docLink);\n",
              "      }\n",
              "    </script>\n",
              "  </div>\n",
              "\n",
              "\n",
              "<div id=\"df-c2d2dfce-1184-41e8-abf8-53f11633e33a\">\n",
              "  <button class=\"colab-df-quickchart\" onclick=\"quickchart('df-c2d2dfce-1184-41e8-abf8-53f11633e33a')\"\n",
              "            title=\"Suggest charts\"\n",
              "            style=\"display:none;\">\n",
              "\n",
              "<svg xmlns=\"http://www.w3.org/2000/svg\" height=\"24px\"viewBox=\"0 0 24 24\"\n",
              "     width=\"24px\">\n",
              "    <g>\n",
              "        <path d=\"M19 3H5c-1.1 0-2 .9-2 2v14c0 1.1.9 2 2 2h14c1.1 0 2-.9 2-2V5c0-1.1-.9-2-2-2zM9 17H7v-7h2v7zm4 0h-2V7h2v10zm4 0h-2v-4h2v4z\"/>\n",
              "    </g>\n",
              "</svg>\n",
              "  </button>\n",
              "\n",
              "<style>\n",
              "  .colab-df-quickchart {\n",
              "      --bg-color: #E8F0FE;\n",
              "      --fill-color: #1967D2;\n",
              "      --hover-bg-color: #E2EBFA;\n",
              "      --hover-fill-color: #174EA6;\n",
              "      --disabled-fill-color: #AAA;\n",
              "      --disabled-bg-color: #DDD;\n",
              "  }\n",
              "\n",
              "  [theme=dark] .colab-df-quickchart {\n",
              "      --bg-color: #3B4455;\n",
              "      --fill-color: #D2E3FC;\n",
              "      --hover-bg-color: #434B5C;\n",
              "      --hover-fill-color: #FFFFFF;\n",
              "      --disabled-bg-color: #3B4455;\n",
              "      --disabled-fill-color: #666;\n",
              "  }\n",
              "\n",
              "  .colab-df-quickchart {\n",
              "    background-color: var(--bg-color);\n",
              "    border: none;\n",
              "    border-radius: 50%;\n",
              "    cursor: pointer;\n",
              "    display: none;\n",
              "    fill: var(--fill-color);\n",
              "    height: 32px;\n",
              "    padding: 0;\n",
              "    width: 32px;\n",
              "  }\n",
              "\n",
              "  .colab-df-quickchart:hover {\n",
              "    background-color: var(--hover-bg-color);\n",
              "    box-shadow: 0 1px 2px rgba(60, 64, 67, 0.3), 0 1px 3px 1px rgba(60, 64, 67, 0.15);\n",
              "    fill: var(--button-hover-fill-color);\n",
              "  }\n",
              "\n",
              "  .colab-df-quickchart-complete:disabled,\n",
              "  .colab-df-quickchart-complete:disabled:hover {\n",
              "    background-color: var(--disabled-bg-color);\n",
              "    fill: var(--disabled-fill-color);\n",
              "    box-shadow: none;\n",
              "  }\n",
              "\n",
              "  .colab-df-spinner {\n",
              "    border: 2px solid var(--fill-color);\n",
              "    border-color: transparent;\n",
              "    border-bottom-color: var(--fill-color);\n",
              "    animation:\n",
              "      spin 1s steps(1) infinite;\n",
              "  }\n",
              "\n",
              "  @keyframes spin {\n",
              "    0% {\n",
              "      border-color: transparent;\n",
              "      border-bottom-color: var(--fill-color);\n",
              "      border-left-color: var(--fill-color);\n",
              "    }\n",
              "    20% {\n",
              "      border-color: transparent;\n",
              "      border-left-color: var(--fill-color);\n",
              "      border-top-color: var(--fill-color);\n",
              "    }\n",
              "    30% {\n",
              "      border-color: transparent;\n",
              "      border-left-color: var(--fill-color);\n",
              "      border-top-color: var(--fill-color);\n",
              "      border-right-color: var(--fill-color);\n",
              "    }\n",
              "    40% {\n",
              "      border-color: transparent;\n",
              "      border-right-color: var(--fill-color);\n",
              "      border-top-color: var(--fill-color);\n",
              "    }\n",
              "    60% {\n",
              "      border-color: transparent;\n",
              "      border-right-color: var(--fill-color);\n",
              "    }\n",
              "    80% {\n",
              "      border-color: transparent;\n",
              "      border-right-color: var(--fill-color);\n",
              "      border-bottom-color: var(--fill-color);\n",
              "    }\n",
              "    90% {\n",
              "      border-color: transparent;\n",
              "      border-bottom-color: var(--fill-color);\n",
              "    }\n",
              "  }\n",
              "</style>\n",
              "\n",
              "  <script>\n",
              "    async function quickchart(key) {\n",
              "      const quickchartButtonEl =\n",
              "        document.querySelector('#' + key + ' button');\n",
              "      quickchartButtonEl.disabled = true;  // To prevent multiple clicks.\n",
              "      quickchartButtonEl.classList.add('colab-df-spinner');\n",
              "      try {\n",
              "        const charts = await google.colab.kernel.invokeFunction(\n",
              "            'suggestCharts', [key], {});\n",
              "      } catch (error) {\n",
              "        console.error('Error during call to suggestCharts:', error);\n",
              "      }\n",
              "      quickchartButtonEl.classList.remove('colab-df-spinner');\n",
              "      quickchartButtonEl.classList.add('colab-df-quickchart-complete');\n",
              "    }\n",
              "    (() => {\n",
              "      let quickchartButtonEl =\n",
              "        document.querySelector('#df-c2d2dfce-1184-41e8-abf8-53f11633e33a button');\n",
              "      quickchartButtonEl.style.display =\n",
              "        google.colab.kernel.accessAllowed ? 'block' : 'none';\n",
              "    })();\n",
              "  </script>\n",
              "</div>\n",
              "    </div>\n",
              "  </div>\n"
            ],
            "application/vnd.google.colaboratory.intrinsic+json": {
              "type": "dataframe",
              "variable_name": "gold",
              "summary": "{\n  \"name\": \"gold\",\n  \"rows\": 100000,\n  \"fields\": [\n    {\n      \"column\": \"qid\",\n      \"properties\": {\n        \"dtype\": \"number\",\n        \"std\": 329706,\n        \"min\": 1610,\n        \"max\": 1185864,\n        \"num_unique_values\": 1000,\n        \"samples\": [\n          791395,\n          34210,\n          321206\n        ],\n        \"semantic_type\": \"\",\n        \"description\": \"\"\n      }\n    },\n    {\n      \"column\": \"docid\",\n      \"properties\": {\n        \"dtype\": \"string\",\n        \"num_unique_values\": 92565,\n        \"samples\": [\n          \"D3333313\",\n          \"D958999\",\n          \"D3192274\"\n        ],\n        \"semantic_type\": \"\",\n        \"description\": \"\"\n      }\n    },\n    {\n      \"column\": \"rank\",\n      \"properties\": {\n        \"dtype\": \"number\",\n        \"std\": 28,\n        \"min\": 1,\n        \"max\": 100,\n        \"num_unique_values\": 100,\n        \"samples\": [\n          84,\n          54,\n          71\n        ],\n        \"semantic_type\": \"\",\n        \"description\": \"\"\n      }\n    },\n    {\n      \"column\": \"score\",\n      \"properties\": {\n        \"dtype\": \"number\",\n        \"std\": 0.8638425963844313,\n        \"min\": -11.6424,\n        \"max\": -3.79994,\n        \"num_unique_values\": 80702,\n        \"samples\": [\n          -7.26055,\n          -6.58976,\n          -5.18713\n        ],\n        \"semantic_type\": \"\",\n        \"description\": \"\"\n      }\n    }\n  ]\n}"
            }
          },
          "metadata": {},
          "execution_count": 7
        },
        {
          "output_type": "stream",
          "name": "stdout",
          "text": [
            "time: 168 ms (started: 2024-03-26 23:01:58 +00:00)\n"
          ]
        }
      ],
      "source": [
        "gold = pd.read_csv('our.msmarco.gold.tsv',sep='\\t',usecols=[1,3,4,5])\n",
        "gold"
      ]
    },
    {
      "cell_type": "code",
      "execution_count": 8,
      "id": "de5a006e-fb54-4539-9131-d3fe083a2739",
      "metadata": {
        "id": "de5a006e-fb54-4539-9131-d3fe083a2739",
        "outputId": "f9e77795-b9bc-4c8c-d902-5bab27a47f3c",
        "colab": {
          "base_uri": "https://localhost:8080/",
          "height": 442
        }
      },
      "outputs": [
        {
          "output_type": "execute_result",
          "data": {
            "text/plain": [
              "          docid                                              title  \\\n",
              "0      D2981241                 What do you call a group of lions?   \n",
              "1       D687756                                                  .   \n",
              "2       D913099  Everything You Need To Learn How To Cook Veget...   \n",
              "3       D328017  What is the difference between latitude, longi...   \n",
              "4      D1636347                      When was the pulley invented?   \n",
              "...         ...                                                ...   \n",
              "92560  D3379210  Top 39 Doctor insights on: Can An Iud Cause Ha...   \n",
              "92561  D3068739     How to get back your DirecTV cancellation fees   \n",
              "92562  D1590402                                 Certification FAQs   \n",
              "92563  D2175490  Greenhouse gas emissions by Canadian economic ...   \n",
              "92564  D2580062                                QuickBooks Bill Pay   \n",
              "\n",
              "                                                    body  \n",
              "0      Lions Vocabulary of the English Language Word ...  \n",
              "1      The A Priori Argument ( also, Rationalization;...  \n",
              "2      Home > How To Cook Vegetables Everything You N...  \n",
              "3      Longitude Latitude Geographic Coordinate Syste...  \n",
              "4      Answers.com ® Wiki Answers ® Categories Techno...  \n",
              "...                                                  ...  \n",
              "92560  Top 39 Doctor insights on: Can An Iud Cause Ha...  \n",
              "92561  How to get back your Direc TV cancellation fee...  \n",
              "92562  Fingerprinting 1. Where can I get fingerprinte...  \n",
              "92563  Access PDF (682 KB)In 2015, Canada's total gre...  \n",
              "92564  Quick Books Bill Pay Simplify your accounts pa...  \n",
              "\n",
              "[92565 rows x 3 columns]"
            ],
            "text/html": [
              "\n",
              "  <div id=\"df-e36cbeba-22c5-4b5e-8acd-84fbc301f946\" class=\"colab-df-container\">\n",
              "    <div>\n",
              "<style scoped>\n",
              "    .dataframe tbody tr th:only-of-type {\n",
              "        vertical-align: middle;\n",
              "    }\n",
              "\n",
              "    .dataframe tbody tr th {\n",
              "        vertical-align: top;\n",
              "    }\n",
              "\n",
              "    .dataframe thead th {\n",
              "        text-align: right;\n",
              "    }\n",
              "</style>\n",
              "<table border=\"1\" class=\"dataframe\">\n",
              "  <thead>\n",
              "    <tr style=\"text-align: right;\">\n",
              "      <th></th>\n",
              "      <th>docid</th>\n",
              "      <th>title</th>\n",
              "      <th>body</th>\n",
              "    </tr>\n",
              "  </thead>\n",
              "  <tbody>\n",
              "    <tr>\n",
              "      <th>0</th>\n",
              "      <td>D2981241</td>\n",
              "      <td>What do you call a group of lions?</td>\n",
              "      <td>Lions Vocabulary of the English Language Word ...</td>\n",
              "    </tr>\n",
              "    <tr>\n",
              "      <th>1</th>\n",
              "      <td>D687756</td>\n",
              "      <td>.</td>\n",
              "      <td>The A Priori Argument ( also, Rationalization;...</td>\n",
              "    </tr>\n",
              "    <tr>\n",
              "      <th>2</th>\n",
              "      <td>D913099</td>\n",
              "      <td>Everything You Need To Learn How To Cook Veget...</td>\n",
              "      <td>Home &gt; How To Cook Vegetables Everything You N...</td>\n",
              "    </tr>\n",
              "    <tr>\n",
              "      <th>3</th>\n",
              "      <td>D328017</td>\n",
              "      <td>What is the difference between latitude, longi...</td>\n",
              "      <td>Longitude Latitude Geographic Coordinate Syste...</td>\n",
              "    </tr>\n",
              "    <tr>\n",
              "      <th>4</th>\n",
              "      <td>D1636347</td>\n",
              "      <td>When was the pulley invented?</td>\n",
              "      <td>Answers.com ® Wiki Answers ® Categories Techno...</td>\n",
              "    </tr>\n",
              "    <tr>\n",
              "      <th>...</th>\n",
              "      <td>...</td>\n",
              "      <td>...</td>\n",
              "      <td>...</td>\n",
              "    </tr>\n",
              "    <tr>\n",
              "      <th>92560</th>\n",
              "      <td>D3379210</td>\n",
              "      <td>Top 39 Doctor insights on: Can An Iud Cause Ha...</td>\n",
              "      <td>Top 39 Doctor insights on: Can An Iud Cause Ha...</td>\n",
              "    </tr>\n",
              "    <tr>\n",
              "      <th>92561</th>\n",
              "      <td>D3068739</td>\n",
              "      <td>How to get back your DirecTV cancellation fees</td>\n",
              "      <td>How to get back your Direc TV cancellation fee...</td>\n",
              "    </tr>\n",
              "    <tr>\n",
              "      <th>92562</th>\n",
              "      <td>D1590402</td>\n",
              "      <td>Certification FAQs</td>\n",
              "      <td>Fingerprinting 1. Where can I get fingerprinte...</td>\n",
              "    </tr>\n",
              "    <tr>\n",
              "      <th>92563</th>\n",
              "      <td>D2175490</td>\n",
              "      <td>Greenhouse gas emissions by Canadian economic ...</td>\n",
              "      <td>Access PDF (682 KB)In 2015, Canada's total gre...</td>\n",
              "    </tr>\n",
              "    <tr>\n",
              "      <th>92564</th>\n",
              "      <td>D2580062</td>\n",
              "      <td>QuickBooks Bill Pay</td>\n",
              "      <td>Quick Books Bill Pay Simplify your accounts pa...</td>\n",
              "    </tr>\n",
              "  </tbody>\n",
              "</table>\n",
              "<p>92565 rows × 3 columns</p>\n",
              "</div>\n",
              "    <div class=\"colab-df-buttons\">\n",
              "\n",
              "  <div class=\"colab-df-container\">\n",
              "    <button class=\"colab-df-convert\" onclick=\"convertToInteractive('df-e36cbeba-22c5-4b5e-8acd-84fbc301f946')\"\n",
              "            title=\"Convert this dataframe to an interactive table.\"\n",
              "            style=\"display:none;\">\n",
              "\n",
              "  <svg xmlns=\"http://www.w3.org/2000/svg\" height=\"24px\" viewBox=\"0 -960 960 960\">\n",
              "    <path d=\"M120-120v-720h720v720H120Zm60-500h600v-160H180v160Zm220 220h160v-160H400v160Zm0 220h160v-160H400v160ZM180-400h160v-160H180v160Zm440 0h160v-160H620v160ZM180-180h160v-160H180v160Zm440 0h160v-160H620v160Z\"/>\n",
              "  </svg>\n",
              "    </button>\n",
              "\n",
              "  <style>\n",
              "    .colab-df-container {\n",
              "      display:flex;\n",
              "      gap: 12px;\n",
              "    }\n",
              "\n",
              "    .colab-df-convert {\n",
              "      background-color: #E8F0FE;\n",
              "      border: none;\n",
              "      border-radius: 50%;\n",
              "      cursor: pointer;\n",
              "      display: none;\n",
              "      fill: #1967D2;\n",
              "      height: 32px;\n",
              "      padding: 0 0 0 0;\n",
              "      width: 32px;\n",
              "    }\n",
              "\n",
              "    .colab-df-convert:hover {\n",
              "      background-color: #E2EBFA;\n",
              "      box-shadow: 0px 1px 2px rgba(60, 64, 67, 0.3), 0px 1px 3px 1px rgba(60, 64, 67, 0.15);\n",
              "      fill: #174EA6;\n",
              "    }\n",
              "\n",
              "    .colab-df-buttons div {\n",
              "      margin-bottom: 4px;\n",
              "    }\n",
              "\n",
              "    [theme=dark] .colab-df-convert {\n",
              "      background-color: #3B4455;\n",
              "      fill: #D2E3FC;\n",
              "    }\n",
              "\n",
              "    [theme=dark] .colab-df-convert:hover {\n",
              "      background-color: #434B5C;\n",
              "      box-shadow: 0px 1px 3px 1px rgba(0, 0, 0, 0.15);\n",
              "      filter: drop-shadow(0px 1px 2px rgba(0, 0, 0, 0.3));\n",
              "      fill: #FFFFFF;\n",
              "    }\n",
              "  </style>\n",
              "\n",
              "    <script>\n",
              "      const buttonEl =\n",
              "        document.querySelector('#df-e36cbeba-22c5-4b5e-8acd-84fbc301f946 button.colab-df-convert');\n",
              "      buttonEl.style.display =\n",
              "        google.colab.kernel.accessAllowed ? 'block' : 'none';\n",
              "\n",
              "      async function convertToInteractive(key) {\n",
              "        const element = document.querySelector('#df-e36cbeba-22c5-4b5e-8acd-84fbc301f946');\n",
              "        const dataTable =\n",
              "          await google.colab.kernel.invokeFunction('convertToInteractive',\n",
              "                                                    [key], {});\n",
              "        if (!dataTable) return;\n",
              "\n",
              "        const docLinkHtml = 'Like what you see? Visit the ' +\n",
              "          '<a target=\"_blank\" href=https://colab.research.google.com/notebooks/data_table.ipynb>data table notebook</a>'\n",
              "          + ' to learn more about interactive tables.';\n",
              "        element.innerHTML = '';\n",
              "        dataTable['output_type'] = 'display_data';\n",
              "        await google.colab.output.renderOutput(dataTable, element);\n",
              "        const docLink = document.createElement('div');\n",
              "        docLink.innerHTML = docLinkHtml;\n",
              "        element.appendChild(docLink);\n",
              "      }\n",
              "    </script>\n",
              "  </div>\n",
              "\n",
              "\n",
              "<div id=\"df-6fdfcc18-ec42-47a5-85be-014209f8a8a8\">\n",
              "  <button class=\"colab-df-quickchart\" onclick=\"quickchart('df-6fdfcc18-ec42-47a5-85be-014209f8a8a8')\"\n",
              "            title=\"Suggest charts\"\n",
              "            style=\"display:none;\">\n",
              "\n",
              "<svg xmlns=\"http://www.w3.org/2000/svg\" height=\"24px\"viewBox=\"0 0 24 24\"\n",
              "     width=\"24px\">\n",
              "    <g>\n",
              "        <path d=\"M19 3H5c-1.1 0-2 .9-2 2v14c0 1.1.9 2 2 2h14c1.1 0 2-.9 2-2V5c0-1.1-.9-2-2-2zM9 17H7v-7h2v7zm4 0h-2V7h2v10zm4 0h-2v-4h2v4z\"/>\n",
              "    </g>\n",
              "</svg>\n",
              "  </button>\n",
              "\n",
              "<style>\n",
              "  .colab-df-quickchart {\n",
              "      --bg-color: #E8F0FE;\n",
              "      --fill-color: #1967D2;\n",
              "      --hover-bg-color: #E2EBFA;\n",
              "      --hover-fill-color: #174EA6;\n",
              "      --disabled-fill-color: #AAA;\n",
              "      --disabled-bg-color: #DDD;\n",
              "  }\n",
              "\n",
              "  [theme=dark] .colab-df-quickchart {\n",
              "      --bg-color: #3B4455;\n",
              "      --fill-color: #D2E3FC;\n",
              "      --hover-bg-color: #434B5C;\n",
              "      --hover-fill-color: #FFFFFF;\n",
              "      --disabled-bg-color: #3B4455;\n",
              "      --disabled-fill-color: #666;\n",
              "  }\n",
              "\n",
              "  .colab-df-quickchart {\n",
              "    background-color: var(--bg-color);\n",
              "    border: none;\n",
              "    border-radius: 50%;\n",
              "    cursor: pointer;\n",
              "    display: none;\n",
              "    fill: var(--fill-color);\n",
              "    height: 32px;\n",
              "    padding: 0;\n",
              "    width: 32px;\n",
              "  }\n",
              "\n",
              "  .colab-df-quickchart:hover {\n",
              "    background-color: var(--hover-bg-color);\n",
              "    box-shadow: 0 1px 2px rgba(60, 64, 67, 0.3), 0 1px 3px 1px rgba(60, 64, 67, 0.15);\n",
              "    fill: var(--button-hover-fill-color);\n",
              "  }\n",
              "\n",
              "  .colab-df-quickchart-complete:disabled,\n",
              "  .colab-df-quickchart-complete:disabled:hover {\n",
              "    background-color: var(--disabled-bg-color);\n",
              "    fill: var(--disabled-fill-color);\n",
              "    box-shadow: none;\n",
              "  }\n",
              "\n",
              "  .colab-df-spinner {\n",
              "    border: 2px solid var(--fill-color);\n",
              "    border-color: transparent;\n",
              "    border-bottom-color: var(--fill-color);\n",
              "    animation:\n",
              "      spin 1s steps(1) infinite;\n",
              "  }\n",
              "\n",
              "  @keyframes spin {\n",
              "    0% {\n",
              "      border-color: transparent;\n",
              "      border-bottom-color: var(--fill-color);\n",
              "      border-left-color: var(--fill-color);\n",
              "    }\n",
              "    20% {\n",
              "      border-color: transparent;\n",
              "      border-left-color: var(--fill-color);\n",
              "      border-top-color: var(--fill-color);\n",
              "    }\n",
              "    30% {\n",
              "      border-color: transparent;\n",
              "      border-left-color: var(--fill-color);\n",
              "      border-top-color: var(--fill-color);\n",
              "      border-right-color: var(--fill-color);\n",
              "    }\n",
              "    40% {\n",
              "      border-color: transparent;\n",
              "      border-right-color: var(--fill-color);\n",
              "      border-top-color: var(--fill-color);\n",
              "    }\n",
              "    60% {\n",
              "      border-color: transparent;\n",
              "      border-right-color: var(--fill-color);\n",
              "    }\n",
              "    80% {\n",
              "      border-color: transparent;\n",
              "      border-right-color: var(--fill-color);\n",
              "      border-bottom-color: var(--fill-color);\n",
              "    }\n",
              "    90% {\n",
              "      border-color: transparent;\n",
              "      border-bottom-color: var(--fill-color);\n",
              "    }\n",
              "  }\n",
              "</style>\n",
              "\n",
              "  <script>\n",
              "    async function quickchart(key) {\n",
              "      const quickchartButtonEl =\n",
              "        document.querySelector('#' + key + ' button');\n",
              "      quickchartButtonEl.disabled = true;  // To prevent multiple clicks.\n",
              "      quickchartButtonEl.classList.add('colab-df-spinner');\n",
              "      try {\n",
              "        const charts = await google.colab.kernel.invokeFunction(\n",
              "            'suggestCharts', [key], {});\n",
              "      } catch (error) {\n",
              "        console.error('Error during call to suggestCharts:', error);\n",
              "      }\n",
              "      quickchartButtonEl.classList.remove('colab-df-spinner');\n",
              "      quickchartButtonEl.classList.add('colab-df-quickchart-complete');\n",
              "    }\n",
              "    (() => {\n",
              "      let quickchartButtonEl =\n",
              "        document.querySelector('#df-6fdfcc18-ec42-47a5-85be-014209f8a8a8 button');\n",
              "      quickchartButtonEl.style.display =\n",
              "        google.colab.kernel.accessAllowed ? 'block' : 'none';\n",
              "    })();\n",
              "  </script>\n",
              "</div>\n",
              "    </div>\n",
              "  </div>\n"
            ],
            "application/vnd.google.colaboratory.intrinsic+json": {
              "type": "dataframe",
              "variable_name": "docs",
              "summary": "{\n  \"name\": \"docs\",\n  \"rows\": 92565,\n  \"fields\": [\n    {\n      \"column\": \"docid\",\n      \"properties\": {\n        \"dtype\": \"string\",\n        \"num_unique_values\": 92565,\n        \"samples\": [\n          \"D3490776\",\n          \"D587475\",\n          \"D3442790\"\n        ],\n        \"semantic_type\": \"\",\n        \"description\": \"\"\n      }\n    },\n    {\n      \"column\": \"title\",\n      \"properties\": {\n        \"dtype\": \"string\",\n        \"num_unique_values\": 74750,\n        \"samples\": [\n          \"Which Colorado ski areas will be open over Thanksgiving? And what\\u00e2s in the snow forecast?\",\n          \"Top 40 Doctor insights on: What Is Normal Uterine Lining Thickness\",\n          \"11th grade chemistry chapter 2\"\n        ],\n        \"semantic_type\": \"\",\n        \"description\": \"\"\n      }\n    },\n    {\n      \"column\": \"body\",\n      \"properties\": {\n        \"dtype\": \"string\",\n        \"num_unique_values\": 88523,\n        \"samples\": [\n          \"Watch NFL Network and NFL Red Zone on Tablet Watch NFL Network Watch NFL Network and NFL Red Zone live through your favorite tablet device. Download the free app now and sign in to your TV provider to start watching. *NFL Mobile from Verizon Download the free NFL Mobile app to watch NFL Network and NFL Red Zone. *NFL App on Windows Download the NFL app from the Windows store to get NFL Network & NFL Red Zone live. *More Ways to Watch There are many ways to watch NFL Network and Red Zone live: Smartphone - NFL Mobile (included for Verizon customers)Tablet - Watch NFL Network, NFL Mobile, NFL App on Windows 10PC - NFL.com/Watch Connected Devices - NFL app on Xbox One, Xbox 360, Apple TV & PS4Smartphone NFL Mobile All Verizon customers get live access to NFL Network included with their plan. NFL Red Zone is available as an in-app purchase. Connected Devices NFL App Access the NFL App on select connected TV devices to stream NFL Network and NFL Red Zone. *Apple TV \",\n          \"Home >> Illustrator Tutorials Illustrator Image to Vector Tutorial UPDATED February 21, 2017In this Adobe Illustrator tutorial you will learn how to vectorize an image. You will use a simple reference bitmap image of a cartoon cow, and then use Illustrator to trace over it to make a simple vector image. Vectorize an Image Vectors are graphics consisting of lines and curves defined by mathematical formulas. In Illustrator, you can resize or modify vector graphics without losing any resolution. In contrast, bitmap images become blurry or pixilated when resizing. This tutorial will image trace (vectorize) the bitmap and convert to a vector image. Bullet list of the tools you will use:* Use the Pen tool to draw points and lines. * Use the Direct Selection tool to move and scale anchor points. * Use the Illustrator Pathfinder tool to combine multiple objects. * Compare Bitmap to Vector images. Download the bitmap for the tutorial: Cartoon_Cow.zip Watch the video on Youtube Watch the video Illustrator Image Trace Tutorial Your browser does not currently recognize any of the video formats available. Click here to visit our frequently asked questions about HTML5 video.0:00 / 4:43How to trace a vector from a reference image in Adobe Illustrator1. Create a new document and import your image that you want to make vector. To do this tutorial correctly, use the image that\\u2019s provided with the tutorial. To import the image, go to File > Place and select the image then click open.2. We\\u2019re using an image of a cow here. To vectorize this image we\\u2019ll start from the position that is most far in depth. In this image, the body of the cow is the object that is in the most back position. So make a new layer and lock the first layer that holds the main picture. To make the body you can just use the Oval tool and make an oval shape that fits the body. Select the shape and change fill color to none and stroke color to black. Don\\u2019t worry about overlapping head or legs. Now copy that oval shape, make a new layer, lock the previous layer and paste the shape in the new layer. Press Ctrl+F to paste in front. This will hold the exact position.3. Now select the pen tool and draw lines along the grey spots. Make sure your lines goes out of the body. Follow the picture below. Use Direct Selection tool to select, move and scale anchor points.4. Now select all shapes and open Pathfinder window from Window > Pathfinder. Having all of them selected, click Divide in pathfinder window. This will divide the shapes and group them. Now ungroup it from Object > Ungroup. This will delete the over extended path areas that overlap the image.5. Same way now, make another layer and draw paths along the head and the mouth (pink area). Use Pathfinder. Also make sure you copied the outline of the head to a new layer before using the pathfinder. Do the same thing with paths for ears of the cow.6. Now make the nose holes also with the Pen tool. Draw one and Reflect it. To reflect and copy, select the shape and go to Object > Transform > Reflect. Chose vertical and click copy. Same way, also draw the eyes and Reflect.7. Now make a new layer and make the leg paths. Use the Pen tool to draw paths and then use the pathfinder same way as before. In the case of the leg, use reflect and copy. In the same layer make the paths for the horns. Ok, Select and move all the paths to an empty space on the canvas.8. Now you\\u2019re done with making the base. Now you just have to give the right colors. Select the body and give it 3px black stroke with no fill. For the head use 3px black stroke with white fill.9. Now select the spots, legs and horns, give fill color #4D4D4D with no stroke. Select the mouth, give 3px black stroke and fill color #FAD4E4. For nose holes and eyes, just use black fill color with no stroke.10. Finally, select the areas which represents the shade and fill them with black color with no stroke and change the opacity to 20%. That\\u2019s all. You\\u2019re done!Now let\\u2019s contrast the two images zoomed in. Vector on the left, and bitmap on the right. More Illustrator tutorials: Angry Bird Landscape Art Seamless Art Draw Flower Vector Images If you liked this tutorial, please share with your friends: Illustrator Vectors \",\n          \"1. What is/are the main excretory organ/s of the body? A. skin B. lungs C. intestines D. kidneys D2. The kidney functions in A. preventing blood loss. B. white blood cell production. C. synthesis of vitamin D. excretion of metabolic wastes. E. production of the hormone aldosterone. D3. Which of the following functions would not be performed by the kidney? A. urine storage B. excretion of waste C. maintenance of fluid balance D. regulate synthesis of vitamin D E. regulate synthesis of RBCs A 4. Urine is carried from the kidneys to the urinary bladder by the A. urethra. B. ureter. C. calyces. D. renal columns. E. renal tubules. B5. Arrange the following structures in correct sequence: (1) ureter (2) renal pelvis (3) calyx (4) urinary bladder (5) urethra A. 1, 2, 3, 4, 5 B. 3, 2, 1, 4, 5 C. 2, 4, 5, 3, 1 D. 3, 4, 1, 2, 5 E. 1, 3, 2, 4, 5B 6. The kidney is protected from mechanical shock by the A. hilum. B. renal fascia. C. renal fat pad. D. renal capsule. E. renal cortex. C7. Blood vessels, nerves, and the ureter enter and leave the kidney at the A. hilum. B. renal fascia. C. renal pelvis. D. renal capsule. E. renal pyramid.8. The ureter expands into the substance of the kidney as the A. hilum. B. renal pelvis. C. renal capsule. D. renal pyramid. E. renal corpuscle.9. The portion of the kidney that is composed of cone-shaped renal pyramids is called the A. cortex. B. medulla. C. pelvis. D. calyx. E. columns.10. Cortical tissue located between the pyramids is called the A. calyx tissue. B. renal papillae. C. renal columns. D. medullary rays. E. renal corpuscles.11. The tip of each renal pyramid is called A. a nephron. B. a renal papilla. C. a renal column. D. a medullary ray. E. the apex.12. The renal papillae extend into the A. cortex. B. renal columns. C. minor calyces. D. major calyces.13. The structural and functional units of the kidney are called A. nephrons. B. renal papillae. C. renal pyramids. D. renal columns. E. renal tubes.14. The juxtamedullary nephrons A. have long loops of Henle. B. are found next to the renal capsule. C. comprise 85% of all nephrons. D. have their renal corpuscles located in the medulla. E. have short loops of Henle.15. Which of the following is NOT part of a nephron? A. loop of Henle B. collecting duct C. renal corpuscle D. proximal convoluted tubule E. distal convoluted tubule16. The network of capillaries that is located in Bowman's capsule is called the A. vasa recta. B. glomerulus. C. peritubular capillary. D. proximal convoluted capillary. E. efferent arteriole.17. The renal corpuscle consists of A. the renal pelvis and the renal tubules. B. the glomerulus and Bowman's capsule. C. Bowman's capsule and the renal pelvis. D. the proximal convoluted tubule and the glomerulus. E. afferent and efferent arteriole.18. Which of the following structures is a capillary? A. glomerulus B. loop of Henle C. collecting duct D. Bowman's capsule E. proximal convoluted tubule19. The visceral layer of Bowman's capsule A. is part of the filtration membrane. B. is called endothelium. C. contains podocytes. D. is part of the filtration membrane and is called endothelium. E. is part of the filtration membrane and contains podocytes.20. Which of the following layers of the filtration membrane is closest to the plasma? A. podocytes B. macula densa C. glomerular endothelium D. the basement membrane E. parietal layer of Bowman's capsule21. The inner layer of Bowman's capsule consists of specialized cells called A. nephrons. B. podocytes. C. nephrocytes. D. juxtamedullary cells. E. macula densa.22. The openings between the endothelial cells of the glomerular capillaries are called A. fenestrae. B. gap junctions. C. filtration slits. D. macula densa. E. membrane channels.23. Filtration slits is the name given to the A. points where the afferent arterioles enter the renal corpuscle. B. openings between the endothelial cells of the glomerular capillaries. C. gaps between the podocyte processes in the visceral layer of Bowman's capsule. D. basement membrane of the glomerular endothelium. E. active transport channels.24. An obstruction in the afferent arteriole would reduce the flow of blood into the A. glomerulus. B. renal artery. C. macula densa. D. efferent arteriole. E. arcuate artery.25. The filtration membrane consists of the A. capillary epithelium, podocytes, and macula densa. B. podocytes, basement membrane, and macula densa. C. basement membrane, capillary epithelium, and macula densa. D. parietal layer and visceral layer. E. podocytes, capillary endothelium, and basement membrane.26. Choose the term that does not belong. A. glomerulus B. macula densa C. juxtaglomerular cells D. juxtaglomerular apparatus E. afferent arteriole27. The juxtaglomerular apparatus is composed of A. juxtaglomerular cells and the macula densa. B. podocytes and juxtaglomerular cells. C. the macula densa and the filtration membrane. D. juxtaglomerular cells and the filtration membrane. E. glomerulus and Bowman's capsule.28. The portion of the nephron that empties into the collecting duct is the A. glomerulus. B. ascending loop of Henle. C. distal convoluted tubule. D. proximal convoluted tubule. E. descending loop of Henle.29. The renal corpuscle connects to the A. loop of Henle. B. collecting duct. C. distal convoluted tubule. D. renal convoluted tubule. E. proximal convoluted tubule.30. Which of the following is between the proximal and distal convoluted tubules? A. the glomerulus B. the loop of Henle C. the distal convoluted tubule D. the proximal convoluted tubule E. collecting duct31. Urine drains from the nephron into the calyces through the A. loop of Henle. B. collecting duct. C. distal convoluted tubule. D. proximal convoluted tubule. E. Bowman's capsule.32. Arrange the following in the sequence in which filtrate moves through them. (1) loop of Henle (2) Bowman's capsule (3) distal convoluted tubule (4) proximal convoluted tubule A. 1, 2, 3, 4 B. 4, 2, 1, 3 C. 2, 4, 3, 1 D. 2, 4, 1, 3 E. 3, 4, 1, 233. What type of cells form the proximal convoluted tubule? A. simple cuboidal epithelium with microvilli B. stratified squamous epithelium C. pseudostratified ciliated columnar epithelium D. simple columnar cells with microvilli and cilia34. Choose the one that does not belong. A. loop of Henle B. glomerulus C. distal convoluted tubule D. proximal convoluted tubule E. Bowman's capsule35. One feature of renal blood circulation that makes it unique is that A. there is a double set of venules. B. blood flows from arterioles into venules. C. blood flows from venules into arterioles. D. each nephron has at least two capillary networks. E. the nephron is only associated with the glomerulus.36. The vasa recta is a specialized portion of the A. glomerulus. B. afferent arteriole. C. efferent arteriole. D. peritubular capillary. E. interlobular artery.37. Which of these vessels gives rise to the peritubular capillary? A. glomerulus B. arcuate artery C. efferent arteriole D. interlobular artery E. afferent arteriole38. Trace the path of a red blood cell from the renal artery to the glomerulus: (1) interlobar artery (2) interlobular artery (3) segmental artery (4) arcuate artery (5) afferent arteriole A. 1, 2, 3, 4, 5 B. 1, 4, 2, 3, 5 C. 1,3, 2, 4, 5 D. 2, 1, 3, 5, 4 E. 1, 4, 3, 239. The urinary bladder A. stores urine until it is voided. B. empties to the exterior via the ureters. C. contains a muscle called the trigone. D. is superior to the kidney. E. filters urine.40. Skeletal muscle that surrounds the urethra as it extends through the pelvic floor forms the A. trigone. B. lamina propria. C. external urinary sphincter. D. internal urinary sphincter. E. involuntary portion of bladder control.41. Urine formation involves A. filtration of the plasma. B. reabsorption from the filtrate. C. secretion into the filtrate. D. production of red blood cells. E. filtration of the plasma, reabsorption from the filtrate, and the secretion into the filtrate.42. Formation of filtrate depends on a A. pressure gradient. B. concentration gradient. C. volume gradient. D. temperature gradient. E. osmotic gradient.43. The active transport of substances into the filtrate is called tubular A. filtration. B. reabsorption. C. secretion. D. elimination. E. excretion.44. The part of the cardiac output that passes through the kidneys is the A. renal fraction. B. filtration fraction. C. clearance fraction. D. glomerular flow rate. E. cardiac fraction.45. The amount of filtrate produced per minute is called the A. renal fraction. B. filtration fraction. C. glomerular filtration rate. D. clearance fraction. E. renal rate.46. At the rate of 125 ml of filtrate/minute, estimate the amount of filtrate formed in 24 hours. A. 45 liters B. 90 liters C. 125 liters D. 180 liters E. 200 liters47. What percent of filtrate becomes urine? A. less than 1% B. 5% C. 10% D. 80% E. 90%48. Plasma contains a much greater concentration of _____ than the glomerular filtrate. A. urea B. water C. protein D. sodium ions E. glucose49. Passage of proteins into Bowman's capsule is prevented by A. the size of the capillary pores. B. the size of the filtration slits in the podocytes. C. the size of the proteins. D. filtration pressure. E. the size of the capillary pores, the size of the filtration slits in the podocytes, and the size of the proteins.50. In glomerulonephritis, the permeability of the filtration membrane increases allowing proteins to cross the membrane. Which of the following would you expect to observe? A. increase in filtration volume B. anuria - no urine production C. necrosis of the renal corpuscle D. low protein levels in the filtrate E. no change in the filtrate51. Decreased blood colloid osmotic pressure affects renal function by A. increasing net filtration pressure. B. increasing capsular pressure. C. increasing glomerular capillary pressure. D. increasing blood pressure in the afferent arteriole. E. None of these choices is correct.52. The movement of fluid into Bowman's capsule is opposed by A. filtration pressure. B. capsular hydrostatic pressure. C. glomerular capillary pressure. D. osmotic pressure of the medulla of the kidney. E. blood pressure.53. If the following hypothetical conditions exist in the nephron, calculate the net filtration pressure. glomerular capillary pressure = 80 mm Hg blood colloid osmotic pressure = 20 mm Hg capsular hydrostatic pressure = 10 mm Hg A. 110 mm Hg B. 90 mm Hg C. 50 mm Hg D. 30 mm Hg E. 20 mm Hg54. Which of the following pressures tends to force fluid from the glomerulus through the filtration membrane into Bowman's capsule? A. tubular pressure B. capsular pressure C. colloid osmotic pressure D. glomerular capillary pressure E. None of these choices is correct.55. Which of the following events would increase filtration pressure? A. increase in capsular pressure B. constriction of the efferent arteriole C. increase in colloid osmotic pressure D. decrease in renal blood flow E. dilation of the efferent arteriole56. In the myogenic mechanism of autoregulation, what is the response to an increase in blood pressure in the afferent arteriole? A. constriction of the glomerulus B. dilation of the afferent arteriole C. dilation of the efferent arteriole D. constriction of the afferent arteriole57. What is the effect of intense sympathetic stimulation on the GFR? A. GFR increases B. GFR decreases C. GFR is not affected D. GFR increases, then decreases58. When sodium is actively transported from tubular cells to the interstitial fluid, A. no energy is needed. B. glucose and amino acids are countertransported at the same time. C. Na+ concentration gradient is established between the tubule lumen and tubule cell. D. water is countertransported by carrier molecules. E. water is secreted.59. Substances that are cotransported into proximal convoluted tubule cells include A. urea with water. B. potassium with amino acids. C. amino acids with bicarbonate ions. D. glucose molecules with sodium ions. E. chloride with potassium.60. Most water is reabsorbed from the filtrate in the A. proximal convoluted tubule. B. descending loop of Henle. C. ascending loop of Henle. D. distal convolute tubule. E. collecting duct.61. The proximal convoluted tubule is A. lined with epithelial cells that lack microvilli. B. the site of glucose and amino acid reabsorption. C. permeable to water if ADH is present. D. impermeable to water. E. the site of water secretion.62. Arrange the following in correct order. (1) cotransport molecule binds to sodium and glucose (2) establish sodium concentration gradient between tubular cells and tubular lumen (3) sodium and glucose moved into tubular cell (4) active transport of sodium from tubular cells to interstitial area A. 2, 1, 3, 4 B. 4, 2, 1, 3 C. 1, 3, 4, 2 D. 2, 4, 1, 3 E. 1, 2, 3, 463. Glucose is usually completely reabsorbed from the filtrate by the time the filtrate has reached the A. tip of the loop of Henle. B. end of the collecting duct. C. end of the distal convoluted tubule. D. end of the proximal convoluted tubule. E. beginning of the proximal convoluted tubule.64. Water reabsorption by the renal tubules uses A. active transport. B. cotransport. C. solvent drag. D. osmosis. E. None of these choices is correct.65. In the ascending limb of the loop of Henle, A. water can easily enter or leave. B. potassium and chloride are cotransported with sodium across the apical membrane. C. calcium ions are actively transported across the basal membrane. D. potassium is concentrated in the filtrate. E. the filtrate does not change.66. Once inside the cells of the ascending limb, potassium and chloride cross the basal membrane into the interstitial fluid by the process of A. facilitated diffusion. B. cotransport. C. counter transport. D. active transport. E. simple diffusion.67. Which of the following ions are cotransported across the wall of the proximal convoluted tubule, distal convoluted tubule, and the ascending limb of the loop of Henle? A. sodium and bicarbonate B. potassium and phosphate C. sodium and chloride D. bicarbonate and potassium E. potassium and chloride68. The collecting ducts and distal convoluted tubules A. reabsorb glucose. B. collect filtrate from Bowman's capsule. C. actively transport sodium ions but not chloride ions. D. vary in their permeability to water relative to the amounts of ADH present. E. do not alter their permeability to water.69. The collecting duct becomes more permeable to water when A. colloid osmotic pressure increases. B. ADH production increases. C. plasma osmolality decreases. D. aldosterone production decreases. E. ADH production decreases.70. As ADH production declines, A. glomerular filtration increases. B. potassium reabsorption increases. C. reabsorption of water increases. D. the urine volume increases. E. the blood volume increases.71. When ADH binds to receptor sites on distal tubule cells, A. filtrate volume increases. B. filtrate osmolality decreases. C. potassium is secreted from the cells. D. the distal tubule is less permeable to water. E. the distal tubule is more permeable to water.72. Urea is A. secreted into the filtrate by cells of the distal convoluted tubule. B. diffuse out of the collecting ducts into the interstitial fluid of the medulla and then diffuse into the descending loop of Henle. C. completely reabsorbed by the nephron. D. actively transported into the filtrate by cells of the collecting duct. E. None of these choices is correct.73. Hydrogen ions are secreted into the filtrate by both the A. proximal and distal tubules. B. collecting duct and Bowman's capsule. C. loop of Henle and the distal tubule. D. proximal tubule and the loop of Henle. E. loop of Henle only.74. Which of the following are most likely to be actively secreted into the distal convoluted tubule? A. potassium ions. B. chloride ions. C. bicarbonate. D. amino acids. E. sodium.75. Potassium ions enter the lumen of the _____ by the process of active transport. A. proximal tubule B. renal corpuscle C. loop of Henle D. distal tubule E. collecting duct76. In the sodium-hydrogen antiport system, A. both sodium ions and hydrogen ions are transported into the tubular lumen. B. both sodium ions and hydrogen ions are transported into the tubular cell. C. sodium ions are transported into the cell; hydrogen ions are transported out of the cell. D. sodium ions are transported into the tubular lumen; hydrogen ions are transported into the cell. E. sodium ions are transported out of the cell; hydrogen ions are transported into the cell. 77. Tubular secretion occurs in which of the following structures? A. glomerulus B. urethra C. renal pelvis D. distal convoluted tubule E. collecting duct78. Tubular reabsorption and tubular secretion differ in that A. tubular secretion is a passive process; tubular reabsorption uses active transport. B. tubular secretion adds materials to the filtrate; tubular reabsorption removes materials from the filtrate. C. tubular reabsorption increases urine volume; tubular secretion decreases urine volume. D. tubular reabsorption occurs in Bowman's capsule; tubular secretion occurs in the peritubular capillary. E. tubular secretion moves materials from the filtrate into the blood; tubular reabsorption moves materials from the blood into the filtrate.79. Which of the following statements is true? A. Most filtrate (99%) is eliminated as urine. B. Normal filtrate contains a large amount of protein. C. Reabsorption of water in the filtrate may be hormonally controlled. D. Sodium ions are secreted into the filtrate of the proximal convoluted tubule. E. Hormones play a minor role in fluid homeostasis.80. The ability of the kidney to concentrate urine depends on A. proximal tubule reabsorption. B. a high medullary concentration gradient. C. osmosis. D. rapid removal of filtrate. E. a low medullary concentration gradient.81. The vasa recta A. supplies blood to the glomerulus. B. alters the cortical solute gradient. C. collects excess water and solutes from the medullary interstitial fluid. D. collects water and solutes reabsorbed from the proximal tubule. E. surrounds the collecting duct.82. The countercurrent multiplier system A. is found in the collecting duct. B. is assisted by hormones. C. has fluid flowing in parallel tubes in opposite directions. D. maintains the solute concentration of the medullary interstitial fluid. E. has fluid flowing in parallel tubes in opposite directions and maintains the solute concentration of the medullary interstitial fluid.83. A countercurrent mechanism is in A. the afferent and efferent arterioles. B. the glomerulus and Bowman's capsule. C. the proximal and distal tubules. D. the loop of Henle only. E. both the loop of Henle and the vasa recta.84. In which of the following locations is filtrate osmolality highest? A. end of proximal convoluted tubule B. tip of the loop of Henle C. end of distal convoluted tubule D. beginning of distal convoluted tubule E. descending loop of Henle85. Which of the following helps maintain a high solute concentration in the kidney medulla? A. high urea concentration in medulla B. active transport of solutes from ascending limb C. the vasa recta D. functions of the loop of Henle E. All of these choices are correct86. Which of the following would help maintain the medullary concentration gradient? A. movement of urea from the distal tubule to the proximal tubule B. urea movement from the collecting duct to medullary interstitial fluid C. movement of water from the ascending limb into the medullary interstitial fluid D. active transport of sodium and chloride from the medullary interstitial fluid into the collecting duct E. urea movement into the collecting duct87. Starting from the collecting duct, indicate the order in which urea molecules move to maintain the medullary concentration gradient. (1) ascending limb (2) distal convoluted tubule (3) interstitial fluid (4) collecting duct (5) descending limb A. 2, 5, 1, 4, 3 B. 1, 3, 5, 2, 4 C. 3, 5, 1, 2, 4 D. 4, 2, 1, 3, 5 E. 4, 3, 5, 1, 288. Which of the following statements is true? A. Only sodium diffuses from the descending limb. B. Solutes are actively transported from the ascending limb. C. Na+ and Cl- ions are actively transported into the vasa recta. D. The osmolality of the descending limb decreases as filtrate moves through. E. Water moves by osmosis out of the ascending loop.89. Which structure removes excess water and solutes from the kidney's medullary interstitial fluid? A. distal convoluted tubule B. collecting duct C. loop of Henle D. vasa recta E. proximal convoluted tubule90. The kidney dialysis machine is an example of a mechanical A. active transport system. B. countercurrent system. C. cotransport system. D. sorting system. E. toy.91. By the time filtrate reaches the tip of the loop of Henle, _____ of the filtrate volume has been reabsorbed. A. 65% B. 75% C. 80% D. 95% E. 100%92. The filtrate that drips from the renal papillae into the calyces A. has a higher concentration of waste products (urea) than the original filtrate. B. may have lost up to 99% of its original volume. C. is called urine. D. has a higher concentration of waste products (urea) than the original filtrate, may have lost up to 99% of its original waste, and is called urine. E. None of these choices is correct.93. Filtrate reabsorption, which occurs regardless of the concentration and volume of urine produced, is referred to as A. active. B. obligatory. C. facultative. D. countercurrent. E. nonessential.94. Urine concentration and volume depend on water reabsorption in the A. proximal convoluted tubule. B. descending loop of Henle. C. ascending loop of Henle. D. distal convoluted tubule only. E. distal convoluted tubule and collecting ducts.95. Some lung cancers secrete large amounts of ADH. This causes increased water reabsorption in the A. proximal convoluted tubule. B. loop of Henle. C. distal convoluted tubule and collecting ducts. D. calyces. E. urethra.96. Which of the following situations increases the number of action potentials to the supraoptic region of the hypothalamus? A. increased blood velocity B. decreased renin production C. increased plasma osmolality D. decreased aldosterone secretion E. decreased plasma osmolality97. Decreased ADH levels results in a urine high in A. potassium. B. water content. C. glucose content. D. bicarbonate content. E. hydrogen ions.98. Diabetes insipidus is the result of decreased A. ADH production. B. insulin production. C. aldosterone production. D. angiotensin II production. E. glucagon production.99. Removal of the posterior pituitary will immediately cause A. a decrease in urine volume. B. an increase in urine volume. C. no change in urine volume.100. A 15% increase in blood pressure would result in which of the following changes in ADH secretion? A. increased secretion B. decreased secretion C. no change in secretion101. The juxtaglomerular apparatus secretes A. renin. B. ADH. C. oxytocin. D. aldosterone. E. angiotensin.102. Renin converts A. angiotensin I to angiotensin II. B. angiotensin II to angiotensin I. C. angiotensinogen to angiotensin I. D. angiotensin II to angiotensin III. E. angiotensinogen to angiotensin II.103. The kidneys produce renin when A. the urine becomes acidic. B. the peritubular capillaries dilate. C. the blood pressure in the afferent arteriole decreases. D. sodium chloride concentration in the distal tubule increases. E. the blood pressure in the afferent arteriole increases.104. Angiotensin II A. is a potent vasodilator. B. stimulates aldosterone secretion. C. is formed from angiotensin I by the action of renin. D. acts on the collecting ducts to increase reabsorption of water. E. decreases blood pressure.105. Which of the following is NOT an action of angiotensin II? A. vasoconstriction of arterioles B. increases thirst C. increases ADH secretion D. decreases peripheral resistance E. increases aldosterone secretion106. Increased aldosterone causes increased A. urine volume. B. sodium secretion. C. potassium secretion. D. reabsorption of hydrogen ions. E. filtrate formation.107. Aldosterone targets cells in the A. proximal convoluted tubule. B. loop of Henle. C. distal convoluted tubule. D. glomerulus. E. collecting duct.108. Aldosterone exerts its effect on the kidney tubules by A. increasing tubular renin production. B. increasing tubular permeability. C. increasing osmosis into the tubule cells. D. increasing the synthesis of the transport proteins for sodium. E. decreasing tubular permeability.109. Lasix is a diuretic that blocks the reabsorption of sodium in the ascending loop of Henle. The result of giving this drug would be A. increased urine output. B. decreased aldosterone production. C. decreased osmolality of the filtrate. D. increased osmolality of the urine. E. decreased urine volume.110. Consumption of alcohol increases urine production by A. decreasing the blood pressure. B. causing retention of sodium ions. C. inhibiting the release of ADH from the posterior pituitary. D. stimulating the release of aldosterone from the adrenals. E. stimulating the release of ADH from the posterior pituitary.111. ADH increases the permeability of the distal convoluted tubules and collecting ducts by A. incorporating aquaporin-3 channels into the apical membrane. B. increasing the number of sodium transpot proteins in the membranes. C. incorporating aquaporin-2 channels into the apical membrane. D. decreasing the number of aquaporin-4 channels in the apical membrane.112. Atrial natriuretic hormone A. promotes the secretion of ADH. B. is secreted by the posterior pituitary. C. causes the formation of concentrated urine. D. is secreted when atrial blood pressure increases. E. is secreted when atrial blood pressure decreases.113. Autoregulation in the kidney involves changes in the degree of A. constriction of afferent arterioles. B. sympathetic stimulation. C. aldosterone secretion. D. ADH secretion. E. None of these choices is correct.114. Intense sympathetic stimulation of the kidney A. is necessary for normal kidney metabolism. B. causes the release of epinephrine from the kidney. C. decreases renal flow. D. increases filtration rate. E. does not alter filtration rate.115. If extracellular fluid osmolality is 385 m Osm/kg, the kidneys will increase reabsorption of A. urea. B. water. C. sodium. D. potassium. E. chloride.116. Blood loss that occurs during surgery will stimulate cells in the A. efferent arteriole. B. wall of the right atrium. C. proprioceptors. D. juxtaglomerular apparatus. E. None of these choices is correct.117. Put the following in the correct order after the blood pressure increases. (1) decreased sympathetic stimulation (2) increase in glomerulus filtration rate (3) increase in arterial blood pressure (4) increase in urine production (5) afferent arterioles dilate A. 1, 3, 5, 2, 4 B. 3, 2, 1, 5, 4 C. 2, 3, 5, 1, 4 D. 3, 1, 5, 2, 4 E. 3, 2, 5, 4, 1118. When macula densa cells experience increased Na+ concentration in the filtrate, they respond by A. increasing afferent arteriole constriction. B. decreasing urine production. C. decreasing renin secretion. D. increasing aldosterone secretion. E. increasing renin secretion119. Decreased blood pressure in the afferent arterioles results in A. increased renin secretion. B. decreased ADH secretion. C. suppression of thirst. D. stimulation of the parasympathetic nervous system. E. decreased renin secretion.120. Stretch receptors in the atria are responsible for the secretion of A. ADH. B. renin. C. aldosterone. D. atrial natriuretic hormone. E. angiotensin.121. Increased secretion of atrial natriuretic hormone results in A. increased thirst. B. increased urine output. C. increased blood pressure. D. increased osmolality of the extracellular fluid. E. decreased urine output.122. A substance that is useful for determining the plasma clearance rate of the kidney is A. ADH. B. glucose. C. inulin. D. protein. E. ammonia.123. To calculate plasma clearance of any substance, it is necessary to know the A. quantity of urine produced per minute. B. concentration of the cleared substance in the urine. C. concentration of the cleared substance in the blood. D. blood volume. E. quantity of urine produced per minute, the concentration of the cleared substance in the urine, and the concentration of the cleared substance in the blood.124. A substance used to calculate plasma clearance must A. pass freely through the filtration membrane of the renal corpuscle. B. be readily reabsorbed. C. be either a protein or a polysaccharide. D. be secreted into the nephron. E. be produced in the kidney.125. Decreased plasma clearance can indicate A. hypertension. B. renal failure. C. decreased ADH secretion. D. decreased aldosterone secretion. E. fluid balance.126. Drug companies use which of the following to help them calculate the duration of action of a medication? A. plasma clearance B. plasma osmolarity C. tubular maximum D. renal plasma flow E. glomerular filtration rate127. Renal blood flow per minute can be calculated if you know the clearance calculation for ____ as well as the person's hematocrit. A. ADH B. PAH C. insulin D. aldosterone E. glucose128. Tubular load refers to the amount of a given substance that A. is present in the blood as it enters the afferent arteriole of the nephron. B. passes through the filtration membrane into the nephron each minute. C. can be actively reabsorbed from the filtrate. D. can be secreted into the filtrate. E. None of these choices is correct.129. When the tubular maximum for a substance is exceeded, A. more of the substance is reabsorbed. B. more of the substance is actively secreted. C. less of the substance is filtered in the renal corpuscle. D. the excess goes into the blood. E. the excess remains in the urine.130. If the tubular maximum for a particular amino acid is 200 mg/100 ml and the concentration of that amino acid in the blood is 100 mg/100 ml, the amino acid A. will be actively secreted into the filtrate. B. will be completely reabsorbed by the tubule cells. C. will appear in the urine. D. will not appear in the urine. E. None of these choices is correct.131. Diuretics that inhibit sodium ion reabsorption are called A. xanthines. B. osmotic diuretics. C. thiazide diuretics. D. carbonic anhydrase inhibitors. E. ADH inhibitors.132. Urea and mannitol are examples of which of the following types of diuretics? A. osmotic diuretics B. thiazide diuretics C. potassium-sparing diuretics D. carbonic anhydrase inhibitors E. ADH inhibitors133. Diuretics that work by reducing H+ secretion and the reabsorption of HCO3- ions are classified as A. xanthines. B. osmotic diuretics. C. thiazide diuretics. D. carbonic anhydrase inhibitors. E. potassium-sparing diuretics.134. Urine flows through the ureters to the bladder as the result of A. gravity. B. a pressure gradient. C. a concentration gradient. D. peristaltic contractions. E. osmotic gradient.135. Where do the ureters enter the urinary bladder? A. the anterosuperior surface B. the anteroinferior surface C. the posteromedial surface D. the posterolateral surface136. What part of the urinary bladder expands very little during bladder filling? A. the fundus B. the trigone C. the neck D. transitional epithelium137. What muscle is responsible for contraction of the urinary bladder during micturition? A. trigone B. internal urinary sphincter C. micturition mucle D. detrusor muscle138. What type of tissue is responsible for the expansion of the urinary bladder during filling? A. transitional epithelium B. stratified squamous epithelium C. pseudostratified columnar epithelium D. stratified columnar epithelium139. Why is the external urinary sphincter under conscious control? A. It is made of smooth muscle. B. It is part of the detrusor muscle. C. It is made of skeletal muscle. D. It is made of adventitia.140. How much urine would be in the urinary bladder to increase the pressure to an uncomfortable point? A. 100 m L B. 300 m L C. 400 m L D. 500 m L141. Voluntary micturition A. involves higher brain centers. B. involves control of the internal sphincter. C. is a reflex action. D. is common in infants. E. involves control of smooth muscle.142. Which of the following statements concerning the micturition reflex is false? A. The micturition reflex is initiated by stretching the bladder wall. B. Afferent signals are conducted to the sacral segments of the spinal cord by the pelvic nerves. C. Efferent signals are sent to the bladder by sympathetic fibers in the pelvic nerve. D. The micturition reflex usually produces a series of contractions of the urinary bladder. E. The micturition reflex is modified by centers in the pons and cerebrum.143. With aging, a loss of inhibitory action potentials to the sacral region of the spinal cord results in A. increased bladder capacity. B. voluntary micturition. C. continuous dribbling of urine. D. uncontrollable micturition. E. lack of control of internal sphincter.144. In glomerular nephritis, proteins and white blood cells enter the filtrate resulting in A. increased reabsorption of water. B. increased reabsorption of sodium. C. increased secretion of sodium. D. increased urine output. E. decreased urine output.145. Which of the following conditions is characterized by inflammation of the renal medulla? A. pyelonephritis B. acute glomerular nephritis C. chronic glomerular nephritis D. acute renal failure E. chronic renal failure146. Which of the following is NOT an effect of aging on the kidneys? A. decrease in kidney size B. loss of nephrons C. decreased response to hormonal control of urine volume D. a marked decrease in the ability to maintain homeostasis Related Study Materialschapter 24chp. 18chapter 20a&p finalchapter 23lecture test 4 (a&p2)lab exam 3chapter 19chapter 21urinary: labbio review questionsbio 321 final Recent Class Questionsafter her prenatal appointment monica went eat lunch hospital cafeteria which...rotating black holes are predicted to have singularities in the shape of a ____.during the early stage (ejection phase) of ventricular systole ventricular myocardial... \"\n        ],\n        \"semantic_type\": \"\",\n        \"description\": \"\"\n      }\n    }\n  ]\n}"
            }
          },
          "metadata": {},
          "execution_count": 8
        },
        {
          "output_type": "stream",
          "name": "stdout",
          "text": [
            "time: 19 s (started: 2024-03-26 23:02:03 +00:00)\n"
          ]
        }
      ],
      "source": [
        "docs = pd.read_csv('our.msmarco.docs.tsv',sep='\\t',usecols=[1,2,3])\n",
        "docs"
      ]
    },
    {
      "cell_type": "code",
      "execution_count": 9,
      "id": "772a1caf-1c38-4fd8-b819-bbe5f5d287a2",
      "metadata": {
        "id": "772a1caf-1c38-4fd8-b819-bbe5f5d287a2",
        "outputId": "63e506c5-c421-4c15-ee6e-d2ad889bdc7c",
        "colab": {
          "base_uri": "https://localhost:8080/",
          "height": 449
        }
      },
      "outputs": [
        {
          "output_type": "stream",
          "name": "stdout",
          "text": [
            "Shape=> (500, 2)\n"
          ]
        },
        {
          "output_type": "display_data",
          "data": {
            "text/plain": [
              "      qid                                              query\n",
              "0  687888                                      what is a jpe\n",
              "1  480210                         price for asphalt driveway\n",
              "2  591004                 what causes pressure skin bruising\n",
              "3  260536      how long drive from flagstaff to grand canyon\n",
              "4   39422  average number of bowel movements per day for ..."
            ],
            "text/html": [
              "\n",
              "  <div id=\"df-d617a5ad-f10a-481a-80f2-1bbfdc80bf21\" class=\"colab-df-container\">\n",
              "    <div>\n",
              "<style scoped>\n",
              "    .dataframe tbody tr th:only-of-type {\n",
              "        vertical-align: middle;\n",
              "    }\n",
              "\n",
              "    .dataframe tbody tr th {\n",
              "        vertical-align: top;\n",
              "    }\n",
              "\n",
              "    .dataframe thead th {\n",
              "        text-align: right;\n",
              "    }\n",
              "</style>\n",
              "<table border=\"1\" class=\"dataframe\">\n",
              "  <thead>\n",
              "    <tr style=\"text-align: right;\">\n",
              "      <th></th>\n",
              "      <th>qid</th>\n",
              "      <th>query</th>\n",
              "    </tr>\n",
              "  </thead>\n",
              "  <tbody>\n",
              "    <tr>\n",
              "      <th>0</th>\n",
              "      <td>687888</td>\n",
              "      <td>what is a jpe</td>\n",
              "    </tr>\n",
              "    <tr>\n",
              "      <th>1</th>\n",
              "      <td>480210</td>\n",
              "      <td>price for asphalt driveway</td>\n",
              "    </tr>\n",
              "    <tr>\n",
              "      <th>2</th>\n",
              "      <td>591004</td>\n",
              "      <td>what causes pressure skin bruising</td>\n",
              "    </tr>\n",
              "    <tr>\n",
              "      <th>3</th>\n",
              "      <td>260536</td>\n",
              "      <td>how long drive from flagstaff to grand canyon</td>\n",
              "    </tr>\n",
              "    <tr>\n",
              "      <th>4</th>\n",
              "      <td>39422</td>\n",
              "      <td>average number of bowel movements per day for ...</td>\n",
              "    </tr>\n",
              "  </tbody>\n",
              "</table>\n",
              "</div>\n",
              "    <div class=\"colab-df-buttons\">\n",
              "\n",
              "  <div class=\"colab-df-container\">\n",
              "    <button class=\"colab-df-convert\" onclick=\"convertToInteractive('df-d617a5ad-f10a-481a-80f2-1bbfdc80bf21')\"\n",
              "            title=\"Convert this dataframe to an interactive table.\"\n",
              "            style=\"display:none;\">\n",
              "\n",
              "  <svg xmlns=\"http://www.w3.org/2000/svg\" height=\"24px\" viewBox=\"0 -960 960 960\">\n",
              "    <path d=\"M120-120v-720h720v720H120Zm60-500h600v-160H180v160Zm220 220h160v-160H400v160Zm0 220h160v-160H400v160ZM180-400h160v-160H180v160Zm440 0h160v-160H620v160ZM180-180h160v-160H180v160Zm440 0h160v-160H620v160Z\"/>\n",
              "  </svg>\n",
              "    </button>\n",
              "\n",
              "  <style>\n",
              "    .colab-df-container {\n",
              "      display:flex;\n",
              "      gap: 12px;\n",
              "    }\n",
              "\n",
              "    .colab-df-convert {\n",
              "      background-color: #E8F0FE;\n",
              "      border: none;\n",
              "      border-radius: 50%;\n",
              "      cursor: pointer;\n",
              "      display: none;\n",
              "      fill: #1967D2;\n",
              "      height: 32px;\n",
              "      padding: 0 0 0 0;\n",
              "      width: 32px;\n",
              "    }\n",
              "\n",
              "    .colab-df-convert:hover {\n",
              "      background-color: #E2EBFA;\n",
              "      box-shadow: 0px 1px 2px rgba(60, 64, 67, 0.3), 0px 1px 3px 1px rgba(60, 64, 67, 0.15);\n",
              "      fill: #174EA6;\n",
              "    }\n",
              "\n",
              "    .colab-df-buttons div {\n",
              "      margin-bottom: 4px;\n",
              "    }\n",
              "\n",
              "    [theme=dark] .colab-df-convert {\n",
              "      background-color: #3B4455;\n",
              "      fill: #D2E3FC;\n",
              "    }\n",
              "\n",
              "    [theme=dark] .colab-df-convert:hover {\n",
              "      background-color: #434B5C;\n",
              "      box-shadow: 0px 1px 3px 1px rgba(0, 0, 0, 0.15);\n",
              "      filter: drop-shadow(0px 1px 2px rgba(0, 0, 0, 0.3));\n",
              "      fill: #FFFFFF;\n",
              "    }\n",
              "  </style>\n",
              "\n",
              "    <script>\n",
              "      const buttonEl =\n",
              "        document.querySelector('#df-d617a5ad-f10a-481a-80f2-1bbfdc80bf21 button.colab-df-convert');\n",
              "      buttonEl.style.display =\n",
              "        google.colab.kernel.accessAllowed ? 'block' : 'none';\n",
              "\n",
              "      async function convertToInteractive(key) {\n",
              "        const element = document.querySelector('#df-d617a5ad-f10a-481a-80f2-1bbfdc80bf21');\n",
              "        const dataTable =\n",
              "          await google.colab.kernel.invokeFunction('convertToInteractive',\n",
              "                                                    [key], {});\n",
              "        if (!dataTable) return;\n",
              "\n",
              "        const docLinkHtml = 'Like what you see? Visit the ' +\n",
              "          '<a target=\"_blank\" href=https://colab.research.google.com/notebooks/data_table.ipynb>data table notebook</a>'\n",
              "          + ' to learn more about interactive tables.';\n",
              "        element.innerHTML = '';\n",
              "        dataTable['output_type'] = 'display_data';\n",
              "        await google.colab.output.renderOutput(dataTable, element);\n",
              "        const docLink = document.createElement('div');\n",
              "        docLink.innerHTML = docLinkHtml;\n",
              "        element.appendChild(docLink);\n",
              "      }\n",
              "    </script>\n",
              "  </div>\n",
              "\n",
              "\n",
              "<div id=\"df-af957bf1-df47-4017-af79-15a819953c99\">\n",
              "  <button class=\"colab-df-quickchart\" onclick=\"quickchart('df-af957bf1-df47-4017-af79-15a819953c99')\"\n",
              "            title=\"Suggest charts\"\n",
              "            style=\"display:none;\">\n",
              "\n",
              "<svg xmlns=\"http://www.w3.org/2000/svg\" height=\"24px\"viewBox=\"0 0 24 24\"\n",
              "     width=\"24px\">\n",
              "    <g>\n",
              "        <path d=\"M19 3H5c-1.1 0-2 .9-2 2v14c0 1.1.9 2 2 2h14c1.1 0 2-.9 2-2V5c0-1.1-.9-2-2-2zM9 17H7v-7h2v7zm4 0h-2V7h2v10zm4 0h-2v-4h2v4z\"/>\n",
              "    </g>\n",
              "</svg>\n",
              "  </button>\n",
              "\n",
              "<style>\n",
              "  .colab-df-quickchart {\n",
              "      --bg-color: #E8F0FE;\n",
              "      --fill-color: #1967D2;\n",
              "      --hover-bg-color: #E2EBFA;\n",
              "      --hover-fill-color: #174EA6;\n",
              "      --disabled-fill-color: #AAA;\n",
              "      --disabled-bg-color: #DDD;\n",
              "  }\n",
              "\n",
              "  [theme=dark] .colab-df-quickchart {\n",
              "      --bg-color: #3B4455;\n",
              "      --fill-color: #D2E3FC;\n",
              "      --hover-bg-color: #434B5C;\n",
              "      --hover-fill-color: #FFFFFF;\n",
              "      --disabled-bg-color: #3B4455;\n",
              "      --disabled-fill-color: #666;\n",
              "  }\n",
              "\n",
              "  .colab-df-quickchart {\n",
              "    background-color: var(--bg-color);\n",
              "    border: none;\n",
              "    border-radius: 50%;\n",
              "    cursor: pointer;\n",
              "    display: none;\n",
              "    fill: var(--fill-color);\n",
              "    height: 32px;\n",
              "    padding: 0;\n",
              "    width: 32px;\n",
              "  }\n",
              "\n",
              "  .colab-df-quickchart:hover {\n",
              "    background-color: var(--hover-bg-color);\n",
              "    box-shadow: 0 1px 2px rgba(60, 64, 67, 0.3), 0 1px 3px 1px rgba(60, 64, 67, 0.15);\n",
              "    fill: var(--button-hover-fill-color);\n",
              "  }\n",
              "\n",
              "  .colab-df-quickchart-complete:disabled,\n",
              "  .colab-df-quickchart-complete:disabled:hover {\n",
              "    background-color: var(--disabled-bg-color);\n",
              "    fill: var(--disabled-fill-color);\n",
              "    box-shadow: none;\n",
              "  }\n",
              "\n",
              "  .colab-df-spinner {\n",
              "    border: 2px solid var(--fill-color);\n",
              "    border-color: transparent;\n",
              "    border-bottom-color: var(--fill-color);\n",
              "    animation:\n",
              "      spin 1s steps(1) infinite;\n",
              "  }\n",
              "\n",
              "  @keyframes spin {\n",
              "    0% {\n",
              "      border-color: transparent;\n",
              "      border-bottom-color: var(--fill-color);\n",
              "      border-left-color: var(--fill-color);\n",
              "    }\n",
              "    20% {\n",
              "      border-color: transparent;\n",
              "      border-left-color: var(--fill-color);\n",
              "      border-top-color: var(--fill-color);\n",
              "    }\n",
              "    30% {\n",
              "      border-color: transparent;\n",
              "      border-left-color: var(--fill-color);\n",
              "      border-top-color: var(--fill-color);\n",
              "      border-right-color: var(--fill-color);\n",
              "    }\n",
              "    40% {\n",
              "      border-color: transparent;\n",
              "      border-right-color: var(--fill-color);\n",
              "      border-top-color: var(--fill-color);\n",
              "    }\n",
              "    60% {\n",
              "      border-color: transparent;\n",
              "      border-right-color: var(--fill-color);\n",
              "    }\n",
              "    80% {\n",
              "      border-color: transparent;\n",
              "      border-right-color: var(--fill-color);\n",
              "      border-bottom-color: var(--fill-color);\n",
              "    }\n",
              "    90% {\n",
              "      border-color: transparent;\n",
              "      border-bottom-color: var(--fill-color);\n",
              "    }\n",
              "  }\n",
              "</style>\n",
              "\n",
              "  <script>\n",
              "    async function quickchart(key) {\n",
              "      const quickchartButtonEl =\n",
              "        document.querySelector('#' + key + ' button');\n",
              "      quickchartButtonEl.disabled = true;  // To prevent multiple clicks.\n",
              "      quickchartButtonEl.classList.add('colab-df-spinner');\n",
              "      try {\n",
              "        const charts = await google.colab.kernel.invokeFunction(\n",
              "            'suggestCharts', [key], {});\n",
              "      } catch (error) {\n",
              "        console.error('Error during call to suggestCharts:', error);\n",
              "      }\n",
              "      quickchartButtonEl.classList.remove('colab-df-spinner');\n",
              "      quickchartButtonEl.classList.add('colab-df-quickchart-complete');\n",
              "    }\n",
              "    (() => {\n",
              "      let quickchartButtonEl =\n",
              "        document.querySelector('#df-af957bf1-df47-4017-af79-15a819953c99 button');\n",
              "      quickchartButtonEl.style.display =\n",
              "        google.colab.kernel.accessAllowed ? 'block' : 'none';\n",
              "    })();\n",
              "  </script>\n",
              "</div>\n",
              "    </div>\n",
              "  </div>\n"
            ],
            "application/vnd.google.colaboratory.intrinsic+json": {
              "type": "dataframe",
              "summary": "{\n  \"name\": \"testing_queries\",\n  \"rows\": 5,\n  \"fields\": [\n    {\n      \"column\": \"qid\",\n      \"properties\": {\n        \"dtype\": \"number\",\n        \"std\": 261994,\n        \"min\": 39422,\n        \"max\": 687888,\n        \"num_unique_values\": 5,\n        \"samples\": [\n          480210,\n          39422,\n          591004\n        ],\n        \"semantic_type\": \"\",\n        \"description\": \"\"\n      }\n    },\n    {\n      \"column\": \"query\",\n      \"properties\": {\n        \"dtype\": \"string\",\n        \"num_unique_values\": 5,\n        \"samples\": [\n          \"price for asphalt driveway\",\n          \"average number of bowel movements per day for adults\",\n          \"what causes pressure skin bruising\"\n        ],\n        \"semantic_type\": \"\",\n        \"description\": \"\"\n      }\n    }\n  ]\n}"
            }
          },
          "metadata": {}
        },
        {
          "output_type": "stream",
          "name": "stdout",
          "text": [
            "Shape=> (500, 2)\n"
          ]
        },
        {
          "output_type": "execute_result",
          "data": {
            "text/plain": [
              "         qid                                        query\n",
              "500   116364                       decree verb definition\n",
              "501   638813                 what does hemiballistic mean\n",
              "502   401631                 is advil considered aspirin?\n",
              "503  1050265  who sang the song midnight train to georgia\n",
              "504   632336               what does aq mean in chemistry"
            ],
            "text/html": [
              "\n",
              "  <div id=\"df-bef76039-6c50-4dcb-9e19-a45690be41bb\" class=\"colab-df-container\">\n",
              "    <div>\n",
              "<style scoped>\n",
              "    .dataframe tbody tr th:only-of-type {\n",
              "        vertical-align: middle;\n",
              "    }\n",
              "\n",
              "    .dataframe tbody tr th {\n",
              "        vertical-align: top;\n",
              "    }\n",
              "\n",
              "    .dataframe thead th {\n",
              "        text-align: right;\n",
              "    }\n",
              "</style>\n",
              "<table border=\"1\" class=\"dataframe\">\n",
              "  <thead>\n",
              "    <tr style=\"text-align: right;\">\n",
              "      <th></th>\n",
              "      <th>qid</th>\n",
              "      <th>query</th>\n",
              "    </tr>\n",
              "  </thead>\n",
              "  <tbody>\n",
              "    <tr>\n",
              "      <th>500</th>\n",
              "      <td>116364</td>\n",
              "      <td>decree verb definition</td>\n",
              "    </tr>\n",
              "    <tr>\n",
              "      <th>501</th>\n",
              "      <td>638813</td>\n",
              "      <td>what does hemiballistic mean</td>\n",
              "    </tr>\n",
              "    <tr>\n",
              "      <th>502</th>\n",
              "      <td>401631</td>\n",
              "      <td>is advil considered aspirin?</td>\n",
              "    </tr>\n",
              "    <tr>\n",
              "      <th>503</th>\n",
              "      <td>1050265</td>\n",
              "      <td>who sang the song midnight train to georgia</td>\n",
              "    </tr>\n",
              "    <tr>\n",
              "      <th>504</th>\n",
              "      <td>632336</td>\n",
              "      <td>what does aq mean in chemistry</td>\n",
              "    </tr>\n",
              "  </tbody>\n",
              "</table>\n",
              "</div>\n",
              "    <div class=\"colab-df-buttons\">\n",
              "\n",
              "  <div class=\"colab-df-container\">\n",
              "    <button class=\"colab-df-convert\" onclick=\"convertToInteractive('df-bef76039-6c50-4dcb-9e19-a45690be41bb')\"\n",
              "            title=\"Convert this dataframe to an interactive table.\"\n",
              "            style=\"display:none;\">\n",
              "\n",
              "  <svg xmlns=\"http://www.w3.org/2000/svg\" height=\"24px\" viewBox=\"0 -960 960 960\">\n",
              "    <path d=\"M120-120v-720h720v720H120Zm60-500h600v-160H180v160Zm220 220h160v-160H400v160Zm0 220h160v-160H400v160ZM180-400h160v-160H180v160Zm440 0h160v-160H620v160ZM180-180h160v-160H180v160Zm440 0h160v-160H620v160Z\"/>\n",
              "  </svg>\n",
              "    </button>\n",
              "\n",
              "  <style>\n",
              "    .colab-df-container {\n",
              "      display:flex;\n",
              "      gap: 12px;\n",
              "    }\n",
              "\n",
              "    .colab-df-convert {\n",
              "      background-color: #E8F0FE;\n",
              "      border: none;\n",
              "      border-radius: 50%;\n",
              "      cursor: pointer;\n",
              "      display: none;\n",
              "      fill: #1967D2;\n",
              "      height: 32px;\n",
              "      padding: 0 0 0 0;\n",
              "      width: 32px;\n",
              "    }\n",
              "\n",
              "    .colab-df-convert:hover {\n",
              "      background-color: #E2EBFA;\n",
              "      box-shadow: 0px 1px 2px rgba(60, 64, 67, 0.3), 0px 1px 3px 1px rgba(60, 64, 67, 0.15);\n",
              "      fill: #174EA6;\n",
              "    }\n",
              "\n",
              "    .colab-df-buttons div {\n",
              "      margin-bottom: 4px;\n",
              "    }\n",
              "\n",
              "    [theme=dark] .colab-df-convert {\n",
              "      background-color: #3B4455;\n",
              "      fill: #D2E3FC;\n",
              "    }\n",
              "\n",
              "    [theme=dark] .colab-df-convert:hover {\n",
              "      background-color: #434B5C;\n",
              "      box-shadow: 0px 1px 3px 1px rgba(0, 0, 0, 0.15);\n",
              "      filter: drop-shadow(0px 1px 2px rgba(0, 0, 0, 0.3));\n",
              "      fill: #FFFFFF;\n",
              "    }\n",
              "  </style>\n",
              "\n",
              "    <script>\n",
              "      const buttonEl =\n",
              "        document.querySelector('#df-bef76039-6c50-4dcb-9e19-a45690be41bb button.colab-df-convert');\n",
              "      buttonEl.style.display =\n",
              "        google.colab.kernel.accessAllowed ? 'block' : 'none';\n",
              "\n",
              "      async function convertToInteractive(key) {\n",
              "        const element = document.querySelector('#df-bef76039-6c50-4dcb-9e19-a45690be41bb');\n",
              "        const dataTable =\n",
              "          await google.colab.kernel.invokeFunction('convertToInteractive',\n",
              "                                                    [key], {});\n",
              "        if (!dataTable) return;\n",
              "\n",
              "        const docLinkHtml = 'Like what you see? Visit the ' +\n",
              "          '<a target=\"_blank\" href=https://colab.research.google.com/notebooks/data_table.ipynb>data table notebook</a>'\n",
              "          + ' to learn more about interactive tables.';\n",
              "        element.innerHTML = '';\n",
              "        dataTable['output_type'] = 'display_data';\n",
              "        await google.colab.output.renderOutput(dataTable, element);\n",
              "        const docLink = document.createElement('div');\n",
              "        docLink.innerHTML = docLinkHtml;\n",
              "        element.appendChild(docLink);\n",
              "      }\n",
              "    </script>\n",
              "  </div>\n",
              "\n",
              "\n",
              "<div id=\"df-95b1f479-bdf7-4b2c-b88d-516774964679\">\n",
              "  <button class=\"colab-df-quickchart\" onclick=\"quickchart('df-95b1f479-bdf7-4b2c-b88d-516774964679')\"\n",
              "            title=\"Suggest charts\"\n",
              "            style=\"display:none;\">\n",
              "\n",
              "<svg xmlns=\"http://www.w3.org/2000/svg\" height=\"24px\"viewBox=\"0 0 24 24\"\n",
              "     width=\"24px\">\n",
              "    <g>\n",
              "        <path d=\"M19 3H5c-1.1 0-2 .9-2 2v14c0 1.1.9 2 2 2h14c1.1 0 2-.9 2-2V5c0-1.1-.9-2-2-2zM9 17H7v-7h2v7zm4 0h-2V7h2v10zm4 0h-2v-4h2v4z\"/>\n",
              "    </g>\n",
              "</svg>\n",
              "  </button>\n",
              "\n",
              "<style>\n",
              "  .colab-df-quickchart {\n",
              "      --bg-color: #E8F0FE;\n",
              "      --fill-color: #1967D2;\n",
              "      --hover-bg-color: #E2EBFA;\n",
              "      --hover-fill-color: #174EA6;\n",
              "      --disabled-fill-color: #AAA;\n",
              "      --disabled-bg-color: #DDD;\n",
              "  }\n",
              "\n",
              "  [theme=dark] .colab-df-quickchart {\n",
              "      --bg-color: #3B4455;\n",
              "      --fill-color: #D2E3FC;\n",
              "      --hover-bg-color: #434B5C;\n",
              "      --hover-fill-color: #FFFFFF;\n",
              "      --disabled-bg-color: #3B4455;\n",
              "      --disabled-fill-color: #666;\n",
              "  }\n",
              "\n",
              "  .colab-df-quickchart {\n",
              "    background-color: var(--bg-color);\n",
              "    border: none;\n",
              "    border-radius: 50%;\n",
              "    cursor: pointer;\n",
              "    display: none;\n",
              "    fill: var(--fill-color);\n",
              "    height: 32px;\n",
              "    padding: 0;\n",
              "    width: 32px;\n",
              "  }\n",
              "\n",
              "  .colab-df-quickchart:hover {\n",
              "    background-color: var(--hover-bg-color);\n",
              "    box-shadow: 0 1px 2px rgba(60, 64, 67, 0.3), 0 1px 3px 1px rgba(60, 64, 67, 0.15);\n",
              "    fill: var(--button-hover-fill-color);\n",
              "  }\n",
              "\n",
              "  .colab-df-quickchart-complete:disabled,\n",
              "  .colab-df-quickchart-complete:disabled:hover {\n",
              "    background-color: var(--disabled-bg-color);\n",
              "    fill: var(--disabled-fill-color);\n",
              "    box-shadow: none;\n",
              "  }\n",
              "\n",
              "  .colab-df-spinner {\n",
              "    border: 2px solid var(--fill-color);\n",
              "    border-color: transparent;\n",
              "    border-bottom-color: var(--fill-color);\n",
              "    animation:\n",
              "      spin 1s steps(1) infinite;\n",
              "  }\n",
              "\n",
              "  @keyframes spin {\n",
              "    0% {\n",
              "      border-color: transparent;\n",
              "      border-bottom-color: var(--fill-color);\n",
              "      border-left-color: var(--fill-color);\n",
              "    }\n",
              "    20% {\n",
              "      border-color: transparent;\n",
              "      border-left-color: var(--fill-color);\n",
              "      border-top-color: var(--fill-color);\n",
              "    }\n",
              "    30% {\n",
              "      border-color: transparent;\n",
              "      border-left-color: var(--fill-color);\n",
              "      border-top-color: var(--fill-color);\n",
              "      border-right-color: var(--fill-color);\n",
              "    }\n",
              "    40% {\n",
              "      border-color: transparent;\n",
              "      border-right-color: var(--fill-color);\n",
              "      border-top-color: var(--fill-color);\n",
              "    }\n",
              "    60% {\n",
              "      border-color: transparent;\n",
              "      border-right-color: var(--fill-color);\n",
              "    }\n",
              "    80% {\n",
              "      border-color: transparent;\n",
              "      border-right-color: var(--fill-color);\n",
              "      border-bottom-color: var(--fill-color);\n",
              "    }\n",
              "    90% {\n",
              "      border-color: transparent;\n",
              "      border-bottom-color: var(--fill-color);\n",
              "    }\n",
              "  }\n",
              "</style>\n",
              "\n",
              "  <script>\n",
              "    async function quickchart(key) {\n",
              "      const quickchartButtonEl =\n",
              "        document.querySelector('#' + key + ' button');\n",
              "      quickchartButtonEl.disabled = true;  // To prevent multiple clicks.\n",
              "      quickchartButtonEl.classList.add('colab-df-spinner');\n",
              "      try {\n",
              "        const charts = await google.colab.kernel.invokeFunction(\n",
              "            'suggestCharts', [key], {});\n",
              "      } catch (error) {\n",
              "        console.error('Error during call to suggestCharts:', error);\n",
              "      }\n",
              "      quickchartButtonEl.classList.remove('colab-df-spinner');\n",
              "      quickchartButtonEl.classList.add('colab-df-quickchart-complete');\n",
              "    }\n",
              "    (() => {\n",
              "      let quickchartButtonEl =\n",
              "        document.querySelector('#df-95b1f479-bdf7-4b2c-b88d-516774964679 button');\n",
              "      quickchartButtonEl.style.display =\n",
              "        google.colab.kernel.accessAllowed ? 'block' : 'none';\n",
              "    })();\n",
              "  </script>\n",
              "</div>\n",
              "    </div>\n",
              "  </div>\n"
            ],
            "application/vnd.google.colaboratory.intrinsic+json": {
              "type": "dataframe",
              "variable_name": "testing_queries",
              "summary": "{\n  \"name\": \"testing_queries\",\n  \"rows\": 500,\n  \"fields\": [\n    {\n      \"column\": \"qid\",\n      \"properties\": {\n        \"dtype\": \"number\",\n        \"std\": 328401,\n        \"min\": 2462,\n        \"max\": 1185864,\n        \"num_unique_values\": 500,\n        \"samples\": [\n          483397,\n          974252,\n          56543\n        ],\n        \"semantic_type\": \"\",\n        \"description\": \"\"\n      }\n    },\n    {\n      \"column\": \"query\",\n      \"properties\": {\n        \"dtype\": \"string\",\n        \"num_unique_values\": 500,\n        \"samples\": [\n          \"provoker definition\",\n          \"where does the exchange of gases take place in the lungs?\",\n          \"brome definition\"\n        ],\n        \"semantic_type\": \"\",\n        \"description\": \"\"\n      }\n    }\n  ]\n}"
            }
          },
          "metadata": {},
          "execution_count": 9
        },
        {
          "output_type": "stream",
          "name": "stdout",
          "text": [
            "time: 23.6 ms (started: 2024-03-26 23:02:44 +00:00)\n"
          ]
        }
      ],
      "source": [
        "# Creating Training Set of Queries\n",
        "training_queries=queries.iloc[:500]\n",
        "print('Shape=>',training_queries.shape)\n",
        "display(training_queries.head())\n",
        "# Creating Testing Set of Queries\n",
        "testing_queries=queries.iloc[500:]\n",
        "print('Shape=>',testing_queries.shape)\n",
        "testing_queries.head()"
      ]
    },
    {
      "cell_type": "markdown",
      "id": "35de36db-e7e1-4eb4-9589-033a9cfd6d9c",
      "metadata": {
        "id": "35de36db-e7e1-4eb4-9589-033a9cfd6d9c"
      },
      "source": [
        "## exploring the data"
      ]
    },
    {
      "cell_type": "markdown",
      "id": "13879e33-fe7e-4a72-9beb-26c6a47e28fc",
      "metadata": {
        "id": "13879e33-fe7e-4a72-9beb-26c6a47e28fc"
      },
      "source": [
        "### 🚧 todo: check whether there are NaN and take care of them"
      ]
    },
    {
      "cell_type": "code",
      "execution_count": 10,
      "id": "7db2e10b-572a-4bc8-bc49-1c85d5130ffa",
      "metadata": {
        "id": "7db2e10b-572a-4bc8-bc49-1c85d5130ffa",
        "colab": {
          "base_uri": "https://localhost:8080/"
        },
        "outputId": "6fe027a9-d519-4785-c5a8-2ef5f5d9157e"
      },
      "outputs": [
        {
          "output_type": "stream",
          "name": "stdout",
          "text": [
            "There are 0 NaN query in df.queries\n",
            "There are 0 NaN score in df.golds\n",
            "There are 372 NaN title and 3 NaN body in df.docs\n",
            "time: 27.3 ms (started: 2024-03-26 23:02:49 +00:00)\n"
          ]
        }
      ],
      "source": [
        "#... isna\n",
        "\n",
        "print(f'There are {np.sum(queries[\"query\"].isna())} NaN query in df.queries')\n",
        "\n",
        "\n",
        "print(f'There are {np.sum(gold[\"score\"].isna())} NaN score in df.golds')\n",
        "print(f'There are {np.sum(docs[\"title\"].isna())} NaN title and {np.sum(docs[\"body\"].isna())} NaN body in df.docs')\n"
      ]
    },
    {
      "cell_type": "code",
      "execution_count": 11,
      "id": "a5ef8426-b88b-44fc-b4bf-a43931215ee4",
      "metadata": {
        "id": "a5ef8426-b88b-44fc-b4bf-a43931215ee4",
        "colab": {
          "base_uri": "https://localhost:8080/"
        },
        "outputId": "2984ccba-cba0-4a7b-ec01-17f35c11dc95"
      },
      "outputs": [
        {
          "output_type": "stream",
          "name": "stdout",
          "text": [
            "time: 27.9 ms (started: 2024-03-26 23:02:51 +00:00)\n"
          ]
        }
      ],
      "source": [
        "# ... fillna\n",
        "docs[\"title\"].fillna(\"NAN\",inplace=True)\n",
        "docs[\"body\"].fillna(\"NAN\",inplace=True)"
      ]
    },
    {
      "cell_type": "code",
      "execution_count": null,
      "id": "a2119d7e-9825-446f-973d-bfa0d95a643f",
      "metadata": {
        "id": "a2119d7e-9825-446f-973d-bfa0d95a643f"
      },
      "outputs": [],
      "source": []
    },
    {
      "cell_type": "markdown",
      "id": "a3ad0b40-55ff-4259-a612-0a5709cca349",
      "metadata": {
        "id": "a3ad0b40-55ff-4259-a612-0a5709cca349"
      },
      "source": [
        "### let's have a look at some random query:"
      ]
    },
    {
      "cell_type": "code",
      "execution_count": 12,
      "id": "ed9c9a83-c3dd-483c-a190-9bd4ba8119e5",
      "metadata": {
        "id": "ed9c9a83-c3dd-483c-a190-9bd4ba8119e5",
        "outputId": "109f9cad-d415-40ce-bb9d-b7812d9e3990",
        "colab": {
          "base_uri": "https://localhost:8080/"
        }
      },
      "outputs": [
        {
          "output_type": "execute_result",
          "data": {
            "text/plain": [
              "qid                                      251898\n",
              "query    how long does getting a doctorate take\n",
              "Name: 111, dtype: object"
            ]
          },
          "metadata": {},
          "execution_count": 12
        },
        {
          "output_type": "stream",
          "name": "stdout",
          "text": [
            "time: 5.31 ms (started: 2024-03-26 23:02:58 +00:00)\n"
          ]
        }
      ],
      "source": [
        "queries.loc[111]"
      ]
    },
    {
      "cell_type": "code",
      "execution_count": 13,
      "id": "2fb82a23-84e5-4ba1-9f2e-38c6f8b4bae6",
      "metadata": {
        "id": "2fb82a23-84e5-4ba1-9f2e-38c6f8b4bae6",
        "outputId": "b7562449-531c-48de-d612-844bafe00789",
        "colab": {
          "base_uri": "https://localhost:8080/",
          "height": 442
        }
      },
      "outputs": [
        {
          "output_type": "execute_result",
          "data": {
            "text/plain": [
              "          qid     docid  rank    score\n",
              "36200  251898  D2865964     1 -4.74293\n",
              "36201  251898  D3557816     2 -4.90695\n",
              "36202  251898  D2723985     3 -4.95911\n",
              "36203  251898  D1951655     4 -4.97272\n",
              "36204  251898  D1709749     5 -5.02176\n",
              "...       ...       ...   ...      ...\n",
              "36295  251898  D2531901    96 -5.56896\n",
              "36296  251898  D2956542    97 -5.57138\n",
              "36297  251898   D301873    98 -5.57262\n",
              "36298  251898  D2952336    99 -5.57504\n",
              "36299  251898  D1805809   100 -5.57544\n",
              "\n",
              "[100 rows x 4 columns]"
            ],
            "text/html": [
              "\n",
              "  <div id=\"df-ad4c7dd3-14c9-4144-9846-1e46b2ffe16c\" class=\"colab-df-container\">\n",
              "    <div>\n",
              "<style scoped>\n",
              "    .dataframe tbody tr th:only-of-type {\n",
              "        vertical-align: middle;\n",
              "    }\n",
              "\n",
              "    .dataframe tbody tr th {\n",
              "        vertical-align: top;\n",
              "    }\n",
              "\n",
              "    .dataframe thead th {\n",
              "        text-align: right;\n",
              "    }\n",
              "</style>\n",
              "<table border=\"1\" class=\"dataframe\">\n",
              "  <thead>\n",
              "    <tr style=\"text-align: right;\">\n",
              "      <th></th>\n",
              "      <th>qid</th>\n",
              "      <th>docid</th>\n",
              "      <th>rank</th>\n",
              "      <th>score</th>\n",
              "    </tr>\n",
              "  </thead>\n",
              "  <tbody>\n",
              "    <tr>\n",
              "      <th>36200</th>\n",
              "      <td>251898</td>\n",
              "      <td>D2865964</td>\n",
              "      <td>1</td>\n",
              "      <td>-4.74293</td>\n",
              "    </tr>\n",
              "    <tr>\n",
              "      <th>36201</th>\n",
              "      <td>251898</td>\n",
              "      <td>D3557816</td>\n",
              "      <td>2</td>\n",
              "      <td>-4.90695</td>\n",
              "    </tr>\n",
              "    <tr>\n",
              "      <th>36202</th>\n",
              "      <td>251898</td>\n",
              "      <td>D2723985</td>\n",
              "      <td>3</td>\n",
              "      <td>-4.95911</td>\n",
              "    </tr>\n",
              "    <tr>\n",
              "      <th>36203</th>\n",
              "      <td>251898</td>\n",
              "      <td>D1951655</td>\n",
              "      <td>4</td>\n",
              "      <td>-4.97272</td>\n",
              "    </tr>\n",
              "    <tr>\n",
              "      <th>36204</th>\n",
              "      <td>251898</td>\n",
              "      <td>D1709749</td>\n",
              "      <td>5</td>\n",
              "      <td>-5.02176</td>\n",
              "    </tr>\n",
              "    <tr>\n",
              "      <th>...</th>\n",
              "      <td>...</td>\n",
              "      <td>...</td>\n",
              "      <td>...</td>\n",
              "      <td>...</td>\n",
              "    </tr>\n",
              "    <tr>\n",
              "      <th>36295</th>\n",
              "      <td>251898</td>\n",
              "      <td>D2531901</td>\n",
              "      <td>96</td>\n",
              "      <td>-5.56896</td>\n",
              "    </tr>\n",
              "    <tr>\n",
              "      <th>36296</th>\n",
              "      <td>251898</td>\n",
              "      <td>D2956542</td>\n",
              "      <td>97</td>\n",
              "      <td>-5.57138</td>\n",
              "    </tr>\n",
              "    <tr>\n",
              "      <th>36297</th>\n",
              "      <td>251898</td>\n",
              "      <td>D301873</td>\n",
              "      <td>98</td>\n",
              "      <td>-5.57262</td>\n",
              "    </tr>\n",
              "    <tr>\n",
              "      <th>36298</th>\n",
              "      <td>251898</td>\n",
              "      <td>D2952336</td>\n",
              "      <td>99</td>\n",
              "      <td>-5.57504</td>\n",
              "    </tr>\n",
              "    <tr>\n",
              "      <th>36299</th>\n",
              "      <td>251898</td>\n",
              "      <td>D1805809</td>\n",
              "      <td>100</td>\n",
              "      <td>-5.57544</td>\n",
              "    </tr>\n",
              "  </tbody>\n",
              "</table>\n",
              "<p>100 rows × 4 columns</p>\n",
              "</div>\n",
              "    <div class=\"colab-df-buttons\">\n",
              "\n",
              "  <div class=\"colab-df-container\">\n",
              "    <button class=\"colab-df-convert\" onclick=\"convertToInteractive('df-ad4c7dd3-14c9-4144-9846-1e46b2ffe16c')\"\n",
              "            title=\"Convert this dataframe to an interactive table.\"\n",
              "            style=\"display:none;\">\n",
              "\n",
              "  <svg xmlns=\"http://www.w3.org/2000/svg\" height=\"24px\" viewBox=\"0 -960 960 960\">\n",
              "    <path d=\"M120-120v-720h720v720H120Zm60-500h600v-160H180v160Zm220 220h160v-160H400v160Zm0 220h160v-160H400v160ZM180-400h160v-160H180v160Zm440 0h160v-160H620v160ZM180-180h160v-160H180v160Zm440 0h160v-160H620v160Z\"/>\n",
              "  </svg>\n",
              "    </button>\n",
              "\n",
              "  <style>\n",
              "    .colab-df-container {\n",
              "      display:flex;\n",
              "      gap: 12px;\n",
              "    }\n",
              "\n",
              "    .colab-df-convert {\n",
              "      background-color: #E8F0FE;\n",
              "      border: none;\n",
              "      border-radius: 50%;\n",
              "      cursor: pointer;\n",
              "      display: none;\n",
              "      fill: #1967D2;\n",
              "      height: 32px;\n",
              "      padding: 0 0 0 0;\n",
              "      width: 32px;\n",
              "    }\n",
              "\n",
              "    .colab-df-convert:hover {\n",
              "      background-color: #E2EBFA;\n",
              "      box-shadow: 0px 1px 2px rgba(60, 64, 67, 0.3), 0px 1px 3px 1px rgba(60, 64, 67, 0.15);\n",
              "      fill: #174EA6;\n",
              "    }\n",
              "\n",
              "    .colab-df-buttons div {\n",
              "      margin-bottom: 4px;\n",
              "    }\n",
              "\n",
              "    [theme=dark] .colab-df-convert {\n",
              "      background-color: #3B4455;\n",
              "      fill: #D2E3FC;\n",
              "    }\n",
              "\n",
              "    [theme=dark] .colab-df-convert:hover {\n",
              "      background-color: #434B5C;\n",
              "      box-shadow: 0px 1px 3px 1px rgba(0, 0, 0, 0.15);\n",
              "      filter: drop-shadow(0px 1px 2px rgba(0, 0, 0, 0.3));\n",
              "      fill: #FFFFFF;\n",
              "    }\n",
              "  </style>\n",
              "\n",
              "    <script>\n",
              "      const buttonEl =\n",
              "        document.querySelector('#df-ad4c7dd3-14c9-4144-9846-1e46b2ffe16c button.colab-df-convert');\n",
              "      buttonEl.style.display =\n",
              "        google.colab.kernel.accessAllowed ? 'block' : 'none';\n",
              "\n",
              "      async function convertToInteractive(key) {\n",
              "        const element = document.querySelector('#df-ad4c7dd3-14c9-4144-9846-1e46b2ffe16c');\n",
              "        const dataTable =\n",
              "          await google.colab.kernel.invokeFunction('convertToInteractive',\n",
              "                                                    [key], {});\n",
              "        if (!dataTable) return;\n",
              "\n",
              "        const docLinkHtml = 'Like what you see? Visit the ' +\n",
              "          '<a target=\"_blank\" href=https://colab.research.google.com/notebooks/data_table.ipynb>data table notebook</a>'\n",
              "          + ' to learn more about interactive tables.';\n",
              "        element.innerHTML = '';\n",
              "        dataTable['output_type'] = 'display_data';\n",
              "        await google.colab.output.renderOutput(dataTable, element);\n",
              "        const docLink = document.createElement('div');\n",
              "        docLink.innerHTML = docLinkHtml;\n",
              "        element.appendChild(docLink);\n",
              "      }\n",
              "    </script>\n",
              "  </div>\n",
              "\n",
              "\n",
              "<div id=\"df-09592059-3d24-4492-b632-7c9a9fd593e8\">\n",
              "  <button class=\"colab-df-quickchart\" onclick=\"quickchart('df-09592059-3d24-4492-b632-7c9a9fd593e8')\"\n",
              "            title=\"Suggest charts\"\n",
              "            style=\"display:none;\">\n",
              "\n",
              "<svg xmlns=\"http://www.w3.org/2000/svg\" height=\"24px\"viewBox=\"0 0 24 24\"\n",
              "     width=\"24px\">\n",
              "    <g>\n",
              "        <path d=\"M19 3H5c-1.1 0-2 .9-2 2v14c0 1.1.9 2 2 2h14c1.1 0 2-.9 2-2V5c0-1.1-.9-2-2-2zM9 17H7v-7h2v7zm4 0h-2V7h2v10zm4 0h-2v-4h2v4z\"/>\n",
              "    </g>\n",
              "</svg>\n",
              "  </button>\n",
              "\n",
              "<style>\n",
              "  .colab-df-quickchart {\n",
              "      --bg-color: #E8F0FE;\n",
              "      --fill-color: #1967D2;\n",
              "      --hover-bg-color: #E2EBFA;\n",
              "      --hover-fill-color: #174EA6;\n",
              "      --disabled-fill-color: #AAA;\n",
              "      --disabled-bg-color: #DDD;\n",
              "  }\n",
              "\n",
              "  [theme=dark] .colab-df-quickchart {\n",
              "      --bg-color: #3B4455;\n",
              "      --fill-color: #D2E3FC;\n",
              "      --hover-bg-color: #434B5C;\n",
              "      --hover-fill-color: #FFFFFF;\n",
              "      --disabled-bg-color: #3B4455;\n",
              "      --disabled-fill-color: #666;\n",
              "  }\n",
              "\n",
              "  .colab-df-quickchart {\n",
              "    background-color: var(--bg-color);\n",
              "    border: none;\n",
              "    border-radius: 50%;\n",
              "    cursor: pointer;\n",
              "    display: none;\n",
              "    fill: var(--fill-color);\n",
              "    height: 32px;\n",
              "    padding: 0;\n",
              "    width: 32px;\n",
              "  }\n",
              "\n",
              "  .colab-df-quickchart:hover {\n",
              "    background-color: var(--hover-bg-color);\n",
              "    box-shadow: 0 1px 2px rgba(60, 64, 67, 0.3), 0 1px 3px 1px rgba(60, 64, 67, 0.15);\n",
              "    fill: var(--button-hover-fill-color);\n",
              "  }\n",
              "\n",
              "  .colab-df-quickchart-complete:disabled,\n",
              "  .colab-df-quickchart-complete:disabled:hover {\n",
              "    background-color: var(--disabled-bg-color);\n",
              "    fill: var(--disabled-fill-color);\n",
              "    box-shadow: none;\n",
              "  }\n",
              "\n",
              "  .colab-df-spinner {\n",
              "    border: 2px solid var(--fill-color);\n",
              "    border-color: transparent;\n",
              "    border-bottom-color: var(--fill-color);\n",
              "    animation:\n",
              "      spin 1s steps(1) infinite;\n",
              "  }\n",
              "\n",
              "  @keyframes spin {\n",
              "    0% {\n",
              "      border-color: transparent;\n",
              "      border-bottom-color: var(--fill-color);\n",
              "      border-left-color: var(--fill-color);\n",
              "    }\n",
              "    20% {\n",
              "      border-color: transparent;\n",
              "      border-left-color: var(--fill-color);\n",
              "      border-top-color: var(--fill-color);\n",
              "    }\n",
              "    30% {\n",
              "      border-color: transparent;\n",
              "      border-left-color: var(--fill-color);\n",
              "      border-top-color: var(--fill-color);\n",
              "      border-right-color: var(--fill-color);\n",
              "    }\n",
              "    40% {\n",
              "      border-color: transparent;\n",
              "      border-right-color: var(--fill-color);\n",
              "      border-top-color: var(--fill-color);\n",
              "    }\n",
              "    60% {\n",
              "      border-color: transparent;\n",
              "      border-right-color: var(--fill-color);\n",
              "    }\n",
              "    80% {\n",
              "      border-color: transparent;\n",
              "      border-right-color: var(--fill-color);\n",
              "      border-bottom-color: var(--fill-color);\n",
              "    }\n",
              "    90% {\n",
              "      border-color: transparent;\n",
              "      border-bottom-color: var(--fill-color);\n",
              "    }\n",
              "  }\n",
              "</style>\n",
              "\n",
              "  <script>\n",
              "    async function quickchart(key) {\n",
              "      const quickchartButtonEl =\n",
              "        document.querySelector('#' + key + ' button');\n",
              "      quickchartButtonEl.disabled = true;  // To prevent multiple clicks.\n",
              "      quickchartButtonEl.classList.add('colab-df-spinner');\n",
              "      try {\n",
              "        const charts = await google.colab.kernel.invokeFunction(\n",
              "            'suggestCharts', [key], {});\n",
              "      } catch (error) {\n",
              "        console.error('Error during call to suggestCharts:', error);\n",
              "      }\n",
              "      quickchartButtonEl.classList.remove('colab-df-spinner');\n",
              "      quickchartButtonEl.classList.add('colab-df-quickchart-complete');\n",
              "    }\n",
              "    (() => {\n",
              "      let quickchartButtonEl =\n",
              "        document.querySelector('#df-09592059-3d24-4492-b632-7c9a9fd593e8 button');\n",
              "      quickchartButtonEl.style.display =\n",
              "        google.colab.kernel.accessAllowed ? 'block' : 'none';\n",
              "    })();\n",
              "  </script>\n",
              "</div>\n",
              "    </div>\n",
              "  </div>\n"
            ],
            "application/vnd.google.colaboratory.intrinsic+json": {
              "type": "dataframe",
              "summary": "{\n  \"name\": \"gold[gold\",\n  \"rows\": 100,\n  \"fields\": [\n    {\n      \"column\": \"qid\",\n      \"properties\": {\n        \"dtype\": \"number\",\n        \"std\": 0,\n        \"min\": 251898,\n        \"max\": 251898,\n        \"num_unique_values\": 1,\n        \"samples\": [\n          251898\n        ],\n        \"semantic_type\": \"\",\n        \"description\": \"\"\n      }\n    },\n    {\n      \"column\": \"docid\",\n      \"properties\": {\n        \"dtype\": \"string\",\n        \"num_unique_values\": 100,\n        \"samples\": [\n          \"D1293408\"\n        ],\n        \"semantic_type\": \"\",\n        \"description\": \"\"\n      }\n    },\n    {\n      \"column\": \"rank\",\n      \"properties\": {\n        \"dtype\": \"number\",\n        \"std\": 29,\n        \"min\": 1,\n        \"max\": 100,\n        \"num_unique_values\": 100,\n        \"samples\": [\n          84\n        ],\n        \"semantic_type\": \"\",\n        \"description\": \"\"\n      }\n    },\n    {\n      \"column\": \"score\",\n      \"properties\": {\n        \"dtype\": \"number\",\n        \"std\": 0.1776100453311562,\n        \"min\": -5.57544,\n        \"max\": -4.74293,\n        \"num_unique_values\": 99,\n        \"samples\": [\n          -5.49881\n        ],\n        \"semantic_type\": \"\",\n        \"description\": \"\"\n      }\n    }\n  ]\n}"
            }
          },
          "metadata": {},
          "execution_count": 13
        },
        {
          "output_type": "stream",
          "name": "stdout",
          "text": [
            "time: 16.1 ms (started: 2024-03-26 23:03:01 +00:00)\n"
          ]
        }
      ],
      "source": [
        "gold[gold.qid==251898]"
      ]
    },
    {
      "cell_type": "markdown",
      "id": "eef3095e-4e50-4b76-8a01-7a0009e2b157",
      "metadata": {
        "id": "eef3095e-4e50-4b76-8a01-7a0009e2b157"
      },
      "source": [
        "### 🚧 todo: let's look at the top-ranked document for that query\n",
        "- title\n",
        "- body"
      ]
    },
    {
      "cell_type": "code",
      "execution_count": null,
      "id": "ce01135d-c574-41a9-9127-368c8388a5e8",
      "metadata": {
        "id": "ce01135d-c574-41a9-9127-368c8388a5e8"
      },
      "outputs": [],
      "source": [
        "# todo: .values[0] can help"
      ]
    },
    {
      "cell_type": "code",
      "execution_count": 14,
      "id": "05475c8d-0f60-4101-920a-22a4b9c78ddd",
      "metadata": {
        "id": "05475c8d-0f60-4101-920a-22a4b9c78ddd",
        "colab": {
          "base_uri": "https://localhost:8080/"
        },
        "outputId": "9bd346c2-8534-4264-e37b-86ee3fa77ff6"
      },
      "outputs": [
        {
          "output_type": "execute_result",
          "data": {
            "text/plain": [
              "array([251898, 'D2865964', 1, -4.74293], dtype=object)"
            ]
          },
          "metadata": {},
          "execution_count": 14
        },
        {
          "output_type": "stream",
          "name": "stdout",
          "text": [
            "time: 4.76 ms (started: 2024-03-26 23:03:08 +00:00)\n"
          ]
        }
      ],
      "source": [
        "gold[gold.qid==251898].values[0]"
      ]
    },
    {
      "cell_type": "code",
      "source": [
        "gold[gold.qid==251898].values[0][1]"
      ],
      "metadata": {
        "colab": {
          "base_uri": "https://localhost:8080/",
          "height": 53
        },
        "id": "Ii1Y4DDrp7p5",
        "outputId": "43b55e05-f65f-49a4-fcf2-3b43ef2314a2"
      },
      "id": "Ii1Y4DDrp7p5",
      "execution_count": 15,
      "outputs": [
        {
          "output_type": "execute_result",
          "data": {
            "text/plain": [
              "'D2865964'"
            ],
            "application/vnd.google.colaboratory.intrinsic+json": {
              "type": "string"
            }
          },
          "metadata": {},
          "execution_count": 15
        },
        {
          "output_type": "stream",
          "name": "stdout",
          "text": [
            "time: 3.64 ms (started: 2024-03-26 23:03:10 +00:00)\n"
          ]
        }
      ]
    },
    {
      "cell_type": "code",
      "source": [
        "# directly use the 'docid' I just got\n",
        "#title\n",
        "docs[docs.docid=='D2865964'].values[0][1]"
      ],
      "metadata": {
        "colab": {
          "base_uri": "https://localhost:8080/",
          "height": 53
        },
        "id": "p3anPo1ip9bh",
        "outputId": "2df61587-98ef-469d-be6f-679aa3caa56a"
      },
      "id": "p3anPo1ip9bh",
      "execution_count": 16,
      "outputs": [
        {
          "output_type": "execute_result",
          "data": {
            "text/plain": [
              "'How long does it take to get a post-doctoral degree?'"
            ],
            "application/vnd.google.colaboratory.intrinsic+json": {
              "type": "string"
            }
          },
          "metadata": {},
          "execution_count": 16
        },
        {
          "output_type": "stream",
          "name": "stdout",
          "text": [
            "time: 10.6 ms (started: 2024-03-26 23:03:11 +00:00)\n"
          ]
        }
      ]
    },
    {
      "cell_type": "code",
      "source": [
        "# body\n",
        "docs[docs.docid=='D2865964'].values[0][2]"
      ],
      "metadata": {
        "colab": {
          "base_uri": "https://localhost:8080/",
          "height": 196
        },
        "id": "n3AO6pjAqz8M",
        "outputId": "15a05b82-d7e0-483e-b27a-8df913b86f06"
      },
      "id": "n3AO6pjAqz8M",
      "execution_count": 17,
      "outputs": [
        {
          "output_type": "execute_result",
          "data": {
            "text/plain": [
              "\"Answers.com ® Wiki Answers ® Categories Jobs & Education Education College Degrees Graduate Degrees How long does it take to get a post-doctoral degree? Flag How long does it take to get a post-doctoral degree? Answer by Joe Ragusa Confidence votes 98.6KI am not aware of any such thing as a postdoctoral degree. You may be referring to postdoctoral research which may be required for obtaining a tenure-track faculty position, especially at research oriented institutions. Some have suggested that postdoctoral appointments - that were traditionally optional - have become mandatory as demand for tenure-track positions in academia has drastically increased over previous decades (Wikipedia). The length of time in this case depends on the type, content, scope, and depth of the research.2 people found this useful Was this answer useful? Yes Somewhat No Tyler Durden9988 1,326 Contributions How long does it take to get a doctoral degree? It totally depends on the actual degree and school but you can assume between three and five years as a general guideline. Medical degrees may take longer due to the internshi …How long does it take to get a doctorate degree in psychology? Answer 6-8 years Mark Swarthout 794,167 Contributions Contract attorney. When not working I teach karate, collect stamps, write books, and play the ukulele. How long does it take to earn a doctorate degree? It depends on the program and how hard you work. Most programs take 2 to 3 years, but it can take longer if you are not a full time student. Sheepgrape 1,482 Contributions How long does it take to get a doctorate degree in psycology? About six years if you go for a Psy. D. or Ph. D. in psychology. Joe Ragusa How long does it take to get a doctor of pharmacy degree? Answer . Pharmacy programs grant the degree of Doctor of Pharmacy (Pharm. D.), which requires at least 6 years of postsecondary study and the passing of a State board of ph …How long does it take to get a doctors degree?it takes 4 years dependig Joe Ragusa How long does it take to get a doctoral degree in business? A doctoral degree can take approximately three to four years after completion of a bachelors degree. Rxdoc1 907 Contributions How long does it take to get a doctorate degree in pharmaceuticals? Since 2000, all coleges of pharmacu have been required to offer only a single-level entry doctorate degree in Pharmacy which takes 6 years to complete. Internship …Joe Ragusa How long does it take to get a doctor of medicine degree? The common path to practicing as a physician requires 8 years of education beyond high school and 3 to 8 additional years of internship and residency. All States, the District …Joe Ragusa How long does it take to get a doctorates degree? It depends on what kind of doctorate. In general, a doctorate will take approximately eight years beyond high school completion. Grrlygirl 10 Contributions How long does it take to get a doctorate degree in economics? Assuming: You are starting with a bachelor's degree You are enrolled in a doctorate program in which the required graduate courses are built in You are a …Joe Ragusa How long does it take to get a doctorate degree after a MBA? It depends on the specific program of study. Still, the approximate time frame could be anywhere from two to four years. Once again this depends on the program of study, the c …Joe Ragusa Answered In College Degrees How long does it take to get a doctorates degree in psycology? It would take approximately four years post high school completion. However, it depends on how long it takes a student to complete the dissertation (original topic, with resea …Joe Ragusa Answered In Anesthesiologists How long does it take to get a anesthesiologist doctor degree? It will take four years for the bachelor's degree with completion of all prerequisite coursework, and four years of medical school. There will also be three or more years to c …Answered In Bachelors Degrees How long does it take to get a doctorate degree in general? Theoretically, it would take 4 years to get a bachelors degree, another two for your masters, and yet another 2 (or more) to get your doctorate or Ph D. That's a total of at le …Tyler Durden9988 1,326 Contributions Answered In Education How long does it take for a doctor degree? The answer to your question depends on what type of doctor you want to know about. Physicians go to medical school for four years and then may seek additional training in resi …Mark Swarthout 794,167 Contributions Contract attorney. When not working I teach karate, collect stamps, write books, and play the ukulele. Answered In Bachelors Degrees How long does it take to get a post-secondary degree? It depends on the focus and level. You can finish law school full time in three years. Most Masters programs could be done in two years. \""
            ],
            "application/vnd.google.colaboratory.intrinsic+json": {
              "type": "string"
            }
          },
          "metadata": {},
          "execution_count": 17
        },
        {
          "output_type": "stream",
          "name": "stdout",
          "text": [
            "time: 11.7 ms (started: 2024-03-26 23:03:13 +00:00)\n"
          ]
        }
      ]
    },
    {
      "cell_type": "code",
      "source": [
        "# Or\n",
        "docs[docs.docid == gold[gold.qid==251898].values[0][1]].values[0]"
      ],
      "metadata": {
        "id": "eIUKRx6yq23B",
        "colab": {
          "base_uri": "https://localhost:8080/"
        },
        "outputId": "81da4d44-501e-4a4c-c887-971787b19bea"
      },
      "id": "eIUKRx6yq23B",
      "execution_count": 18,
      "outputs": [
        {
          "output_type": "execute_result",
          "data": {
            "text/plain": [
              "array(['D2865964', 'How long does it take to get a post-doctoral degree?',\n",
              "       \"Answers.com ® Wiki Answers ® Categories Jobs & Education Education College Degrees Graduate Degrees How long does it take to get a post-doctoral degree? Flag How long does it take to get a post-doctoral degree? Answer by Joe Ragusa Confidence votes 98.6KI am not aware of any such thing as a postdoctoral degree. You may be referring to postdoctoral research which may be required for obtaining a tenure-track faculty position, especially at research oriented institutions. Some have suggested that postdoctoral appointments - that were traditionally optional - have become mandatory as demand for tenure-track positions in academia has drastically increased over previous decades (Wikipedia). The length of time in this case depends on the type, content, scope, and depth of the research.2 people found this useful Was this answer useful? Yes Somewhat No Tyler Durden9988 1,326 Contributions How long does it take to get a doctoral degree? It totally depends on the actual degree and school but you can assume between three and five years as a general guideline. Medical degrees may take longer due to the internshi …How long does it take to get a doctorate degree in psychology? Answer 6-8 years Mark Swarthout 794,167 Contributions Contract attorney. When not working I teach karate, collect stamps, write books, and play the ukulele. How long does it take to earn a doctorate degree? It depends on the program and how hard you work. Most programs take 2 to 3 years, but it can take longer if you are not a full time student. Sheepgrape 1,482 Contributions How long does it take to get a doctorate degree in psycology? About six years if you go for a Psy. D. or Ph. D. in psychology. Joe Ragusa How long does it take to get a doctor of pharmacy degree? Answer . Pharmacy programs grant the degree of Doctor of Pharmacy (Pharm. D.), which requires at least 6 years of postsecondary study and the passing of a State board of ph …How long does it take to get a doctors degree?it takes 4 years dependig Joe Ragusa How long does it take to get a doctoral degree in business? A doctoral degree can take approximately three to four years after completion of a bachelors degree. Rxdoc1 907 Contributions How long does it take to get a doctorate degree in pharmaceuticals? Since 2000, all coleges of pharmacu have been required to offer only a single-level entry doctorate degree in Pharmacy which takes 6 years to complete. Internship …Joe Ragusa How long does it take to get a doctor of medicine degree? The common path to practicing as a physician requires 8 years of education beyond high school and 3 to 8 additional years of internship and residency. All States, the District …Joe Ragusa How long does it take to get a doctorates degree? It depends on what kind of doctorate. In general, a doctorate will take approximately eight years beyond high school completion. Grrlygirl 10 Contributions How long does it take to get a doctorate degree in economics? Assuming: You are starting with a bachelor's degree You are enrolled in a doctorate program in which the required graduate courses are built in You are a …Joe Ragusa How long does it take to get a doctorate degree after a MBA? It depends on the specific program of study. Still, the approximate time frame could be anywhere from two to four years. Once again this depends on the program of study, the c …Joe Ragusa Answered In College Degrees How long does it take to get a doctorates degree in psycology? It would take approximately four years post high school completion. However, it depends on how long it takes a student to complete the dissertation (original topic, with resea …Joe Ragusa Answered In Anesthesiologists How long does it take to get a anesthesiologist doctor degree? It will take four years for the bachelor's degree with completion of all prerequisite coursework, and four years of medical school. There will also be three or more years to c …Answered In Bachelors Degrees How long does it take to get a doctorate degree in general? Theoretically, it would take 4 years to get a bachelors degree, another two for your masters, and yet another 2 (or more) to get your doctorate or Ph D. That's a total of at le …Tyler Durden9988 1,326 Contributions Answered In Education How long does it take for a doctor degree? The answer to your question depends on what type of doctor you want to know about. Physicians go to medical school for four years and then may seek additional training in resi …Mark Swarthout 794,167 Contributions Contract attorney. When not working I teach karate, collect stamps, write books, and play the ukulele. Answered In Bachelors Degrees How long does it take to get a post-secondary degree? It depends on the focus and level. You can finish law school full time in three years. Most Masters programs could be done in two years. \"],\n",
              "      dtype=object)"
            ]
          },
          "metadata": {},
          "execution_count": 18
        },
        {
          "output_type": "stream",
          "name": "stdout",
          "text": [
            "time: 11.7 ms (started: 2024-03-26 23:03:14 +00:00)\n"
          ]
        }
      ]
    },
    {
      "cell_type": "markdown",
      "id": "402273c0-e851-43c4-a212-819d0a9b8b4c",
      "metadata": {
        "id": "402273c0-e851-43c4-a212-819d0a9b8b4c"
      },
      "source": [
        "### 🚧 todo: let's look at the second document\n",
        "- let's make a functioin to make that easier"
      ]
    },
    {
      "cell_type": "code",
      "execution_count": 19,
      "id": "ea7f2274-946f-4c18-b2ba-867283278e14",
      "metadata": {
        "id": "ea7f2274-946f-4c18-b2ba-867283278e14",
        "outputId": "a35c18a4-0109-4473-813a-77727ec85fbe",
        "colab": {
          "base_uri": "https://localhost:8080/",
          "height": 215
        }
      },
      "outputs": [
        {
          "output_type": "display_data",
          "data": {
            "text/plain": [
              "'How long does it take to get a degree in psychology?'"
            ],
            "application/vnd.google.colaboratory.intrinsic+json": {
              "type": "string"
            }
          },
          "metadata": {}
        },
        {
          "output_type": "display_data",
          "data": {
            "text/plain": [
              "\"Answers.com ® Wiki Answers ® Categories Jobs & Education Education College Degrees Bachelors Degrees How long does it take to get a degree in psychology? Flag How long does it take to get a degree in psychology? Answer by Colette Fisher Stone Confidence votes 16To complete a bachelors degree, it can take anywhere from 124 -128 credits. This could take approximately four years of study, provided the student takes the program as prescribed by the institution. Viper1 I just finished my Bachelor's in Psychology. It actually takes anywhere from 180-195 credits, and does take four years if you are taking 2 classes a semester. If you take on a heavier class load, it is possible to graduate in 3 years.15 people found this useful Was this answer useful? Yes Somewhat No Joe Ragusa How long does it take to earn a bachelor's degree in forensic psychology? It usually takes about 4 years to receive a Bachelor's Degree Answer I might also add that it depends on entrance testing of basic skills, credit load per …Aliciagw 2 Contributions How long does it take to earn a master's degree in psychology? Answer If you are talking about a Masters in Counseling, this could be anything from 1 and a half to about 3 years, depending on wether you are working a full time job …How long does it take to get a degree in forensic psychology? Answer You'd need a 4-year college degree, a 3-year master's degree and a doctorate degree, which can take 2-3 years. How long does it take to get a doctorate degree in psychology? Answer 6-8 years Joe Ragusa How long does it take to get a bachelors degree in psychology? A bachelor's degree in most areas can require between 120 to 128 college credits particular to a specific program of study. This would be based on a college or university tha …How long will it take to get a Bachelor degree in Psychology? Normally, it takes 4 years to get a bachelors degree. Joe Ragusa How long does it take to obtain a masters degree in psychology? It depends where you go to school now a day but my father-in-law has been a Psychologist for approx. 36yrs and attended school for 7yrs and is always doing training of sorts a …Corinne La Shawn 4 Contributions How long does it take you to get your master's degree in psychology? In most cases, a masters degree in psychology takes approximately 2 years to complete, and a doctorate takes 4-6 years (that is, 2-4 years longer than a masters degree) …Justinbieberluvah 3 Contributions How long does it take to get a Ph. D in psychology after getting a bachelor's degree? Obtaining a Ph D in psychology usually requires 5 to 7 years of graduate study after the bachelor's degree is received. Usually, a dissertation is required, but a Psy D degree c …Joe Ragusa How long does it take to get a bachelor's degree in Psychology at University of Phoenix? Typically, the bachelors degree is designed as a four year program of study as a full-time student, provided the individual takes the degree as prescribed by the college or un …April Raine 12,929 Contributions A cat, a book, and a Slurpee - what else could I possibly need? How long does it take to earn a bachelors degree in psychology? Usually 4-5 years Sigmund99 2 Contributions How long does it take to get a bachelor of psychology degree? Typically four years, to take the general education requirements and then to major in psychology. Some can do it in fewer years than that, if they enter college with adv …Joe Ragusa Answered In Bachelors Degrees How long does it take to earn your masters degree in child psychology? A masters degree within this field of study typically takes approximately two to three years to complete, depending on the credit load carried each semester. . A masters deg …Dr Ruby 100 Contributions Answered In Business & Finance How long does it take to complete a degree in forensic psychology? Bachelor's = 4 years Master's = 2 more years Doctorate = 2+ more So, 8 total (usually). There is also a pre-doctoral internship and a post-doctoral rotation tha …Answered In College Degrees How long does it take to get a Ph D in psychology after having a masters degree?a long time Wingdude88 306 Contributions Answered In College Degrees How long does it takes to get a bachelor's degree in psychology? Bachelor's Degree usually = 4 years (8 semesters) of study. Des Elms 1,261 Contributions Answered In Education How long does it take to get a bachelors in psychology if you have a associates degree? Answer 1: A bachelors degree is a four-year degree containing 120 semester credit hours. An associates degree is a two-year degree containing 60 semester credit hours. Someone … \""
            ],
            "application/vnd.google.colaboratory.intrinsic+json": {
              "type": "string"
            }
          },
          "metadata": {}
        },
        {
          "output_type": "stream",
          "name": "stdout",
          "text": [
            "time: 20.5 ms (started: 2024-03-26 23:03:18 +00:00)\n"
          ]
        }
      ],
      "source": [
        "def titleAndBody(qid,rank):\n",
        "    display(docs[docs.docid == gold[gold.qid==qid].values[rank][1]].values[0][1])\n",
        "    display(docs[docs.docid == gold[gold.qid==qid].values[rank][1]].values[0][2])\n",
        "titleAndBody(251898,1)"
      ]
    },
    {
      "cell_type": "markdown",
      "id": "ff47ffef-d779-403b-8a7f-75cf0d0cee54",
      "metadata": {
        "id": "ff47ffef-d779-403b-8a7f-75cf0d0cee54"
      },
      "source": [
        "#### let's look at the 100th document"
      ]
    },
    {
      "cell_type": "code",
      "execution_count": 20,
      "id": "361e71c5-7b0b-4dbe-b8b5-4b8ade9a33cf",
      "metadata": {
        "id": "361e71c5-7b0b-4dbe-b8b5-4b8ade9a33cf",
        "outputId": "1ab5c398-98ac-47a5-c16d-29b1cef4fa53",
        "colab": {
          "base_uri": "https://localhost:8080/",
          "height": 215
        }
      },
      "outputs": [
        {
          "output_type": "display_data",
          "data": {
            "text/plain": [
              "'.'"
            ],
            "application/vnd.google.colaboratory.intrinsic+json": {
              "type": "string"
            }
          },
          "metadata": {}
        },
        {
          "output_type": "display_data",
          "data": {
            "text/plain": [
              "'Q How long to receive va dic benefits? I receive a widows benefit from railroad retirement can i collect ssame time Topic: Asked by: Lino In Education & Reference > Financial Aid > Receive>A Top Solutions Janice sibug of 1631 el camino real #7 tustin ca 92780 was born to an illegal alien name l ... read more If direct deposit keep checking your bank account. I received my award letter (explaning b ... read more Add your answer Post to Facebook Post to Twitter Subscribe me Suggested Solutions (10) What\\'s this? Anonymous0 2 Janice sibug of 1631 el camino real #7 tustin ca 92780 was born to an illegal alien name ligaya fabian who jumpshipped her flght at lax from germany to canada.source: How much do anchor babies receive in benefits? Was this answer helpful? Yes | No Comment Reply Reportpgfua Level 2 (Sophomore)4 Answers\"If direct deposit keep checking your bank account...\"5 0 If direct deposit keep checking your bank account. I received my award letter (explaning benefits) after I received my money.source: How long does it take to receive disability benefits after your case has been? Was this answer helpful? Yes | No Someone said: how long did the whole procedure take it has been 119 days for me they say its in the second phase Was this comment helpful? Yes | No Comment Reply Report This answer closely relates to: Question for va dic benefits Once my va dic benefits are approved how soon will i receive them Dic benefitsmerl69Level 1 (Contributor)1 Answer\"Social security of $747 is supposedly countable income...\"0 0 Va has proposed to cut off my $155 dic because my social security of $747 is supposedly countable income. Half of that is widow`s pension.source: Can i receive va dic and social security benefits? Was this answer helpful? Yes | No Comment Reply Report This answer closely relates to: Dic payments for va widows Va widow benefits Va widows how long does dic payments lastnaoyang Level 3 (Helper)49 Answers0 0 Best case mall is best choice~!http://www.bestcasemall.com/iphone-cases-c-20.html.source: How long does it take to receive disability benefits after your case has been? Was this answer helpful? Yes | No Comment Reply Report This answer closely relates to: Dic benefit casespamie54Level 1 (Contributor)1 Answer66 0 Does the spouse that died have to be hurt in the service to receive widows pension?source: Can a widow receive social security and va benefits? Was this answer helpful? Yes | No Someone said: Hello, I\\'m Mrs. Debbie Cohen, last week i was in need of a Loan and a lady here in Ohio USA instroduced me to Clarkson Investment Compan Ltd where i got a Loan at 3% Interest rate, No collateral, No Credit check and i got my Loan, you can contact them at Email: ( r.c...@live.com ) I will advise you not to obtain a loan from FIRM OR A LENDER There are lot\\'s of people acting to be one, the only reliable place to get a Loan is Clarkson Investment Company Ltd. Thank You Mrs. Debbie Cohen Was this comment helpful? Yes | No Comment Reply Report This answer closely relates to: My ex died in june11 2014 i apply foe dic benfits whe will i hear about it Approval board on dic how long before decision is madefor spouse Ow long does it take to receive dic compensationlucifereval Level 1 (Contributor)1 Answer0 0 You would receive your benefits from what I know when you retire.source: If i am not yet at retirement age, but my ex-husband is, do i receive my benefits now or when i retire? Was this answer helpful? Yes | No Comment Reply Reporttoppin.carlene Level 1 (Contributor)2 Answers0 0 60 to 90 days pending on how severe his disability is.source: I recieved a letter saying that there reviewing my son`s disability case. how long does it take before i no anything or receive benefits? Was this answer helpful? Yes | No Comment Reply Report Anonymous0 0 Howmuchsocialsecurityb enefits cana100percentveteranreceive.source: Can a person receive va benefits social security? Was this answer helpful? Yes | Nobeth.losure said: Yes, you can receive both SSDI and VA benefits simultaneously, although these programs are different and receiving one benefit is not a guarantee that you will qualify for the other. Was this comment helpful? Yes | No Comment Reply Reportstinger5630Level 1 (Contributor)1 Answer1 0 U most likely just get his alone?source: If i receive ss disability will i also receive my spouses benefits if he dies? Was this answer helpful? Yes | No Comment Reply Report Anonymous0 0 Can a widow apply for home loan?source: Can a widow receive social security and va benefits? Was this answer helpful? Yes | No Comment Reply Report Add Your Answer How long to receive va dic benefits? I receive a widows benefit from railroad retirement can i collect ssame time Post to Facebook Post to Twitter Subscribe me Can you help us by answering one of these related questions? How long it takes to get your gi benefits for school? How long does it take for my gi bill benefits to arrive? How long till gi bill benefits? How long will it take for va employment benefits to hit my account? How long does it take for chapter 35 benefits to be paid? How long it takes to have a va benefits claim rated? I am fighting for disability why does it take so long and how di recieve benefits? How long does it take to get your chapter thirty benefits started? How long does it take for va to approve a standard application for benefits? How long is the wait for non medical after being approved for disabilty benefits? We need your help! Please help us improve our content by removing questions that are essentially the same and merging them into this question. Please tell us which questions below are the same as this one: How long to receive va dic benefits?63% - How long before i receive my ssa benefits after approval?68% - How long to receive va benefits after compensation exams?61% - How long does it take to receive disability benefits from the navy?60% - How long does it take to receive va benefits after school certifies?56% - How long do you receive welfare benefits for children in california?42% - How long does it take to receive ssi benefits when you close a direct deposit and closed the bank account?40% - If i receive ss disability will i also receive my spouses benefits if he dies?66% - How fast do you receive gi bill benefits?44% - Can you still receive school benefits with a other than honorable?50% - How does it take for a preemie to receive benefits once approved? The following questions have been merged into this one. If you feel any of these questions have been included in error help us improve our content by splitting these questions into seperate discussions. Please unmerge any questions that are not the same as this one: How long to receive va dic benefits? How loang does va dic last? How long does it take comto get dic after veteran dies? - Dic payments last how long How long does it take before a widower receive va benefits? - Dic bebefits are paid for how long How long does it take to get widows back pay? - 2014 how long is it taking to get va dic payments How long will i receive va dic? - Dic bennefits how long do they take How long does it takes for a widow to get monthly benefits after applying? - Howo long does it take to start receiving dic How long does it take to get dic claim approved for widow? - Dic claim approval taking longer for windows How lonng after being approved for dic benifits how long will it be to get first checck? - District industries centre benifits of industries How long does it take for veterans widows benefits? - Dic benfit how long do yo get it Why does it take so long to receive dic? - Dic back payment how long to recieve How long does dic va income last? How long does it take to get va approved for spouse for dic? Why is it taking so long for social security to process my widows benefits? How long can you receive dic from the va? How long before recieve dic? How long does dic last for minor children? How long does it take to get dic from the va? How long does a dic be payed beneifts? How long it takes to get dic back pay? I have apply for dic brnfits on my ex how long does it taht to recive a letter on it? I recieve dic from veterans how long will i recieve this? How long will i receive dic? How long does spousal dic last? How long does it take to get widow benefits from va? How to meantain my dic payment? I m receiving dic pay for how long? How long does it take to receive dic decision? How long does it take to receive dic answer? How long does take to get dic va widow money? How long does a dic claim take? - Help me with dic claim How long does it take to get dic? How long can i get dic payments? I got approved widow benefits at 51 where is my money? How long does it take to get va dic? How long will i recieve dic? '"
            ],
            "application/vnd.google.colaboratory.intrinsic+json": {
              "type": "string"
            }
          },
          "metadata": {}
        },
        {
          "output_type": "stream",
          "name": "stdout",
          "text": [
            "time: 19.5 ms (started: 2024-03-26 23:03:24 +00:00)\n"
          ]
        }
      ],
      "source": [
        "titleAndBody(251898,99)"
      ]
    },
    {
      "cell_type": "markdown",
      "id": "a6f133cb-33fc-4a44-b00a-dd5840bdcaeb",
      "metadata": {
        "id": "a6f133cb-33fc-4a44-b00a-dd5840bdcaeb"
      },
      "source": [
        "### 🚧 todo: try this with a few different queries to get a feel of the quality of the gold"
      ]
    },
    {
      "cell_type": "markdown",
      "id": "02e6d82b-f8f1-4f6c-bc85-5c6a886ae303",
      "metadata": {
        "id": "02e6d82b-f8f1-4f6c-bc85-5c6a886ae303"
      },
      "source": [
        "# doing our first baseline retrieval function\n",
        "\n",
        "- todo:\n",
        "    - build and fit a binary CountVectorizer on the **titles**\n",
        "    - play with and understand build_analyzer, build_tokenizer, and transform\n",
        "    - transform our query 111\n",
        "        - understand what happens with yet unseen words in the transform process\n",
        "    - find the docs with the most words in common\n",
        "    - write an evaluation function computing the top 10 precision p@10\n",
        "    - apply to our 500 queries\n"
      ]
    },
    {
      "cell_type": "code",
      "execution_count": 21,
      "id": "b2a9419e-a830-4cd4-a43a-173328fa9d48",
      "metadata": {
        "id": "b2a9419e-a830-4cd4-a43a-173328fa9d48",
        "colab": {
          "base_uri": "https://localhost:8080/"
        },
        "outputId": "c5b1a4e9-8625-482b-9436-f70674f5f474"
      },
      "outputs": [
        {
          "output_type": "stream",
          "name": "stdout",
          "text": [
            "we got 39560 features, for example ['spurweed' 'sputtering' 'sputters' 'sputum' 'spy' 'spyware']\n",
            "time: 785 ms (started: 2024-03-26 23:03:32 +00:00)\n"
          ]
        }
      ],
      "source": [
        "from sklearn.feature_extraction.text import CountVectorizer\n",
        "vectorizer = CountVectorizer(binary=True)\n",
        "# understand the options:\n",
        "# https://scikit-learn.org/stable/modules/generated/sklearn.feature_extraction.text.CountVectorizer.html\n",
        "X = vectorizer.fit_transform(docs.title.tolist())\n",
        "print('we got',len(vectorizer.get_feature_names_out()),'features, for example',vectorizer.get_feature_names_out()[33333:33339])"
      ]
    },
    {
      "cell_type": "markdown",
      "source": [
        "Since I met the problem: 'CountVectorizer' object has no attribute 'get_feature_names', I changed it to 'get_feature_names_out' to match the version of sklearn I installed before."
      ],
      "metadata": {
        "id": "egLaLvU1pUSP"
      },
      "id": "egLaLvU1pUSP"
    },
    {
      "cell_type": "code",
      "execution_count": 22,
      "id": "1753a230-993a-4545-b21f-aa05e56723e8",
      "metadata": {
        "id": "1753a230-993a-4545-b21f-aa05e56723e8",
        "colab": {
          "base_uri": "https://localhost:8080/",
          "height": 53
        },
        "outputId": "fe0277f5-0c58-480e-aaad-a77c16861772"
      },
      "outputs": [
        {
          "output_type": "execute_result",
          "data": {
            "text/plain": [
              "'how long does getting a doctorate take'"
            ],
            "application/vnd.google.colaboratory.intrinsic+json": {
              "type": "string"
            }
          },
          "metadata": {},
          "execution_count": 22
        },
        {
          "output_type": "stream",
          "name": "stdout",
          "text": [
            "time: 2.79 ms (started: 2024-03-26 23:03:37 +00:00)\n"
          ]
        }
      ],
      "source": [
        "queries.loc[111].query\n"
      ]
    },
    {
      "cell_type": "code",
      "execution_count": 23,
      "id": "9b1dacd6-49c2-44e7-8271-62bc68cd6ecf",
      "metadata": {
        "id": "9b1dacd6-49c2-44e7-8271-62bc68cd6ecf",
        "colab": {
          "base_uri": "https://localhost:8080/"
        },
        "outputId": "f8efdf64-5cef-4702-e510-73a2ca7201d7"
      },
      "outputs": [
        {
          "output_type": "execute_result",
          "data": {
            "text/plain": [
              "['how', 'long', 'does', 'getting', 'doctorate', 'take']"
            ]
          },
          "metadata": {},
          "execution_count": 23
        },
        {
          "output_type": "stream",
          "name": "stdout",
          "text": [
            "time: 2.87 ms (started: 2024-03-26 23:03:39 +00:00)\n"
          ]
        }
      ],
      "source": [
        "vectorizer.build_analyzer()(queries.loc[111].query)\n",
        "# Return a callable to process input data.\n",
        "# The callable handles preprocessing, tokenization, and n-grams generation."
      ]
    },
    {
      "cell_type": "code",
      "execution_count": 24,
      "id": "a543574d-626e-4d60-9465-a89eca40896d",
      "metadata": {
        "id": "a543574d-626e-4d60-9465-a89eca40896d",
        "colab": {
          "base_uri": "https://localhost:8080/"
        },
        "outputId": "1955f024-b65e-4a0f-97c2-08f05412edc7"
      },
      "outputs": [
        {
          "output_type": "execute_result",
          "data": {
            "text/plain": [
              "['how', 'long', 'does', 'getting', 'doctorate', 'take']"
            ]
          },
          "metadata": {},
          "execution_count": 24
        },
        {
          "output_type": "stream",
          "name": "stdout",
          "text": [
            "time: 2.8 ms (started: 2024-03-26 23:03:42 +00:00)\n"
          ]
        }
      ],
      "source": [
        "vectorizer.build_tokenizer()(queries.loc[111].query)\n",
        "# Return a function that splits a string into a sequence of tokens."
      ]
    },
    {
      "cell_type": "code",
      "execution_count": 25,
      "id": "b2c79230-8787-4357-bd11-952451725a15",
      "metadata": {
        "id": "b2c79230-8787-4357-bd11-952451725a15",
        "colab": {
          "base_uri": "https://localhost:8080/"
        },
        "outputId": "e2cec3f1-ae38-4820-ecfd-9b23185acaf3"
      },
      "outputs": [
        {
          "output_type": "execute_result",
          "data": {
            "text/plain": [
              "<1x39560 sparse matrix of type '<class 'numpy.int64'>'\n",
              "\twith 6 stored elements in Compressed Sparse Row format>"
            ]
          },
          "metadata": {},
          "execution_count": 25
        },
        {
          "output_type": "stream",
          "name": "stdout",
          "text": [
            "time: 3.36 ms (started: 2024-03-26 23:03:45 +00:00)\n"
          ]
        }
      ],
      "source": [
        "qv = vectorizer.transform([queries.loc[111].query])\n",
        "qv"
      ]
    },
    {
      "cell_type": "markdown",
      "id": "e30116df-0d90-4ca7-9111-e9a56e368f9b",
      "metadata": {
        "id": "e30116df-0d90-4ca7-9111-e9a56e368f9b"
      },
      "source": [
        "### 🚧 todo:\n",
        "- understand what happens with yet unseen words in the transform process\n",
        "\n",
        "\n",
        "- think of the shape of X, what are the rows, what are the columns?\n",
        "- how to select the titles that have the words of our query?\n",
        "- think of matrix multiplication and transposition"
      ]
    },
    {
      "cell_type": "code",
      "execution_count": 29,
      "id": "a4980c9b-340d-452f-9291-7c98fdbb29e7",
      "metadata": {
        "id": "a4980c9b-340d-452f-9291-7c98fdbb29e7",
        "colab": {
          "base_uri": "https://localhost:8080/"
        },
        "outputId": "eb994eb2-a47a-48a3-8618-44c1319315a7"
      },
      "outputs": [
        {
          "output_type": "execute_result",
          "data": {
            "text/plain": [
              "array([[0, 0, 0, ..., 0, 0, 0]])"
            ]
          },
          "metadata": {},
          "execution_count": 29
        },
        {
          "output_type": "stream",
          "name": "stdout",
          "text": [
            "time: 2.9 ms (started: 2024-03-26 23:04:09 +00:00)\n"
          ]
        }
      ],
      "source": [
        "xqv = qv.toarray()\n",
        "xqv"
      ]
    },
    {
      "cell_type": "code",
      "source": [
        "xqv.shape"
      ],
      "metadata": {
        "colab": {
          "base_uri": "https://localhost:8080/"
        },
        "id": "4qBTZM1wq0cr",
        "outputId": "95f93f0b-94b2-4fc4-8b76-e2ae97799665"
      },
      "id": "4qBTZM1wq0cr",
      "execution_count": 30,
      "outputs": [
        {
          "output_type": "execute_result",
          "data": {
            "text/plain": [
              "(1, 39560)"
            ]
          },
          "metadata": {},
          "execution_count": 30
        },
        {
          "output_type": "stream",
          "name": "stdout",
          "text": [
            "time: 2.67 ms (started: 2024-03-26 23:04:12 +00:00)\n"
          ]
        }
      ]
    },
    {
      "cell_type": "code",
      "source": [
        "X.shape"
      ],
      "metadata": {
        "colab": {
          "base_uri": "https://localhost:8080/"
        },
        "id": "fCgN4nbwq9Xl",
        "outputId": "9526d05f-3d7f-469b-8634-dd71a167dfc3"
      },
      "id": "fCgN4nbwq9Xl",
      "execution_count": 31,
      "outputs": [
        {
          "output_type": "execute_result",
          "data": {
            "text/plain": [
              "(92565, 39560)"
            ]
          },
          "metadata": {},
          "execution_count": 31
        },
        {
          "output_type": "stream",
          "name": "stdout",
          "text": [
            "time: 2.13 ms (started: 2024-03-26 23:04:13 +00:00)\n"
          ]
        }
      ]
    },
    {
      "cell_type": "code",
      "source": [
        "# Perform matrix multiplication between the matrix X and the transposed query matrix xqv.\n",
        "outcome = X @ xqv.transpose()\n",
        "print(outcome)"
      ],
      "metadata": {
        "colab": {
          "base_uri": "https://localhost:8080/"
        },
        "id": "gyWSX-vxq_Av",
        "outputId": "e56a7dbf-32e0-469a-d850-f812e692313f"
      },
      "id": "gyWSX-vxq_Av",
      "execution_count": 32,
      "outputs": [
        {
          "output_type": "stream",
          "name": "stdout",
          "text": [
            "[[0]\n",
            " [0]\n",
            " [1]\n",
            " ...\n",
            " [0]\n",
            " [0]\n",
            " [0]]\n",
            "time: 3.25 ms (started: 2024-03-26 23:04:16 +00:00)\n"
          ]
        }
      ]
    },
    {
      "cell_type": "code",
      "source": [
        "outcome.shape"
      ],
      "metadata": {
        "colab": {
          "base_uri": "https://localhost:8080/"
        },
        "id": "qsD0d3csrdyf",
        "outputId": "350c9547-3fac-477d-8e89-8779a8e88232"
      },
      "id": "qsD0d3csrdyf",
      "execution_count": 33,
      "outputs": [
        {
          "output_type": "execute_result",
          "data": {
            "text/plain": [
              "(92565, 1)"
            ]
          },
          "metadata": {},
          "execution_count": 33
        },
        {
          "output_type": "stream",
          "name": "stdout",
          "text": [
            "time: 2.5 ms (started: 2024-03-26 23:04:18 +00:00)\n"
          ]
        }
      ]
    },
    {
      "cell_type": "code",
      "source": [
        "# Select the titles that have at least one of the words in the query\n",
        "select_titles = [title for i, title in enumerate(docs.title.tolist()) if outcome[i]>=1]"
      ],
      "metadata": {
        "colab": {
          "base_uri": "https://localhost:8080/"
        },
        "id": "oGNAvlr_rh6e",
        "outputId": "3653f214-56a5-43db-862d-c359f38695b9"
      },
      "id": "oGNAvlr_rh6e",
      "execution_count": 34,
      "outputs": [
        {
          "output_type": "stream",
          "name": "stdout",
          "text": [
            "time: 131 ms (started: 2024-03-26 23:04:20 +00:00)\n"
          ]
        }
      ]
    },
    {
      "cell_type": "code",
      "source": [
        "print(select_titles[:5])"
      ],
      "metadata": {
        "colab": {
          "base_uri": "https://localhost:8080/"
        },
        "id": "DFhQEJlBsb-6",
        "outputId": "c298350f-05bb-4ffa-c6f2-8d313b704546"
      },
      "id": "DFhQEJlBsb-6",
      "execution_count": 35,
      "outputs": [
        {
          "output_type": "stream",
          "name": "stdout",
          "text": [
            "['Everything You Need To Learn How To Cook Vegetables', 'How tall are penguins?', 'Holly C.Size: 105Graded potentialsmay be either a depolarization or a hyperpolarization.Which of these is the earliest step in the generation of an action potential?Sodium channels open.The most abundant class of neuron in the central nervous system isMultipolar___ channels open or close in response to physical distortion of the membrane surface.Mechanically gatedClusters of RER and free ribosomes in neurons are calledNissl BodiesAction potential propagation begins (is first generated at) what region of a neuron?initial segmentWhere are action potentials regenerated as they propagate along an unmyelinated axon?The movement of what ion is responsible for the local currents that depolarize other regions of the axon to threshold? In an unmyelinated axon, why doesn\\'t the action potential suddenly \"double back\" and start propagating in the opposite direction?Approximately how fast do action potentials propagate in unmyelinated axons in humans? In contrast to the internodes of a myelinated axon, the nodes __________.Where are action potentials regenerated as they propagate along a myelinated axon? The node-to-node \"jumping\" regeneration of an action potential along a myelinated axon is called __________.How do action potential propagation speeds compare in myelinated and unmyelinated axons? Multiple sclerosis (MS) is a disease that stops action potential propagation by destroying the myelin around (normally) myelinated axons. Which of the following best describes how MS stops action potential propagation?In the peripheral nervous system Schwann cells participate in the repair of damaged nerves by Neuroglia perform all of these functions except __________.In what part of the neuron does the action potential typically initiate? During an action potential of a neuron, what directly causes the different channels to open and close?What is the typical duration of a nerve action potential? Around what transmembrane potential does threshold commonly occur?What ion is responsible for depolarization of the neuron during an action potential? What type of membrane transport causes the depolarization phase of the action potential in neurons?During an action potential, after the membrane potential reaches +30 mV, which event (s) primarily affect (s) the membrane potential? What ion causes repolarization of the neuron during an action potential?What causes repolarization of the membrane potential during the action potential of a neuron? What is primarily responsible for the brief hyperpolarization near the end of the action potential?The membranes of neurons at rest are very permeable to _____ but only slightly permeable to _____. During depolarization, which gradient (s) move (s) Na+ into the cell?What is the value for the resting membrane potential for most neurons? The Na+âK+ pump actively transports both sodium and potassium ions across the membrane to compensate for their constant leakage. In which direction is each ion pumped?The concentrations of which two ions are highest outside the cell. The myelin sheath that covers many CNS axons is formed by____ open or close in response to binding specific molecules. Rapid impulse conduction from \"node\" to \"node\" is calledVoltage-gated sodium channels have both an activation gate and a (n) ________ gate. The ________ nervous system controls the skeletal musclesWhich of the following is not a function of the neuroglia? Ions are unequally distributed across the plasma membrane of all cells. This ion distribution creates an electrical potential difference across the membrane. What is the name given to this potential difference?Sodium and potassium ions can diffuse across the plasma membranes of all cells because of the presence of what type of channel? On average, the resting membrane potential is -70 mV. What does the sign and magnitude of this value tell you?The plasma membrane is much more permeable to K + than to Na +. Why? The resting membrane potential depends on two factors that influence the magnitude and direction on the Na and K diffusion across the plasma membrane Identify these two factorsWhat prevents the Na and K gradients from dissipating? The axon hillock connects the axon with the __________.Which of these types of neuroglia are abundant in peripheral ganglia? The equilibrium potential for potassium ion occurs at approximatelyNeurons that have one axon and one dendrite, with the soma in between, are called Functions of astrocytes include all of the following, exceptOpioids relieve pain by blocking the release of Which of the following is not a function of the nervous system?Damage to ependymal cells would most likely affect the Where do most action potentials originate?What opens first in response to a threshold stimulus? What characterizes depolarization, the first phase of the action potential?What characterizes repolarization, the second phase of the action potential? What event triggers the generation of an action potential?What is the first change to occur in response to a threshold stimulus? The largest and most numerous of the glial cells in the central nervous system are theThe neurilemma of axons in the peripheral nervous system is formed by If the potassium permeability of a resting neuron increases above the resting permeability, what effect will this have on the transmembrane potential?At the normal resting potential of a typical neuron, its sodium-potassium exchange pump transports Neurons that are rare, small, and lack features that distinguish dendrites from axons are calledExtensive damage to oligodendrocytes in the CNS could result in What type of conduction takes place in unmyelinated axons?An action potential is self-regenerating because __________. Why does regeneration of the action potential occur in one direction, rather than in two directions?What is the function of the myelin sheath? What changes occur to voltage-gated Na+ and K+ channels at the peak of depolarization?In which type of axon will velocity of action potential conduction be the fastest? The part of the peripheral nervous system that carries sensory information to the CNS is designatedsensory neurons are _____ neurons of the PNS Integral membrane proteins that connect electrical synapses are called________ account for roughly half of the volume of the nervous system. Voltage-gated channels are presentIf acetylcholine (ACh) causes inhibition of a postsynaptic neuron, to what type of membrane channel did the ACh bind? Ion channels that are always open are called ________ channels.in a neuron, sodium and potassium concentrations are maintained by the sodium-potassium exchange pump such that___ The sodium-potassium exchange pump transports potassium and sodium ions in which direction (s)?Leak channels allow the movement of potassium and sodium ions by what type of membrane transport? The electrochemical gradient for potassium ions when the transmembrane potential is at the resting potential (-70 mV) is caused by what?What is the electrochemical gradient of an ion? In a typical neuron, what is the equilibrium potential for potassium?The electrochemical gradient for sodium ions in a neuron when the transmembrane potential is at the resting potential is caused by what? Compared to the electrical gradient for sodium at rest, the electrical gradient for potassium at rest is __________.In a typical neuron, what is the equilibrium potential for sodium? At rest, why is the transmembrane potential of a neuron (-70 mV) closer to the potassium equilibrium potential (-90 mV) than it is to the sodium equilibrium potential (+66 mV)?Axons terminate in a a series of fine extensions known as How does blocking retrograde axoplasmic transport in an axon affect the activity of a neuron?In which of the following would the rate of impulse conduction be the greatest ? Which of these is not a neuron structural category?Most of CNS neurons lack centrioles. This observation explains _____? Which of the following is a type of glial cell found in the peripheral nervous system?The axon is connected to the soma at the The neuroglial cells that participate in maintaining the blood-brain barrier are theWhich of the following activities or sensations are not monitored by interoceptors? The small space between the sending neuron and the receiving neuron is theA molecule that carries information across a synaptic cleft is a When calcium ions enter the synaptic terminal,When neurotransmitter molecules bind to receptors in the plasma membrane of the receiving neuron, if a signal from a sending neuron makes the receiving neuron more negative inside,The sodium-potassium ion exchange pump Which of the following interactions between electrical and chemical gradients does not lead to the establishment of a neuron\\'s resting potential?The cytoplasm that surrounds the nucleus of a neuron is called the Which of the following types of nerve fiber possesses the fastest speed of impulse propagation?', 'How to Cook Stuffed Pork Chops From a Grocery Store', 'Kid from Two and a Half Men Goes on Weird Christian Tirade About How Two and a Half Men Is the Work of the Devil']\n",
            "time: 482 µs (started: 2024-03-26 23:04:22 +00:00)\n"
          ]
        }
      ]
    },
    {
      "cell_type": "markdown",
      "id": "6fb69ccc-a0c1-4e22-a9c0-16acba58aa5c",
      "metadata": {
        "id": "6fb69ccc-a0c1-4e22-a9c0-16acba58aa5c"
      },
      "source": [
        "### 🚧 todo:\n",
        "  - look at argmax and max,\n",
        "  - check the numpy\n",
        "      - flatnonzero function to find the best match\n",
        "      - the .A and the .flat functions\n",
        "  - show the best matching doc"
      ]
    },
    {
      "cell_type": "markdown",
      "source": [
        "1. argmax 和 max\n",
        "\n",
        "- max函数：用于计算数组或矩阵中的最大值。\n",
        "\n",
        "- argmax函数：用于找出数组或矩阵中最大值的索引位置。在寻找最佳匹配文档的场景中，如果你有一个由相似度分数组成的数组，argmax可以帮助你确定哪个文档（通过索引）具有最高的相似度分数。\n",
        "\n",
        "2. numpy.flatnonzero 函数\n",
        "\n",
        "- numpy.flatnonzero：这个函数返回输入数组中非零元素的索引。在寻找最佳匹配的上下文中，如果你有一个布尔数组或任何可以评估为True（非零）或False（零）的条件，flatnonzero可以帮助你找到满足条件的元素的索引。这对于过滤或选择特定条件的文档可能很有用。\n",
        "\n",
        "3. .A 和 .flat 方法\n",
        "\n",
        "- .A：这是在处理稀疏矩阵时常见的方法，用于获取稀疏矩阵的密集表示（即将其转换为一个常规的NumPy数组）。这在你需要对矩阵执行操作但库只接受密集格式时很有用。\n",
        "\n",
        "- .flat：这是一个迭代器，用于以一维迭代的方式访问数组或矩阵的元素。它可以用来遍历矩阵的所有元素，就像它们是在一个单一的数组中一样。"
      ],
      "metadata": {
        "id": "Kuok9PdqtFGl"
      },
      "id": "Kuok9PdqtFGl"
    },
    {
      "cell_type": "code",
      "execution_count": 36,
      "id": "17b73f58-dfe9-47d4-ae07-fba2031a2979",
      "metadata": {
        "id": "17b73f58-dfe9-47d4-ae07-fba2031a2979",
        "colab": {
          "base_uri": "https://localhost:8080/"
        },
        "outputId": "40791078-cafa-4f81-e9f7-b8efa9b96cde"
      },
      "outputs": [
        {
          "output_type": "stream",
          "name": "stdout",
          "text": [
            "The index of the document with the most common words is 11957\n",
            "The length of the most common words is 6\n",
            "time: 1.45 ms (started: 2024-03-26 23:04:27 +00:00)\n"
          ]
        }
      ],
      "source": [
        "# the index of the document with the most common words\n",
        "max_idx = np.argmax(outcome)\n",
        "print(f'The index of the document with the most common words is {max_idx}')\n",
        "\n",
        "# the length of the most common words of the best matching document\n",
        "max_num = outcome[max_idx][0]\n",
        "print(f'The length of the most common words is {max_num}')"
      ]
    },
    {
      "cell_type": "code",
      "execution_count": 37,
      "id": "59cab7c4-ed23-42c7-8170-ad5bda8bc06f",
      "metadata": {
        "id": "59cab7c4-ed23-42c7-8170-ad5bda8bc06f",
        "colab": {
          "base_uri": "https://localhost:8080/"
        },
        "outputId": "d3346cab-87d5-41cf-d575-9d4cbea09386"
      },
      "outputs": [
        {
          "output_type": "stream",
          "name": "stdout",
          "text": [
            "[    2     7     8 ... 92552 92558 92561]\n",
            "time: 2.04 ms (started: 2024-03-26 23:04:31 +00:00)\n"
          ]
        }
      ],
      "source": [
        "# Check the numpy\n",
        "# numpy.flatnonzero\n",
        "print(np.flatnonzero(outcome))"
      ]
    },
    {
      "cell_type": "code",
      "execution_count": 38,
      "id": "89e898df-ae46-4a5f-8bb1-83ef7fc21a4a",
      "metadata": {
        "id": "89e898df-ae46-4a5f-8bb1-83ef7fc21a4a",
        "colab": {
          "base_uri": "https://localhost:8080/"
        },
        "outputId": "6ec5ed9c-3019-4b20-cc1d-5e6b8aff6c7e"
      },
      "outputs": [
        {
          "output_type": "execute_result",
          "data": {
            "text/plain": [
              "6"
            ]
          },
          "metadata": {},
          "execution_count": 38
        },
        {
          "output_type": "stream",
          "name": "stdout",
          "text": [
            "time: 3.08 ms (started: 2024-03-26 23:04:33 +00:00)\n"
          ]
        }
      ],
      "source": [
        "\n",
        "# .flat\n",
        "outcome.flat[11957]"
      ]
    },
    {
      "cell_type": "code",
      "execution_count": 39,
      "id": "26263922-fb98-421c-bcfd-66824fbfc510",
      "metadata": {
        "id": "26263922-fb98-421c-bcfd-66824fbfc510",
        "colab": {
          "base_uri": "https://localhost:8080/",
          "height": 196
        },
        "outputId": "2324643a-08c7-42ef-9601-0722bfa11395"
      },
      "outputs": [
        {
          "output_type": "execute_result",
          "data": {
            "text/plain": [
              "'Education & Reference Higher Education (University +)After getting my bachelors how long does it take to get a doctorate? In my last year of my bachelors degree in psychology and I want to get a doctorate. But I have no idea how long it would take. And is it better to get a masters a doctorate? Follow 6 answers Answers Relevance Rating Newest Oldest Best Answer: It generally takes 2 years to complete a master\\'s and after that I would say at least 3-4 to complete a Ph. D. although many doctorates take much longer than that: sometimes up to 6-8 years. Unless you\\'re trying to get into a unique medical field, such as virology or epidemiology etc., or to work/teach at the college level, then a master\\'s degree will suffice for the most part. In fact, some colleges employ professors who hold a Masters degree and don\\'t have a doctorate. also fyi, for every 100 Ph. D.\\'s rewarded to a person, there are fewer than 10 collegiate job openings :). Hope that helped :)dvd_clapp · 10 years ago0 1 Comment Asker\\'s rating Many universities allow BA/BS holders to matriculate directly into a doctoral program. Watch out though, some offer the Ph D, while others have the Psy D. The credential is different. The former is more theoretical and research oriented, while the latter is more clinical. I used to work at a college that had AAS and BA degrees. We enrolled students into the AAS, then graduated them and enrolled them into the BA. The AAS was not enough to get a job in the field. They got out of synch really fast. My story here is not for grad school, but honestly, the same principle applies. When you are considering ang graduate degree, take the time to really discuss your plans and goals with not only the admissions person, but the faculty and department chair. They wiill be able to guide you best. Good luck with your search for information. Anonymous · 10 years ago0 0 Comment It takes anywhere from four to eight years. I got mine in four years. You usually have two to three years of classes, a written exam after the second year (mine was two days long), an oral exam after the third year and then you write your dissertation. The dissertation is the big unknown. I wrote mine in two years, but I know people who took much longer. If you are doing clinical psychology, it could take longer, because you may need to do clinical training. Someone suggested getting a Master\\'s first. I do not recommend this unless you can\\'t get into a good program. The better schools do not accept terminal master\\'s students. Source (s): University Professor Ranto · 10 years ago0 0 Comment I would recommend getting a Masters first, then doctorate. I have my Masters in Education and it took me less than two years. It was just a bunch of classes and a thesis. For a doctorate you have to have a research plan and more classes and tons of work and the Masters will really prepare you for the hard work that earning a doctorate entails. Good luck!Maddog Mommy · 10 years ago0 1 Comment It depends on so many things, like what your research is going to be on and how picky your advisors are. 4-6 years is about normal. Secondly, a doctorate is for people who want to be scholars and actively research for the rest of their careers. masters is less research oriented, and is better suited for people who want \"real world\" hands on experience rather than just doing academic research. Good luck. You could probably contact the schools that you are applying to and ask them how long thier students take on average to complete the degrees. Each school will be different. Anonymous · 10 years ago1 0 Commentnicely many outstanding minds will say that by way of fact there are extra human beings interior the rustic who\\'ve faith in an more suitable ability it is extra probable that individuals who have faith in God are maximum individuals in maximum categories. faith in God has no longer something to do with coaching or point of intelligence. It relies upon on the way you have been raised and assorted different information superhighway hosting aspects. Many knowledgeable human beings and individuals who\\'re seen clever selection in religious and non secular ideals. Intelligence does not make a guy or woman question Gods existence, it is something it is residing interior the inquiring suggestions.kyllonen · 1 year ago0 0 Comment Maybe you would like to learn more about one of these? Need an electronic signature? Need Home Equity Loan Options? Looking for a new chandelier? Portfolio Management Options '"
            ],
            "application/vnd.google.colaboratory.intrinsic+json": {
              "type": "string"
            }
          },
          "metadata": {},
          "execution_count": 39
        },
        {
          "output_type": "stream",
          "name": "stdout",
          "text": [
            "time: 2.48 ms (started: 2024-03-26 23:04:35 +00:00)\n"
          ]
        }
      ],
      "source": [
        "docs.loc[max_idx].body"
      ]
    },
    {
      "cell_type": "markdown",
      "id": "36f56fd4-49e6-4c94-a11e-119556a0b52f",
      "metadata": {
        "id": "36f56fd4-49e6-4c94-a11e-119556a0b52f"
      },
      "source": [
        "### 🚧 todo: use argpartition to get the 10 best answers"
      ]
    },
    {
      "cell_type": "markdown",
      "source": [
        "[numpy.argpartition](https://https://numpy.org/doc/stable/reference/generated/numpy.argpartition.html)(a, kth, axis=-1, kind='introselect', order=None)\n",
        "\n",
        "\n",
        "Perform an indirect partition along the given axis using the algorithm specified by the kind keyword. It returns an array of indices of the same shape as a that index data along the given axis in partitioned order.\n",
        "\n"
      ],
      "metadata": {
        "id": "gRCq9ryTwuTF"
      },
      "id": "gRCq9ryTwuTF"
    },
    {
      "cell_type": "code",
      "execution_count": 40,
      "id": "07b4ee59-7084-43ac-aabd-bd813b45f6aa",
      "metadata": {
        "id": "07b4ee59-7084-43ac-aabd-bd813b45f6aa",
        "colab": {
          "base_uri": "https://localhost:8080/"
        },
        "outputId": "f4d3aed8-8660-4a8e-b274-ff31b0439090"
      },
      "outputs": [
        {
          "output_type": "execute_result",
          "data": {
            "text/plain": [
              "array([16630, 91275, 44359, 71292,  1477, 43190, 66313,  3686, 83787,\n",
              "       11957])"
            ]
          },
          "metadata": {},
          "execution_count": 40
        },
        {
          "output_type": "stream",
          "name": "stdout",
          "text": [
            "time: 3.76 ms (started: 2024-03-26 23:04:39 +00:00)\n"
          ]
        }
      ],
      "source": [
        "pred10i = np.argpartition(outcome.ravel(),-10)[-10:]\n",
        "pred10i\n",
        "# np.ravel()多维数组展平成一维数组"
      ]
    },
    {
      "cell_type": "code",
      "execution_count": 41,
      "id": "6ef515f4-8e50-490a-912b-df737d740a96",
      "metadata": {
        "id": "6ef515f4-8e50-490a-912b-df737d740a96",
        "colab": {
          "base_uri": "https://localhost:8080/",
          "height": 381
        },
        "outputId": "8c626692-99d2-4640-db16-50dd9b913df2"
      },
      "outputs": [
        {
          "output_type": "execute_result",
          "data": {
            "text/plain": [
              "          docid                                              title  \\\n",
              "16630  D3070882            How long does it take a tattoo to heal?   \n",
              "91275  D3090762  How Long Does It Take to Get a Doctorate in En...   \n",
              "44359   D638869   How long does it take for the femur bone to heal   \n",
              "71292   D471734  How long does it take to earn an marketing deg...   \n",
              "1477   D2813027  How long does Seroquel stay in your system if ...   \n",
              "43190   D700799  Holidays By Country Â»Holidays By Religion Â»O...   \n",
              "66313  D2956542       How long does it take to finish a doctorate?   \n",
              "3686   D2111066  After getting a flu shot how long does it take...   \n",
              "83787  D1951655  How long does it take to get a Doctorate of Nu...   \n",
              "11957  D2408424  After getting my bachelors how long does it ta...   \n",
              "\n",
              "                                                    body  \n",
              "16630  Answers.com ® Wiki Answers ® Categories Health...  \n",
              "91275  Home » College How Long Does It Take to Get a ...  \n",
              "44359  Home > Surgery >How long does it take for the ...  \n",
              "71292  Expert answer by Joe Ragusa Confidence votes 9...  \n",
              "1477   Answers.com ® Wiki Answers ® Categories Health...  \n",
              "43190  Home > Important Days > Daylight Savings > Day...  \n",
              "66313  Education & Reference Higher Education (Univer...  \n",
              "3686   Celticballa568 19 Contributions After getting ...  \n",
              "83787  Answers.com ® Wiki Answers ® Categories Jobs &...  \n",
              "11957  Education & Reference Higher Education (Univer...  "
            ],
            "text/html": [
              "\n",
              "  <div id=\"df-0d6b2b43-99d4-40e1-a004-c231dab82c15\" class=\"colab-df-container\">\n",
              "    <div>\n",
              "<style scoped>\n",
              "    .dataframe tbody tr th:only-of-type {\n",
              "        vertical-align: middle;\n",
              "    }\n",
              "\n",
              "    .dataframe tbody tr th {\n",
              "        vertical-align: top;\n",
              "    }\n",
              "\n",
              "    .dataframe thead th {\n",
              "        text-align: right;\n",
              "    }\n",
              "</style>\n",
              "<table border=\"1\" class=\"dataframe\">\n",
              "  <thead>\n",
              "    <tr style=\"text-align: right;\">\n",
              "      <th></th>\n",
              "      <th>docid</th>\n",
              "      <th>title</th>\n",
              "      <th>body</th>\n",
              "    </tr>\n",
              "  </thead>\n",
              "  <tbody>\n",
              "    <tr>\n",
              "      <th>16630</th>\n",
              "      <td>D3070882</td>\n",
              "      <td>How long does it take a tattoo to heal?</td>\n",
              "      <td>Answers.com ® Wiki Answers ® Categories Health...</td>\n",
              "    </tr>\n",
              "    <tr>\n",
              "      <th>91275</th>\n",
              "      <td>D3090762</td>\n",
              "      <td>How Long Does It Take to Get a Doctorate in En...</td>\n",
              "      <td>Home » College How Long Does It Take to Get a ...</td>\n",
              "    </tr>\n",
              "    <tr>\n",
              "      <th>44359</th>\n",
              "      <td>D638869</td>\n",
              "      <td>How long does it take for the femur bone to heal</td>\n",
              "      <td>Home &gt; Surgery &gt;How long does it take for the ...</td>\n",
              "    </tr>\n",
              "    <tr>\n",
              "      <th>71292</th>\n",
              "      <td>D471734</td>\n",
              "      <td>How long does it take to earn an marketing deg...</td>\n",
              "      <td>Expert answer by Joe Ragusa Confidence votes 9...</td>\n",
              "    </tr>\n",
              "    <tr>\n",
              "      <th>1477</th>\n",
              "      <td>D2813027</td>\n",
              "      <td>How long does Seroquel stay in your system if ...</td>\n",
              "      <td>Answers.com ® Wiki Answers ® Categories Health...</td>\n",
              "    </tr>\n",
              "    <tr>\n",
              "      <th>43190</th>\n",
              "      <td>D700799</td>\n",
              "      <td>Holidays By Country Â»Holidays By Religion Â»O...</td>\n",
              "      <td>Home &gt; Important Days &gt; Daylight Savings &gt; Day...</td>\n",
              "    </tr>\n",
              "    <tr>\n",
              "      <th>66313</th>\n",
              "      <td>D2956542</td>\n",
              "      <td>How long does it take to finish a doctorate?</td>\n",
              "      <td>Education &amp; Reference Higher Education (Univer...</td>\n",
              "    </tr>\n",
              "    <tr>\n",
              "      <th>3686</th>\n",
              "      <td>D2111066</td>\n",
              "      <td>After getting a flu shot how long does it take...</td>\n",
              "      <td>Celticballa568 19 Contributions After getting ...</td>\n",
              "    </tr>\n",
              "    <tr>\n",
              "      <th>83787</th>\n",
              "      <td>D1951655</td>\n",
              "      <td>How long does it take to get a Doctorate of Nu...</td>\n",
              "      <td>Answers.com ® Wiki Answers ® Categories Jobs &amp;...</td>\n",
              "    </tr>\n",
              "    <tr>\n",
              "      <th>11957</th>\n",
              "      <td>D2408424</td>\n",
              "      <td>After getting my bachelors how long does it ta...</td>\n",
              "      <td>Education &amp; Reference Higher Education (Univer...</td>\n",
              "    </tr>\n",
              "  </tbody>\n",
              "</table>\n",
              "</div>\n",
              "    <div class=\"colab-df-buttons\">\n",
              "\n",
              "  <div class=\"colab-df-container\">\n",
              "    <button class=\"colab-df-convert\" onclick=\"convertToInteractive('df-0d6b2b43-99d4-40e1-a004-c231dab82c15')\"\n",
              "            title=\"Convert this dataframe to an interactive table.\"\n",
              "            style=\"display:none;\">\n",
              "\n",
              "  <svg xmlns=\"http://www.w3.org/2000/svg\" height=\"24px\" viewBox=\"0 -960 960 960\">\n",
              "    <path d=\"M120-120v-720h720v720H120Zm60-500h600v-160H180v160Zm220 220h160v-160H400v160Zm0 220h160v-160H400v160ZM180-400h160v-160H180v160Zm440 0h160v-160H620v160ZM180-180h160v-160H180v160Zm440 0h160v-160H620v160Z\"/>\n",
              "  </svg>\n",
              "    </button>\n",
              "\n",
              "  <style>\n",
              "    .colab-df-container {\n",
              "      display:flex;\n",
              "      gap: 12px;\n",
              "    }\n",
              "\n",
              "    .colab-df-convert {\n",
              "      background-color: #E8F0FE;\n",
              "      border: none;\n",
              "      border-radius: 50%;\n",
              "      cursor: pointer;\n",
              "      display: none;\n",
              "      fill: #1967D2;\n",
              "      height: 32px;\n",
              "      padding: 0 0 0 0;\n",
              "      width: 32px;\n",
              "    }\n",
              "\n",
              "    .colab-df-convert:hover {\n",
              "      background-color: #E2EBFA;\n",
              "      box-shadow: 0px 1px 2px rgba(60, 64, 67, 0.3), 0px 1px 3px 1px rgba(60, 64, 67, 0.15);\n",
              "      fill: #174EA6;\n",
              "    }\n",
              "\n",
              "    .colab-df-buttons div {\n",
              "      margin-bottom: 4px;\n",
              "    }\n",
              "\n",
              "    [theme=dark] .colab-df-convert {\n",
              "      background-color: #3B4455;\n",
              "      fill: #D2E3FC;\n",
              "    }\n",
              "\n",
              "    [theme=dark] .colab-df-convert:hover {\n",
              "      background-color: #434B5C;\n",
              "      box-shadow: 0px 1px 3px 1px rgba(0, 0, 0, 0.15);\n",
              "      filter: drop-shadow(0px 1px 2px rgba(0, 0, 0, 0.3));\n",
              "      fill: #FFFFFF;\n",
              "    }\n",
              "  </style>\n",
              "\n",
              "    <script>\n",
              "      const buttonEl =\n",
              "        document.querySelector('#df-0d6b2b43-99d4-40e1-a004-c231dab82c15 button.colab-df-convert');\n",
              "      buttonEl.style.display =\n",
              "        google.colab.kernel.accessAllowed ? 'block' : 'none';\n",
              "\n",
              "      async function convertToInteractive(key) {\n",
              "        const element = document.querySelector('#df-0d6b2b43-99d4-40e1-a004-c231dab82c15');\n",
              "        const dataTable =\n",
              "          await google.colab.kernel.invokeFunction('convertToInteractive',\n",
              "                                                    [key], {});\n",
              "        if (!dataTable) return;\n",
              "\n",
              "        const docLinkHtml = 'Like what you see? Visit the ' +\n",
              "          '<a target=\"_blank\" href=https://colab.research.google.com/notebooks/data_table.ipynb>data table notebook</a>'\n",
              "          + ' to learn more about interactive tables.';\n",
              "        element.innerHTML = '';\n",
              "        dataTable['output_type'] = 'display_data';\n",
              "        await google.colab.output.renderOutput(dataTable, element);\n",
              "        const docLink = document.createElement('div');\n",
              "        docLink.innerHTML = docLinkHtml;\n",
              "        element.appendChild(docLink);\n",
              "      }\n",
              "    </script>\n",
              "  </div>\n",
              "\n",
              "\n",
              "<div id=\"df-ab25e838-de15-48c4-aaa3-b5e8bd368369\">\n",
              "  <button class=\"colab-df-quickchart\" onclick=\"quickchart('df-ab25e838-de15-48c4-aaa3-b5e8bd368369')\"\n",
              "            title=\"Suggest charts\"\n",
              "            style=\"display:none;\">\n",
              "\n",
              "<svg xmlns=\"http://www.w3.org/2000/svg\" height=\"24px\"viewBox=\"0 0 24 24\"\n",
              "     width=\"24px\">\n",
              "    <g>\n",
              "        <path d=\"M19 3H5c-1.1 0-2 .9-2 2v14c0 1.1.9 2 2 2h14c1.1 0 2-.9 2-2V5c0-1.1-.9-2-2-2zM9 17H7v-7h2v7zm4 0h-2V7h2v10zm4 0h-2v-4h2v4z\"/>\n",
              "    </g>\n",
              "</svg>\n",
              "  </button>\n",
              "\n",
              "<style>\n",
              "  .colab-df-quickchart {\n",
              "      --bg-color: #E8F0FE;\n",
              "      --fill-color: #1967D2;\n",
              "      --hover-bg-color: #E2EBFA;\n",
              "      --hover-fill-color: #174EA6;\n",
              "      --disabled-fill-color: #AAA;\n",
              "      --disabled-bg-color: #DDD;\n",
              "  }\n",
              "\n",
              "  [theme=dark] .colab-df-quickchart {\n",
              "      --bg-color: #3B4455;\n",
              "      --fill-color: #D2E3FC;\n",
              "      --hover-bg-color: #434B5C;\n",
              "      --hover-fill-color: #FFFFFF;\n",
              "      --disabled-bg-color: #3B4455;\n",
              "      --disabled-fill-color: #666;\n",
              "  }\n",
              "\n",
              "  .colab-df-quickchart {\n",
              "    background-color: var(--bg-color);\n",
              "    border: none;\n",
              "    border-radius: 50%;\n",
              "    cursor: pointer;\n",
              "    display: none;\n",
              "    fill: var(--fill-color);\n",
              "    height: 32px;\n",
              "    padding: 0;\n",
              "    width: 32px;\n",
              "  }\n",
              "\n",
              "  .colab-df-quickchart:hover {\n",
              "    background-color: var(--hover-bg-color);\n",
              "    box-shadow: 0 1px 2px rgba(60, 64, 67, 0.3), 0 1px 3px 1px rgba(60, 64, 67, 0.15);\n",
              "    fill: var(--button-hover-fill-color);\n",
              "  }\n",
              "\n",
              "  .colab-df-quickchart-complete:disabled,\n",
              "  .colab-df-quickchart-complete:disabled:hover {\n",
              "    background-color: var(--disabled-bg-color);\n",
              "    fill: var(--disabled-fill-color);\n",
              "    box-shadow: none;\n",
              "  }\n",
              "\n",
              "  .colab-df-spinner {\n",
              "    border: 2px solid var(--fill-color);\n",
              "    border-color: transparent;\n",
              "    border-bottom-color: var(--fill-color);\n",
              "    animation:\n",
              "      spin 1s steps(1) infinite;\n",
              "  }\n",
              "\n",
              "  @keyframes spin {\n",
              "    0% {\n",
              "      border-color: transparent;\n",
              "      border-bottom-color: var(--fill-color);\n",
              "      border-left-color: var(--fill-color);\n",
              "    }\n",
              "    20% {\n",
              "      border-color: transparent;\n",
              "      border-left-color: var(--fill-color);\n",
              "      border-top-color: var(--fill-color);\n",
              "    }\n",
              "    30% {\n",
              "      border-color: transparent;\n",
              "      border-left-color: var(--fill-color);\n",
              "      border-top-color: var(--fill-color);\n",
              "      border-right-color: var(--fill-color);\n",
              "    }\n",
              "    40% {\n",
              "      border-color: transparent;\n",
              "      border-right-color: var(--fill-color);\n",
              "      border-top-color: var(--fill-color);\n",
              "    }\n",
              "    60% {\n",
              "      border-color: transparent;\n",
              "      border-right-color: var(--fill-color);\n",
              "    }\n",
              "    80% {\n",
              "      border-color: transparent;\n",
              "      border-right-color: var(--fill-color);\n",
              "      border-bottom-color: var(--fill-color);\n",
              "    }\n",
              "    90% {\n",
              "      border-color: transparent;\n",
              "      border-bottom-color: var(--fill-color);\n",
              "    }\n",
              "  }\n",
              "</style>\n",
              "\n",
              "  <script>\n",
              "    async function quickchart(key) {\n",
              "      const quickchartButtonEl =\n",
              "        document.querySelector('#' + key + ' button');\n",
              "      quickchartButtonEl.disabled = true;  // To prevent multiple clicks.\n",
              "      quickchartButtonEl.classList.add('colab-df-spinner');\n",
              "      try {\n",
              "        const charts = await google.colab.kernel.invokeFunction(\n",
              "            'suggestCharts', [key], {});\n",
              "      } catch (error) {\n",
              "        console.error('Error during call to suggestCharts:', error);\n",
              "      }\n",
              "      quickchartButtonEl.classList.remove('colab-df-spinner');\n",
              "      quickchartButtonEl.classList.add('colab-df-quickchart-complete');\n",
              "    }\n",
              "    (() => {\n",
              "      let quickchartButtonEl =\n",
              "        document.querySelector('#df-ab25e838-de15-48c4-aaa3-b5e8bd368369 button');\n",
              "      quickchartButtonEl.style.display =\n",
              "        google.colab.kernel.accessAllowed ? 'block' : 'none';\n",
              "    })();\n",
              "  </script>\n",
              "</div>\n",
              "    </div>\n",
              "  </div>\n"
            ],
            "application/vnd.google.colaboratory.intrinsic+json": {
              "type": "dataframe",
              "summary": "{\n  \"name\": \"docs\",\n  \"rows\": 10,\n  \"fields\": [\n    {\n      \"column\": \"docid\",\n      \"properties\": {\n        \"dtype\": \"string\",\n        \"num_unique_values\": 10,\n        \"samples\": [\n          \"D1951655\",\n          \"D3090762\",\n          \"D700799\"\n        ],\n        \"semantic_type\": \"\",\n        \"description\": \"\"\n      }\n    },\n    {\n      \"column\": \"title\",\n      \"properties\": {\n        \"dtype\": \"string\",\n        \"num_unique_values\": 10,\n        \"samples\": [\n          \"How long does it take to get a Doctorate of Nursing Practice DNP?\",\n          \"How Long Does It Take to Get a Doctorate in English?\",\n          \"Holidays By Country \\u00c2\\u00bbHolidays By Religion \\u00c2\\u00bbOther Events \\u00c2\\u00bbCalendar Builder Email Reminders12 Popular NowNational Pizza Day 2017The Masters 2016Marine Corps Marathon 2016PAX Prime 2016Ash Wednesday 2016National Boyfriend Day 2016Teacher Appreciation Week 2016DragonCon 2016Comic Con 2016Winter Solstice 2016Daytona 500 2016Chinese New Year 2016Ramadan 2016Columbus Day 2016Oktoberfest 2016Stagecoach Festival 2016Electric Daisy Carnival 2016Summer Solstice 2016Victoria Day 2016Thanksgiving 2016Memorial Day 2016Labor Day 2016Election Day 2016Independence Day 2016Coachella 2016Christmas 2016Daylight Savings 2016SXSW 2016Home > Important Days > Daylight Savings > Daylight Savings 2014When is Daylight Savings in 2014?Spring Forward: The clocks are set ahead one hour during Spring Forward. In 2014, this occurs on Sunday, March 9th.Fall Back: The clocks are set back one hour during Fall Back. In 2014, this occurs on Sunday, November 2nd.What is Daylight Savings?Daylight Savings Time, or DST, in 2014 begins on the second Sunday of March and ends on the first Sunday of November. In March, clocks are moved forward one hour from 2am standard time to 3am DST, and in November, clocks are moved back one hour from 2am DST to 1am standard time. The phrase \\\"spring forward, fall back\\\" is a helpful reminder of these time changes.12 Calendar BuilderFULL YEARMONTHAmerican HolidaysAustralian HolidaysCanadian HolidaysChinese HolidaysUK HolidaysBuddhist HolidaysChristian HolidaysHindu HolidaysJewish HolidaysMuslim HolidaysIndian HolidaysGerman HolidaysNew Zealand HolidaysMalaysia HolidaysFrench HolidaysMexican HolidaysEmail RemindersAmerican HolidaysAustralian HolidaysCanadian HolidaysChinese HolidaysUK HolidaysBuddhist HolidaysChristian HolidaysHindu HolidaysJewish HolidaysMuslim HolidaysIndian HolidaysGerman HolidaysNew Zealand HolidaysMalaysia HolidaysFrench HolidaysMexican HolidaysWhen are other Important Days in 2014?Christmas In July 2014Half Christmas 2014Daylight Savings 2014Earth Day 2014New Years 2014Arbor Day 2014World Water Day 2014Summer Solstice 2014Full Moon 2014National Ugly Christmas Sweater Day 2014Winter Solstice 2014International Talk Like A Pirate Day 2014International Bacon Day 2014World Water Day 2014Harvest Moon 2014Blood Moon 2014National Grandparents Day 2014National Dog Day 2014Folsom Street Fair 2014National Day of Prayer 2014Boss' Day 2014National Cat Day 2014National Boyfriend Day 2014Sweetest Day 2014Constitution Day 2014Son and Daughter Day 2014Nobel Prizes 2014International Beer Day 2014London Fashion Week 2014New York Fashion Week 2014Victoria's Secret Fashion Show 201412 What Do You Think About Daylight Savings 2014?Nickname:*Kizin says: November 6, 2014In Arizona, we don't recognize Daylight Savings Time...just like we don't recognize the entire US Constitution. You see, in Arizona, we don't even want time to change at all. It would be best if the Confederates had won the war.Anonymous1207 says: November 2, 2014I disagree with all of you. Daylight savings time has been in this country since Benjamin Franklin and is in an odd way, a historical monument to his life and the things he did for the country. If we do away with this, what else from that time era, or even before then, do you think the government will try to do away with?? There is no \\\"more perfect union\\\" to be found in we, the people of today. You're all to busy complaining about your lives and how inconvinient one simple adjustment is twice a year -.- I used to be proud to be an American. Then I realized how many others have lost their own sense of national pride. Shooting fire works once a year doesn't make you a patriot. And complaining about an idea brought upon by one of our founding fathers, an idea that -whether you realize it or not - has played a role in shaping our history seems more of a government ploy of today to try to erase our history from our youth so we no longer question them. Never before in the history of the United States of America have the people let the government get away with so much. And now you all are playing right into their hands. Good job, America. Good job -.-farmery#1 says: October 29, 2014Farmers don't care what time it is; we don't work in an office. Get up with the sun.Eryk says: October 26, 2014I believe that DST is pointless. It is an idea whose time has come and gone. Shifting the clocks doesn't save anything. All it does is disrupt everyone's life twice a year. People, farmers included, are quite capable of adjusting their schedules as needed without any help from the government. Standard time year round would work just fine for me.Realfarmer says: October 24, 2014They didn't start dst for farmers, we get up with the sun and work way after dark so don't blame us.Beth Garrett says: October 20, 2014I think we should NOT have daylight savings time. I think there are problems for school children and for drivers who don't get enough sleep when the change is made in the spring. Also, when daylight is later in the evening, it is hard for people to get settled down and get to bed - especially school children. I don't think the savings warrant it.Maggie May says: October 19, 2014Just change it permanently thirty minutes...then you can be thirty minutes glad or thirty minutes sad if we can't stay on Standard Time.Nursey says: October 5, 2014I work with people who don't understand time. It is hard to adjust their meals, bedtimes etc. I don't care which way they go just don't change my clock twice a year!!GADAVE says: October 2, 2014Enough already....time to do away with DST.Rumpus says: September 28, 2014Get rid of DST, keep standard time. DST is just another way of trying to fool oneself that by doing so we are saving something. When lies are repeated over and over again then it will be accepted as truth. Do we want to make this \\\"The American Way\\\"?Grammy says: September 22, 2014It is no longer necessary we should split the time in half, turn the clocks back 1/2 hour in nov and then never have to change them again!! I lived in Arizona for 6 years we did not change the clocks! I do not like having my kids go to school in the dark nor do I like them coming home in the dark there are to many crazies out there, the 1/2 hour (then never change again) would remedy some of the problem as it would be light both in the morning and the evening!instead of pitch black at one or the other due to time changes!farmerkings says: September 19, 2014Yes it is for farming that's why we have itmvm says: September 18, 2014It is outdated, and unnecessary... keep the time the same all year long.Savannah says: September 4, 2014I din't like it. It is not logical and should be done away with. i agree with a previous comment about changing our lives and not the clocks, but I also don't understand why we don't just add an extra two hours to our work days and have three day weekends, an extra two hours is nothing compared to having to drag out of bed, get dressed, take children to daycafre, fight morning traffic just because we are stuck in the 18th century. It's the 21st century and progress is nowhere to be seen.Stick with Standard says: August 25, 2014Daylight Saving Time is ridiculous. It's an outdated, unnecessary tribute to government meddling in yet another part of our lives. Nobody should be 'forced' to adjust sleep or work habits to adapt twice a year to an archaic tradition. Leave it on Standard and leave it alone.Bumpus says: July 24, 2014I LOVE spring forward but HATE fall back. I guess you can't have one without the other, though.Finnoah says: May 26, 2014I live in Arizona so this doesn't affect me except that my parents live on the East coast and during the summer months as I'm getting off work, they're going to bed so sometimes I catch them sleep talking to me. (:Rainesy. says: April 4, 2014I HATE IT, NORMAL PEOPLE LIKE NORMAL TIME.Azriel says: March 9, 2014Hate it. It does nothing good for the people and only screws up their biological clock and also more people are fired for being late to work during this time period.In Arizona, they do not do the daylight savings time switch. Smart move I say. Too bad for the rest of us.wakeup says: March 9, 2014Society as a whole saves a lot with daylight savings. A city, county, state, nation saves enormous amounts in electricity costs in the morning and at night. Stop complaining and be more adaptable. It's the key to survival.hatesdst says: March 9, 2014I hate DST. Why can't the will of US citizens determine if we have DST.Brombsby says: March 7, 2014Just to be clear it is not \\\"Savings\\\" but \\\"Saving\\\". \\\"Savings\\\" is what you get at your local grocery store!HAMBONE says: March 7, 2014SILLY I LIKE SUNPet lover says: March 7, 2014I believe it is for farming purposes#Mickey Mouse says: March 7, 2014I don't like it!!!!!!!!!!!!!!!!!!!!!!!!!!!!!!!!!!!!!!!!!!!!!!!!!!!!!!!hmm says: March 6, 2014We set up one hour on Saturday at 2 am rightjojo says: March 5, 2014yes i'm with jimntherock move 30 min then leave it aloneret4lif says: March 5, 2014I absolute hate it. Its like being in jet lag for 9 months. It takes me several months to get kinda adjusted to DST. Study's show that it doesn't accomplish anything least of all energy usage. I still turn my lights on at about the same time even in DST. So where is the savings. I would like to just go to normal time and stay there. We would save so much in lost productivity, health, and probably energy.Lisa says: March 3, 2014Love iteab says: March 2, 2014Just pick one and leave it alone!Amieux says: March 1, 2014Why can't we just leave the clocks on Standard Time and adjust our lives accordingly? Changing the clocks is an idea that has seen it's day. Time for a change, America!!!!!!!!!!!! Let's Standardize!!!!!!peaceful says: February 26, 2014I think it is a bad idea, just leave the time the same all year we have enough disturbances to deal with and now they are starting earlier and ending later...do not like it at alltired says: February 25, 2014Like the old Indian said \\\"only the government would think that by cutting one foot off a blanket and sewing it on the other end that you'd get a longer blanket\\\". How true.mndy says: February 25, 2014It is bad for the health, I detest it. It should be brought back like years ago when we had to vote for it.Canada says: February 25, 2014need to leave DS alone. no more changing clocks it bothersome and annoyingdeb says: February 24, 2014It is to give us daylight later in the summer. Does it really benefit anyone?? Kids have to go to bed in the daylight. Farmers still have the same hours of light. Probably not much benefit to anyone.Woody says: February 24, 2014Leave the clocks on daylight savings time all year around, don't fall back for the winter, it is better to stay light as long a possible throughout the whole year.Moderntimesdoesn't needthis. says: February 15, 2014I moved to Indiana for my four years of college - and there was no changing of the clocks. I loved it! It made so much sense and was so easy. Then I moved back to the East coast. Daylight savings in just wrong.Marty says: February 8, 2014I see absolutely no reason for having to change the clock twice a year. No one gains a thing.ms.angelize says: January 3, 2014JUST LET IT BE!!!! Would Love for the sun to still be up when you get off work, it is rejuvenating !!! Please leave the time alone...Darla says: December 19, 2013I got in car accident because of it . Loosing an hrs makes a huge difference. It takes me weeks to ajust. Its stupid and it suckstoofoo says: November 2, 2013I don't know too many fans of daylight savings. I vote that we abolish it and stay on the same time year around.Texasgardner says: October 31, 2013I love daylight saving time, even as a retired person. On standard time, it is dark by 6:00 p.m. and you feel like it's time to go to bed. It makes it more difficult to go shopping in the dark. I feel safer going to stores during the daylight hours. I wish Texas would stay on daylight saving time year round. In south Texas, we have very few days that are cold and it's great to have those extra evening hours to be out. I think I'm going to leave my clocks on daylight saving time this winter and just subtract one hour when looking at them. I don't go to that many places with a set time anyway.jimntherock says: October 5, 2013I wish we could just settle for a 30 minute adjustment one time and forget it from there.DrivesMeNuts says: October 4, 2013DST is not only unnecessary, it reaks havoc on health, and is also costly when you analyze it. It should be stopped; who is making money off of it so as to keep saying we must have it?Yoda says: October 1, 2013Matters, it does not, early or late... Golfer seeks evening sun, he does... Upon early light, others depend... Golfer, selfish he is...  An equilibrium benefits both, in compromise... Like the Force, overwhelming one cannot be...Golfer needs daylight in winter says: September 8, 2013I wish we could leave the time alone. Set it to where it never gets dark before 7:00 in the winter which would be leave it like it is now. Never fall back. Then leave it alone.. The only reason we do this is for daylight in the morning. We do not need daylight in the morning, we are just going to school or work what does it matter if it don't get light out until 8 or 9 am.LadyDi says: March 3, 2013Absolutely ridiculous! My body clock is much harder to reset than my digital clocks. Why can't we just leave the clocks alone? If people want a different summer schedule, change your work hours.\"\n        ],\n        \"semantic_type\": \"\",\n        \"description\": \"\"\n      }\n    },\n    {\n      \"column\": \"body\",\n      \"properties\": {\n        \"dtype\": \"string\",\n        \"num_unique_values\": 10,\n        \"samples\": [\n          \"Answers.com \\u00ae Wiki Answers \\u00ae Categories Jobs & Education Education Academic Majors How long does it take to get a Doctorate of Nursing Practice DNP? Flag How long does it take to get a Doctorate of Nursing Practice DNP? Answer by Joe Ragusa Confidence votes 98.6KThe doctorate would take approximately four years post bachelor's degree to complete. The degree can run up to 60 credits in coursework particular to a specific field of study. The actual length of time depends much on how long it takes a student to prepare and defend their dissertation which typically follows the prescribed credit coursework. The dissertation is an individual student project advancing an original view point on a topic of the students choosing. It is developed through extensive supporting research and must be approved by the designated committee.2 people found this useful Was this answer useful? Yes Somewhat No How many years to take of a practical nursing? How long does it take toget a diploma for practical nursing. Answers Publisher 49,340 Contributions How long does it take to become a licensed practical nurse? It takes about two years to become a licensed practical nurse. You will have to take a couple of prerequistes to be eligable to enter the nursing program. It will then be a lo \\u2026Boysel12 3 Contributions How long does it take to become a practicing doctor? It will take atleast 3-7 years Wiki Urmy 64 Contributions How long does it take to earn a practical nursing degree online? There are three major ways to become a registered nurse. These are: 1. A bachelor's of science degree in nursing (BSN) which takes about 4 years to complete. 2. An a \\u2026Therealperau 257 Contributions How long does it take to be a licensed practical nurse? Typically, one year as a full-time student. it really depends. if you are coming from a diploma yes one year, but a degree in nursing would take longer. Joe Ragusa How long does it take to be a Advanced practice registered nurse? If you are referring to a nurse practitioner, it takes four years of undergraduate coursework (bachelor's degree), and two to three years for the master's degree). Joe Ragusa What is a Docotrate of Nursing Practice DNP? The Doctor of Nursing Practice (DNP or Dr NP) is an advanced-level practice degree that focuses on the clinical aspects of nursing rather than academic research. The curriculum \\u2026Joe Ragusa How long does it take to get your DNP doctorate of nursing practice? The doctorate would take approximately four years post bachelor's degree to complete. The degree can run up to 60 credits in coursework particular to a specific field of study \\u2026Joe Ragusa How long do it take to get a DNP in register nurse? Typically, it would take four years post bachelor's degree. Joe Ragusa How long does it take to obtain a doctorate degree in nursing? The doctorate takes approximately four years post high school completion. How long has pediatric nursing been practiced?21 years Joe Ragusa What schools offer the Doctor of Nursing Practice degree in Tennessee? For colleges and universities within the Unites States, you can research institutions offering masters and doctorate programs by clicking on the related links section (Answers \\u2026Joe Ragusa Answered In Associates Degrees How many years will it take to become a doctor of nursing practice? The doctorate would take approximately four years post bachelor's degree to complete. The degree can run up to 60 credits in coursework particular to a specific field of study \\u2026Answered In Medical Fields How long did Florence Nightingale practice nursing?52 years Out of Here 838,246 Contributions Answered In Nursing Can a nurse practitioner take the place of a doctor? In some cases, an NP can take the place of a doctor, and in other situations, an NP may not. Answered In Education How long do it take to become a practical nurse?22 / 23 years Ayush, :)Deborah Russo 273 Contributions Answered In Medical Fields How long wouuld it take to become a doctor if you are already a nurse practitoner? It still would take around 7 years. Nursing has a different focus then medicine, and therefore it doesn't translate over. You'll need to sit for the MCAT and test into medical \\u2026 \",\n          \"Home \\u00bb College How Long Does It Take to Get a Doctorate in English? By Tom King The Short Answer While a doctorate in English is helpful in any field where the ability to communicate is essential, a recent survey of individuals who completed doctorates in English found that more than half of respondents took more than 9 years to complete the degree. Slightly fewer than half took from 5 to 9 years and a minuscule 5 percent managed to complete the work in just 3 to 5 years. Unemployment rates among holders of English doctorates are lower than the general unemployment rates. While tenured professorships are a little scarce, many English Ph. D.s find success in professional-level jobs in management, writing and editing, public relations, publishing and even politics, in addition to academia. Why So Long? If you pursue a stand-alone master's degree first and then reapply to a Ph. D. program, you'll have a completed master's in 3 to 7 years depending on how hard you work. Getting the master's degree first may help improve your financial situation if you are teaching. Plan on another 2 to 9 years for the doctorate. Often, but not always, you can count all your master's work toward your doctorate. If you go directly into a doctoral program, you may spend less time getting your degree, but the financial cost without the pay \\\"bump\\\" of getting the master's may actually slow you down in the long run. Few can afford a full-time doctoral program because of tuition costs. Many elect to take coursework in the summer and at night on a pay-as-you-go basis while working at full-time teaching jobs. This accounts for the 51 percent who take more than 9 years to finish. What You Can Do to Reduce the Time It Takes If your family can't help you financially, look for programs that offer graduate teaching-assistant jobs or other types of work-study. To finish a doctorate in 3 to 5 years, live as simply as possible, study hard, and focus on your graduate work. Go easy on the student loans if you can. It may take a few years after graduation to get your career on track. References Graduate Programs in English: St. Thomas University From Rumors to Facts: Career Outcomes of English Ph Ds: Nerad & Cerny About the Author Tom King published his first paid story in 1976. His book, \\\"Going for the Green: An Insider's Guide to Raising Money With Charity Golf,\\\" was published in 2008. He received gold awards for screenwriting at the 1994 Worldfest Charleston and 1995 Worldfest Houston International Film Festivals. King holds a Bachelor of Arts in communications from Southwestern Adventist College. More College Articles The Average Tuition for an Associate's Degree What Can I Do With an English/Humanities Bachelor's Degree? Types of Masters Degree Programs in Business Definition of a Business Administration Degree Cost of CNA Training How to Speak English Fluently Day-to-Day Cite this Article \",\n          \"Home > Important Days > Daylight Savings > Daylight Savings 2014When is Daylight Savings in 2014? Spring Forward: The clocks are set ahead one hour during Spring Forward. In 2014, this occurs on Sunday, March 9th. Fall Back: The clocks are set back one hour during Fall Back. In 2014, this occurs on Sunday, November 2nd. What is Daylight Savings? Daylight Savings Time, or DST, in 2014 begins on the second Sunday of March and ends on the first Sunday of November. In March, clocks are moved forward one hour from 2am standard time to 3am DST, and in November, clocks are moved back one hour from 2am DST to 1am standard time. The phrase \\\"spring forward, fall back\\\" is a helpful reminder of these time changes. \"\n        ],\n        \"semantic_type\": \"\",\n        \"description\": \"\"\n      }\n    }\n  ]\n}"
            }
          },
          "metadata": {},
          "execution_count": 41
        },
        {
          "output_type": "stream",
          "name": "stdout",
          "text": [
            "time: 22.4 ms (started: 2024-03-26 23:04:43 +00:00)\n"
          ]
        }
      ],
      "source": [
        "docs.loc[pred10i]"
      ]
    },
    {
      "cell_type": "code",
      "execution_count": 42,
      "id": "40f071cb-224f-4c77-9811-31e7be389ca8",
      "metadata": {
        "id": "40f071cb-224f-4c77-9811-31e7be389ca8",
        "colab": {
          "base_uri": "https://localhost:8080/"
        },
        "outputId": "c8511cbd-9b16-4b0a-bd19-d84a5d9406f3"
      },
      "outputs": [
        {
          "output_type": "execute_result",
          "data": {
            "text/plain": [
              "16630    D3070882\n",
              "91275    D3090762\n",
              "44359     D638869\n",
              "71292     D471734\n",
              "1477     D2813027\n",
              "43190     D700799\n",
              "66313    D2956542\n",
              "3686     D2111066\n",
              "83787    D1951655\n",
              "11957    D2408424\n",
              "Name: docid, dtype: object"
            ]
          },
          "metadata": {},
          "execution_count": 42
        },
        {
          "output_type": "stream",
          "name": "stdout",
          "text": [
            "time: 4.53 ms (started: 2024-03-26 23:04:46 +00:00)\n"
          ]
        }
      ],
      "source": [
        "docs.loc[pred10i].docid"
      ]
    },
    {
      "cell_type": "markdown",
      "id": "39524ba6-1176-49b1-9e40-afd1a2b5e1bd",
      "metadata": {
        "id": "39524ba6-1176-49b1-9e40-afd1a2b5e1bd"
      },
      "source": [
        "### 🚧 todo:\n",
        "- find the relevant documents that are in our top 10\n",
        "- user intersect1d\n",
        "- compute the precision p@10"
      ]
    },
    {
      "cell_type": "markdown",
      "source": [
        "[numpy.intersect1d](https://numpy.org/doc/stable/reference/generated/numpy.intersect1d.html)(ar1, ar2, assume_unique=False, return_indices=False)\n",
        "\n",
        "Find the intersection of two arrays.\n",
        "\n",
        "Return the sorted, unique values that are in both of the input arrays."
      ],
      "metadata": {
        "id": "JbfQP0ltxgYT"
      },
      "id": "JbfQP0ltxgYT"
    },
    {
      "cell_type": "code",
      "source": [
        "relevant_doc = gold[gold.qid==251898].docid.tolist()\n",
        "\n",
        "top10 = docs.loc[pred10i].docid.tolist()"
      ],
      "metadata": {
        "colab": {
          "base_uri": "https://localhost:8080/"
        },
        "id": "ZqdbfGrCxwZ2",
        "outputId": "638baced-f04f-4415-ba23-4c2a0e302aeb"
      },
      "id": "ZqdbfGrCxwZ2",
      "execution_count": 43,
      "outputs": [
        {
          "output_type": "stream",
          "name": "stdout",
          "text": [
            "time: 2.5 ms (started: 2024-03-26 23:04:50 +00:00)\n"
          ]
        }
      ]
    },
    {
      "cell_type": "code",
      "execution_count": 44,
      "id": "667c20bf-9a1f-4159-af18-83bb2a81d965",
      "metadata": {
        "id": "667c20bf-9a1f-4159-af18-83bb2a81d965",
        "colab": {
          "base_uri": "https://localhost:8080/"
        },
        "outputId": "f38e2d18-f8e9-403c-f8a9-9aa09f5e0bab"
      },
      "outputs": [
        {
          "output_type": "execute_result",
          "data": {
            "text/plain": [
              "array(['D1951655', 'D2408424', 'D2956542', 'D3090762', 'D471734'],\n",
              "      dtype='<U8')"
            ]
          },
          "metadata": {},
          "execution_count": 44
        },
        {
          "output_type": "stream",
          "name": "stdout",
          "text": [
            "time: 3.41 ms (started: 2024-03-26 23:04:51 +00:00)\n"
          ]
        }
      ],
      "source": [
        "intersection = np.intersect1d(top10, relevant_doc)\n",
        "intersection"
      ]
    },
    {
      "cell_type": "code",
      "execution_count": null,
      "id": "01a97d89-f2de-40da-b806-55a3da2edbc3",
      "metadata": {
        "id": "01a97d89-f2de-40da-b806-55a3da2edbc3"
      },
      "outputs": [],
      "source": []
    },
    {
      "cell_type": "code",
      "execution_count": 45,
      "id": "12a703c3-4de5-454d-8969-7b20ecbffe15",
      "metadata": {
        "id": "12a703c3-4de5-454d-8969-7b20ecbffe15",
        "colab": {
          "base_uri": "https://localhost:8080/"
        },
        "outputId": "d9e544d3-5dc5-411e-ad23-5bf27e2b81ee"
      },
      "outputs": [
        {
          "output_type": "execute_result",
          "data": {
            "text/plain": [
              "0.5"
            ]
          },
          "metadata": {},
          "execution_count": 45
        },
        {
          "output_type": "stream",
          "name": "stdout",
          "text": [
            "time: 3.36 ms (started: 2024-03-26 23:04:55 +00:00)\n"
          ]
        }
      ],
      "source": [
        "precision = len(intersection)/10\n",
        "precision"
      ]
    },
    {
      "cell_type": "code",
      "execution_count": 46,
      "id": "b9fb0873-3a0d-4025-8992-88a190f69668",
      "metadata": {
        "id": "b9fb0873-3a0d-4025-8992-88a190f69668",
        "colab": {
          "base_uri": "https://localhost:8080/"
        },
        "outputId": "d79cae0e-df6a-484b-fe63-686e54c66057"
      },
      "outputs": [
        {
          "output_type": "execute_result",
          "data": {
            "text/plain": [
              "0.5"
            ]
          },
          "metadata": {},
          "execution_count": 46
        },
        {
          "output_type": "stream",
          "name": "stdout",
          "text": [
            "time: 13.7 ms (started: 2024-03-26 23:04:57 +00:00)\n"
          ]
        }
      ],
      "source": [
        "# 🚧 todo: build a function p@10 that gives the precision at 10\n",
        "def pAt10(qid):\n",
        "    qv = vectorizer.transform(queries[queries.qid==qid]['query'].tolist()).toarray()\n",
        "    outcome = X @ qv.transpose()\n",
        "    pred10i = np.argpartition(outcome.ravel(),-10)[-10:]\n",
        "\n",
        "    relevant_doc = gold[gold.qid==qid].docid.tolist()\n",
        "    top10 = docs.loc[pred10i].docid.tolist()\n",
        "\n",
        "    intersection = np.intersect1d(top10, relevant_doc)\n",
        "    precision = len(intersection)/10\n",
        "    return precision\n",
        "\n",
        "pAt10(251898)\n"
      ]
    },
    {
      "cell_type": "markdown",
      "id": "23227936-0403-49ec-8231-c273a628809c",
      "metadata": {
        "id": "23227936-0403-49ec-8231-c273a628809c"
      },
      "source": [
        "### 🚧 todo:\n",
        "- take our 500 training queries qid\n",
        "- apply our function\n",
        "- compute the average"
      ]
    },
    {
      "cell_type": "code",
      "execution_count": 47,
      "id": "93540efe-a6aa-4e1b-9f18-cb1635c78480",
      "metadata": {
        "id": "93540efe-a6aa-4e1b-9f18-cb1635c78480",
        "colab": {
          "base_uri": "https://localhost:8080/"
        },
        "outputId": "06926e35-26c8-420d-e2f8-5b6a267eafb2"
      },
      "outputs": [
        {
          "output_type": "execute_result",
          "data": {
            "text/plain": [
              "0      687888\n",
              "1      480210\n",
              "2      591004\n",
              "3      260536\n",
              "4       39422\n",
              "        ...  \n",
              "495    133970\n",
              "496     79788\n",
              "497    791583\n",
              "498    732078\n",
              "499    197098\n",
              "Name: qid, Length: 500, dtype: int64"
            ]
          },
          "metadata": {},
          "execution_count": 47
        },
        {
          "output_type": "stream",
          "name": "stdout",
          "text": [
            "time: 4.31 ms (started: 2024-03-26 23:05:01 +00:00)\n"
          ]
        }
      ],
      "source": [
        "training_queries.qid"
      ]
    },
    {
      "cell_type": "code",
      "execution_count": 48,
      "id": "154d615f-6e62-43d6-aba9-88ec14d77b8f",
      "metadata": {
        "id": "154d615f-6e62-43d6-aba9-88ec14d77b8f",
        "colab": {
          "base_uri": "https://localhost:8080/"
        },
        "outputId": "2f13cdf2-c270-4457-f7c1-5bb490b8b5f3"
      },
      "outputs": [
        {
          "output_type": "execute_result",
          "data": {
            "text/plain": [
              "0      0.0\n",
              "1      0.5\n",
              "2      0.3\n",
              "3      0.5\n",
              "4      0.4\n",
              "      ... \n",
              "495    0.6\n",
              "496    0.1\n",
              "497    0.0\n",
              "498    0.1\n",
              "499    0.3\n",
              "Name: qid, Length: 500, dtype: float64"
            ]
          },
          "metadata": {},
          "execution_count": 48
        },
        {
          "output_type": "stream",
          "name": "stdout",
          "text": [
            "time: 1.65 s (started: 2024-03-26 23:05:03 +00:00)\n"
          ]
        }
      ],
      "source": [
        "training_queries.qid.apply(pAt10)"
      ]
    },
    {
      "cell_type": "code",
      "execution_count": 49,
      "id": "0a29b6aa-a19b-4700-8fef-eb5d2e82ac28",
      "metadata": {
        "id": "0a29b6aa-a19b-4700-8fef-eb5d2e82ac28",
        "colab": {
          "base_uri": "https://localhost:8080/"
        },
        "outputId": "4b0acf19-d363-46cc-999f-15d31a450880"
      },
      "outputs": [
        {
          "output_type": "execute_result",
          "data": {
            "text/plain": [
              "0.32"
            ]
          },
          "metadata": {},
          "execution_count": 49
        },
        {
          "output_type": "stream",
          "name": "stdout",
          "text": [
            "time: 1.66 s (started: 2024-03-26 23:05:07 +00:00)\n"
          ]
        }
      ],
      "source": [
        "training_queries.qid.apply(pAt10).mean()"
      ]
    },
    {
      "cell_type": "markdown",
      "id": "f3a482be-d400-4c9b-a122-3f9c62c2f365",
      "metadata": {
        "id": "f3a482be-d400-4c9b-a122-3f9c62c2f365"
      },
      "source": [
        "- that looks like a baseline we can beat :)\n",
        "- what's the query we are doing best in?\n",
        "    - max?"
      ]
    },
    {
      "cell_type": "code",
      "execution_count": 50,
      "id": "25e9a7d0-c44b-4b9f-b9ec-52d6422b269b",
      "metadata": {
        "id": "25e9a7d0-c44b-4b9f-b9ec-52d6422b269b",
        "colab": {
          "base_uri": "https://localhost:8080/"
        },
        "outputId": "a1748c06-df2f-42b4-b9a4-7cc3ccb9a4d5"
      },
      "outputs": [
        {
          "output_type": "execute_result",
          "data": {
            "text/plain": [
              "1.0"
            ]
          },
          "metadata": {},
          "execution_count": 50
        },
        {
          "output_type": "stream",
          "name": "stdout",
          "text": [
            "time: 1.63 s (started: 2024-03-26 23:05:10 +00:00)\n"
          ]
        }
      ],
      "source": [
        "training_queries.qid.apply(pAt10).max()"
      ]
    },
    {
      "cell_type": "markdown",
      "id": "baaca9c0-a7e1-46b5-9dc2-91eab2bf3b3d",
      "metadata": {
        "id": "baaca9c0-a7e1-46b5-9dc2-91eab2bf3b3d"
      },
      "source": [
        "- oh, we have just been lucky before..."
      ]
    },
    {
      "cell_type": "markdown",
      "id": "72e2f986-f3f9-4b90-b8a8-31b1250531b7",
      "metadata": {
        "id": "72e2f986-f3f9-4b90-b8a8-31b1250531b7"
      },
      "source": [
        "## 🚧 todo:\n",
        "\n",
        "- redo the vectorization and evaluation on the whole text, not only the titles\n",
        "- try the non-binary CountVectorizer\n",
        "- go for tf-idf\n",
        "    - play with at least two options and re-evaluate\n",
        "- find other improvements. these may include:\n",
        "    - cleaning the text\n",
        "    - heuristically combining title and body matches\n",
        "    - looking at bigrams\n",
        "    - looking at terms (by means of a clean multi-word term list from wikipedia, see notebook 1)\n",
        "    - by removing stopwords (look at nltk or spacy to do that)\n",
        "    - trying an implementation of bm25 (slow with standard implementation, see last cell if you want to do it)\n",
        "  \n",
        "- do a grid search with a few promising parameters\n",
        "    - maybe get inspired by GridSearchCV and pipelines in https://scikit-learn.org/stable/auto_examples/model_selection/grid_search_text_feature_extraction.html#sphx-glr-auto-examples-model-selection-grid-search-text-feature-extraction-py\n",
        "        - you can also check the weel-written section \"Pipelines\" in this book: https://www.oreilly.com/library/view/applied-text-analysis/9781491963036/ch04.html\n",
        "    - make a nice visualization of the results\n",
        "    \n",
        "- interpret the complete results in 3 to 5 sentences.\n",
        "    - what strategy would do best if we switch our evaluation to p@100?\n",
        "\n",
        "- give some ideas for improving the results\n",
        "\n",
        "\n",
        "\n"
      ]
    },
    {
      "cell_type": "markdown",
      "source": [
        "#### Redo the vectorization and evaluation on the whole text, not only the titles"
      ],
      "metadata": {
        "id": "U-erUkx00kxC"
      },
      "id": "U-erUkx00kxC"
    },
    {
      "cell_type": "code",
      "source": [
        "# Tokenization\n",
        "vectorizer = CountVectorizer(binary=True)\n",
        "X = vectorizer.fit_transform(docs.body.tolist())\n",
        "\n",
        "# evaluation\n",
        "training_queries.qid.apply(pAt10).mean()"
      ],
      "metadata": {
        "colab": {
          "base_uri": "https://localhost:8080/"
        },
        "id": "q3eottty0Zdl",
        "outputId": "d57a458e-4480-48ec-fbce-66eefcb38e72"
      },
      "id": "q3eottty0Zdl",
      "execution_count": null,
      "outputs": [
        {
          "output_type": "execute_result",
          "data": {
            "text/plain": [
              "0.48"
            ]
          },
          "metadata": {},
          "execution_count": 56
        },
        {
          "output_type": "stream",
          "name": "stdout",
          "text": [
            "time: 4min 33s (started: 2024-03-22 13:25:07 +00:00)\n"
          ]
        }
      ]
    },
    {
      "cell_type": "markdown",
      "source": [
        "#### Try the non-binary CountVectorizer"
      ],
      "metadata": {
        "id": "OY3ujG501pj7"
      },
      "id": "OY3ujG501pj7"
    },
    {
      "cell_type": "code",
      "source": [
        "# Tokenization\n",
        "vectorizer = CountVectorizer(binary=False)\n",
        "X = vectorizer.fit_transform(docs.body.tolist())\n",
        "\n",
        "# evaluation\n",
        "training_queries.qid.apply(pAt10).mean()"
      ],
      "metadata": {
        "colab": {
          "base_uri": "https://localhost:8080/"
        },
        "id": "sKrOEazX1o9B",
        "outputId": "27016726-207c-450d-a6ef-4fbeabc32e01"
      },
      "id": "sKrOEazX1o9B",
      "execution_count": null,
      "outputs": [
        {
          "output_type": "execute_result",
          "data": {
            "text/plain": [
              "0.046200000000000005"
            ]
          },
          "metadata": {},
          "execution_count": 72
        },
        {
          "output_type": "stream",
          "name": "stdout",
          "text": [
            "time: 4min 52s (started: 2024-03-17 14:39:27 +00:00)\n"
          ]
        }
      ]
    },
    {
      "cell_type": "markdown",
      "source": [
        "#### Go for tf-idf\n",
        "\n",
        "Here I use 2 different normalization methods"
      ],
      "metadata": {
        "id": "bxO6RjlH15bp"
      },
      "id": "bxO6RjlH15bp"
    },
    {
      "cell_type": "code",
      "source": [
        "from sklearn.feature_extraction.text import TfidfVectorizer\n",
        "\n",
        "# vectorization\n",
        "vectorizer = TfidfVectorizer(norm='l1')\n",
        "X = vectorizer.fit_transform(docs.body.tolist())\n",
        "\n",
        "# evaluation\n",
        "training_queries.qid.apply(pAt10).mean()"
      ],
      "metadata": {
        "colab": {
          "base_uri": "https://localhost:8080/"
        },
        "id": "VlYlkds115LN",
        "outputId": "74c662d0-4452-44e8-a744-a7aab0a20d45"
      },
      "id": "VlYlkds115LN",
      "execution_count": null,
      "outputs": [
        {
          "output_type": "execute_result",
          "data": {
            "text/plain": [
              "0.7766000000000001"
            ]
          },
          "metadata": {},
          "execution_count": 73
        },
        {
          "output_type": "stream",
          "name": "stdout",
          "text": [
            "time: 4min 22s (started: 2024-03-17 14:44:19 +00:00)\n"
          ]
        }
      ]
    },
    {
      "cell_type": "code",
      "source": [
        "# vectorization\n",
        "vectorizer = TfidfVectorizer(norm='l2')\n",
        "\n",
        "X = vectorizer.fit_transform(docs.body.tolist())\n",
        "\n",
        "# evaluation\n",
        "training_queries.qid.apply(pAt10).mean()"
      ],
      "metadata": {
        "colab": {
          "base_uri": "https://localhost:8080/"
        },
        "id": "yLnHgtM-2D_E",
        "outputId": "b9acc58e-0b0e-4dc0-c0c2-541f94f4000e"
      },
      "id": "yLnHgtM-2D_E",
      "execution_count": null,
      "outputs": [
        {
          "output_type": "execute_result",
          "data": {
            "text/plain": [
              "0.8972"
            ]
          },
          "metadata": {},
          "execution_count": 74
        },
        {
          "output_type": "stream",
          "name": "stdout",
          "text": [
            "time: 4min 18s (started: 2024-03-17 14:48:42 +00:00)\n"
          ]
        }
      ]
    },
    {
      "cell_type": "markdown",
      "source": [
        "#### Find other improvements\n",
        "\n",
        "1. cleaning the text"
      ],
      "metadata": {
        "id": "e0lTKf8S0qsf"
      },
      "id": "e0lTKf8S0qsf"
    },
    {
      "cell_type": "code",
      "execution_count": 51,
      "id": "39502d86-c7a8-4468-95b5-c0fe2e6c8db6",
      "metadata": {
        "id": "39502d86-c7a8-4468-95b5-c0fe2e6c8db6",
        "colab": {
          "base_uri": "https://localhost:8080/"
        },
        "outputId": "d9365406-ffa0-41bc-a757-e1a86da43af3"
      },
      "outputs": [
        {
          "output_type": "stream",
          "name": "stdout",
          "text": [
            "time: 3min 6s (started: 2024-03-26 23:05:26 +00:00)\n"
          ]
        }
      ],
      "source": [
        "# Function for leaning text\n",
        "# remove words with numbers inside\n",
        "# replace new lines by space\n",
        "# remove urls\n",
        "# only keep ascii words\n",
        "def clean_text(text):\n",
        "    # remove words with numbers inside\n",
        "    text=re.sub('\\w*\\d+\\w*','', text)\n",
        "    # replace new lines by space\n",
        "    text=text.replace('\\n',' ')\n",
        "    # remove urls\n",
        "    text = re.sub(r'http\\S+', '', text)\n",
        "    # only keep ascii words\n",
        "    text = text.encode(\"ascii\", errors=\"ignore\").decode()\n",
        "    return text\n",
        "\n",
        "# Cleaning corpus using RegEx\n",
        "docs['cleaned']=docs['body'].apply(lambda x: clean_text(x))\n"
      ]
    },
    {
      "cell_type": "code",
      "source": [
        "docs"
      ],
      "metadata": {
        "colab": {
          "base_uri": "https://localhost:8080/",
          "height": 615
        },
        "id": "muDWBYLMXr_D",
        "outputId": "3465ac9b-6b5a-4d67-d55c-a63825da3762"
      },
      "id": "muDWBYLMXr_D",
      "execution_count": null,
      "outputs": [
        {
          "output_type": "execute_result",
          "data": {
            "text/plain": [
              "          docid                                              title  \\\n",
              "0      D2981241                 What do you call a group of lions?   \n",
              "1       D687756                                                  .   \n",
              "2       D913099  Everything You Need To Learn How To Cook Veget...   \n",
              "3       D328017  What is the difference between latitude, longi...   \n",
              "4      D1636347                      When was the pulley invented?   \n",
              "...         ...                                                ...   \n",
              "92560  D3379210  Top 39 Doctor insights on: Can An Iud Cause Ha...   \n",
              "92561  D3068739     How to get back your DirecTV cancellation fees   \n",
              "92562  D1590402                                 Certification FAQs   \n",
              "92563  D2175490  Greenhouse gas emissions by Canadian economic ...   \n",
              "92564  D2580062                                QuickBooks Bill Pay   \n",
              "\n",
              "                                                    body  \\\n",
              "0      Lions Vocabulary of the English Language Word ...   \n",
              "1      The A Priori Argument ( also, Rationalization;...   \n",
              "2      Home > How To Cook Vegetables Everything You N...   \n",
              "3      Longitude Latitude Geographic Coordinate Syste...   \n",
              "4      Answers.com ® Wiki Answers ® Categories Techno...   \n",
              "...                                                  ...   \n",
              "92560  Top 39 Doctor insights on: Can An Iud Cause Ha...   \n",
              "92561  How to get back your Direc TV cancellation fee...   \n",
              "92562  Fingerprinting 1. Where can I get fingerprinte...   \n",
              "92563  Access PDF (682 KB)In 2015, Canada's total gre...   \n",
              "92564  Quick Books Bill Pay Simplify your accounts pa...   \n",
              "\n",
              "                                                 cleaned  \n",
              "0      Lions Vocabulary of the English Language Word ...  \n",
              "1      The A Priori Argument ( also, Rationalization;...  \n",
              "2      Home > How To Cook Vegetables Everything You N...  \n",
              "3      Longitude Latitude Geographic Coordinate Syste...  \n",
              "4      Answers.com  Wiki Answers  Categories Technolo...  \n",
              "...                                                  ...  \n",
              "92560  Top  Doctor insights on: Can An Iud Cause Hair...  \n",
              "92561  How to get back your Direc TV cancellation fee...  \n",
              "92562  Fingerprinting . Where can I get fingerprinted...  \n",
              "92563  Access PDF ( KB)In , Canada's total greenhouse...  \n",
              "92564  Quick Books Bill Pay Simplify your accounts pa...  \n",
              "\n",
              "[92565 rows x 4 columns]"
            ],
            "text/html": [
              "\n",
              "  <div id=\"df-956e2001-9ef8-44fd-9a18-b134ae7ce187\" class=\"colab-df-container\">\n",
              "    <div>\n",
              "<style scoped>\n",
              "    .dataframe tbody tr th:only-of-type {\n",
              "        vertical-align: middle;\n",
              "    }\n",
              "\n",
              "    .dataframe tbody tr th {\n",
              "        vertical-align: top;\n",
              "    }\n",
              "\n",
              "    .dataframe thead th {\n",
              "        text-align: right;\n",
              "    }\n",
              "</style>\n",
              "<table border=\"1\" class=\"dataframe\">\n",
              "  <thead>\n",
              "    <tr style=\"text-align: right;\">\n",
              "      <th></th>\n",
              "      <th>docid</th>\n",
              "      <th>title</th>\n",
              "      <th>body</th>\n",
              "      <th>cleaned</th>\n",
              "    </tr>\n",
              "  </thead>\n",
              "  <tbody>\n",
              "    <tr>\n",
              "      <th>0</th>\n",
              "      <td>D2981241</td>\n",
              "      <td>What do you call a group of lions?</td>\n",
              "      <td>Lions Vocabulary of the English Language Word ...</td>\n",
              "      <td>Lions Vocabulary of the English Language Word ...</td>\n",
              "    </tr>\n",
              "    <tr>\n",
              "      <th>1</th>\n",
              "      <td>D687756</td>\n",
              "      <td>.</td>\n",
              "      <td>The A Priori Argument ( also, Rationalization;...</td>\n",
              "      <td>The A Priori Argument ( also, Rationalization;...</td>\n",
              "    </tr>\n",
              "    <tr>\n",
              "      <th>2</th>\n",
              "      <td>D913099</td>\n",
              "      <td>Everything You Need To Learn How To Cook Veget...</td>\n",
              "      <td>Home &gt; How To Cook Vegetables Everything You N...</td>\n",
              "      <td>Home &gt; How To Cook Vegetables Everything You N...</td>\n",
              "    </tr>\n",
              "    <tr>\n",
              "      <th>3</th>\n",
              "      <td>D328017</td>\n",
              "      <td>What is the difference between latitude, longi...</td>\n",
              "      <td>Longitude Latitude Geographic Coordinate Syste...</td>\n",
              "      <td>Longitude Latitude Geographic Coordinate Syste...</td>\n",
              "    </tr>\n",
              "    <tr>\n",
              "      <th>4</th>\n",
              "      <td>D1636347</td>\n",
              "      <td>When was the pulley invented?</td>\n",
              "      <td>Answers.com ® Wiki Answers ® Categories Techno...</td>\n",
              "      <td>Answers.com  Wiki Answers  Categories Technolo...</td>\n",
              "    </tr>\n",
              "    <tr>\n",
              "      <th>...</th>\n",
              "      <td>...</td>\n",
              "      <td>...</td>\n",
              "      <td>...</td>\n",
              "      <td>...</td>\n",
              "    </tr>\n",
              "    <tr>\n",
              "      <th>92560</th>\n",
              "      <td>D3379210</td>\n",
              "      <td>Top 39 Doctor insights on: Can An Iud Cause Ha...</td>\n",
              "      <td>Top 39 Doctor insights on: Can An Iud Cause Ha...</td>\n",
              "      <td>Top  Doctor insights on: Can An Iud Cause Hair...</td>\n",
              "    </tr>\n",
              "    <tr>\n",
              "      <th>92561</th>\n",
              "      <td>D3068739</td>\n",
              "      <td>How to get back your DirecTV cancellation fees</td>\n",
              "      <td>How to get back your Direc TV cancellation fee...</td>\n",
              "      <td>How to get back your Direc TV cancellation fee...</td>\n",
              "    </tr>\n",
              "    <tr>\n",
              "      <th>92562</th>\n",
              "      <td>D1590402</td>\n",
              "      <td>Certification FAQs</td>\n",
              "      <td>Fingerprinting 1. Where can I get fingerprinte...</td>\n",
              "      <td>Fingerprinting . Where can I get fingerprinted...</td>\n",
              "    </tr>\n",
              "    <tr>\n",
              "      <th>92563</th>\n",
              "      <td>D2175490</td>\n",
              "      <td>Greenhouse gas emissions by Canadian economic ...</td>\n",
              "      <td>Access PDF (682 KB)In 2015, Canada's total gre...</td>\n",
              "      <td>Access PDF ( KB)In , Canada's total greenhouse...</td>\n",
              "    </tr>\n",
              "    <tr>\n",
              "      <th>92564</th>\n",
              "      <td>D2580062</td>\n",
              "      <td>QuickBooks Bill Pay</td>\n",
              "      <td>Quick Books Bill Pay Simplify your accounts pa...</td>\n",
              "      <td>Quick Books Bill Pay Simplify your accounts pa...</td>\n",
              "    </tr>\n",
              "  </tbody>\n",
              "</table>\n",
              "<p>92565 rows × 4 columns</p>\n",
              "</div>\n",
              "    <div class=\"colab-df-buttons\">\n",
              "\n",
              "  <div class=\"colab-df-container\">\n",
              "    <button class=\"colab-df-convert\" onclick=\"convertToInteractive('df-956e2001-9ef8-44fd-9a18-b134ae7ce187')\"\n",
              "            title=\"Convert this dataframe to an interactive table.\"\n",
              "            style=\"display:none;\">\n",
              "\n",
              "  <svg xmlns=\"http://www.w3.org/2000/svg\" height=\"24px\" viewBox=\"0 -960 960 960\">\n",
              "    <path d=\"M120-120v-720h720v720H120Zm60-500h600v-160H180v160Zm220 220h160v-160H400v160Zm0 220h160v-160H400v160ZM180-400h160v-160H180v160Zm440 0h160v-160H620v160ZM180-180h160v-160H180v160Zm440 0h160v-160H620v160Z\"/>\n",
              "  </svg>\n",
              "    </button>\n",
              "\n",
              "  <style>\n",
              "    .colab-df-container {\n",
              "      display:flex;\n",
              "      gap: 12px;\n",
              "    }\n",
              "\n",
              "    .colab-df-convert {\n",
              "      background-color: #E8F0FE;\n",
              "      border: none;\n",
              "      border-radius: 50%;\n",
              "      cursor: pointer;\n",
              "      display: none;\n",
              "      fill: #1967D2;\n",
              "      height: 32px;\n",
              "      padding: 0 0 0 0;\n",
              "      width: 32px;\n",
              "    }\n",
              "\n",
              "    .colab-df-convert:hover {\n",
              "      background-color: #E2EBFA;\n",
              "      box-shadow: 0px 1px 2px rgba(60, 64, 67, 0.3), 0px 1px 3px 1px rgba(60, 64, 67, 0.15);\n",
              "      fill: #174EA6;\n",
              "    }\n",
              "\n",
              "    .colab-df-buttons div {\n",
              "      margin-bottom: 4px;\n",
              "    }\n",
              "\n",
              "    [theme=dark] .colab-df-convert {\n",
              "      background-color: #3B4455;\n",
              "      fill: #D2E3FC;\n",
              "    }\n",
              "\n",
              "    [theme=dark] .colab-df-convert:hover {\n",
              "      background-color: #434B5C;\n",
              "      box-shadow: 0px 1px 3px 1px rgba(0, 0, 0, 0.15);\n",
              "      filter: drop-shadow(0px 1px 2px rgba(0, 0, 0, 0.3));\n",
              "      fill: #FFFFFF;\n",
              "    }\n",
              "  </style>\n",
              "\n",
              "    <script>\n",
              "      const buttonEl =\n",
              "        document.querySelector('#df-956e2001-9ef8-44fd-9a18-b134ae7ce187 button.colab-df-convert');\n",
              "      buttonEl.style.display =\n",
              "        google.colab.kernel.accessAllowed ? 'block' : 'none';\n",
              "\n",
              "      async function convertToInteractive(key) {\n",
              "        const element = document.querySelector('#df-956e2001-9ef8-44fd-9a18-b134ae7ce187');\n",
              "        const dataTable =\n",
              "          await google.colab.kernel.invokeFunction('convertToInteractive',\n",
              "                                                    [key], {});\n",
              "        if (!dataTable) return;\n",
              "\n",
              "        const docLinkHtml = 'Like what you see? Visit the ' +\n",
              "          '<a target=\"_blank\" href=https://colab.research.google.com/notebooks/data_table.ipynb>data table notebook</a>'\n",
              "          + ' to learn more about interactive tables.';\n",
              "        element.innerHTML = '';\n",
              "        dataTable['output_type'] = 'display_data';\n",
              "        await google.colab.output.renderOutput(dataTable, element);\n",
              "        const docLink = document.createElement('div');\n",
              "        docLink.innerHTML = docLinkHtml;\n",
              "        element.appendChild(docLink);\n",
              "      }\n",
              "    </script>\n",
              "  </div>\n",
              "\n",
              "\n",
              "<div id=\"df-d990cdd2-02a0-4cdf-8b00-5bb8d052f4fb\">\n",
              "  <button class=\"colab-df-quickchart\" onclick=\"quickchart('df-d990cdd2-02a0-4cdf-8b00-5bb8d052f4fb')\"\n",
              "            title=\"Suggest charts\"\n",
              "            style=\"display:none;\">\n",
              "\n",
              "<svg xmlns=\"http://www.w3.org/2000/svg\" height=\"24px\"viewBox=\"0 0 24 24\"\n",
              "     width=\"24px\">\n",
              "    <g>\n",
              "        <path d=\"M19 3H5c-1.1 0-2 .9-2 2v14c0 1.1.9 2 2 2h14c1.1 0 2-.9 2-2V5c0-1.1-.9-2-2-2zM9 17H7v-7h2v7zm4 0h-2V7h2v10zm4 0h-2v-4h2v4z\"/>\n",
              "    </g>\n",
              "</svg>\n",
              "  </button>\n",
              "\n",
              "<style>\n",
              "  .colab-df-quickchart {\n",
              "      --bg-color: #E8F0FE;\n",
              "      --fill-color: #1967D2;\n",
              "      --hover-bg-color: #E2EBFA;\n",
              "      --hover-fill-color: #174EA6;\n",
              "      --disabled-fill-color: #AAA;\n",
              "      --disabled-bg-color: #DDD;\n",
              "  }\n",
              "\n",
              "  [theme=dark] .colab-df-quickchart {\n",
              "      --bg-color: #3B4455;\n",
              "      --fill-color: #D2E3FC;\n",
              "      --hover-bg-color: #434B5C;\n",
              "      --hover-fill-color: #FFFFFF;\n",
              "      --disabled-bg-color: #3B4455;\n",
              "      --disabled-fill-color: #666;\n",
              "  }\n",
              "\n",
              "  .colab-df-quickchart {\n",
              "    background-color: var(--bg-color);\n",
              "    border: none;\n",
              "    border-radius: 50%;\n",
              "    cursor: pointer;\n",
              "    display: none;\n",
              "    fill: var(--fill-color);\n",
              "    height: 32px;\n",
              "    padding: 0;\n",
              "    width: 32px;\n",
              "  }\n",
              "\n",
              "  .colab-df-quickchart:hover {\n",
              "    background-color: var(--hover-bg-color);\n",
              "    box-shadow: 0 1px 2px rgba(60, 64, 67, 0.3), 0 1px 3px 1px rgba(60, 64, 67, 0.15);\n",
              "    fill: var(--button-hover-fill-color);\n",
              "  }\n",
              "\n",
              "  .colab-df-quickchart-complete:disabled,\n",
              "  .colab-df-quickchart-complete:disabled:hover {\n",
              "    background-color: var(--disabled-bg-color);\n",
              "    fill: var(--disabled-fill-color);\n",
              "    box-shadow: none;\n",
              "  }\n",
              "\n",
              "  .colab-df-spinner {\n",
              "    border: 2px solid var(--fill-color);\n",
              "    border-color: transparent;\n",
              "    border-bottom-color: var(--fill-color);\n",
              "    animation:\n",
              "      spin 1s steps(1) infinite;\n",
              "  }\n",
              "\n",
              "  @keyframes spin {\n",
              "    0% {\n",
              "      border-color: transparent;\n",
              "      border-bottom-color: var(--fill-color);\n",
              "      border-left-color: var(--fill-color);\n",
              "    }\n",
              "    20% {\n",
              "      border-color: transparent;\n",
              "      border-left-color: var(--fill-color);\n",
              "      border-top-color: var(--fill-color);\n",
              "    }\n",
              "    30% {\n",
              "      border-color: transparent;\n",
              "      border-left-color: var(--fill-color);\n",
              "      border-top-color: var(--fill-color);\n",
              "      border-right-color: var(--fill-color);\n",
              "    }\n",
              "    40% {\n",
              "      border-color: transparent;\n",
              "      border-right-color: var(--fill-color);\n",
              "      border-top-color: var(--fill-color);\n",
              "    }\n",
              "    60% {\n",
              "      border-color: transparent;\n",
              "      border-right-color: var(--fill-color);\n",
              "    }\n",
              "    80% {\n",
              "      border-color: transparent;\n",
              "      border-right-color: var(--fill-color);\n",
              "      border-bottom-color: var(--fill-color);\n",
              "    }\n",
              "    90% {\n",
              "      border-color: transparent;\n",
              "      border-bottom-color: var(--fill-color);\n",
              "    }\n",
              "  }\n",
              "</style>\n",
              "\n",
              "  <script>\n",
              "    async function quickchart(key) {\n",
              "      const quickchartButtonEl =\n",
              "        document.querySelector('#' + key + ' button');\n",
              "      quickchartButtonEl.disabled = true;  // To prevent multiple clicks.\n",
              "      quickchartButtonEl.classList.add('colab-df-spinner');\n",
              "      try {\n",
              "        const charts = await google.colab.kernel.invokeFunction(\n",
              "            'suggestCharts', [key], {});\n",
              "      } catch (error) {\n",
              "        console.error('Error during call to suggestCharts:', error);\n",
              "      }\n",
              "      quickchartButtonEl.classList.remove('colab-df-spinner');\n",
              "      quickchartButtonEl.classList.add('colab-df-quickchart-complete');\n",
              "    }\n",
              "    (() => {\n",
              "      let quickchartButtonEl =\n",
              "        document.querySelector('#df-d990cdd2-02a0-4cdf-8b00-5bb8d052f4fb button');\n",
              "      quickchartButtonEl.style.display =\n",
              "        google.colab.kernel.accessAllowed ? 'block' : 'none';\n",
              "    })();\n",
              "  </script>\n",
              "</div>\n",
              "    </div>\n",
              "  </div>\n"
            ],
            "application/vnd.google.colaboratory.intrinsic+json": {
              "type": "dataframe",
              "variable_name": "docs",
              "summary": "{\n  \"name\": \"docs\",\n  \"rows\": 92565,\n  \"fields\": [\n    {\n      \"column\": \"docid\",\n      \"properties\": {\n        \"dtype\": \"string\",\n        \"num_unique_values\": 92565,\n        \"samples\": [\n          \"D3490776\",\n          \"D587475\",\n          \"D3442790\"\n        ],\n        \"semantic_type\": \"\",\n        \"description\": \"\"\n      }\n    },\n    {\n      \"column\": \"title\",\n      \"properties\": {\n        \"dtype\": \"string\",\n        \"num_unique_values\": 74751,\n        \"samples\": [\n          \"Denny's of Brooklyn\",\n          \"Meaning of Spanish word \\\"paisa\\\" Colombia slang?\",\n          \"Firefox\"\n        ],\n        \"semantic_type\": \"\",\n        \"description\": \"\"\n      }\n    },\n    {\n      \"column\": \"body\",\n      \"properties\": {\n        \"dtype\": \"string\",\n        \"num_unique_values\": 88524,\n        \"samples\": [\n          \"............................................................................................................... Jan 19, 2014 by NATASHA LONGOThis Is What Happens In Your Stomach When You Consume Packaged Ramen Noodles With a Deadly Preservative Ramen noodles contain Tertiary-butyl hydroquinone (TBHQ), which is a byproduct of the petroleum industry and food additive frequently to preserve cheap processed foods. It is one of those chemicals that is neither digestible or beneficial in any way for your body. A gastrointestinal specialist conducted an experiment with a time lapse video inside the stomach, comparing both fresh and preserved ramen noodles. After two hours of digestion, the results were staggering. The first-of-its-kind experiment by Dr. Braden Kuo of Massachusetts General Hospital wanted to find out exactly what happens to food in the stomach and digestive tract after consuming ramen noodles. Thanks to the \\\"smart pill,\\\" a camera the size of a multi-vitamin, Dr. Kuo could do his experiment, showing what happens in the gut of someone who ate a package of instant ramen noodles compared to fresh. Dr. Kuo recorded 32 hours from the pill camera. \\\"What we're seeing here is a stomach contracting back and forth as it's trying to grind up the ramen noodles,\\\" Dr. Kuo says of the beginning of the video. For comparison, the study volunteers also ate fresh, homemade ramen noodles on a different day. The video at 20 minutes, and 2 hours, shows a striking difference. \\\"The most striking thing about our experiment when you looked at a time interval, say in one or two hours, we noticed a processed ramen noodles were less broken down that homemade ramen noodles,\\\" noted Dr. Kuo. This affects nutrient absorption and could theoretically allow preservatives to linger longer periods in the stomach cavity before being transported to the intestines and subsequently eliminated. What Is TBHQ? In processed foods, it's sprayed on the food or on its packaging to prevent discoloration and changes to flavor and odor. Others products, such as cosmetics, perfumes, varnishes and lacquers, contain TBHQ to maintain stability. Small amounts of TBHQ may not kill you (although death has occurred) or even make you feel immediately sick, but it can have a long term effect on your health such as weakening of organs and contributing to the onset of cancers and tumors. The FDA says that TBHQ must not exceed 0.02 percent of its oil and fat content. Death has occurred from the ingestion of as little as 5 grams. This would be a considerably high dose compared to the amounts found in foods, but it gives us a good indication on the toxicity level of this preservative. At higher doses, it has some negative health effects on lab animals, such as producing precursors to stomach tumors and damage to DNA. A number of studies have shown that prolonged exposure to high doses of TBHQ may be carcinogenic, especially for stomach tumors. Ingestion of a single gram (a thirtieth of an ounce) has caused nausea, vomiting, anaphylactic shock, diarrhea, ringing in the ears, delirium, a sense of suffocation, and collapse. Some people have reported having anxiety and night terrors and asthma after ingesting TBHQ. Others have reported having a body rash and swollen lymph nodes. You can find TBHQ in Mc Donald\\u2019s chicken Mcnuggets across the United States, however Mcdonalds European chicken nuggets do not contain the toxic preservative. This is interesting since both the European Food Safety Authority (EFSA) and the FDA have evaluated TBHQ and determined that it is safe to consume at the concentration allowed in foods. The EFSA considers TBHQ to be non-carcinogenic, so why do they not allow it in chicken mcnuggets? Other Food Products Containing TBHQ: Mcdonalds chicken nuggets and french fries CHEEZ-IT Crackers made by Kelloggs Butterfinger chocolate and Resee\\u2019s Peanut butter cups Nestle Crunch Wheat Thins Microwave popcorn Pam cooking spray Aldi products Keebler Club crackers Kellogs eggo frozen waffles and many other kellog products Taco bell beans and some taco shells Teddy Grahams Red Barron frozen pizza Keebler Cookies Tasty Kake Little Debbie Kellog\\u2019s Pop-Tarts Homestyle Peanut butter cookies Some forms of soymilk Different breads cerals and crackers could contain TBHQCrisco oil Some pet foods Many cosmetic products and baby products Some hair dyes lipsticks and eyeshadows Wrigley\\u2019s gum Little Debbies nutty bars and some M&M products KFC beans and fried chicken There are many more processed foods not listed above which contain TBHQ. A conclusion that is now quickly reaching vast numbers is that all processed food in general, has far too many problems to be considered safe. Our regulatory agencies are not responsibly catering to the problems and instead of removing these toxins from the food supply, are claiming that safe levels exist. Since when did safe levels exist of any poison entering the body? Sources:oregonstate.edufedup.com.au Natasha Longo has a master's degree in nutrition and is a certified fitness and nutritional counselor. She has consulted on public health policy and procurement in Canada, Australia, Spain, Ireland, England and Germany. Avoid 100 Dangerous Food Additives Causing ADHD, Asthma and Cancer Sorry, the browser you are using is not currently supported. Disqus actively supports the following browsers: Firefox Chrome Internet Explorer 11+Safaricolorado_df \\u2022 4 years ago I could eat a bottle of vitamins and kill myself. So technically, aren't vitamins toxic? Too much sugar can cause diabetes. Toxic. Too much water causes hyponatremia which can be fatal. Toxic. Awareness and moderation in all things. Richard Cheese \\u2022 2 years ago Congratulations. You get the award for idiot of the day. Massive \\u2022 2 years ago They make the point that the dosage is a factor. Vitamin C has no know toxic level, there is a bowel tolerance. I can't imagine a practical way you could kill yourself. The stupid behaviour required to kill yourself through ingestion of water is pretty transparent. The difference is twofold. The real concern is whether the trace amounts of these chemical are harmful. General toxicity may nod in that direction, but they are different issues. Small amounts of vitamin C are great for you, some additives have been found not to be The second issue is what the additive is there for. If a compound is unusual in the human food chain, toxic in some amount, and has no useful purpose post ingestion, why is it in my diet? It may well be useful in some regard, but I would wonder why I am eating it. Vitamin C is not made in the body, is essential to life, has some processing advantages, and is a good thing to eat. Is the difference really so incomprehensible? Another thing about vitamins is they don't change the formula every few years to avoid regulatory oversight. Michael Cooney \\u2022 4 years ago Dude, 5 grams is a (figurative) TON when considering toxicity. Think about medications folks take. Usually in the 0.250 - 0.400 g for anitbiotics (sometimes 1g for single dose treatments) or others: 0.080g for the strongest dose of Oxy Contin, 0.010 g for the strongest dose of Ambien, 0.002 g for the strongest dose of Xanax. 5 g is orders of magnitude greater. And I'm assuming that your 5 g statistic is correct, which after this alarmist piece, I am skeptical. Instant Ramen is not going to kill you. Jesus, people are just looking to find things to be alarmed about and just making stuff up. Read the safety section from the wiki page. This is so a non-story: http://en.wikipedia.org/wik... Prevent Disease.com \\u2022 4 years ago Yes, and there are also wikipedia pages on the safety levels of lead, mercury, cadmium and many other heavy metals, yet all of them may accumulate in the body in the long-term and none are theoretically safe at any level. Yet synergeistic toxicity in the body is very real and has been correlated to infant mortality through multi-doses in children http://www.ncbi.nlm.nih.gov.... Alan D Smith \\u2022 3 years ago Wikipedia is a total pack of lies. I've tried to correct false information there many times. It always reverted back to the lie in a day or so. As a part of their eternal, covert War On Humanity, the banksters will always be doing all in their power to poison Us to keep their medical and pharmaceutical industries churning up their profits.saywhatuwill \\u2022 4 years ago I'll be sure not to eat \\\"Some pet foods.\\\"T. Vernay \\u2022 3 years ago Disqus did us all a disserve when it took away the down vote button. T. Vernay \\u2022 3 years ago These days people are getting cancer at an alarming rate. Besides that obesity, IDDM, hyperlipidemia, HTN and so many illness are on the rise is the US. Just looking at baby-boomers alone research shows they are aging faster and are more ill than the generation before. This can not be a coincidence. I believe it's the inclusion of plastics and preservatives into our food culture. All the items are pointing the source, but it takes time to prove. Also, remember in the 50s/60 when data came forth that cigarettes were causing lung cancer (and later other cancers & illness) there were many criticizing its validity, but it ended up being true. Took a significant amount of years to prove the truth. I say it is time we take heed as consumers. We can not wait on an \\\"official publically approved\\\" proof. We have little pieces of evidence here and there that should suffice. Nixon Virtual Strategies \\u2022 3 years ago Well come on. We can pretty much all do the math here. People are working longer, have less quality time spent with loved ones and feeling good, don't meditate, don't walk anywhere ever, eat out of paper bags tossed through windows. All that can't possibly lead us to long life and healthy bodies. James Childress \\u2022 3 years ago That ramen in the gut doesn't look like the consumer actually chewed it. Who swallows ramen whole without chewing it up? Failure to chew will slow down the digestion process. Nixon Virtual Strategies \\u2022 3 years ago EXACTLY what I said! Everyone knows digestion begins in the mouth. This must have been a toothless and very hunger booger to have slurped it down unchewed like that. John \\u2022 3 years ago There was a point in my life where all I ate were ramon noodles - morning, noon and night. I switched to Jack N the Box - had a stroke at 26 and now I cook everything from home. Draw your own conclusions. Nixon Virtual Strategies \\u2022 3 years ago I would think the cumulative effect of a lifelong bad diet did you in at only 26, not switching back to Jack in the Box. Yes, let's draw our own conclusions. Danny Bowen \\u2022 4 years ago Since when did safe levels exist of any poison? So are you saying that since water at certain amounts is \\\"toxic\\\" it is a poison, and therefor at any amounts should not be ingested? Did you THINK before you wrote any of this? Katherine Morgan \\u2022 4 years ago And did YOU think before posting such an absurd response... Michael Cooney \\u2022 4 years ago He did and has an excellent point, Katherine. Almost everything will kill you in extreme excess. Not only does the author not mention how much is in a package of Ramen, but he also fails to understand that 5 g is not a little amount in this context. There are tons of things that are perfectly safe at low doses - and this is one of them. Stop looking for boogiemen in everything. Prevent Disease.com \\u2022 4 years ago No amount of any toxin is safe. Anything natural taken in excess can be toxic, however, anything artificial and poisonous is not safe in any amount. It is a sad reality that people justify foods based on their cost or taste, regardless of their toxicity. And when information is presented even in a video that demonstrates that the same preserved food (vs fresh) is not being broken down by the body, people turn a blind eye and attempt to justify why that is so. They then dismiss the information as alarmist rather than taking a step back thinking \\\"hey maybe this chemical shouldn't be in our food supply?\\\" or \\\"why are we eating anything processed that relies on chemical harmful preservatives at all?\\\" Instead, people argue dose and make excuses to justify the toxins in our foods. It's what we refer to as the sheeple paying tribute and defending those that poison them. Michael Cooney \\u2022 4 years ago I'm sorry, but your first statement is patently false. Our bodies deal with and process \\\"toxins\\\" all the time - take for instance apple seeds, which contain a compound which our bodies break down into cyanide. Cyanide can cause asphyxiation in some doses; however, our bodies are capable of metabolizing small doses of cyanide such that eating an apple core - or even 10 apple cores - don't harm us. Toxicity absolutely depends on dosage; there is no chemical so potent that a single molecule will kill us and there is no chemical so inert that a massive quantity will not kill us. Even water kills at sufficiently high doses by creating an extreme imbalance in your electrolytes. So yes, it is completely relevant to ask how much is in a container of ramen. If what you state were true, there would be no food that would pass such a strict standard. Second issue: there are many things we eat which do not digest. Fiber is one of them. Every time you eat a fruit, there is a large part of that which is indigestible. Any time you eat anything, there is a lot that is not digestible. To be blunt, this is why we defecate. I would agree that it's likely better to eat food that we use more of, assuming we still have a certain level of fiber in our diet. Third, chemicals don't scare me, and I wish they wouldn't scare you so much. Everything you eat contains chemicals. You don't even know what half of them are - scientists don't even know what some of them are. There is no complete catalog of every chemical that is in an apple or a stalk of celery or a haunch of organic beef. We eat these chemicals all the time without a thought, and we misattribute this to it being \\\"natural\\\". I say misattribute, because you are cherry-picking (perhaps literally!). You are ignoring all the natural organisms out there which you don't eat because they'd kill you. The potato plant, other than the root, is poisonous, for example. We've had generations upon generations of trial and error to determine generally what won't kill us in the next 24 hours, but we have almost no research on what might kill us after a lifetime of exposure. Who knows, maybe eating those apple seeds every day will produce early onset dimensia, but no one has thought to even study it. We give a pass to \\\"natural\\\" chemical, yet we jump upon man-made chemicals. That's not dispassionate, scientific thinking. I can assure you; I do not have Stockholm syndrome. I eat organically, when I can, because I do think the abundance of antibiotics and hormones we use are likely not good for the environment. But those beliefs are due to scientific study, not hunches. I don't hold a prejudicial attitude against anything man has made. We've made some pretty darn good things and some pretty crappy, harmful things. How could I immediately praise or write them off without doing any dispassionate scientific study? Brian Diaz \\u2022 2 years ago Great comment!T. Vernay \\u2022 3 years ago I know this is month ago. However, I am wondering if you can answer a general question. Do you think preservatives in our foods are causing inflammation, cancers and other harmful outcomes in the modern human body? Brian Diaz \\u2022 2 years ago\\\"however, anything artificial and poisonous is not safe in any amount. \\\"The 'artificial' bit is utter and complete nonsense!And, a substance is considered 'poisonous', when: the dose is within a certain range that causes harm or death; and/or by a particular route of administration (ROA) that exacerbates harm or hastens death by acting via a different mechanism. If no harm is caused by a particular dose or ROA, then the use of the word 'poisonous' is not justified. Colloquially, we call substances (not required in our diet) that cause harm at very low doses, 'poisons' or 'poisonous'. I get that, hence the confusion for some. Don't be constrained by a definition, especially not a colloquial one. Sodium cyanide (Na CN) is generally considered poisonous, because it causes harm at doses as low as say, 5 to 10 mg (I'm just guessing; don't quote me on this), and we do not require it in our diet; but if we were to ingest say 5 nanograms of Na CN, there would be no harm done and nothing to call 'poisonous'. One final thought. Antioxidants (in relation to food) are considered healthful. You will never guess why TBHQ is added as a preservative? It's an antioxidant. Nixon Virtual Strategies \\u2022 3 years ago What are you talking about? Look at soap. It's made with lye which is caustic but mixed properly, it's the bubbly wonderful stuff we use every day in one way or another. Yes...what Michael Cooney said. James Doe \\u2022 4 years ago Just drink vodka and you'll be fine!Nixon Virtual Strategies \\u2022 3 years ago Amen. Brian Diaz \\u2022 2 years ago You seem constrained by your own definition of the word 'poison'. All substances can be considered a 'poison'; the dose, and the route of administration, differentiate poisons from benign substances.brothersun \\u2022 3 years ago Maybe the stomach is contracting to try to grind up the pill-cam! Need a control group with no pill-cam to be sure. Nixon Virtual Strategies \\u2022 3 years ago...but without the pill-cam we couldn't see...the pill-cam. LOL!Sweetvegan \\u2022 3 years ago This was not an experiment involving TBHQ. This was an experiment comparing processed v. fresh ramen noodles. David Wierda \\u2022 3 years ago\\\"Aldi products\\\" All of them? Are you serious? Guest \\u2022 3 years ago Richard Cheese \\u2022 2 years ago WTF? Take your nonsene elsewhere idiot. Mike84 \\u2022 2 years ago Right on, I lost 30 pounds in 30 days as well eating Mc Donalds or Taco Bell almost daily. I didn't even buy the \\\"healthy\\\" stuff. I was eating double cheeseburgers, fries, quesaritos, etc. It's all about your total daily intake. Brian Diaz \\u2022 2 years ago Yes, it mostly is due to your daily caloric intake. Bryan Van Wagner \\u2022 3 years ago Life is fatal. Karen Sherry Brackett \\u2022 4 years ago Good article and interesting list of products containing this chemical. It is in the noodles. Besides making them rubbery it also raises their melting point which increases shelf life but also makes it hard to digest them and harder still ...to get any actual food nutrients from them. A person might as well eat a football. To put this in perspective butyl groups are used in everything from rubber tires to footballs. lol What's worse is their parent base for the chemical is hydroquinone. Here's a warning from the MSDS. Toxicity to Animals: Acute oral toxicity (LD50): 320 mg/kg [Rat.]. Acute dermal toxicity (LD50): 5970 mg/kg [Mammal]. Chronic Effects on Humans: The substance is toxic to lungs, the nervous system, mucous membranes. Karen Sherry Brackett \\u2022 4 years ago To put the MSDS for hydroquinone into perspective.... basically a 160 pound person would need to eat only ounces of 4-butylhydroquinone to reach acute toxicity at which point damage to their lungs and nervous system will start to be exhibited in a pronounced way. So, if barely half a pound taken all at once will produce acute toxicity damage then every exposure less than that will be causing damage as well only to a degree not physically noticeable as a symptom but with the potential to accumulate to the same level of symptom if not worse degrees of damage. So, while the content per package is very small because it is in use in so many products the over all exposure to this chemical is likely to be high and consequently a severe health hazard. This chemical really needs to be banned from all food products in my opinion. Also, keep in that this determination is only based on the parent molecule for hydroquinone and does not even take into account the health effects of the additional four butyl groups to the human body. Nicholas Humerickhouse \\u2022 3 years ago First, 4-butylhydroquinone is NOT the same as t-butylhydroquinone (TBHQ), so do not get them confused. Second, the potential to accumulate in the system is not possible as it is not stored but excreted, just like most things. You would rupture your digestive system long before you could get to a toxic level before you excreted it. You would have to ingest 5 kilograms of foods to have ingested 1 gram of TBHQ. Prevent Disease.com \\u2022 3 years ago Ok, we're clearly coming from different angles Nicholas. We don't share your perspective, but thanks for your feedback. Prevent Disease.com \\u2022 4 years ago Again, why argue dose and make excuses to justify the toxins in our foods. That's like ordering a pizza and spreading a little bit of drano plumbing powder because it tastes good, but lets not put too much because it's toxic at higher levels. It's a very illogical argument. Nicholas Humerickhouse \\u2022 3 years ago There are toxins in everything. Just breathing introduces toxins into the body. Organically grown foods have toxins, but you do not recommend that we not eat these foods. The normal human body can and does handle these toxins (both natural and man made) with little or no problem. The TBHQ is used as a food preservative in many foods including butter. Without it the foods would not have the ability to be stored, and without that ability these foods would not be available to the majority of people. Not everyone has a cow. Yes freshly made noodles are easier to digest and may be healthier, they are also MUCH more expensive per serving and take time that is not always available for food preparation. T. Vernay \\u2022 3 years ago I think it is about knowledge. If you choose to eat food knowing that it contains harmful items that were not meant to be digested by the body it is your choice. However, it is important that the public has knowledge to make such a choice also. Massive \\u2022 2 years ago Call BS on that. Making your own noodles is far cheaper. Making your own bread pays for the breadmaker in s a few weeks. and noodle makers that used to cost hundreds are pretty cheap also. People don't want to take the time, which is trivial once the routine is down, but they spend the time making the money and shopping. The problem is that the people who get into this stuff want to make flax kumquat bread, etc... And it takes a while to perfect a recipe so they loose interest. There isn't that much interest in using the machines to make a cheap normal bread because that isn't the magic most people are looking for. But is it healthier, fast, and cheaper? Sure. Prevent Disease.com \\u2022 3 years ago Of course the human body will handle toxins but the point is, you have hundreds of other choices aside from ramen noodles which do not have this preservative. Any toxins you may consider organically grown foods to contain are grown from the Earth and those can be handled effectively by bodily absorption, distribution, and metabolism whereas many of these type of toxins accumulate in the body and are not as easily metabolized or assimilated. THBQ is not in organic butter. You can make all the excuses in the world to consume preservatives, but in the end that's all they are, excuses because you always have a choice to eat healthier and consume fresh wholesome foods than those which are processed. You always have a choice. Nicholas Humerickhouse \\u2022 3 years ago Yes, the choice is there. Organic butter does not have THBQ. It also does not have a shelf life that makes it marketable except locally. And it does have a higher cost to the consumer. And while many toxins accumulate in the body and are dangerous, THBQ is not one of them. There are many reasons to not consume almost all of the foods that contain THBQ, but the toxicity is a very minor one. Rather you should limit or refrain consumption because of the high fat content of the chicken nuggets and butter, or the EXTREME sodium levels in the ramen flavour packet. Nixon Virtual Strategies \\u2022 3 years ago Yes but organic also costs a fortune AND I don't even trust that the little sticker on a supposed organic tomato means anything so I can't justify the cost. How many times has it been revealed that lower level products have been sold masquerading as a more expensive version or brand? It's a shame, though, really that even eating well is a luxury for some. I would have to quadruple my current food budget just to do whatever I could to buy better. I love, love, love fresh veggies and salads, fruits and the whole bit but I have more to do with my money than buy food. Bill De Lozier \\u2022 4 years agoyes , i agree. romans used lead for plumbing and decided wine tastes better in lead vessels. small doses over time are as debilitating as one large dose. the wealthy in ancient Rome became poisened over time and also sterile. their children died young as well. Brian Diaz \\u2022 2 years ago Everything is toxic or poisonous -- or it is not -- it all depends on the dose and route of administration (ROA). \\\"why argue dose and make excuses to justify the toxins in our foods\\\"Because at certain doses (and ROAs) these substances ARE NOT TOXINS. Drano is for drains, it was never meant for consumption, furthermore Drano is a mixture of several substances listed below for the crystal formulation:1. sodium hydroxide (aka lye or caustic soda),2. sodium nitrate,3. sodium chloride,4. aluminum (as metal flakes)Number 1 is used to make German pretzels, it's also used to remove a nasty tasting compound from unripe olives (green olives). It's also used to make soap, especially homemade soap. I wonder if green olives are good on pizza? Number 2 is used to cure country hams. A bit of country ham on a pizza might be delicious. I'll keep my eye out for the next Tombstone limited-time speciality pizza with country ham. Yum. Number 3 is found extensively in pizza. It's table salt. Number 4 is used to make aluminum-foil, cookware (pots, pans, cookie sheets, 1/2 and full-sized restaurant style sheet pans, etc.) I use a 1/2 sheet pan lined with aluminum foil to bake my Tombstone pizzas on. Of those substances, sodium hydroxide is the most poisonous, no, actually it's corrosive. Trace amounts in your soap may dry out your skin faster. Trace amounts in pretzels or green olives are not an issue because at those levels (doses) they cause no harm whatsoever. Obviously, a large dose will dissolve your skin or tissue of your esophagus. That's why it's used to clear drains. It breaks down hair, and dead skin. When you make soap, you use sodium hydroxide to convert fat into soap (a fatty acid sodium salt) and glycerine, which can now dissolve in water. It does the same thing to grease in your drain. One can use aluminum cookware with few issues, but if you were to swallow many aluminum metal flakes, they might tear up your digestive tract, or pass through without issue, or cause aluminum poisoning, but it depend on how much you swallowed. Sodium nitrate is probably the most poisonous but only at very high doses. What's left in a country ham causes no harm. It would appear much of Drano is already on, or in, or involved with your pizza. But only a total f*cking idiot would put Drano on his pizza. That would be much too high a dose of FOUR different substances, that when combined with water, create heat and react chemically to unclog drains. I would not want that happening in my stomach, but to continue your Drano analogy, lets say I measure out 1 micro gram of a Drano crystal and swallowed it. Would I die, get sick, or be harmed? Nope. The dose it too low. If this analogy is still insufficient to allow people to comprehend what I originally wrote above, and repeated below...\\\"Everything is toxic or poisonous -- or it is not -- it all depends on the dose and route of administration (ROA). \\\"...then I am at a loss for a better way to explain it. Perhaps my analogue actually sucks; but I must also entertain the slight possibility, that this may be incomprehensible to a few select people. Brian Diaz \\u2022 2 years ago Hydroquinone is not the same substance as TBHQ. But let's go with your example anyways. 160 lbs / 2.2 kg/lbs = 72.7 kg. 5970 mg/kg x 72.7 kg = 434,019 mg 434,019 mg / 1000 mg/g = 434 g434 g = 15. 3 oz (I Googled it) Your mammals would have to eat just under a pound of hydroquinone before half of them would die. That seems pretty darned safe to me. Your calculation was a bit off but you were in the ballpark. It's odd you said \\\"'barely' half a pound taken at once\\\" Is not a half of a pound a lot of hydroquinone? This is not the amount of food you would have to eat, but the amount of pure hydroquinone you would have to eat. Now ask how much food you would need to eat as a test mammal to consume 15.3 oz of pure hydroquinone? IDK, cause it's not the substance in question, but I'll bet it is lots. Kel \\u2022 2 years ago The TBHQ won't kill you as quick as 1200 mg's of the SALT per serving... Reference Sources 104 \",\n          \"From Wikipedia, the free encyclopedianavigation search Ghost Whisperer season 5DVD cover Country of origin United States No. of episodes 22Release Original network CBSOriginal release September 25, 2009 \\u2013 May 21, 2010Season chronology\\u2190 Previous Season 4List of Ghost Whisperer episodes The fifth and final season of Ghost Whisperer, an American television series created by John Gray, commenced airing in the United States on September 25, 2009, concluded May 21, 2010, and consisted of 22 episodes. The series follows the life of Melinda Gordon ( Jennifer Love Hewitt ), who has the ability to see and communicate with ghosts. While trying to live as normal a life as possible\\u2014she is married and owns an antique store\\u2014Melinda helps earthbound spirits resolve their problems and cross over into the Light, or the spirit world. Her tasks are difficult and at times she struggles with people who push her away and disbelieve her ability. In addition, the ghosts are mysterious and sometimes menacing in the beginning and Melinda must use the clues available to her to understand the spirit's needs and help them. [1]Ghost Whisperer ' s fifth and final season aired in the United States (U. S.) on Fridays at 8:00 pm ET on CBS, a terrestrial television network, followed by the sixth season of Medium, where it received an average of 7.78 million viewers per episode, becoming the least watched season of the series. [2] It receives around 200,000 viewers per episode in New Zealand, and is constantly rated in the top 5 for TV2 every Monday. Contents1 Plot2 Development3 Syndication4 Cancellation5 Cast6 Episodes7 References Plot [ edit]In the fifth season, five years have elapsed since the events of the previous season, and we are introduced to Jim and Melinda's son, Aiden Lucas. We learn that he can see the \\\"Shinies and the Shadows\\\", two opposing groups of ghosts that Melinda is unable to see. The Shadows are revealed to be the negative part of spirits that get left behind when they cross over, and their motives involve acquiring the Book of Changes. Melinda, Ned, and Eli, with the frequent help of Delia, work to keep the book safe from the Shadows. Throughout the season, Melinda struggles to keep Aiden safe and help him with his gift. He has frequent run-ins with the Shinies, who are presumed to be the kind group of spirits and are attracted to shiny objects. The Shadows show tremendous power throughout the season, forcing President Bedford, the president of Rockland University to blow up Delia's real estate office. At the end of the series, Melinda and Jim try to protect Aiden by convincing him that ghosts don't exist (at the advice of Carl the Watcher, later revealed to be under the influence of the Shadows). The Shadows gradually begin to take possession of Melinda's body. Aiden is told by Carl that he must go to Melinda's store. Jim, Ned, Eli and Delia follow with him. Melinda is inside, being engulfed by the Shadows. Aiden, who has forged a friendship with one of the Shinies (previously revealed to be the ghosts of children), enlists their help. In the town square, dozens of Shinies gather, and emit a bright light. The Shinies and their light become visible to passersby in the square. Inside the store, the Shadows are trying to battle the light and fully possess Melinda, but fail on both accounts. Melinda drops to the ground and the group run in. Later that night, Aiden is in his room and Melinda and Jim enter. Melinda tells him that they should both be proud of their gift and that he was her hero that night. Aiden replies that Melinda is a hero every day, and the series closes with a shot of Melinda smiling and tearing up. Development [ edit]Ghost Whisperer is based on the work of \\\"Spirit Communicator\\\" James Van Praagh, [3] who is co- executive producer [4] and regularly updates a blog about the show through Living TV. [5] The stories are also said to be based in part on the work of \\\"Spirit Communicator\\\" Mary Ann Winkowski. [6] Development of the show dates back to at least two years before its premiere. [7]The show was produced by Sander/Moses Productions in association with CBS Television Studios (originally Paramount Network Television in season one and ABC Studios (originally Touchstone Television in the first two seasons) and CBS Paramount Network Television in seasons two and three). The show was filmed on the Universal Studios back lot in Los Angeles. [8] One area on the lot is Courthouse Square from the Back to the Future trilogy, though it has been drastically modified to depict Grandview. For example, the clock tower in Back to the Future has been completely covered up. Cast and crew members believe that the set gets visits from real spirits. [9]Sound effects were completed at Smart Post Sound. [10] Visual effects for the pilot and some season one episodes were completed at Flash Film Works. [11] Visual effects for nearly the entire series were created at Eden FX. [12]Creator John Gray grew up in Brooklyn, New York, which is not far from Grandview-On-Hudson, west of the Hudson River. Piermont is often referenced in episodes as the neighboring town, which is accurate to real life as Grandview-On-Hudson is actually located just north of Piermont. Professor Rick Payne worked in the fictional \\\"Rockland University\\\", and perhaps not coincidentally, the actual Grandview, New York is a village located in Rockland County, New York. Syndication [ edit]On May 5, 2008 it was announced that the first three seasons of Ghost Whisperer were purchased for $169.8 million ($700,000 per episode, per network) for syndication by Sy Fy, ION Television, and WE TV. Episodes began airing in Summer 2009 on ION, and in Fall 2009 on Sy Fy and WE. [13] The first four seasons began airing in syndication on CBC Television in Canada on August 31, 2009. [14]Cancellation [ edit]On May 18, 2010, citing rising costs and a decline in viewership, CBS announced that Ghost Whisperer would not be renewed for another season. [15] On May 18, 2010, CBS cancelled the show after five seasons. [16] ABC expressed interest in picking up Ghost Whisperer for Fall 2010. [17] [18] It was revealed on May 19, that writers of the show were informed to not look for other jobs yet, and the producers were very optimistic that there was a good chance of Ghost Whisperer being renewed by ABC. [19] On May 27, 2010, Michael Ausiello reported that ABC had passed on renewing Ghost Whisperer for its sixth season. [20]Zap2it declared Ghost Whisperer is the second \\\"most missed axed show\\\" after a poll determined 17.1 percent of voters would miss it. [21] In October 2010, Jennifer Love Hewitt thanked the fans of the show for their support in a goodbye video (filmed in June, 2010), saying \\\"Your love and support has meant everything to the cast and crew of Ghost Whisperer and we will all miss you guys very, very much. Go get our DVDs, think about us, miss us and know how much we all will miss you. Much love.\\\" She was visibly emotional during the video and simply waved to the camera at the end of the video as she was unable to finish speaking. [22]Cast [ edit]Main article: List of Ghost Whisperer characters Jennifer Love Hewitt as Melinda Gordon (22 episodes)David Conrad as Jim Clancy/Sam Lucas (22 episodes)Camryn Manheim as Delia Banks (18 episodes)Christoph Sanders as Ned Banks (14 episodes)Jamie Kennedy as Eli James (22 episodes)Connor Gibbs as Aiden Lucas (22 episodes)Episodes [ edit]Main article: List of Ghost Whisperer episodes No. in Series No. in Season Title Directed by Written by Original air date U. S. viewers (millions)86 1 \\\" Birthday Presence \\\" Jennifer Love Hewitt P. K. Simonds & Laurie Mc Carthy September 25, 2009 8.76 [23]Melinda undergoes immediate C-Section and then gives birth to a baby boy whom they name Aiden, after Jim's father. Then five years later, Aiden also has the gift of seeing spirits. A woman who died during childbirth is determined to be reunited with her son, whom she thinks jumped into Aiden's body after she gave birth to her son that she thought died. Carl reveals that Aiden is an empath.87 2 \\\"See No Evil\\\" Eric Laneuville Jeannine Renshaw October 2, 2009 7.62 [24]Ned is with a girl in her college dorm when a haunting occurs,and he calls Melinda. It is soon discovered that the hauntings are connected to a chain email about 'Sally Stitch'. The ghost thinks that her decision not to forward it was what caused the car accident that left her mother in a coma, and is terrorizing people to make sure they forward it, thinking that will save her mother, but her mother is sicker than she knew. A little girl who has terminal cancer and lives in the hospital turns out to be the creator of the email.88 3 \\\"Till Death Do Us Start\\\"Gloria Muzio Mark B. Perry October 9, 2009 8.78 [25]Eli's childhood friend Casey takes his dad to the hospital where he dies, seven years after his wife. It was thought she crossed over but it turns out she didn't. Eli works out that his dad is keeping him and Casey apart, and after Mel has visions, she realises that Casey might be his half sister, since there was an affair going on with a pair of the parents. The truth surprises everybody.89 4 \\\"Do Over\\\" John Gray John Gray October 16, 2009 8.05 [26]After some kids break into the hospital morgue, it is revealed to be haunted. When Jim brings home a surgical instrument from the 1950s, Melinda starts seeing visions of a cardiac surgery where the patient died on the table. The doctor feels guilty for making a mistake that killed the patient, and that is what is keeping him earthbound. Mel must try to help the ghost cross over. Meanwhile, Delia is romanced by a secret admirer.90 5 \\\"Cause for Alarm\\\" Ian Sander Melissa Blake & Joy Blake October 23, 2009 8.59 [28]Eli treats a patient who is a shut-in and has serious OCD about security. After discovering that his sister died when she was 9 years old , Melinda and Eli think that she is the ghost that's haunting him, but when Mel hears an audio clip of what everyone else thinks is footsteps, she realises it is an unborn baby's heartbeat, meaning that the ghost is/was pregnant. Mel and Eli must work out who the ghost is and stop her son from doing something stupid for revenge. Melinda is worried when Aiden reveals he has 'shiny' friends who are not ghosts, because she can't see them. [27]91 6 \\\"Head Over Heels\\\" Steven Robman Laurie Mc Carthy & Stephanie Sen Gupta October 30, 2009 8.29 [29]It's Halloween and after a child sneaks the book, The Legend of Sleepy Hollow into school, Mel starts having visions of a headless horseman. When Aiden's teacher drops some stuff from her recently deceased father off at the store, Mel gets visions from the costumes and equestrian gear. She eventually figures out that the ghost is the old boyfriend of the teacher, who broke his neck falling from a horse when running from accusations that he was stealing. Melinda has to unravel the truth and mystery behind a costume party years ago to help the ghost cross over. Aiden reveals what the \\\"shadows\\\" and \\\"shinies\\\" are- good and bad parts of people, the bad bits left behind (shadows).92 7 \\\"Devil's Bargain\\\" James Chressanthis P. K. Simonds & Mark B. Perry November 6, 2009 7.99 [30]Dr. Morgan from the hospital and the President of the University-Dr Bedford become suspects in the death of a young medical student. After we see that Bedford is terrified of beings who can possess his comatose mother, and Melinda feels an entity that goes inside her and is extremely cold, we learn more about the shadows. Ghosts are terrified of the shadows.93 8 \\\"Dead Listing\\\"Peter Werner Laurie Mc Carthy & Mark B. Perry November 13, 2009 8.06 [31]A ghost comes to Melinda, wanting her to find his body, and reveals that he believes his wife killed him. Mel uncovers that they were having a feud, trying to hurt each other and derail their real estate careers. She has to find out what really went on and whether his wife really did kill him. Meanwhile, when Aiden's friends do magic, he feels left out, so Jim gets him a Junior Magic Kit, but after learning that ghosts are helping him do the tricks, Mel and Jim must stop him.94 9 \\\"Lost in the Shadows\\\"Kim Moses P. K. Simonds & Laurie Mc Carthy November 20, 2009 8.42 [32]Melinda find the ghost of the girl who created the \\\"Sally Stitch\\\" email chain in Aiden's closet, and she refuses to cross over. Soon after, Aiden goes missing, and Melinda knows that Julia (the ghost girl) took him. Julia is terrified of something happening to her ghost friends, and she is attacked by the shadows. Aiden saves her and when she talks to her parents, she realizes that she didn't kill her friend like she thought she did, and crosses over.95 10 \\\"Excessive Forces\\\" Kenny Leon Stephanie Sen Gupta December 4, 2009 8.18 [33]When Eli gets pulled over by a policeman,he and Mel uncover the suspicious death of a teenage boy labelled as a skateboarding accident. Mel's car gets scrapped and she thinks it was the police officer. She also thinks he killed the boy after a series of visions. She thinks the reason is that the kid was dating the policemans daughter and he was not happy about it. She must uncover the truth behind the kids death in order for him to cross over.96 11 \\\"Dead Air\\\" Gloria Muzio Laurie Mc Carthy & Marc B. Perry January 8, 2010 9.00 [34]After Ned does a telephone prank on his college radio station, saying that a guy is leaving his girlfriend for another girl, a woman comes to the station and angrily states that it happened to her eight years ago and it's not funny. Eventually, Melinda discovers that this woman set up her husband to try to find out if he was cheating, since she had trust issues, it led to their divorce, and he married the woman he named on air. They weren't together at that time. It turns out her fianc\\u00e9 was jealous too and drowned driving to the station to stop them.97 12 \\\"Blessings in Disguise\\\"Jan Eliasberg Jeannine Renshaw & Ben Chaney January 15, 2010 8.61 [35]Delia realises that a family who moved in recently haven't yet signed the lease, and when Ned recognises the girl's name, he offers to take it over there as an excuse to talk to her. Mel witnesses the boy get attacked by soda bottles at the gas station and has a vision of being kneedeep in mud. She notices the parents odd reaction to their son's accident. Ned is with the daughter during a haunting. After a vision, Mel thinks that the son hurt a girl and the family are protecting him, but the truth couldn't be more different. Guest star: Candace Bailey98 13 \\\"Living Nightmare\\\" Ian Sander P. K. Simonds January 29, 2010 8.61 [36]Jim is working extra shifts at the hospital, and a man comes in screaming about being chased by a man with a knife. He is being haunted, and Melinda soon discovers that the ghost is his birth father, who had a fatal insomnia disease he may have passed on to his kids. He talks about seeing demons who get into your head when you're asleep, which is why he won't allow his son to sleep. Mel has to tell him the truth about his disease to prevent him from making his son kill himself.99 14 \\\"Dead to Me\\\" Ralph Hemecker Pam Norris February 5, 2010 8.73 [37]After Ned brings his 'Anthropology of the Occult' teacher a spirit board and she starts getting haunted, she has to forget everything she thought she knew about the paranormal world in order for Melinda to help her. At first, Mel, Ned and Eli think the ghost might be her late fianc\\u00e9, who died three years ago, but it turns out to be the daughter of the guy who drove the car that killed Avery's fianc\\u00e9, probably blaming her for her death because she had sent the text her fianc\\u00e9 was answering at the time of the accident. Melinda gets a message on the spirit board she took away from Ned-that someone they know will die soon. Special guest star: Margaret Cho as Professor Avery Grant100 15 \\\" Implosion \\\" Jennifer Love Hewitt John Gray March 5, 2010 7.35 [38]Melinda gets a military collection in the store, and when she realizes there is a ghost attached to one of the items, she follows the guy who sold it to her, to see where he gets it from. Turns out he was robbing an old army base, and when a ghost tells Mel and Eli there is unexploded ordnance on the site, they wonder if that's what killed the ghost (a little boy). The boy is revealed to have gone missing right around when the hauntings started, and he reveals to Mel and Eli that he saw Bedford take a live bomb from the base. Bedford threatens to kill Delia if he doesn't get the Book of Changes, so Ned and Eli forget about taking turns to hide the book, and come up with a plan to save Delia. The shadows are angry when the Book is blank.101 16 \\\"Old Sins Cast Long Shadows\\\"Jefery Levy Mark B. Perry March 12, 2010 7.22 [40]A woman comes to Mel's shop to sell antiques from a house she's moving from after the death of her daughter (from an illness). Melinda very quickly discovers that the house is haunted by violent spirits after Ned gets hurt there-which doesn't go down well with Delia- and she realizes that the ghost of the little girl (Cassidy) is being trapped there. Melinda has to work out whether the ghosts are murderers or murder victims, and figure out how the previous owner of the house-'Madame Greta' is involved. Delia wants Ned to stop getting involved with ghosts because she feels it is getting too dangerous, she is shaken up from the explosion at her office. Guest Starring: Joey King [39]102 17 \\\"On Thin Ice\\\" Ian Sander Melissa Blake & Joy Blake April 2, 2010 5.96 [41]A graphic novelist comes to Mel's store looking for Delia. He wants a new studio. After he is nearly impaled by icicles outside the store, Mel and Eli see a picture he posted to his blog a whole day before, exactly like that scene. After another scene comes true, Melinda realizes that the ghost is possessing him and creating automatic drawings, warning him about what will happen to him next. Eventually, Mel figures out who the ghost is and what he wants, and has to talk to his dad, stepmother and stepbrother to help him cross over. Aiden mentions something about wanting a brother. Guest star: Margaret Cho as Avery Grant103 18 \\\"Dead Eye\\\"John Behring P. K. Simonds & Laurie Mc Carthy April 9, 2010 6.55 [42]A clown ghost comes to Mel (to her dismay, as she doesn't like clowns). He seems to think that he's not really a clown, and it proves to be true, as Melinda uncovers that he was actually a Private Investigator. When she sees him fixated on a redhead, she does some digging, and finds that the woman won the lottery and is a multi-millionaire, so she can't be the gold digger her boyfriend's daughter accused her of being. The PI was investigating her boyfriend to see if he was right for her, and her ex sold his car to hire the PI to look for her after she left, thinking she might be pregnant. Bedford's ghost comes to Melinda, saying he's still paying after giving up his own life as well as his mother's, and warns her to trust no-one and nothing.104 19 \\\"Lethal Combination\\\" Kim Moses Stephanie Sen Gupta & Steve Gottfried April 30, 2010 6.57 [43]Jim hires a nanny so he and Mel can have a date night. After Aiden has an accident in her care, they hear about a string of similar incidents involving her, and warn their neighbor, who raves about her. Melinda goes to talk to one of her references, a man whose wife died of an 'illness', which turns out to have been alcoholism. The ghost of the wife comes to Mel, seeming to think she was killed by her husband and the nanny, who wanted her out of the way. Melinda has to uncover the truth behind the ghost's death before she kills her husband and the nanny.105 20 \\\"Blood Money\\\" Eric Laneuville P. K. Simonds & Laurie Mc Carthy May 7, 2010 6.46 [44]Some college kids find an abandoned barn and feel a scary presence there. Only two get away, and they report their friend missing the next day. After a series of visions, Melinda investigates and leads the police to the body of a boy buried outside the barn, who turns out to have been kidnapped eleven years ago. He turns out to be the ghost, and he tries to help Mel when the detective she's working with turns out to be his killer, and is after ransom money he knows is buried somewhere in the barn. Carl the Watcher returns, stating that the shadows are greedy and gluttons for energy, and saying that the flip side of greed is fear.106 21 \\\"Dead Ringer\\\" Ian Sander Mark B. Perry & Stephanie Sen Gupta May 14, 2010 6.48 [45]A girl comes into the shop to sell her recently deceased father's things, and when she talks about moving in with her boyfriend and a haunting happens, Melinda thinks her father is haunting her, not liking her boyfriend. Mel is having trouble telling her visions from reality, which is a huge problem. Melinda sees the ghost of the girls boyfriend, but when she tells her he's dead, he walks into the store alive and well. Mel eventually deduces that he had a twin brother who died when they were eight, but thinks the ghost grew up with his brother. Carl tells Mel that because Aiden can see the shadows, they will target him because that weakens them, and that if she tells him ghosts aren't real, he may stop seeing them, which would be the best thing for him. Jim is all for the idea, but Melinda doesn't want to deny his gift. Guest star: Randolph Mantooth.107 22 \\\" The Children's Parade \\\" John Gray John Gray May 21, 2010 6.83 [46]Melinda and Jim told Aiden ghosts aren't real, and neither are the shadows and shinies, but he didn't stop seeing them. Melinda can no longer tell the dead from the living. Eli has trouble talking because of a toothache, but when Carl asks him why Melinda is ignoring him, Eli manages to communicate that he told her Aiden shouldn't see ghosts, and he reveals that he must have been possessed by the shadows when he said that, because he would never normally say such a thing, since it is the worst time for Aiden not to use his gift. At the hospital, the ghost of a thirteen-year-old boy is leading the child ghosts of polio victims on marches to show that they're not afraid of the shadows. Melinda gets completely taken over by the shadows, and when Carl sees Aiden talking to someone he can't see, Aiden reveals that it's a shiny- or the crossed over ghost of a child. After the Book of Changes tells Carl and Eli how to stop the shadows, Aiden must convince the shinies to help. Mel and Aiden cross over the Polio Victims and the boy, and Mel and Jim tell Aiden they were wrong to try to get him to deny his gift. References [ edit]^https://web.archive.org/web/20090617073441/http://www.variety.com/profiles/TVSeries/Synopsis/173242/Ghost+Whisperer.html?data Set=1. Archived from the original on June 17, 2009. Retrieved July 30, 2010. Missing or empty |title= ( help)^ \\\"Final 2009-10 Broadcast Primetime Show Average Viewership - TV Ratings, Nielsen Ratings, Television Show Ratings\\\". TVbythe Numbers.com. June 16, 2010. Archived from the original on June 19, 2010. Retrieved June 28, 2010.^https://web.archive.org/web/20061118104311/http://www.etonline.com/tv/35533/index.html. Archived from the original on November 18, 2006. Retrieved May 18, 2008. Missing or empty |title= ( help)^https://web.archive.org/web/20071022212614/http://www.vanpraagh.com/Ghost_CBS.cfm. Archived from the original on October 22, 2007. Retrieved May 18, 2008. Missing or empty |title= ( help)^ Ghost Whisperer on Ghost Whisperer on Living TVArchived March 7, 2008, at the Wayback Machine.^ \\\"Real-life 'Ghost Whisperer' inspires CBS\\\".^ \\\" Ghost Whisperer on Living TV\\\".^ Universal Studios Hollywood - What's New Archived 2011-02-03 at Web Cite^ \\\"Scifi.com\\\".^ Ghost Whisperer Television Show-Mix Checks in on Creating Audio Sounds for Ghost Whisperer TV Show Archived 2011-02-03 at Web Cite^ \\\"Flash Film Works - Ghost Whisperer\\\". www.flashfilmworks.com.^ \\\"EDEN FX\\\".^ and in Canada on CBC. \\\"Ghost Whisperer\\\" to Haunt ION, Sy Fy and WE, Broadcasting & Cable, May 5, 2008^ \\\"Ghost Whisperer\\\". Retrieved May 19, 2010.^ \\\"Disney ABC Press\\\".^ Ausiello, Michael (2010-05-18). \\\"Breaking: CBS cancels 'Ghost Whisperer' and 'Old Christine' | Ausiello | EW.com\\\". Ausiellofiles.ew.com. Archived from the original on 2010-05-20. Retrieved 2010-06-16.^ Schneider, Michael (May 18, 2010). \\\" \\\" Ghost Whisperer\\\" to ABC's Friday lineup? It's possible\\\". Variety.com. Retrieved May 18, 2010.^ Ausiello, Michael (2010-05-19). \\\"Latest upfront headlines (including 'Ghost Whisperer' scoop) | Ausiello | EW.com\\\". Ausiellofiles.ew.com. Retrieved 2010-06-16.^ Andreeva, Nellie (2010-05-20). \\\"5TH UPDATE: ABC Talks 'Ghost Whisperer' And The Latest On 'Old Christine' \\u2013\\\". Deadline.com. Retrieved 2010-06-16.^ Ausiello, Michael (2010-05-27). \\\"Exclusive: ABC passes on 'Ghost Whisperer' | Ausiello | EW.com\\\". Ausiellofiles.ew.com. Archived from the original on 2010-05-29. Retrieved 2010-06-16.^ \\\" ' Flash Forward' is 'most missed' axed show\\\". 2 July 2010.^ \\\"Ghost Whisperer: Hewitt says goodbye to cancelled show\\\". 23 October 2010.^ \\\"Prime-time Tv Rankings 'NCIS' franchise packs 1-2 punch, lifting CBS\\\". Los Angeles Times. September 30, 2009. Retrieved July 8, 2010.^ \\\"Prime-time Tv Rankings Wins from ABC comedies\\\". Los Angeles Times. October 7, 2009. Retrieved July 8, 2010.^ \\\"Prime-time Tv Rankings - Page 2 - Los Angeles Times\\\". Los Angeles Times. October 15, 2009. Retrieved July 8, 2010.^ \\\"Prime-time Tv Rankings ABC bucks season trend\\\". Los Angeles Times. October 21, 2009. Retrieved July 8, 2010.^ \\\"Quinn Marston in Ghost Whisperer\\\". moogi.com. 2011-07-06. Retrieved 2011-07-06. Cause for Alarm (Season 5, Episode 5) -- So High by Quinn Marston -- One Tree Hill -- The Gates -- Ghost Whisperer^ \\\" ' Big Bang' viewership explodes\\\". Los Angeles Times. October 30, 2009. Retrieved July 8, 2010.^ \\\"Prime-time Tv Rankings - Page 2 - Los Angeles Times\\\". Los Angeles Times. November 5, 2009. Retrieved July 8, 2010.^ \\\"Prime-Time TV Rankings\\\". Los Angeles Times. November 11, 2009. p. 2. Retrieved July 14, 2010.^ Broadcast TV Ratings for Friday, November 20, 2009. Your Entertainment Now. November 20, 2009. Retrieved November 2, 2010.^ Broadcast TV Ratings for Friday, November 27, 2009. Your Entertainment Now. November 27, 2009. Retrieved November 2, 2010.^ Broadcast TV Ratings for Friday, December 11, 2009. Your Entertainment Now. December 11, 2009. Retrieved November 2, 2010.^ \\\"Nielsen Ratings Primetime ratings for the week of Jan. 3-10\\\". Los Angeles Times. January 13, 2010. Retrieved July 8, 2010.^ \\\"Prime-Time TV Rankings\\\". Los Angeles Times. January 22, 2010. p. 1. Retrieved July 14, 2010.^ Broadcast TV Ratings for Friday, February 5, 2010. Your Entertainment Now. February 5, 2010. Retrieved November 2, 2010.^ Broadcast TV Ratings for Friday, February 12, 2010. Your Entertainment Now. February 12, 2010. Retrieved November 2, 2010.^ \\\"Nielsen TV Ratings\\\". Los Angeles Times. March 12, 2010. Retrieved July 8, 2010.^ \\\"National Nielsen Viewership\\\". Los Angeles Times. March 17, 2010.^ \\\"National Nielsen Viewership Nielsen Ratings March 8\\u201314, 2010\\\". Los Angeles Times. March 17, 2010. Retrieved July 8, 2010.^ \\\"Weekly prime-time television rankings March 29-April 4\\\". Los Angeles Times. April 7, 2010. Retrieved July 8, 2010.^ Broadcast TV Ratings for Friday, April 16, 2010. Your Entertainment Now. April 16, 2010. Retrieved November 2, 2010.^ \\\" \\\" Smallville\\\" & \\\"Miami Medical\\\" Adjusted Down in Friday Finals\\\". TVbythe Numbers.com. May 3, 2010. Retrieved July 16, 2010.^ \\\"\\\" Party Down's \\\" Ratings Still Not Festive + \\\" Stargate Universe \\\" and other Friday Finals\\\". TVbythe Numbers.com. May 10, 2010. Retrieved December 6, 2010.^ Broadcast TV Ratings for Friday, May 21, 2010. Your Entertainment Now. May 21, 2010. Retrieved November 2, 2010.^ \\\"Audiences Vendredi 21/05 : fin de Ghost Whisperer sur CBS\\\". Audiences USA. May 22, 2010. Retrieved December 6, 2010. General references\\\"Ghost Whisperer Episodes on CBS\\\". TV Guide. Retrieved June 28, 2010. \\\"Shows A-Z - the ghost whisperer on cbs\\\". the Futon Critic. Retrieved June 28, 2010. \\\"The Ghost Whisperer : Episode Guide\\\". MSN TV. Retrieved June 28, 2010.v t e Ghost Whisperer Episodes Season 1 2 3\\\" Stranglehold \\\" \\\" Pater Familias \\\"4 5\\\" Birthday Presence \\\" \\\" Implosion \\\" \\\" The Children's Parade \\\"Characters Melinda Gordon Related John Gray (creator)Categories:2009 American television seasons 2010 American television seasons Ghost Whisperer \",\n          \"News Incredible moment last baby orca is born at Sea World caught on camera Killer whale Takara gave birth to a calf at the San Antonio park on Wednesday after an 18-month pregnancy Share Comments By Natalie Evans05:35, 21 APR 2017 Updated 07:09, 21 APR 2017Video Loading Watch incredible moment orca is born at Sea World Share Get daily updates directly to your inbox+ Subscribe The birth of the last ever baby orca at a Sea World park has been caught on camera. Killer whale Takara gave birth to her calf at the park in San Antonio, Texas, on Wednesday afternoon. Vets have not yet determined the gender of the calf, but said both mother and baby are in good shape and being monitored closely. Sea World Entertainment Inc popularised killer whale shows in the 1960s but faced growing opposition in recent years. Read More April the giraffe is FINALLY giving birth after months of the world watching and waiting for her calf to arrive The baby's tail emerged first (Image: REUTERS)Attendance at the theme parks has been falling amid negative publicity and criticism from animal rights activists upset by the treatment of captive marine mammals. Takara was already pregnant when the company announced last year that it was suspending its captive breeding programme. Takara swam around the tank as she gave birth (Image: REUTERS)It also vowed to phase out killer whale shows at its three parks in Orlando, Florida, San Diego, California and San Antonio. \\\"This is the last one, and that makes this a particularly big deal,\\\" Sea World Chief Zoological Officer Chris Dold said. \\\"It is a bit bitter sweet. We love these killer whales. \\\"The calf is finally born (Image: REUTERS)The calf was born after an 18-month pregnancy and is estimated to weigh between 300 and 350 pounds and measure between 6 and 7 feet, Sea World said. It was 25-year-old Takara's fifth birth. Read More Dad's priceless reaction after discovering wife has given birth to baby boy after FIVE girls Mum and baby are both doing well (Image: REUTERS)Sea World's vice president of veterinary services, Dr. Hendrik Nollens, it will be the last chance for researchers to study orca development in ways that cannot be done in the wild. Pressure on Sea World mounted after the release of the 2013 documentary \\\"Blackfish,\\\" which depicted the captivity and public exhibition of killer whales as inherently cruel. Vets do not yet know the calf's gender (Image: REUTERS)Animal rights group People for Ethical Treatment of Animals (PETA) said Sea World should move Takara and her calf from their tank to an \\\"ocean sanctuary,\\\" an area of sea enclosed by nets. \\\"There are a lot of people willing to help. There are companies that have stepped forward and offered major donations,\\\" said PETA's corporate affairs specialist, Stephanie Shaw. \\\"These types of seaside sanctuaries are very doable. \\\"Daily Mirror Follow @Daily Mirror Enter email More On Sea World Whales Giving birth \"\n        ],\n        \"semantic_type\": \"\",\n        \"description\": \"\"\n      }\n    },\n    {\n      \"column\": \"cleaned\",\n      \"properties\": {\n        \"dtype\": \"string\",\n        \"num_unique_values\": 88503,\n        \"samples\": [\n          \" terms Miaparker SS () - CH.  - LESSON  Flashcards Write Spell Test Match Gravity Advertisement Upgrade to remove ads Sort Who was the AZTEC ruler in  when the AZTEC empire was conquered?  Moctezuma (CORTES took him prisoner & he was killed during fighting. )Hernado Corts SPANISH conquistador who led the EXPEDITION that caused the FALL of the AZTEC empire and brought large portions of mainland Mexico (Tenochtitlan) under the King of Spain. What helped Corts defeat & conquer the AZTECS in ?  He had better WEAPONS (Armor, Rifles, Muskets, bullets),...  He had ALLIES (support of the Native Americans),...  He had HORSES (that the Spanish had brought with them)...  There were many DISEASES (like SMALLPOX) that the Spanish brought with them that also helped wipe-out the Aztecs.conquistadores Spanish 'conquerors' or soldiers in the New World.ally a friend who will help in a fight Tenochtitlan The ancient CAPITAL CITY of the AZTECS which is now present-day Mexico City. Founded c. , it was conquered & destroyed by Corts & his band of Spanish conquistadors in . Doa Marina an AZTEC woman and an ALLY of Corts. She spoke many native languages of Mexico & persuaded many native peoples of Mexico to join Corts in his fight because they did not want to live under AZTEC rule.conquest to capture or take something by force What did the Spanish rename Tenochtitlan? New Spain New Spain After the defeat of the Aztecs, it became a Spanish COLONY established in . What did they name the capital city of New Spain? The capital city of New Spain was Mexico City. Today, Mexico City is the capital of what? Today, Mexico City is the capital of Mexico (not New Spain).convert To CHANGE... or a convert is a person who has been converted to another religious or political belief.colonist a person who lives in a colony. What was the name of another powerful & wealthy empire which was SOUTH of the AZTEC empire? The empire of the INCAS was SOUTH of the AZTEC empire. Where was the INCA Empire located? ANDES Mountains in the country of PERU which is in the continent of SOUTH America Who was the Spanish explorer who wanted to conquer this INCAN empire for SPAIN? Francisco Pizarro was the Spanish conquisatador who was looking for GOLD in the wealthy INCA Empire. Who was the ruler of the the Incas? Atahaulpa Atahualpa the ruler of the the Inca. What country was the richest in Europe? Why? Spain, Beacuse of Cortes & Pizarro conquering the Aztec & Inca Empires Francisco Vasquez de Coronado a Spanish conquistador looking for the  cities of Gold & who also claimed the American SOUTHWEST for Spain. Coronado was a Spanish conquistador looking for the  cities of Gold in what is now the? American Southwest (US)What are the  cities of Gold? Supposed to be  cities built entirely of gold --- but they where just  small villages Coronado was the first to see? The Grand Cayon Cuzco (in Peru) the INCAN capital city. Lima (city in Peru) Pizzaro founded a new capital city of the Incan empire called Lima, which is now the present-day capital city of Peru. The people who now live in Lima, Peru have a new culture & they are part Indian, part Spanish. Who built the city of Lima, Peru? What counrty is Lima, Peru in? Pizarro, South America What do most Spanish cities have around a centeral plaza Cathedral & government building Mexico City was the new capital of? New Spain City of Tenochtitlan was rebuild and called Mexico city Missionary a person who teaches his or her religion to people of different beliefs Describe the factors that enabled Corts to defeat the Americas metal armor, muskets, horses and allies What are the changes the Spanish brought to New Spain? built a new capital city, converted Indians to Christianity, brought diseases such as smallpox After Corts conquered the AZTECS, WHO conquered the INCAN empire? Pizarro Which happened first in Spain's search for gold? Cabeza de Vaca traveled the American Southwest. What COLONY was founded AFTER the defeat of the INCAN empire? Peru What happened AFTER Esteban's death in what is now New Mexico? Coronado continued the search for Cibola. Describe an Indian's life on an ecomienda They often worked without pay and were expected to become Christians What impact did Columbus and Vespucci have on the Americas? Many more Europeans traveled to the Americas, following the lead and routes of Columbus and Vespucci. How did having Indian allies help Cortes conquer the Aztecs? Allies helped the Spanish conquistadors communicate, get directions, and obtain food, shelter, supplies and addtional forces to conquer the Aztecs. Why do archaeologists today find evidence of the ancient Aztec capital right in the center of Mexico City? Mexico City was built on the ruins of Tenochtitlan, the former Aztec capital. The Spanish explorers conquered Indian empires to gain land and riches. How do you think the Aztec and Incan people may have felt about these events? They feared an end to their ways of life and their safety. They saw opportunities to advance and become part of the new culture taking over their land. What steps were taken to find the kingdom of Cibola? Cibola was searched for by Esteban, who had traveled with Cabeza de Vaca. After Esteban's death, Coronado continued the unsuccessful search. What was colonial society like in New Spain? The society in New Spain was organized by ancestry. Those coming from Spain- peninsulares- had the greatest status and power. Those who had no Spanish blood, like the Indians and Africans, held the lowest position. How did Spain become one of the most powerful countries in the world in the ? Spain established colonies and built profitable settlements. The profits from the plantations and mines in the colonies helped make Spain one of the richest and most powerful countries in the world. Bahama Islands because Columbus believed he had reached the Indies, the Bahama Islands and other islands of the regions became known as the West Indies Why did Columbus sail west in his first expedition? To find quicker and cheaper ways to the Indies List reasons Columbus made more voyages to West Indies Bring people and animals back. Spain wanted to become rich. Spain wanted to start colonies. What was the Columbian Exchange? List some of the results. Movement of animals, people and diseases for a new way of life between East and West. Indians died. Europeans enjoyed new food. How did Columbus' voyages impact the Americas? Indians became slaves and Columbus showed Europeans the way to America. Who conquered the Incan Empire? Francisco Pizarro What colony was founded after the defeat of the Incan Empire? Peru What happened first in Spain's search for gold? They traveled for  years to discover what is now SOUTHWEST United States. What happened after Esteban's death in what is now New Mexico? Coranado continued to search for Cibola. What is the correct sequence of groups in New Spain's colonial society from most to least powerful? . Pensusulares- born in Spain . Creole- Spanish born in America . Mestizo- Indians and Spanish . Indians & Africans Native Americans who lived in New Spain had to work for? Encomiendas Describe the Indian's life on an encomienda. They were SLAVES and had to work. Why did the Spanish landowners want to keep slaves? So that they would not have to work and make crops. What was Bartolome de Las Casa's point of view on Indians in the encomienda system? He wanted slavery to end. \",\n          \"From Wikipedia, the free encyclopedianavigation search The examples and perspective in this article deal primarily with the United States and do not represent a worldwide view of the subject. You may improve this article, discuss the issue on the talk page, or create a new article, as appropriate. (March ) ( Learn how and when to remove this template message)A Sergeant Instructor (Gunnery Sergeant) of the U. S. Marine Corps corrects an error by an officer candidate A drill instructor is a non-commissioned officer in the armed forces or police forces with specific duties that vary by country. For example, in the United States armed forces, they are assigned the duty of training new recruits entering the military. Drill instructors within the U. S. armed forces have different titles in each branch of service. In the United States Air Force, they are known as \\\"Military Training Instructors\\\", or MTIs. [] The United States Navy uses Marine Corps drill instructors at their Officer Candidate School, but only Chief Petty Officers called \\\"Recruit Division Commanders\\\", or RDCs at their recruit training. [] Within the United States Army, drill instructors are given the title of \\\"Drill Sergeant\\\". [] The United States Coast Guard gives the title of \\\"Company Commander\\\" [] to their drill instructors. The United States Marine Corps is the only branch of the U. S. armed forces where drill instructors are titled as \\\"drill instructors\\\". [] Drill instructors are referred to as \\\"sir\\\" or \\\"ma'am\\\" by recruits within the USAF, USMC, [] [] and USCG (for the first few weeks of basic training, until recruits are instructed to refer to their company commanders by their proper rank). [] Within the USN, recruits must refer to their RDCs by their proper ranks. [] Recruits in the United States Army must refer to their drill sergeants as such: \\\"drill sergeant\\\". []The instruction and indoctrination given by the drill instructors of the various U. S. military branches includes instruction in customs and practices of military life, physical fitness, instruction in the proper execution of military drill, instilling discipline and willingness to immediately obey all lawful orders given by superiors, and oftentimes, basic armed and unarmed combat training. Contents [ hide ] . Australian . Royal Australian . Australian Federal . New South Wales Police . Western Australia  United . British  U. S. Armed . U. S. Marine . United States . U. S. Air . U. S. Coast . U. S. . Drill Instructor's .. United States .. United States Marine .. United States Air  . Canadian Armed  Popular   External links Australia [ edit]Australian Army [ edit]In the Australian Army, the staff responsible for training recruits are known as Recruit Instructors. They teach recruits discipline, fieldcraft, marksmanship, service knowledge and drill. Each recruit platoon is commanded by Recruit Instructors usually consisting of a Lieutenant, a Sergeant and up to four instructors of the Corporal or Bombardier rank. A Recruit Instructor can be identified by a  Recruit Training Battalion colour patch on his or her slouch hat and a small Recruit Instructor badge worn on the right breast pocket, if the position has been held long enough. Members from all Corps in the Army are eligible to become Recruit Instructors, including females. Experience as a Recruit Instructor is often a prerequisite to senior non-commissioned appointments in the military. Royal Australian Navy [ edit]In the Royal Australian Navy, there are Instructors at HMAS Cerberus, where the Recruit School course is held, and HMAS Creswell, where the NEOC (New Entry Officer Course) is held, as well as at ADFA. Each division is made up of one of the following: Divisional Officer (a Lieutenant)Divisional Chief Petty Officer Divisional Petty Officer Divisional Junior Sailor (a Leading Seaman, who is the class instructor)Divisional Able Seaman (some large divisions may have a few Able Seaman serving as Assistant Instructors)Australian Federal Police [ edit]In the Australian Federal Police, Drill Instructors are trained and accredited by the Recognition and Ceremonial team. Each accredited Drill Instructor wears an AFP pin with the wording \\\"DI\\\" positioned  above their name plate or citations. Drill Instructors are also issued with a black coloured Hellweg brand leather basket weave Sam Browne belt and strap. The AFP is the only police agency to formally train and accredit police drill instructors in Australia, with a number of New South Wales Police Force members attached to the NSW Police College holding that qualification. The Australian Federal Police College at Barton has a non-commissioned officer of Sergeant Rank holding the position of College Sergeant. The College Sergeant carries a black pace stick as a badge of office at ceremonial functions and a swagger stick during normal duties. New South Wales Police Force [ edit]The New South Wales Police Force has a Drill Sergeant and a Drill Constable attached to the NSW Police College at Goulburn. Drill staff are responsible for training recruits in drill. These personnel wear a blue cord to signify being a protocol officer. The Senior Protocol Officer (formally known as Protocol and Discipline Officer) which carries the rank of Senior Sergeant is responsible for the coordination of the final week of drill, known as Attestation Week and holds the position of Parade Sergeant at all Attestation Parades. The Senior Protocol officer is responsible for dress, bearing and discipline and also is the guardian of NSWPF history, customs, traditions and symbols at the NSW Police College. The Senior Protocol Officer carries a black pace stick with silver fittings and wears a black coloured Hellweg Brand Sam Browne belt with strap as a badge of Office. Western Australia Police [ edit]The Western Australian Police Force has a Drill Sergeant of the Rank of Sergeant who trains recruits in drill, discipline and other matters. He is also the recruit training manager responsible for overseeing the recruits training, ceremonial graduations, police funerals and other events. He meets regularly with academy executive and is responsible for removing recruits who fail parts of the course. The Sergeant carries a pace stick as a badge of office during parades. United Kingdom [ edit]British Army [ edit]A Drill Sergeant of the Scots Guards shouting orders to his troops In the British Army, the appointment of Drill Sergeant (DSgt) is limited to the five Foot Guards regiments, the Honourable Artillery Company (HAC), Infantry Training Centre Catterick, London District, and the All-Arms Drill Wing (part of the Army School of Ceremonial, Catterick). Drill Sergeants hold the rank of Warrant Officer Class . However, any senior NCO conducting drill can be colloquially referred to as a \\\"drill sergeant\\\". There are two Drill Sergeants per battalion (one in the HAC) and they have specific responsibilities for all duties, public or battalion (royal duties, barrack duties etc.). They support the Garrison Sergeant Major (GSM) or Regimental Sergeant Major (RSM) in the formation, practice and execution of these duties, typically running the duties roster, supervising rehearsals, and undertaking the guard mounts, both royal and barrack. They also deputise for the RSM in disciplinary matters. The London District Drill Sergeant supports the GSM in the supervision of Trooping the Colour, the State Opening of Parliament, Beating the Retreat and any state visits. He also has responsibility under the GSM for the definition of British Army foot and arms drill. They can be distinguished from other  by their dress. They have the right to wear Sam Browne belts when in No. dress and carry swords (never drawn) on ceremonial duties. They are the third most senior Warrant Officers within a regimental structure, after the RSM and the Regimental Quartermaster Sergeant (RQMS). The HAC Drill Sergeant is thus the second most senior Territorial Army soldier in the regiment. U. S. Armed Forces [ edit]Drill instructors are held responsible for the welfare, behavior, and military education of the recruits assigned to them on a -hour basis throughout the period of initial training, of which the most well known is Basic Training or boot camp. Their responsibilities include areas such as military discipline, physical fitness, and weapons training. The title of Drill Instructor is a billet independent of rank, to be held by Non-Commissioned Officers who successfully complete the intense training program to earn that title. The rank held by drill instructors varies by branch: Drill Sergeants in the United States Army are Sergeants (E-), Staff Sergeant (E-), Sergeant First Class (E-), and rarely First/Master Sergeants (E-) . Drill Instructors in the United States Marine Corps normally hold the rank of Sergeant (E-) through Gunnery Sergeant (E-). A Corporal (E-) is no longer authorized to attend Drill Instructor School therefore not authorized to hold the billet of a Drill Instructor. Successful completion of Drill Instructor School grants the Marine an additional MOS (Military Occupational Specialty) designation of , Drill Instructor. Recruit Division Commanders (formerly Company Commanders) in the United States Navy are Petty Officer Second Class (E-) through Master Chief Petty Officer (E-). Military Training Instructors in the United States Air Force are generally Staff Sergeants with  years time in grade (E-) through Master Sergeants (E-). Company Commanders in the United States Coast Guard are Petty Officer Second Class (E-) through Master Chief Petty Officer (E-). The arduous nature of drill instructor duty means that such assignments are among the most prestigious carried out by enlisted personnel. Those who become drill instructors are eligible for a variety of military awards, such as the Marine Drill Instructor Ribbon, and the Army's Drill Sergeant Identification Badge. U. S. Marine Corps [ edit]A U. S. Marine Senior Drill Instructor supervises the inspection of his platoon See also: United States Marine Corps Recruit Training It may be taken offensively by U. S. Marine Corps Drill Instructors to be referred to as 'Drill Sergeants', which is strictly an Army term in the American military, just as Marines may take offense to being called \\\"soldiers\\\". This is considered to be a grievous insult if done intentionally. The only acceptable address of a drill instructor by a recruit is \\\"sir\\\", \\\"ma'am\\\" or \\\" (senior) drill instructor (Rank) (last name)\\\". At Officer Candidates School (OCS), candidates are instructed by Drill Instructors who have already served a tour at one of the Recruit Depots. Officer candidates address their instructors as \\\"Sergeant Instructor\\\" (and rank and last name), or \\\"Platoon Sergeant\\\" (and rank and last name). The OCS Platoon sergeant is comparable to the Senior Drill Instructor in an enlisted recruit platoon. In the initial phase of training, officer candidates are trained in almost the same manner, and by the same people, as enlisted Marines, with slight differences reflecting the difference between the responsibilities the candidates will have as second lieutenants and those the recruits will have as junior Marines. In addition, Drill Instructors at either E- or E- also train naval officer candidates at the Navy's Officer Candidate School at Officer Training Command Newport, Rhode Island, a holdover from the days when they trained prospective naval aviators at the former Aviation Officer Candidate School (AOCS) at Naval Aviation Schools Command, Pensacola, FL. Class Drill Instructors train officer candidates alongside Class Chief Petty Officers who have experience training Navy recruits as Recruit Division Commanders (RDCs). Unlike Marine Corps recruits, Navy officer candidates must address Drill Instructors by their rank, \\\"Staff Sergeant\\\" or \\\"Gunnery Sergeant\\\". In the U. S. Marine Corps, candidates for Drill Instructor school are both volunteers and designates. The Headquarters Marine Corps Special Duty Assignment Team creates a list known as the HSST List. This list has the names of Marines that have been slotted for the different B-Billets and Special Duty Assignments. Once a Marine's name comes up on this list, they must either serve the duty or prove that they are unfit for the assignment. Drill Instructors are always in high demand. The tour of duty is three years and is widely regarded as one of the most intense, demanding duties in the U. S. Armed Forces. This tour of duty is one that demands an individual of the highest moral character and strength. The individual selected to train recruits should have a love and passion for the corps. It is the job of the Drill Instructor to pass these characteristics on to the future of the Corps. This duty is referred to as \\\"Making Marines\\\", and is one of the most important duties of a Marine's career. A drill instructor is directly involved in shaping the future of the United States Marine Corps. Marines report to either Marine Corps Recruit Depot Parris Island in South Carolina or to Marine Corps Recruit Depot San Diego in California, where they are assigned to Drill Instructor School. Upon graduation, they are assigned to one of the Recruit Training Battalions. Female Drill Instructors are only trained at Parris Island because that is where female Marine Corps recruit training occurs. Female Marines may now serve on both depots as Drill Instructors. Female Drill Instructors have begun serving in limited capacity on board Marine Corps Recruit Depot San Diego. This change took place in the Spring of . Service as a Drill Instructor is considered a Special Duty Assignment in the Marine Corps (or \\\"B\\\" billet), which is factored into consideration of a Marine's eligibility for promotion. A Marine assigned to DI School must have at least a rank of Sergeant (E-), or have been selected for promotion to Sergeant. A drill instructor encourages an officer candidate to properly perform pushups The school requires DI School students to complete every task recruits are required to do. The typical training day begins around : a.m. ( military time) and ends around : p.m. (), many times with specific training evaluations and end-of-day cleanups that require even longer days. At the end of each day, DI School students have to practice effective time management in studying for exams, practicing drill, rehearsing the teaching of drill movements verbatim and preparing uniforms all while still making time for intense physical training. The school lasts approximately three months with four classes running throughout the year. Physical training or \\\"PT\\\" as a unit is conducted at least three times a week, with each session lasting approximately two hours. In addition to warming up, stretching, and calisthenics, students complete the \\\"DI Playground\\\" a circuit course that focuses on enhancing upper body strength. Physical training also prepares the future Drill Instructors for the Marine Corps Physical Fitness Test which consists of pull-ups, abdominal crunches, and a -mile timed run. Since a drill instructor is often required to spend  hours a day or more on his or her feet and to move fast at all times, various running sessions are conducted to enhance speed and endurance. Students are led by their squad instructors in ability group runs based on speed, gradually increasing distance and speed throughout the course. Track workouts, formation runs, and fartlek runs are also a staple of the training. Drill and discipline are crucial parts of the Drill Instructor School curriculum. Every student is continuously evaluated, corrected, and mentored, with special attention paid to the smallest of details, such as the placement of a finger within / inch of its required location along a trouser seam, angle of the weapon, and positioning of the student in relation to the unit. Required knowledge is constantly taught and evaluated in the form of written exams, practical applications, and inspections. Uniforms are inspected continually, with surprise inspections conducted randomly in addition to the scheduled inspections. The drill instructor is expected to convey the best possible Marine Corps image to recruits and to America and to conduct his/herself to the highest Marine Corps leadership and integrity standards as well as to impart these standards to every recruit they train. Drill Instructors take a pledge which consists of the following words: \\\"These recruits are entrusted to my care. I will train them to the best of my ability. I will develop them into smartly disciplined, physically fit, basically trained Marines, thoroughly indoctrinated in love of Corps and country. I will demand of them, and demonstrate by my own example, the highest standards of personal conduct, morality and professional skill. \\\"A USMC Drill Instructor Upon completion of Drill Instructor School, Drill Instructors are assigned to Recruit Training Battalions as junior members (\\\"fourth hats\\\", \\\"third hats\\\", \\\"kill hats\\\", \\\"bobby\\\", or \\\"bulldogs\\\") of drill instructor teams. His or her job consists of constant corrections, dispensing punitive \\\"Incentive Training\\\" (IT), and keeping unremitting pressure on recruits to pay attention to details. He or she also teaches and reinforces academic knowledge to recruits. It is his or her duty to command the recruit platoon for initial drill evaluation, in which, in addition to the platoon receiving a score, the Drill Instructor is evaluated as well. These new drill instructors bear the burden of responsibility for breaking down a recruit's sense of self and selfishness, so that the more experienced drill instructors can focus the recruits on selflessness, obedience, and fraternity. After completing a few -week cycles, the drill instructor is moved up to the position of Experienced Drill Instructor (EDI), also called the \\\"heavy\\\", \\\"drill hat\\\" or \\\"J Hat\\\". The next step in a drill instructor career is becoming a Senior Drill Instructor. Senior Drill Instructors hold a respected position which is distinguished by the wearing of a black sword belt (or Sam Browne Belt, but without the shoulder strap) instead of a green duty belt. A Senior Drill Instructor is ultimately accountable for the training of the platoon and for the efficiency of his or her assistant Drill Instructors. Although Senior Drill Instructors are NCOs (Sergeants) or Staff NCOs, their position in the recruit training platoon is similar to that of a commissioned officer Platoon Commander in a line platoon. As such, they are further set apart from \\\"junior\\\" Drill Instructors. After completing a number of cycles, drill instructors are often assigned to Support Battalion duties outside of recruit-training platoons. Such assignments are referred to as quotas, and include jobs as academic instructors, administrative duties at Recruit Processing (Receiving Barracks, also known as Receiving Company at MCRD San Diego), martial arts instructors, Medical Rehabilitation Platoon (MRP), Physical Conditioning Platoon (PCP), Combat Water Survival Instructors, Field Training Instructors (a.k.a. Black Shirts) [MCRD Parris Island only], and Instructional Training Company Instructors (ITC DI) [MCRD San Diego only]. Some drill instructors choose to do a second tour of duty on the drill field. These volunteers still report to Drill Instructor School, but are referred to as course challengers, and are only required to complete a short refresher course. Multiple tour drill instructors, based on rank and experience, are usually assigned as Senior Drill Instructors, Series Chief Drill Instructors (MCRD San Diego) or Series Gunnery Sergeants (MCRD Parris Island), DI school instructors, Company First Sergeants, or Battalion Sergeants Major. While in Drill Instructor status, both male and female DIs wear a World War I campaign hat with their service and utility uniforms. For their successful service, Marine Drill Instructors are awarded the Drill Instructor Ribbon. This award is also given to other enlisted Marines and officers assigned to the recruit training environment, although these billets are recognized as being less directly involved in actually training recruits such as Series and Company Commander/ XO, Battalion Executive Officer, S-, and Commander, and various levels of Sergeants Major at each Depot. At OCS, the ribbon is also given to Officer Candidate Company First Sergeants, Company Gunnery Sergeants, and Platoon Commanders. United States Army [ edit]A Drill Sergeant drills recruits in the U. S. Army. Historically, the task of the Drill Sergeant has been intrinsic to good order and discipline and commands respect throughout the Army. Currently, soldiers of appropriate rank (usually Staff Sergeants and Sergeants First Class ) may volunteer or be centrally selected by U. S. Army Human Resources Command to attend Drill Sergeant School. Those centrally selected are known as \\\"DA Selected\\\" meaning Department of the Army selected. Drill Sergeant School is ten weeks long and consists of exactly the same activities as basic training; drill and ceremony, basic rifle marksmanship, obstacle/confidence courses, and field training exercises, training management, and leadership. Certain aspects of the Basic Leader Course are included. Drill Sergeant candidates are held to the highest standards while going through the school as preparation for their tours of duty. The Drill Sergeant candidates are treated with a great deal of professionalism and not like recruits. Upon graduation, male Drill Sergeants wear the World War I campaign hat (nicknamed the \\\"Brown Round\\\") and female Drill Sergeants wear the olive drab Australian bush cap. []An Army Drill Sergeant's normal tour of duty (called being \\\"on the trail\\\") is two years with a possible one-year extension. Drill Sergeants may be assigned to units that conduct Basic Combat Training (BCT), reception, or One-Station Unit Training (OSUT). BCT Drill Sergeants train approximately  cycles during their two-year tours. OSUT Drill Sergeants train recruits for an equivalent of BCT plus an additional number of weeks depending on the Military Occupational Specialty, so their average number of cycles is less than that of a BCT Drill Sergeant. The breaks between cycles are extremely short, creating an incredibly demanding environment for Drill Sergeants. It is not unusual for a cycle to graduate on a Thursday or Friday with new recruits arriving the following Monday or Tuesday. Due to changes in training doctrine, Army Drill Sergeants are no longer assigned to fill Advanced Individual Training billets and have been replaced with regular noncommissioned officers. Senior Drill Sergeants are the most senior NCO in a given training platoon, and are ultimately responsible for Soldiers within or under their authority. The only NCO more senior to these individuals at the company level is the company's First Sergeant, the senior enlisted leader and advisor to the company commander. Successful completion of Drill Sergeant duty greatly enhances opportunities for promotion. Many of the U. S. Army's most senior noncommissioned officers are former Drill Sergeants. The Army has had a difficult time recruiting Drill Sergeant volunteers due to recent changes in doctrine and policy, with a recent study by the Department of Defense noting that fewer than % of Drill Sergeant candidates are volunteers. [] Past Drill Sergeants enjoyed much autonomy and latitude with which to train recruits and were reputed hands-on disciplinarians. Currently, the Army's Training and Doctrine Command (TRADOC) has sought to shift this authority away and has moved closer to what is known as \\\"Schofield's Definition of Discipline.\\\" [] It is now a punishable offense to use demeaning or derogatory terms to refer to recruits or trainees, and terms such as \\\"warrior\\\" or \\\"Soldier\\\" are more preferable. Additionally, it is a serious offense to punish recruits or trainees with \\\"excessive\\\" physical exercise, now known as hazing. Due to this, and also in part to the second and third order effects of this policy on the operational force, many NCOs feel disenchanted with the prospect of life on the trail and feel that their leadership abilities are better suited elsewhere. The United States Drill Sergeant Academy is located in Fort Jackson, South Carolina. This is where all Drill Sergeants go to complete their drill sergeant training. The Academy is led by the Commandant and Deputy Commandant of the Drill Sergeant Academy. The instructors, known as Drill Sergeant Leaders (DSL's) are previously trained, and experienced Drill Sergeants. DSL's are selected very carefully by a panel of current senior Drill Sergeant Leaders, along with the leadership from the Academy. DSL's are held to the same high Army standards that new incoming Drill Sergeants are assessed on and must remain at those standards while instructing at the Academy. []U. S. Air Force [ edit]A Military Training Instructor at graduation parade at USAF basic training See also: United States Air Force Basic Military Training Air Force MTIs are non-commissioned officers ranging from Staff Sergeant (E-) through Master Sergeant (E-). They are trained at the Military Training Instructor School at Lackland AFB in San Antonio, Texas. Course length has changed several times during the last decade, but generally includes a period of assignment to a senior instructor to observe training (called \\\"bird-dogging\\\"). MTIs initially conduct basic training at Lackland Air Force Base as part of the  Training Group, but a select few conduct military training at the Officer Training School at Maxwell AFB and at the Air Force Academy during basic cadet training. []MTIs are commonly identified by the AF blue campaign hat. Their usual duty uniform is the Airman Battle Uniform (ABU), with Blues uniforms worn during certain drill practices, and the graduation ceremony. In the case of ABUs, sage green boots are worn per Dress and Appearance regulations. After completion of their MTI schooling, they are awarded the time-honored campaign hat. Upon receiving their certification as an instructor, they receive the Air Education and Training Command Instructor badge for wear on the right side of the blues uniform. The badge is not authorized for wear on the ABU. The MTI ribbon was awarded for completion of Instructor training until  September . After this time, graduates will be awarded the Air Force Special Duty Ribbon, newly created and authorized on  Oct . []MTIs usually begin their tours as \\\"team members\\\" - junior partners of a two-person team. Experienced MTIs becomes \\\"team chiefs\\\" and often work a basic training flight alone when manning shortages occur (especially during summer). MTIs refer to direct recruit training as being \\\"on the street\\\". At the conclusion of a tour, some MTIs are offered the chance to work in essential support training roles in the basic training course. This includes the combat training portions of the course, classroom academic instruction, and the \\\"confidence\\\" obstacle course. []MTIs who are rated in the top % of their ranks are awarded with a blue \\\"rope\\\" replacing the black leather hat strap on the campaign or bush hat. These master military training instructors often evaluate the trainees and MTI ranks during parades and retreat ceremonies. Special trainers of MTIs used to wear a black \\\"rope\\\" and MTIs certified and assigned to train officer candidates wear a bright silver \\\"rope\\\". [ citation needed]Unlike the Army, the Air Force uses a different specialist to continue military training during advanced individual or technical training. Military training leaders [] (MTLs) wear a blue aguillette on the left shoulder and act in the same capacity as Army drill sergeants during technical training. The aguillette in various colors is worn by students to indicate leadership roles - green for student flight leaders, yellow for student squadron leaders, and red for squadron student commanders. A white aguillette is worn by chapel guides, a white and blue rope denotes they are in the Drum and Bugle Corps, and a teal rope is worn by student counselors. At some technical training centers a black aguillette is worn by members of student honor guards or drill teams. []U. S. Coast Guard [ edit]A Coast Guard Company Commander instructs recruits. In the U. S. Coast Guard, Company Commanders are usually E- to E- and are special duty volunteers. Candidates attend Company Commander School in Cape May, New Jersey, which is collocated with recruit basic training. Upon completion, candidates then go in front of a board for final approval. Upon becoming a Company Commander (CC), the Coast Guardsman earns the right to wear the Company Commander Badge. Coast Guard recruit companies average two or three CCs per, with the newer CCs serving as Assistants to the more experienced Lead CC. During recent years, Coast Guard Company Commanders have gone to the United States Coast Guard Academy in New London, CT to train outgoing third class cadets during a week-long evolution called \\\" Week\\\", in which they are once again treated as incoming fourth class cadets by the CCs. The rationale behind this is to remind these cadets of their experiences coming into the Academy, and to reinforce the mantra that they must do the things they will eventually demand of incoming plebes. Later in the week, CCs begin teaching the cadets lessons on leadership. The experience provides third class cadets with invaluable experience they will need in training the new incoming fourth class cadets during Plebe Summer. U. S. Navy [ edit]A Recruit Division Commander conducts \\\"Instructional Training\\\" to correct substandard performance during boot camp In the United States Navy, recruit training is conducted by Recruit Division Commanders (RDCs, formerly Company Commanders or CCs) at Recruit Training Command Great Lakes, located at Naval Station Great Lakes, in North Chicago, IL. RDCs are usually E- ( Petty Officer First Class ), but may be up to a Master Chief (E-) and have at least six years time in service and above, who are volunteers that serve a three-year tour at RTC Great Lakes. After submitting an approved package containing an endorsement from a commanding officer, prospective RDCs attend RDC \\\"C\\\" School located at RTC Great Lakes and are identified by the blue aiguillettes (ropes) they wear on the left shoulder of either their service, dress, or working uniforms. RDC School students typically spend thirteen weeks learning about the duties they will perform as RDCs, including drill and ceremony, classroom instruction, and uniform and compartment maintenance. They undergo routine uniform inspections, where RDC school staff (experienced RDCs) meticulously check for any deficiencies in a student's uniform. In addition, RDC School students spend three days a week undergoing physical training. Because of the intense workout periods, some RDC students find themselves unprepared; however, they must be ready to keep up with the recruits, some of them who are much younger or more athletic than they are. According to RDC \\\"C\\\" School staff, PT is the number one reason why some students drop out of the course. Towards the end of RDC \\\"C\\\" School, RDC students shadow actual RDCs currently commanding a division. At the end of thirteen weeks, they receive their red ropes and badges which set them apart as RDCs. Following graduation and entering their first divisions, senior RDCs mentor these new junior RDCs, who then go on to gain experience with every new division (commonly referred to as a \\\"push\\\"). In the second year of their three-year tour, RDCs take a break from training divisions and perform other duties on base, including drill evaluations, practical training instruction, teaching classes at RDC \\\"C\\\" School, or Battle Stations . RDC duty is considered a highly prestigious one as it is associated with higher levels of accession into the higher petty officer rates, including Chief Petty Officer. RDC duty also allows Sailors an opportunity to earn the Master Training Specialist designator. At the end of the three-year tour, eligible RDCs receive the Recruit Training Service Ribbon, along with a choice of coast for their next duty stations. In addition to training recruits at RTC Great Lakes, RDCs at E- (Chief Petty Officer) or above who have experience leading recruit divisions train students at Officer Training Command in Newport, Rhode Island, either training prospective naval officers at Officer Candidate School (OCS) as Class Chief Petty Officers, alongside Marine Corps Drill Instructors, or newly commissioned junior officers in the Navy's Staff Corps (i.e. JAG, Medical Corps, Nurse Corps, etc.) at the Officer Development School (ODS). Drill Instructor's Creed [ edit]In many military services, a Drill Instructors' creed has been created to succinctly state the beliefs that a Drill Instructor should follow. United States Army [ edit]The Drill Sergeant Creed of the United States Army is:\\\"I am a Drill Sergeant. I will assist each individual in their efforts to become a highly motivated, well disciplined, physically and mentally fit soldier, capable of defeating any enemy on todays modern battlefield. I will instill pride in all I train. Pride in self, in the Army, and in Country. I will insist that each Soldier meets and maintains the Army standards of military bearing and courtesy, consistent with the highest traditions of the U. S. Army. I will lead by example, never requiring a Soldier to attempt any task I would not do myself. But first, last, and always, I am an American Soldier  Sworn to defend the Constitution of the United States against all enemies, both foreign and domestic. I am a Drill Sergeant\\\" []United States Marine Corps [ edit]The Drill Instructor Creed of the United States Marine Corps is:\\\"These recruits are entrusted to my care. I will train them to the best of my ability. I will develop them into smartly disciplined, physically fit, basically trained Marines - thoroughly indoctrinated in love of the Corps and country. I will demand of them  while demonstrating by my own example  the highest standards of personal conduct, morality, and professional skill.\\\" []United States Air Force [ edit]The Military Training Instructor Pledge:\\\"The Military Training Instructor Hat that I wear Is a symbol of Honor, Professionalism, Integrity, Service, and Excellence in All I Do My job is one of the most important to the Air Force And I will spare no effort to properly prepare men and women for military service I am dedicated to the principles of fairness, firmness, and honesty I strive for perfection and reject mediocrity Both in my own personal behavior and in the performance of those I lead I am an Air Force Military Training Instructor And, above all I am an American Airman. \\\"Canada [ edit]Canadian Armed Forces [ edit]In Basic Military Qualification, the course staff member that is teaching drill for a particular drill class is the \\\"drill instructor\\\" for that class. Popular culture [ edit]Drill instructors have a reputation as unforgiving taskmasters, and they are often portrayed as such in popular culture. Among the definitive fictional portrayals are: Jack Webb as Gunnery Sergeant Jim Moore in the  film \\\" The D. I. \\\"Myron Mc Cormick as Master Sergeant Orville King in 's No Time for Sergeants and the  Broadway production of the same title, both times opposite a young Andy Griffith. Frank Sutton as Gunnery Sergeant Vince Carter in the TV sitcom Gomer Pyle, U. S. M. C. from -. John Finn as Sergeant Major Mulcahy in 's Glory Gregory Hines as Sergeant First Class Cass in the  film, Renaissance Man Warren Oates as Sergeant First Class Hulka in 's Stripes Christopher Walken as Sergeant First Class Toomey in the  film, Biloxi Blues Hal Williams as Sergeant First Class L. C. (later, \\\"Ted\\\") Ross in both the  film, Private Benjamin, and - television series of the same name R. Lee Ermey (who himself served as a U. S. Marine drill instructor in -) as: Staff Sergeant Loyce in the  film The Boys in Company CGunnery Sergeant Hartman in the  film Full Metal Jacket Sergeant Major Bougus in the  pilot episode of Space: Above and Beyond Master Sergeant Hiles (deceased) in the  film The Frighteners (a parody of Ermey's character in Full Metal Jacket)Sergeant Major Sauer in a second series episode of JAGScott Mac Donald as Drill Instructor Fitch in the  film Jarhead Darren Mc Gavin as Gunnery Sergeant Thomas Drake and Earl Holliman as Master Sergeant Frank De Payster, two US Marine Corps drill instructors who differ over the proper way to train an exceptional recruit ( Jan-Michael Vincent ), in the  television film Tribes Jon St. John as Senior Drill Instructor Dwight T. Barnes in the  video game Half-Life: Opposing Force Louis Gossett, Jr. as Gunnery Sergeant Emil Foley in 's An Officer and a Gentleman (Gunny Foley's trainees were U. S. Navy aviation officer candidates)Sgt. Slaughter as Special Drill Instructor Sgt. Slaughter in G. I. Joe Clint Eastwood as Gunnery Sergeant Thomas Highway in Heartbreak Ridge Don Rickles as Chief Petty Officer Otto (or \\\"Seymour\\\") Sharkey in the - television series C. P. O. Sharkey. Vince Vaughn as Sergeant Howell in the  film Hacksaw Ridge. Real-life Drill Instructors from law enforcement agencies around the globe are becoming increasingly popular in documentaries such as: The Los Angeles County Sheriff's Department / Fox Network reality television program, The Academy The Western Australia Police / ABC Australia program, Police Training Academy (PTA)The NSW Police Force Cordell Jigsaw television program, Recruits. References [ edit]^ Powers, Rod. \\\"Air Force Enlisted Job Descriptions & Qualifications: SDA  - MILITARY TRAINING INSTRUCTOR\\\". WWW. About.com. About.com U. S. Military. Retrieved  April .^ Garamone, Jim. \\\"Tougher Sailors From the Start\\\". About.com U. S. Military. American Forces Press Service. Retrieved  April .^ Powers, Rod. \\\"Drill Sergeants\\\". About.com U. S. Military. about.com. Retrieved  April .^ Powers, Rod. \\\"Surviving Coast Guard Boot Camp Page \\\". About.com U. S. Military. Retrieved  April .^ Powers, Rod. \\\"Drill Instructors in the United States Marine Corps\\\". About.com U. S. Military. Retrieved  April .^ \\\"What recruits refer to MTIs As\\\". AFWM.org. Retrieved  April .^ Powers, Rod. \\\"Marine Corps Drill Instructor Duty\\\". About.com U. S. Military. Retrieved  April .^ Powers, Rod. \\\"Surviving Coast Guard Boot Camp\\\". About.com U. S. Military. About.com. Retrieved  April .^ Wildsmith, Snow (). Joining the United States Navy: A Handbook (First ed.). Google Books: Mc Farland. p. . ISBN . Retrieved  April .^ \\\"U. S. Army Drill Sergeants\\\". Army.mil. United States Army. Retrieved  April .^ Army Regulation -.^ \\\"The Report of the Federal Advisory Committee on Gender-Integrated Training and Related Issues\\\". Dod.mil. Retrieved --.^ []^ \\\"Drill Sergeant Academy builds better prepared leaders | Article | The United States Army\\\". www.army.mil. Retrieved --.^ []^ \\\"Air Force Decorations - Air Force Basic Military Training Instructor Ribbon\\\". Usmilitary.about.com. Retrieved --.^ \\\"Home\\\". Usafmtia.org. Retrieved --.^ \\\"Air Force Job Descriptions - AFSC  - MILITARY TRAINING LEADER\\\". Usmilitary.about.com. --. Retrieved --.^ \\\"Air Force Technical School Training Restrictions\\\". Usmilitary.about.com. Retrieved --.^ United States Army. From Fort Jackson Drill Instructor's School Archived June , , at the Wayback Machine ., retrieved  June .^ United States Marine Corps. From DI School students take pledge to make Marines Archived September , , at the Wayback Machine ., July , . Retrieved  June . External links [ edit]Wikimedia Commons has media related to Drill instructors.\\\"U. S. Army Drill Sergeants\\\". United States Army. Retrieved --. \\\"Drill Instructor School MCRD, San Diego\\\". United States Marine Corps. Archived from the original on --. Retrieved --. The short film Big Picture: Drill Sergeant is available for free download at the Internet Archive Categories: Military education and training Military life Military supporting service occupations \",\n          \"Newsletter MNT - Hourly Medical News Since  Log in Newsletter MNT - Hourly Medical News Since  Login Causes and treatments of aneurysm Last updated Tue  November  Markus Mac Gill Reviewed by Seunggu Han, MDTypes Treatment Symptoms Causes Diagnosis Outlook Prevention An aneurysm is the enlargement of an artery caused by weakness in the arterial wall. Often there are no symptoms, but a ruptured aneurysm can lead to fatal complications. An aneurysm refers to a weakening of an artery wall that creates a bulge, or distention, of the artery. Most aneurysms do not show symptoms and are not dangerous. However, at their most severe stage, some can rupture, leading to life-threatening internal bleeding. The Centers for Disease Control and Prevention (CDC) advise that aortic aneurysms contribute to over , deaths in the United States (U. S.) each year. Around , brain aneurysms rupture in the U. S. each year. An estimated  percent of these cases cause death within  hours. Fast facts on aneurysms Aneurysms affect a variety of arteries. The most significant aneurysms affect the arteries supplying the brain and the heart. An aortic aneurysm affects the body's main artery. The rupture of an aneurysm causes internal bleeding. The risk of an aneurysm developing and rupturing varies between individuals. Smoking and high blood pressure are major risk factors for the development of an aneurysm. Some types of aneurysm may need surgical treatment to prevent rupture. Doctors will only operate on others if they are life-threatening. Types The rupture of an aneurysm can be fatal. Aneurysms are classified by their location in the body. The arteries of the brain and heart are the two most common sites of a serious aneurysm. The bulge can take two main shapes: Fusiform aneurysms bulge all sides of a blood vessel Saccular aneurysms bulge only on one side The risk of rupture depends on the size of the bulge. Aortic aneurysm The aorta is the large artery that begins at the left ventricle of the heart and passes through the chest and abdominal cavities. The normal diameter of the aorta is between  and  centimeters (cm) but can bulge to beyond  cm with an aneurysm. The most common aneurysm of the aorta is an abdominal aortic aneurysm (AAA). This occurs in the part of the aorta that runs through the abdomen. Without surgery, the annual survival rate for an AAA of over  cm is  percent. AAA can rapidly become fatal, but those that survive the transfer to a hospital have a  percent chance of overall survival. Less commonly, a thoracic aortic aneurysm (TAA) can affect the part of the aorta running through the chest. TAA has a survival rate of  percent without treatment and  percent following surgery. It is a rare condition, as only  percent of aortic aneurysms occur in the chest. Cerebral aneurysm Aneurysms of the arteries that supply the brain with blood are known as intracranial aneurysms. Due to their appearance, they are also known as \\\"berry\\\" aneurysms. A ruptured aneurysm of the brain can be fatal within  hours. Forty percent of brain aneurysms are fatal, and around  percent of those who survive will experience a resulting neurological impairment or disability. Ruptured cerebral aneurysms are the most common cause of a type of stroke known as subarachnoid hemorrhage (SAH). Peripheral aneurysm An aneurysm can also occur in a peripheral artery. Types of peripheral aneurysm include: Popliteal aneurysm: This happens behind the knee. It is the most common peripheral aneurysm. Splenic artery aneurysm: This type of aneurysm occurs near the spleen. Mesenteric artery aneurysm: This affects the artery that transports blood to the intestines. Femoral artery aneurysm: The femoral artery is in the groin. Carotid artery aneurysm: This occurs in the neck. Visceral aneurysm: This is a bulge of the arteries that supply blood to the bowel or kidneys. Peripheral aneurysms are less likely to rupture than aortic aneurysms. Treatment Not all cases of unruptured aneurysm need active treatment. When an aneurysm ruptures, however, emergency surgery is needed. Aortic aneurysm treatment options The doctor may monitor an unruptured aortic aneurysm, if no symptoms are evident. Medications and preventive measures may form part of conservative management, or they may accompany active surgical treatment. A ruptured aneurysm needs emergency surgery. Without immediate repair, patients have a low chance of survival. The decision to operate on an unruptured aneurysm in the aorta depends on a number of factors related to the individual patient and features of the aneurysm. These include:the age, general health, coexisting conditions and personal choice of the patientthe size of the aneurysm relative to its location in the thorax or abdomen, and the aneurysm's rate of growththe presence of chronic abdominal pain or risk of thromboembolism, as these may also necessitate surgery A large or rapidly growing aortic aneurysm is more likely to need surgery. There are two options for surgery:open surgery to fit a synthetic or stent graftendovascular stent-graft surgery. In endovascular surgery, the surgeon accesses the blood vessels through a small incision near the hip. Stent-graft surgery inserts an endovascular graft through this incision using a catheter. The graft is then positioned in the aorta to seal off the aneurysm. In an open AAA repair, a large incision is made in the abdomen to expose the aorta. A graft can then be applied to repair the aneurysm. Endovascular surgery for the repair of aortic aneurysms carries the following risks:bleeding around the graftbleeding before or after the procedureblockage of the stentnerve damage, resulting in weakness, pain or numbness in the legkidney failurereduced blood supply to the legs, kidneys or other organserectile dysfunctionunsuccessful surgery that then needs further open surgeryslippage of the stent Some of these complications, such as bleeding around the graft, will lead to further surgery. Cerebral aneurysm treatment options A ruptured intracerebral aneurysm will usually need emergency surgery. In the case of a brain aneurysm, the surgeon will normally operate only if there is a high risk of rupture. The potential risk of brain damage resulting from surgical complications is too great. As for AAA, the likelihood of a rupture depends on the size and location of the aneurysm. Instead of surgery, patients receive guidance on how to monitor and manage the risk factors for a ruptured brain aneurysm, for example, monitoring blood pressure. If a ruptured cranial aneurysm results in a subarachnoid hemorrhage, surgery is likely. This is considered a medical emergency. This procedure would aim to close off the ruptured artery in the hope of preventing another bleed. Symptoms Most aneurysms are clinically silent. Symptoms do not usually occur unless an aneurysm ruptures. However, an unruptured aneurysm may still obstruct circulation to other tissues. They can also form blood clots that may go on to obstruct smaller blood vessels. This is a condition known as thromboembolism. It can lead to ischemic stroke or other serious complications. Aneurysms are generally symptomless, but their complications can cause severe chest pain. Rapidly growing abdominal aneurysms are sometimes associated with symptoms. Some people with abdominal aneurysms report abdominal pain, lower back pain, or a pulsating sensation in the abdomen. Similarly, thoracic aneurysms can affect nearby nerves and other blood vessels, potentially causing swallowing and breathing difficulties, and pain in the jaw, chest, and upper back. Symptoms can also relate to the cause of an aneurysm rather than the aneurysm itself. For example, in the case of an aneurysm caused by vasculitis, or blood vessel inflammation, a person may experience fever, malaise, or weight loss. Complications The first signs of a previously undetected aneurysm could be complications upon rupture. Symptoms tend to result from a rupture rather than the aneurysm alone. Most people living with an aneurysm do not experience any complications. However, in addition to thromboembolism and rupture of the aorta, complications can include: Severe chest or back pain: Severe chest or back pain may arise following the rupture of an aortic aneurysm in the chest. Angina: Certain types of aneurysm can lead to angina, another type of chest pain. Angina can lead to myocardial ischemia and heart attack. A sudden extreme headache: If a brain aneurysm leads to SAH, the main symptom is a sudden, severe headache. Any rupture of an aneurysm may cause pain, low blood pressure, a rapid heart rate, and lightheadedness. Most people with an aneurysm will not experience any complications. What is a subarachnoid hemorrhage? A subarachnoid hemorrhage can result from an aneurysm. Find out more about what this is. Read now Causes An aneurysm can happen in any part of the body. Blood pressure can more easily distend a weakened arterial wall. Further research is necessary to confirm why an artery wall weakens to cause an aneurysm. Some aneurysms, though less common, are present from birth as an arterial defect. Aortic dissection Aortic dissection is one identifiable cause of an aortic aneurysm. The arterial wall has three layers. Blood can burst through a tear in the weakened wall of the artery, splitting these layers. It can then fill the cavity surrounding the heart. If the tear occurs on the innermost layer of the arterial wall, blood channels into and weakens the wall, increasing the risk of rupture. People with aortic dissection often describe abrupt and excruciating chest pain. This pain can travel as the dissection progresses along the aorta. It may, for example, radiate to the back. Dissection leads to compression. Compression prevents blood from returning to the heart. This is also known as a pericardial tamponade. Risk factors There are some lifestyle choices and physical characteristics that can increase the chance of an aneurysm.smoking tobaccohypertension, or high blood pressurepoor dietinactive lifestyleobesity Smoking is by far the most common risk factor, especially in cases of AAA. Tobacco use has been shown not only to increase cardiovascular disease and the risk of an aneurysm but also increase the risk of rupture once an aneurysm has taken effect. Diagnosis Aneurysms often remain undetected. Screening aims to identify people who need monitoring or treatment. The US Preventive Services Task Force (USPSTF) recommends ultrasound screening for signs of AAA for all men aged  to  years who have smoked  cigarettes or more in their lives. The taskforce does not recommend routine screening for women, whether they have smoked or not, as women have a lower risk of AAA. If symptoms appear, an MRI scan can identify an aneurysm that has not yet ruptured. CT scans are usually preferred for ruptured aneurysms, especially if there is a risk of bleeding on the brain. In cases of a severe or ruptured aneurysm in the brain or heart that needs emergency surgery, an angiogram can identify the exact area in need of repair. A catheter is inserted into a blood vessel in the thigh, under local anesthetic, and the catheter is then threaded through to the relevant part of the body. The doctor applies a dye, helping to identify the area of the heart or brain that needs treatment. Outlook A person can live with an unruptured aneurysm and not notice it. However, if it bursts, it can be life-threatening. It can lead to:hemorrhagic strokehydrocephaluscomavasospasmlong- or short-term brain damage Vasospasm is the main cause of disability or death following a burst aneurysm. Factors affecting the chance of making a full recovery include the type and extent of the aneurysm, the overall health of the person before it ruptured, and how quickly they receive treatment. Around  percent of cases of ruptured aneurysm will be fatal within the first  hours. In up to  percent of people, complications will be fatal within  months. Prevention Preventing an aneurysm is not always possible, as some are congenital, meaning they are present from birth. However, some lifestyle choices can affect the risk: Smoking is a risk factor for both aortic aneurysms and the rupture of an aneurysm anywhere in the body. Quitting smoking can reduce the risk of a severe aneurysm. Managing blood pressure can also minimize the risk of an aneurysm. Healthful blood pressure can be achieved through dietary measures, regular exercise, and medications. Obesity can put extra pressure on the heart, so taking these steps is important for reducing stress on the artery walls. A healthful diet can also reduce cholesterol and decrease the risk of atherosclerosis. Fusiform aneurysms are often linked to atherosclerosis. Anyone diagnosed with an aneurysm and prescribed a conservative treatment plan can work with a healthcare practitioner to address any risk factors. Related coverage After Five Years, Coiled Aneurysm Has A Better Death Rate Than Clipped, But Bleeding Risk Is Slightly Higher An article published Online First and in the May edition of The Lancet Neurology by Dr Andrew Molyneux and Richard Kerr, Neurovascular and Neuroradiology Research Unit, John Radcliffe... Read now Coronary heart disease: What you need to know A look at coronary heart disease. We give an overview of primary causes, common symptoms, and effective treatments. Learn more about these diseases here. Read now Stroke vs. Aneurysm: What is the Difference? What is a stroke, what is an aneurysm, and are they connected? Learn about the telltale symptoms, risk factors and how they may be treated. Read now Ascending aortic aneurysm: What you need to know What are the causes and risk factors of an ascending aortic aneurysm? What are the different types, how is it diagnosed and can it be prevented? Read now What's to know about atherosclerosis? Atherosclerosis is a condition where the arteries become hardened and narrowed because of an excessive accumulation of plaque around the vessel wall. Read nowemailshare Cardiovascular / Cardiology Emergency Medicine Stroke Vascular Additional information Article last updated by Yvette Brazier on Tue  November . Visit our Cardiovascular / Cardiology category page for the latest news on this subject, or sign up to our newsletter to receive the latest updates on Cardiovascular / Cardiology. All references are available in the References tab. References Citations Spotlight on: Cardiovascular / Cardiology What is blood pressure? How is it measured? How To Check Your Pulse What Is Heart Rate? What are diastole and systole in blood pressure? Popular in: Cardiovascular / Cardiology Death risk increased with two blood pressure drugs This supplement may promote healthy arterial aging How do you lower your resting heart rate? Could coffee stop clogged arteries? What is a left atrial enlargement? Popular news Editorial articles All news topics Knowledge center Your MNTLog in or sign up Newsletters Share our content About us Our editorial team Contact us Advertise with MNTget our newsletter Health tips, wellness advice and more. Subscribe Your privacy is important to us. Healthline Media UK Ltd, Brighton, UK. - All rights reserved. MNT is the registered trade mark of Healthline Media. Any medical information published on this website is not intended as a substitute for informed medical advice and you should not take any action before consulting with a healthcare professional. Privacy | Terms | Ad policy | Careers \"\n        ],\n        \"semantic_type\": \"\",\n        \"description\": \"\"\n      }\n    }\n  ]\n}"
            }
          },
          "metadata": {},
          "execution_count": 59
        },
        {
          "output_type": "stream",
          "name": "stdout",
          "text": [
            "time: 15.5 s (started: 2024-03-22 13:37:33 +00:00)\n"
          ]
        }
      ]
    },
    {
      "cell_type": "markdown",
      "source": [
        "2. heuristically combining title and body matches\n",
        "looking at bigrams\n"
      ],
      "metadata": {
        "id": "q6W6O4CxWS-n"
      },
      "id": "q6W6O4CxWS-n"
    },
    {
      "cell_type": "code",
      "source": [],
      "metadata": {
        "id": "afv3wmkEBVOr"
      },
      "id": "afv3wmkEBVOr",
      "execution_count": null,
      "outputs": []
    },
    {
      "cell_type": "code",
      "execution_count": 55,
      "id": "7cb42c1e-827f-48fe-8aa2-4d285625bbea",
      "metadata": {
        "id": "7cb42c1e-827f-48fe-8aa2-4d285625bbea",
        "colab": {
          "base_uri": "https://localhost:8080/"
        },
        "outputId": "e59bad6e-90fd-4be5-9f80-a9d41beeb86b"
      },
      "outputs": [
        {
          "output_type": "stream",
          "name": "stdout",
          "text": [
            "time: 1.53 s (started: 2024-03-26 23:16:21 +00:00)\n"
          ]
        }
      ],
      "source": [
        "# combine title and body\n",
        "docs['title_body'] = docs['title'] + ' ' + docs['body']\n"
      ]
    },
    {
      "cell_type": "code",
      "source": [
        "vectorizer = CountVectorizer(ngram_range=(2,2))\n",
        "X_tb = vectorizer.fit_transform(docs['title_body'].tolist())"
      ],
      "metadata": {
        "colab": {
          "base_uri": "https://localhost:8080/"
        },
        "id": "MCrQu64yiLfV",
        "outputId": "e6d95f9d-9899-41bd-cac4-b54fdd971ce5"
      },
      "id": "MCrQu64yiLfV",
      "execution_count": null,
      "outputs": [
        {
          "output_type": "stream",
          "name": "stdout",
          "text": [
            "time: 7min 26s (started: 2024-03-22 14:28:45 +00:00)\n"
          ]
        }
      ]
    },
    {
      "cell_type": "code",
      "execution_count": null,
      "id": "369e905c-36cd-45c2-817b-4d9c24724be3",
      "metadata": {
        "id": "369e905c-36cd-45c2-817b-4d9c24724be3"
      },
      "outputs": [],
      "source": [
        "from sklearn.metrics.pairwise import cosine_similarity\n",
        "\n",
        "cosine_similarity()"
      ]
    },
    {
      "cell_type": "markdown",
      "source": [
        "3. looking at terms (by means of a clean multi-word term list from wikipedia, see notebook 1)\n",
        "\n"
      ],
      "metadata": {
        "id": "xNNbzVFrXyxv"
      },
      "id": "xNNbzVFrXyxv"
    },
    {
      "cell_type": "code",
      "execution_count": null,
      "id": "4cc0ab9b-ff88-41e9-96c6-c21969303775",
      "metadata": {
        "id": "4cc0ab9b-ff88-41e9-96c6-c21969303775"
      },
      "outputs": [],
      "source": []
    },
    {
      "cell_type": "code",
      "execution_count": null,
      "id": "6f249f2d-6449-4951-9514-e7116b861cde",
      "metadata": {
        "id": "6f249f2d-6449-4951-9514-e7116b861cde"
      },
      "outputs": [],
      "source": [
        "# TfidfVectorizer(sublinear_tf=True, strip_accents='unicode') 最好的结果\n",
        "# fit_transform(docs['title']+' '+ docs['body'])"
      ]
    },
    {
      "cell_type": "markdown",
      "source": [
        "4. by removing stopwords (look at nltk or spacy to do that)\n",
        "5. trying an implementation of bm25 (slow with standard implementation, see last cell if you want to do it)"
      ],
      "metadata": {
        "id": "gCeJKzqSX0gS"
      },
      "id": "gCeJKzqSX0gS"
    },
    {
      "cell_type": "code",
      "execution_count": null,
      "id": "37a47821-5f24-4e14-829d-cc7a0f448866",
      "metadata": {
        "id": "37a47821-5f24-4e14-829d-cc7a0f448866"
      },
      "outputs": [],
      "source": [
        "class BM25Score(BaseEstimator, ClassifierMixin):\n",
        "    def init(self, vectorized_docs, k1=1.5, b=0.75): # vectorized_docs: word counts\n",
        "        self.k1 = k1\n",
        "        self.b = b\n",
        "        self.vectorized_docs = vectorized_docs\n",
        "    def fit(self, vectorized_queries=None, query_ids=None, args): # args are for grid search integration\n",
        "        self.n_d = self.vectorized_docs.sum(axis=1).reshape(-1, 1).A\n",
        "        self.avgdl = np.mean(self.n_d)\n",
        "        self.n_docs = self.vectorized_docs.shape[0]\n",
        "\n",
        "        self.nq = np.sum(self.vectorized_docs > 0, axis=0).reshape(1, -1)\n",
        "        self.idf = np.log(((self.n_docs - self.nq + 0.5) / (self.nq + 0.5)) + 1).A\n",
        "        return self\n",
        "    def predict(self, vectorized_queries):\n",
        "        # bigger batches => faster but more memory heavy\n",
        "        n_queries = vectorized_queries.shape[0]\n",
        "        batch_size = 50\n",
        "\n",
        "        final_scores = []\n",
        "        for batch_idx in range(int(n_queries / batch_size) + 1):\n",
        "            start_idx = batch_idx batch_size\n",
        "            end_idx = min((batch_idx + 1) * batch_size, n_queries)\n",
        "            if start_idx >= end_idx:\n",
        "                break\n",
        "            batch_vectorized_queries = vectorized_queries[start_idx: end_idx]\n",
        "            idx_tokens = np.argwhere(batch_vectorized_queries.sum(axis=0) > 0).reshape(-1)\n",
        "            batch_vectorized_queries = batch_vectorized_queries[:, idx_tokens]\n",
        "            vectorized_docs = self.vectorized_docs[:, idx_tokens].toarray()\n",
        "            idf = self.idf[:, idx_tokens]\n",
        "\n",
        "            scores = idf * (\n",
        "                (vectorized_docs * (self.k1 + 1)) / \\\n",
        "                (\n",
        "                    vectorized_docs + \\\n",
        "                    self.k1 * (1 - self.b + self.b * (self.n_d / self.avgdl))\n",
        "                )\n",
        "            )\n",
        "            final_scores.append((batch_vectorized_queries > 0).astype(np.int8) @ scores.T)\n",
        "\n",
        "            del vectorized_docs\n",
        "            del scores\n",
        "            gc.collect()\n",
        "        return np.concatenate(final_scores, axis=0)"
      ]
    }
  ],
  "metadata": {
    "kernelspec": {
      "display_name": "Python 3",
      "name": "python3"
    },
    "language_info": {
      "codemirror_mode": {
        "name": "ipython",
        "version": 3
      },
      "file_extension": ".py",
      "mimetype": "text/x-python",
      "name": "python",
      "nbconvert_exporter": "python",
      "pygments_lexer": "ipython3",
      "version": "3.10.6"
    },
    "colab": {
      "provenance": [],
      "machine_shape": "hm",
      "gpuType": "V100"
    },
    "accelerator": "GPU"
  },
  "nbformat": 4,
  "nbformat_minor": 5
}